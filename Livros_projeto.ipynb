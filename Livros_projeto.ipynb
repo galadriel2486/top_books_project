{
  "nbformat": 4,
  "nbformat_minor": 0,
  "metadata": {
    "colab": {
      "name": "Livros_projeto.ipynb",
      "provenance": [],
      "collapsed_sections": [],
      "authorship_tag": "ABX9TyO79rbLgOH+qN576eEc63Vs",
      "include_colab_link": true
    },
    "kernelspec": {
      "name": "python3",
      "display_name": "Python 3"
    },
    "language_info": {
      "name": "python"
    }
  },
  "cells": [
    {
      "cell_type": "markdown",
      "metadata": {
        "id": "view-in-github",
        "colab_type": "text"
      },
      "source": [
        "<a href=\"https://colab.research.google.com/github/galadriel2486/top_books_project/blob/main/Livros_projeto.ipynb\" target=\"_parent\"><img src=\"https://colab.research.google.com/assets/colab-badge.svg\" alt=\"Open In Colab\"/></a>"
      ]
    },
    {
      "cell_type": "markdown",
      "metadata": {
        "id": "53uvkckj4mTB"
      },
      "source": [
        "# **SOBRE O PROJETO**"
      ]
    },
    {
      "cell_type": "markdown",
      "metadata": {
        "id": "MVv5bAjMpS3y"
      },
      "source": [
        "***Projeto de extração de dados da lista de livros mais vendidos de 2020 do site Publish News***\n",
        "<p>A partir de uma lista exposta no site PublishNews que informava os livros mais vendidos de 2020, fizemos uma raspagem dos dados para, em seguida, armazená-los em um arquivo .csv. Em seguida, realizamos uma breve análise exploratória deles.\n",
        "\n",
        "<p>Os dados extraídos foram: título, autores, editoras, páginas, categoria posição e número de exemplares vendidos.</p>\n",
        "<p>Os títulos estão distribuídos em seis categorias, as quais se localizam em seis endereços diferentes:\n",
        "\n",
        "\n",
        "1.   Geral\n",
        "2.   Ficção\n",
        "3. Não ficção\n",
        "4. Autoajuda\n",
        "5. Infantojuvenil\n",
        "6. Negócios\n",
        "\n",
        "**Desafios:**\n",
        "- Desenvolver a raspagem de modo que ela pudesse ser lida pelo Pandas como Dataframe (criação de listas, definição das variáveis, identificação dos valores...);\n",
        "- Armazenar os dados em um arquivo .csv;\n",
        "- Realizar o scraping das mesmas variáveis, porém presentes em várias páginas.\n",
        "- Realizar as representações visuais das análises por meio da plotagem dos gráficos utilizando a biblioteca Matplotlib.\n",
        "\n",
        "\n",
        "\n"
      ]
    },
    {
      "cell_type": "markdown",
      "metadata": {
        "id": "xXgjANtjxIzL"
      },
      "source": [
        "# **ETAPA 1. Raspagem com Beautiful Soup e Requests**\n",
        "<p>A biblioteca BeautifulSoup é um dos pacotes em Python mais conhecidos de raspagem de dados de arquivos HTML e XML. Junto do Requests, que nos auxiliou a importar a página em código HTML, utilizamos uma página-exemplo apenas para mostrar como o processo será feito.</p>\n",
        "<p>Uma consideração é que não existe somente o módulo Requests que cumpre esta função de gerar um GET no endereço de destino. Além dele, temos o urllib e o urllib 2, que são bibliotecas do próprio pacote Python, além do urllib3 que, apesar do nome, é um módulo independente a partir do qual se baseia o Requests. A opção por este último se deu por dois motivos: (1) uso recorrente na comunidade de web scraping com Python; (2) ser uma biblioteca criada para simplificar e facilitar o processo de solicitação HTTP. Diante das necessidades do projeto, ela cumpre sua função suficientemente.</p>"
      ]
    },
    {
      "cell_type": "code",
      "metadata": {
        "id": "Aey5GIbYhG92"
      },
      "source": [
        "import requests\n",
        "from bs4 import BeautifulSoup"
      ],
      "execution_count": null,
      "outputs": []
    },
    {
      "cell_type": "markdown",
      "metadata": {
        "id": "4OnAVnSg0W9N"
      },
      "source": [
        "Após importar os módulos, solicitamos ao servidor para acessar o conteúdo HTML da página-exemplo que iremos analisar. Para confirmar se o endereço está acessível e se o processo deu certo, aplicamos o método request.get() que, em retorno, forneceu o *status_code* 200 da solicitação. Este valor informa que o processo foi completado com êxito.\n",
        "<p>Importante destacar que antes de iniciar a solicitação, conferimos o arquivo *robots.txt* do portal para verificar se ele permite sua raspagem e se há alguma restrição como você pode conferir abaixo:</p>"
      ]
    },
    {
      "cell_type": "markdown",
      "metadata": {
        "id": "vKfDdxuLnkvb"
      },
      "source": [
        "![Robots_txt.png](data:image/png;base64,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)"
      ]
    },
    {
      "cell_type": "markdown",
      "metadata": {
        "id": "Lkfe9Sm6nzcH"
      },
      "source": [
        "Não há nenhuma restrição específica para raspagem do site. Além disso, também fizemos um pedido de confirmação da requisição é para evitar quaisquer conflitos de execução da raspagem que possam ocorrer, como um valor 404, que indica que o endereço de destino não pode ser encontrado.</p>"
      ]
    },
    {
      "cell_type": "code",
      "metadata": {
        "id": "lszUaKpoiPw_",
        "colab": {
          "base_uri": "https://localhost:8080/"
        },
        "outputId": "b613ae9d-5e36-4bb9-b9c5-cfa3d9f933e3"
      },
      "source": [
        "response = requests.get('https://www.publishnews.com.br/ranking/anual/0/2020/0/0')\n",
        "response"
      ],
      "execution_count": null,
      "outputs": [
        {
          "output_type": "execute_result",
          "data": {
            "text/plain": [
              "<Response [200]>"
            ]
          },
          "metadata": {},
          "execution_count": 2
        }
      ]
    },
    {
      "cell_type": "markdown",
      "metadata": {
        "id": "tOwlm6gTz5pz"
      },
      "source": [
        "A biblioteca Requests possui uma função própria que importa o conteúdo HTML direto do arquivo web. Porém, não a utilizaremos para a nossa análise dos blocos de onde os dados serão raspados.\n",
        "<p>Uma informação interessante é que se a função *text* for utilizada diretamente na célula, ela resultará na importação do código HTML desestruturado, contínuo e sem nenhum pulo de linhas. Para contornar isso, é só utilizar a função *print* do próprio Python, que reproduzirá o código organizado e com suas hierarquias.</p>\n",
        "<p>Outra opção é utilizar a função *prettify* do BeautifulSoup, que resultará no mesmo texto estruturado.</p>"
      ]
    },
    {
      "cell_type": "code",
      "metadata": {
        "id": "-3iJAye8yRpz",
        "colab": {
          "base_uri": "https://localhost:8080/",
          "height": 140
        },
        "outputId": "424bc73b-47fa-40da-ed40-6e0f0421dbc5"
      },
      "source": [
        "response.text"
      ],
      "execution_count": null,
      "outputs": [
        {
          "output_type": "execute_result",
          "data": {
            "application/vnd.google.colaboratory.intrinsic+json": {
              "type": "string"
            },
            "text/plain": [
              "'<!DOCTYPE html PUBLIC \"-//W3C//DTD XHTML 1.0 Transitional//EN\"\\n\\t\"http://www.w3.org/TR/xhtml1/DTD/xhtml1-transitional.dtd\">\\n<html xmlns=\"http://www.w3.org/1999/xhtml\" xml:lang=\"pt-br\" lang=\"pt-br\">\\n<head>\\n\\t<title>Lista de Mais Vendidos Geral de 2020 | PublishNews</title>\\n\\t<meta http-equiv=\"content-language\" content=\"pt-br\" />\\n\\t<meta http-equiv=\"X-UA-Compatible\" content=\"IE=edge,chrome=1\" />\\n\\t<meta http-equiv=\"content-type\" content=\"text/html;charset=utf-8\" />\\n\\t<meta name=\"viewport\" content=\"width=device-width,user-scalable=yes\" />\\n\\t<meta name=\"title\" content=\"Lista de Mais Vendidos Geral de 2020 | PublishNews\" />\\n\\t<meta name=\"author\" content=\"PublishNews\" />\\n\\t<meta name=\"robots\" content=\"Index,Follow\" />\\n\\t<meta name=\"handheldfriendly\" content=\"true\" />\\n\\t<meta name=\"contact\" content=\"redacao@publishnews.com.br\" />\\n\\t<meta name=\"keywords\" content=\"literatura,mercado editorial,mercado livreiro,bienal do livro,best-seller,clipping,notícias,eventos,livro digital,e-book,ebook,livro,escritor,festival literário,livraria,biblioteca,lançamentos,leitura,editora\" />\\n\\t<meta name=\"copyright\" content=\"Copyright (c) 2001-2021 PublishNews. All Rights Reserved.\" />\\n\\t<meta name=\"description\" content=\"O PublishNews possui a lista de livros mais vendidos mais ágil, completa e transparente do Brasil. Só nela é possível saber o livro que mais vende no país, comparar quantidades vendidas e descobrir qual a editora brasileira que mais publica best-sellers.\" />\\n\\t<meta name=\"p:domain_verify\" content=\"e68cdedfccad0f3ad3054957bbc95866\" />\\n\\t<meta property=\"fb:app_id\" content=\"1440384329596746\" />\\n\\t<meta property=\"fb:pages\" content=\"237762799595499\" />\\n\\t<meta property=\"og:site_name\" content=\"PublishNews\" />\\n\\t<meta property=\"og:locale\" content=\"pt_BR\" />\\n\\t<meta property=\"og:type\" content=\"website\" />\\n\\t<meta property=\"og:url\" content=\"https://www.publishnews.com.br/ranking/anual/0/2020/0/0\" />\\n\\t<meta property=\"og:title\" content=\"Lista de Mais Vendidos Geral de 2020 | PublishNews\" />\\n\\t<meta property=\"og:image\" content=\"https://www.publishnews.com.br/estaticos/arquivos/logo_290x290_publishnews_colorido.png\" />\\n\\t<meta property=\"og:image:url\" content=\"https://www.publishnews.com.br/estaticos/arquivos/logo_290x290_publishnews_colorido.png\" />\\n\\t<meta property=\"og:image:width\" content=\"290\" />\\t<meta property=\"og:image:height\" content=\"290\" />\\t<meta property=\"og:description\" content=\"O PublishNews possui a lista de livros mais vendidos mais ágil, completa e transparente do Brasil. Só nela é possível saber o livro que mais vende no país, comparar quantidades vendidas e descobrir qual a editora brasileira que mais publica best-sellers.\" />\\n\\t<meta name=\"twitter:card\" content=\"summary\" />\\n\\t<meta name=\"twitter:site\" content=\"@publishnews`\" />\\n\\t<meta name=\"twitter:creator\" content=\"@publishnews\" />\\n\\t<meta name=\"twitter:title\" content=\"Lista de Mais Vendidos Geral de 2020 | PublishNews\" />\\n\\t<meta name=\"twitter:description\" content=\"O PublishNews possui a lista de livros mais vendidos mais ágil, completa e transparente do Brasil. Só nela é possível saber o livro que mais vende no país, comparar quantidades vendidas e descobrir qual a editora brasileira que mais publica best-sellers.\" />\\n\\t<meta name=\"twitter:image\" content=\"https://www.publishnews.com.br/estaticos/arquivos/logo_290x290_publishnews_colorido.png\" />\\n\\t<link rel=\"alternate\" href=\"https://mobile.publishnews.com.br/ranking/anual/0/2020/0/0\" media=\"only screen and (max-width: 640px)\" />\\n\\t<link rel=\"shortcut icon\" sizes=\"72x72\" href=\"https://www.publishnews.com.br/estaticos/arquivos/logo_72x72_publishnews_colorido.png\" />\\n\\t<link rel=\"shortcut icon\" sizes=\"114x114\" href=\"https://www.publishnews.com.br/estaticos/arquivos/logo_114x114_publishnews_colorido.png\" />\\n\\t<link rel=\"shortcut icon\" sizes=\"196x196\" href=\"https://www.publishnews.com.br/estaticos/arquivos/logo_196x196_publishnews_colorido.png\" />\\n\\t\\t<link type=\"application/rss+xml\" href=\"https://www.publishnews.com.br/rss.xml\" rel=\"alternate\" title=\"PublishNews\" />\\n\\t<link type=\"application/atom+xml\" href=\"https://www.publishnews.com.br/rss.atom\" rel=\"alternate\" title=\"PublishNews\" />\\n\\t\\t<link type=\"text/css\" href=\"/estaticos/styles/base.css\" media=\"all\" rel=\"stylesheet\" charset=\"utf-8\" />\\n\\t<link type=\"text/css\" href=\"/estaticos/styles/fonts.css\" media=\"all\" rel=\"stylesheet\" charset=\"utf-8\" />\\n\\t<link type=\"text/css\" href=\"/estaticos/styles/screen.css\" media=\"all\" rel=\"stylesheet\" charset=\"utf-8\" />\\n\\t<script type=\"text/javascript\">\\n\\tvar _gaq = _gaq || [];\\n\\t_gaq.push([\\'_setAccount\\', \\'UA-65772571-1\\']);\\n\\t_gaq.push([\\'_setDomainName\\', \\'publishnews.com.br\\']);\\n\\t_gaq.push([\\'_setAllowLinker\\', true]);\\n\\t_gaq.push([\\'_trackPageview\\']);\\n\\t(function(){\\n\\t\\tvar ga = document.createElement(\\'script\\');\\n\\t\\tga.type = \\'text/javascript\\';\\n\\t\\tga.async = true;\\n\\t\\tga.id = \\'ga-js\\';\\n\\t\\tga.src = (\\'https:\\' == document.location.protocol ? \\'https://ssl\\' : \\'http://www\\') + \\'.google-analytics.com/ga.js\\';\\n\\t\\tvar js = document.getElementsByTagName(\\'script\\')[0];\\n\\t\\tjs.parentNode.insertBefore(ga, js);\\n\\t})();\\n\\t</script>\\n\\t<script type=\"text/javascript\" src=\"/estaticos/scripts/jquery.js\" language=\"javascript\" charset=\"utf-8\"></script>\\n</head>\\n<body>\\n\\n\\n<div class=\"pn-website clearfix\">\\n\\t<div class=\"pn-retranca clearfix\">\\n\\t\\t<div class=\"pn-largura clearfix\">\\n\\t\\t\\t<div class=\"pn-newsletter\">\\n\\t\\t\\t\\t<a href=\"/paginas/assinatura\">Assine nossa newsletter</a>\\n\\t\\t\\t</div>\\n\\t\\t\\t<div class=\"pn-social clearfix\">\\n\\t\\t\\t\\t<a href=\"https://www.facebook.com/publishnews\" target=\"_blank\"><img src=\"/estaticos/arquivos/logo_32x32_facebook_branco.png\" width=\"16\" height=\"16\" border=\"0\" alt=\"\" /></a>\\n\\t\\t\\t\\t<a href=\"https://www.twitter.com/publishnews\" target=\"_blank\"><img src=\"/estaticos/arquivos/logo_32x32_twitter_branco.png\" width=\"16\" height=\"16\" border=\"0\" alt=\"\" /></a>\\n\\t\\t\\t\\t<a href=\"https://www.linkedin.com/company/2037405\" target=\"_blank\"><img src=\"/estaticos/arquivos/logo_32x32_linkedin_branco.png\" width=\"16\" height=\"16\" border=\"0\" alt=\"\" /></a>\\n\\t\\t\\t\\t<a href=\"https://www.youtube.com/user/publishnewstv\" target=\"_blank\"><img src=\"/estaticos/arquivos/logo_32x32_youtube_branco.png\" width=\"16\" height=\"16\" border=\"0\" alt=\"\" /></a>\\n\\t\\t\\t\\t<a href=\"/rss.xml\" target=\"_blank\"><img src=\"/estaticos/arquivos/logo_32x32_rss_branco.png\" width=\"16\" height=\"16\" border=\"0\" alt=\"\" /></a>\\n\\t\\t\\t\\t<a href=\"/alternar?uri=ranking%2Fanual%2F0%2F2020%2F0%2F0\"><img src=\"/estaticos/arquivos/logo_32x32_celular_branco.png\" width=\"16\" height=\"16\" border=\"0\" alt=\"Versão Mobile\" /></a>\\n\\t\\t\\t\\t<a href=\"https://www.instagram.com/publishne.ws\" target=\"_blank\"><img src=\"/estaticos/arquivos/logo_16x16_instagram_branco.png\" width=\"16\" height=\"16\" border=\"0\" alt=\"\" /></a>\\t\\n\\t\\t\\t</div>\\n\\t\\t\\t<div class=\"pn-paginas clearfix\">\\n\\t\\t\\t\\t<ul>\\n\\t\\t\\t\\t\\t<li><a href=\"/newsletters\">Newsletters</a></li>\\n\\t\\t\\t\\t\\t<!--li><a href=\"/paginas/premio-publishnews-2019\">Prêmio PublishNews 2019</a></li-->\\n\\t\\t\\t\\t\\t<li><a href=\"/materias/2021/05/13/engajamento-nas-redes-sociais-vence-o-premio-publishnews-2020\">Prêmio PublishNews 2020</a></li>\\n\\t\\t\\t\\t\\t<li><a href=\"/paginas/jovenstalentos20-21\">Prêmio Jovens Talentos 20/21</a></li>\\n\\t\\t\\t\\t\\t<!--<li><a href=\"/paginas/pub-livro18\">Pub-Livro 2018</a></li>-->\\n\\t\\t\\t\\t\\t<!--<li><a href=\"/paginas/publishnews-tv\">TV</a></li>-->\\n\\t\\t\\t\\t\\t<li><a href=\"/paginas/institucional\">Institucional</a></li>\\n\\t\\t\\t\\t\\t<li><a href=\"/paginas/anuncie\">Anuncie</a></li>\\n\\t\\t\\t\\t\\t<li><a href=\"/paginas/faq\">FAQ</a></li>\\n\\t\\t\\t\\t\\t<li><a href=\"/paginas/contato\">Contato</a></li>\\n\\t\\t\\t\\t</ul>\\n\\t\\t\\t</div>\\n\\t\\t</div>\\n\\t</div>\\n\\t<div class=\"pn-cabeca clearfix\">\\n\\t\\t<div class=\"pn-largura clearfix\">\\n\\t\\t\\t\\t\\t\\t<div class=\"pn-logo clearfix\">\\n\\t\\t\\t\\t<a href=\"/\"><img src=\"/estaticos/arquivos/logo_155x75_publishnews_colorido.png\" width=\"155\" height=\"75\" border=\"0\" alt=\"\" /></a>\\n\\t\\t\\t</div>\\n\\t\\t\\t<div class=\"pn-busca clearfix\">\\n\\t\\t\\t\\t<form action=\"/busca\" method=\"get\">\\n\\t\\t\\t\\t\\t<input type=\"text\" name=\"busca\" size=\"8\" value=\"\" />\\n\\t\\t\\t\\t</form>\\n\\t\\t\\t</div>\\n\\t\\t\\t<div class=\"pn-menu clearfix\">\\n\\t\\t\\t\\t<ul>\\n\\t\\t\\t\\t\\t<li class=\"pn-menu-colabpublishnews\"><a href=\"/editorias/colabpublishnews\">ColabPublishNews</a></li>\\n\\t\\t\\t\\t\\t<li class=\"pn-menu-noticias\"><a href=\"/editorias/noticias\">Notícias</a></li>\\n\\t\\t\\t\\t\\t<li class=\"pn-menu-colunas\"><a href=\"/editorias/colunas\">Colunas</a>\\n\\t\\t\\t\\t\\t\\t\\t\\t\\t\\t\\t\\t<ul>\\n\\t\\t\\t\\t\\t\\t\\t\\t\\t\\t\\t\\t\\t\\t\\t<li><a href=\"/editorias/colunas/estevaoribeiro\">Estevão Ribeiro (295)</a></li>\\n\\t\\t\\t\\t\\t\\t\\t\\t\\t\\t\\t\\t\\t\\t\\t<li><a href=\"/editorias/colunas/gustavomartinsdealmeida\">Gustavo Martins de Almeida (86)</a></li>\\n\\t\\t\\t\\t\\t\\t\\t\\t\\t\\t\\t\\t\\t\\t\\t<li><a href=\"/editorias/colunas/henrique-rodrigues\">Henrique Rodrigues (22)</a></li>\\n\\t\\t\\t\\t\\t\\t\\t\\t\\t\\t\\t\\t\\t\\t\\t<li><a href=\"/editorias/colunas/marisamoura\">Marisa Moura (55)</a></li>\\n\\t\\t\\t\\t\\t\\t\\t\\t\\t\\t\\t\\t\\t\\t\\t<li><a href=\"/editorias/colunas/paulo-tedesco\">Paulo Tedesco (62)</a></li>\\n\\t\\t\\t\\t\\t\\t\\t\\t\\t\\t\\t\\t\\t\\t\\t<li><a href=\"/editorias/colunas/podcast\">Podcast (186)</a></li>\\n\\t\\t\\t\\t\\t\\t\\t\\t\\t\\t\\t\\t\\t\\t\\t<li><a href=\"/editorias/colunas/publishnewstv\">PublishNewsTV (92)</a></li>\\n\\t\\t\\t\\t\\t\\t\\t\\t\\t\\t\\t\\t\\t\\t\\t<li><a href=\"/editorias/colunas/suzana-vargas-escrever-para-lembrar-o-que-os-grandes-escritores-me-ensinaram\">Suzana Vargas - Escrever para Lembrar (6)</a></li>\\n\\t\\t\\t\\t\\t\\t\\t\\t\\t\\t\\t\\t\\t\\t<li><a href=\"/editorias/colunas/arquivos\">Arquivos</a></li>\\n\\t\\t\\t\\t\\t\\t</ul>\\n\\t\\t\\t\\t\\t\\t\\t\\t\\t\\t\\t</li>\\n\\t\\t\\t\\t\\t<li class=\"pn-menu-ranking\"><a href=\"/ranking\">Mais Vendidos</a>\\n\\t\\t\\t\\t\\t\\t<ul>\\n\\t\\t\\t\\t\\t\\t\\t<li><a href=\"/ranking\">Lista Geral</a></li>\\n\\t\\t\\t\\t\\t\\t\\t<li><a href=\"/nielsen\">Lista Nacional</a></li>\\n\\t\\t\\t\\t\\t\\t</ul>\\n\\t\\t\\t\\t\\t</li>\\n\\t\\t\\t\\t\\t<li class=\"pn-menu-publishnewstv\"><a href=\"/editorias/colunas/publishnewstv\">PublishNewsTV</a></li>\\n\\t\\t\\t\\t\\t<li class=\"pn-menu-podcast\"><a href=\"/editorias/colunas/podcast\">Podcast</a></li>\\n\\t\\t\\t\\t\\t<li class=\"pn-menu-empregos\"><a href=\"/empregos\">Empregos</a></li>\\n\\t\\t\\t\\t\\t<!-- <li class=\"pn-menu-fornecedores\"><a href=\"/fornecedores\">Fornecedores</a></li> -->\\n\\t\\t\\t\\t</ul>\\n\\t\\t\\t</div>\\n\\t\\t</div>\\n\\t</div>\\n\\t<div class=\"pn-editorias clearfix\">\\n\\t\\t<div class=\"pn-largura clearfix\">\\n\\t\\t\\t\\t\\t\\t<a href=\"/editorias/noticias/atualidades\">Atualidades</a>\\n\\t\\t\\t\\t\\t\\t<a href=\"/editorias/blog-da-redao\">Blog da Redação</a>\\n\\t\\t\\t\\t\\t\\t<a href=\"/editorias/noticias/entrevistas\">Entrevistas</a>\\n\\t\\t\\t\\t\\t\\t<a href=\"/editorias/noticias/eventos\">Eventos Literários</a>\\n\\t\\t\\t\\t\\t\\t<a href=\"/editorias/noticias/lancamentos\">Lançamentos de Livros</a>\\n\\t\\t\\t\\t\\t\\t<a href=\"/editorias/noticias/mais-vendidos\">Livros Mais Vendidos</a>\\n\\t\\t\\t\\t\\t\\t<a href=\"/editorias/noticias/memoria\">Memória</a>\\n\\t\\t\\t\\t\\t\\t<a href=\"/editorias/noticias/mercado\">Mercado Editorial</a>\\n\\t\\t\\t\\t\\t\\t<a href=\"/editorias/noticias/opinio\">Opinião</a>\\n\\t\\t\\t\\t\\t\\t<a href=\"/editorias/noticias/premios-e-concursos\">Prêmios e Concursos</a>\\n\\t\\t\\t\\t\\t\\t<a href=\"/editorias/noticias/publieditorial\">Publieditorial</a>\\n\\t\\t\\t\\t\\t</div>\\n\\t</div>\\n\\n\\n\\n<div class=\"pn-conteudo clearfix\">\\n\\t<div class=\"pn-largura clearfix\">\\n\\t\\t<div class=\"pn-colunas clearfix\">\\n\\t\\t\\t<div class=\"pn-colunas-06x07\">\\n\\t\\t\\t\\t<div class=\"pn-colunas-corpo clearfix\">\\n\\t\\t\\t\\t\\t<div id=\"pn-anuncio-ranking-principal-superior\" class=\"pn-anuncio clearfix\"><div class=\"pn-anuncio-aviso clearfix\">Publicidade</div><div class=\"pn-anuncio-imagem clearfix\" style=\"width:880px;text-align:center;\"><a href=\"https://www.publishnews.com.br/anuncios/988\" target=\"_blank\"><img id=\"pn-anuncio-ranking-principal-superior-imagem\" src=\"https://www.publishnews.com.br/estaticos/uploads/2021/08/NGXyjQKZR3eQXIh14O6oloBnllLXugZqWEO8EFhEMq3Et1G7WJFOo6N6uWDhe9VGTyd3argSQUUJNWFr.gif\" border=\"0\" alt=\"\" /></a></div></div>\\t\\t\\t\\t</div>\\n\\t\\t\\t</div>\\n\\t\\t\\t<div class=\"pn-colunas-01x07\">\\n\\t\\t\\t\\t<div class=\"pn-colunas-corpo clearfix\">\\n\\t\\t\\t\\t\\t<div id=\"pn-anuncio-ranking-principal-lateral\" class=\"pn-anuncio clearfix\"><div class=\"pn-anuncio-aviso clearfix\">Publicidade</div><div class=\"pn-anuncio-imagem clearfix\" style=\"width:130px;text-align:center;\"><a href=\"https://www.publishnews.com.br/anuncios/996\" target=\"_blank\"><img id=\"pn-anuncio-ranking-principal-lateral-imagem\" src=\"https://www.publishnews.com.br/estaticos/uploads/2021/09/VzVdtpWSb5OpTRNx3Ah2OcvwIo3c4zzuDERgJIE2bGeZpWFmGJYtOaXnQVpKgqnXSb4Jk10RzR8TqxSX.gif\" border=\"0\" alt=\"\" /></a></div></div>\\t\\t\\t\\t</div>\\n\\t\\t\\t</div>\\n\\t\\t</div>\\n\\t\\t<div class=\"pn-colunas clearfix\">\\n\\t\\t\\t<div class=\"pn-colunas-06x07\">\\n\\t\\t\\t\\t<div class=\"pn-colunas-corpo\">\\n\\t\\t\\t\\t\\t<div style=\"margin-top:-10px;margin-botton:-10px;float:right;\">\\n\\t\\t\\t\\t\\t\\t<a href=\"https://www.facebook.com/sharer/sharer.php?u=https%3A%2F%2Fwww.publishnews.com.br%2Franking%2Fanual%2F0%2F2020%2F0%2F0&m=Mais+Vendidos+Anual+%7C+PublishNews\" onclick=\"javascript:window.open(this.href, \\'\\', \\'menubar=no,toolbar=no,resizable=yes,scrollbars=yes,height=600,width=600\\');return false;\" target=\"_blank\" title=\"Compartilhar via Facebook\" class=\"pn-compartilhar-icone pn-compartilhar-icone-facebook\"><img src=\"https://www.publishnews.com.br/estaticos/arquivos/logo_32x32_facebook_colorido.png\" width=\"32\" height=\"32\" border=\"0\" alt=\"\" /></a>\\t\\t\\t\\t\\t\\t<a href=\"https://www.linkedin.com/shareArticle?mini=true&url=https%3A%2F%2Fwww.publishnews.com.br%2Franking%2Fanual%2F0%2F2020%2F0%2F0&title=Mais+Vendidos+Anual+%7C+PublishNews\" onclick=\"javascript:window.open(this.href, \\'\\', \\'menubar=no,toolbar=no,resizable=yes,scrollbars=yes,height=600,width=600\\');return false;\" target=\"_blank\" title=\"Compartilhar via LinkedIn\" class=\"pn-compartilhar-icone pn-compartilhar-icone-linkedin\"><img src=\"https://www.publishnews.com.br/estaticos/arquivos/logo_32x32_linkedin_colorido.png\" width=\"32\" height=\"32\" border=\"0\" alt=\"\" /></a>\\t\\t\\t\\t\\t\\t<a href=\"https://plus.google.com/share?url=https%3A%2F%2Fwww.publishnews.com.br%2Franking%2Fanual%2F0%2F2020%2F0%2F0\" onclick=\"javascript:window.open(this.href, \\'\\', \\'menubar=no,toolbar=no,resizable=yes,scrollbars=yes,height=600,width=600\\');return false;\" target=\"_blank\" title=\"Compartilhar via Google+\" class=\"pn-compartilhar-icone pn-compartilhar-icone-googleplus\"><img src=\"https://www.publishnews.com.br/estaticos/arquivos/logo_32x32_googleplus_colorido.png\" width=\"32\" height=\"32\" border=\"0\" alt=\"\" /></a>\\t\\t\\t\\t\\t\\t<a href=\"https://twitter.com/intent/tweet?url=https%3A%2F%2Fpubn.ws%2FMDFkc&text=Mais+Vendidos+Anual+%7C+%40PublishNews\" onclick=\"javascript:window.open(this.href, \\'\\', \\'menubar=no,toolbar=no,resizable=yes,scrollbars=yes,height=600,width=600\\');return false;\" target=\"_blank\" title=\"Compartilhar via Twitter\" class=\"pn-compartilhar-icone pn-compartilhar-icone-twitter\"><img src=\"https://www.publishnews.com.br/estaticos/arquivos/logo_32x32_twitter_colorido.png\" width=\"32\" height=\"32\" border=\"0\" alt=\"\" /></a>\\t\\t\\t\\t\\t\\t\\t\\t\\t\\t\\t\\t<a href=\"mailto:?subject=Leia+no+PublishNews&body=https%3A%2F%2Fpubn.ws%2FMDFkc\" target=\"_blank\" title=\"Compartilhar via Email\" class=\"pn-compartilhar-icone pn-compartilhar-icone-email\"><img src=\"https://www.publishnews.com.br/estaticos/arquivos/logo_32x32_email_colorido.png\" width=\"32\" height=\"32\" border=\"0\" alt=\"\" /></a>\\t\\t\\t\\t\\t\\t<a id=\"la0R2X03p0jhEm11douD-icone\" href=\"#\" title=\"Compartilhar via clipboard\" class=\"pn-compartilhar-icone pn-compartilhar-icone-clipboard\"><img src=\"https://www.publishnews.com.br/estaticos/arquivos/logo_32x32_clipboard_colorido.png\" width=\"32\" height=\"32\" border=\"0\" alt=\"\" /></a><script type=\"text/javascript\">$(\"#la0R2X03p0jhEm11douD-icone\").click(function(event){event.preventDefault();if(copyToClipboard(\"https://pubn.ws/MDFkc\")){alert(\"A URL desejada foi copiada.\");}else{alert(\"Não foi possível copiar a URL desejada.\");}});</script>\\t\\t\\t\\t\\t</div>\\n\\t\\t\\t\\t\\t<div class=\"pn-editoria clearfix\">\\n\\t\\t\\t\\t\\t\\t<div class=\"pn-editoria-cabeca clearfix\">\\n\\t\\t\\t\\t\\t\\t\\t\\t\\t\\t\\t\\t\\t\\t\\t\\t\\t\\t\\t\\t\\t\\t\\t\\t\\t\\t\\t\\t\\t\\t\\t\\t\\t\\t<div class=\"pn-editoria-titulo\">Lista de Mais Vendidos Geral de 2020</div>\\n\\t\\t\\t\\t\\t\\t\\t\\t\\t\\t\\t\\t\\t\\t\\t\\t\\t\\t\\t\\t\\t\\t\\t\\t\\t\\t\\t\\t\\t\\t</div>\\n\\t\\t\\t\\t\\t\\t<div class=\"pn-editoria-corpo clearfix\" style=\"margin:0px;padding:0px;border:none;\">\\n\\t\\t\\t\\t\\t\\t\\t<div class=\"pn-fichario clearfix\">\\n\\t\\t\\t\\t\\t\\t\\t\\t<div class=\"pn-fichario-corpo clearfix\" style=\"float:left;\">\\n\\t\\t\\t\\t\\t\\t\\t\\t\\t\\t\\t\\t\\t\\t\\t\\t\\t\\t<a href=\"/ranking/anual/0/2020/0/0\" class=\"pn-fichario-orelha-ativa\">Geral</a>\\n\\t\\t\\t\\t\\t\\t\\t\\t\\t\\t\\t\\t\\t\\t\\t\\t\\t\\t\\t\\t\\t\\t\\t\\t\\t\\t\\t\\t\\t\\t\\t\\t\\t\\t\\t\\t<a href=\"/ranking/anual/9/2020/0/0\" class=\"pn-fichario-orelha\">Ficção</a>\\n\\t\\t\\t\\t\\t\\t\\t\\t\\t\\t\\t\\t\\t\\t\\t\\t\\t\\t\\t\\t\\t\\t\\t\\t\\t\\t\\t\\t\\t\\t\\t\\t\\t\\t\\t\\t<a href=\"/ranking/anual/13/2020/0/0\" class=\"pn-fichario-orelha\">Não ficção</a>\\n\\t\\t\\t\\t\\t\\t\\t\\t\\t\\t\\t\\t\\t\\t\\t\\t\\t\\t\\t\\t\\t\\t\\t\\t\\t\\t\\t\\t\\t\\t\\t\\t\\t\\t\\t\\t<a href=\"/ranking/anual/5/2020/0/0\" class=\"pn-fichario-orelha\">Autoajuda</a>\\n\\t\\t\\t\\t\\t\\t\\t\\t\\t\\t\\t\\t\\t\\t\\t\\t\\t\\t\\t\\t\\t\\t\\t\\t\\t\\t\\t\\t\\t\\t\\t\\t\\t\\t\\t\\t<a href=\"/ranking/anual/11/2020/0/0\" class=\"pn-fichario-orelha\">Infantojuvenil</a>\\n\\t\\t\\t\\t\\t\\t\\t\\t\\t\\t\\t\\t\\t\\t\\t\\t\\t\\t\\t\\t\\t\\t\\t\\t\\t\\t\\t\\t\\t\\t\\t\\t\\t\\t\\t\\t<a href=\"/ranking/anual/8/2020/0/0\" class=\"pn-fichario-orelha\">Negócios</a>\\n\\t\\t\\t\\t\\t\\t\\t\\t\\t\\t\\t\\t\\t\\t\\t\\t\\t\\t\\t\\t\\t\\t\\t\\t\\t\\t</div>\\n\\t\\t\\t\\t\\t\\t\\t\\t<div class=\"pn-fichario-corpo clearfix\" style=\"float:right;\">\\n\\t\\t\\t\\t\\t\\t\\t\\t\\t<div id=\"pn-orelha-semanal\" class=\"pn-fichario-orelha\">Semanal</div>\\n\\t\\t\\t\\t\\t\\t\\t\\t\\t<div id=\"pn-orelha-mensal\" class=\"pn-fichario-orelha\">Mensal</div>\\n\\t\\t\\t\\t\\t\\t\\t\\t\\t<div id=\"pn-orelha-anual\" class=\"pn-fichario-orelha-ativa\">Anual</div>\\n\\t\\t\\t\\t\\t\\t\\t\\t</div>\\n\\t\\t\\t\\t\\t\\t\\t</div>\\n\\t\\t\\t\\t\\t\\t</div>\\n\\t\\t\\t\\t\\t\\t<div id=\"pn-selecao-semanal\" class=\"pn-periodos clearfix\" style=\"display:none;\">\\n\\t\\t\\t\\t\\t\\t\\t<div class=\"pn-periodos-corpo clearfix\">\\n\\t\\t\\t\\t\\t\\t\\t<a href=\"/ranking/semanal/0/2021/9/24/0/0\" class=\"pn-periodos-periodo\">24/09/2021</a><a href=\"/ranking/semanal/0/2021/9/17/0/0\" class=\"pn-periodos-periodo\">17/09/2021</a><a href=\"/ranking/semanal/0/2021/9/10/0/0\" class=\"pn-periodos-periodo\">10/09/2021</a><a href=\"/ranking/semanal/0/2021/9/3/0/0\" class=\"pn-periodos-periodo\">03/09/2021</a><a href=\"/ranking/semanal/0/2021/8/27/0/0\" class=\"pn-periodos-periodo\">27/08/2021</a><a href=\"/ranking/semanal/0/2021/8/20/0/0\" class=\"pn-periodos-periodo\">20/08/2021</a><a href=\"/ranking/semanal/0/2021/8/13/0/0\" class=\"pn-periodos-periodo\">13/08/2021</a><a href=\"/ranking/semanal/0/2021/8/6/0/0\" class=\"pn-periodos-periodo\">06/08/2021</a><a href=\"/ranking/semanal/0/2021/7/30/0/0\" class=\"pn-periodos-periodo\">30/07/2021</a><a href=\"/ranking/semanal/0/2021/7/23/0/0\" class=\"pn-periodos-periodo\">23/07/2021</a><a href=\"/ranking/semanal/0/2021/7/16/0/0\" class=\"pn-periodos-periodo\">16/07/2021</a><a href=\"/ranking/semanal/0/2021/7/9/0/0\" class=\"pn-periodos-periodo\">09/07/2021</a><a href=\"/ranking/semanal/0/2021/7/2/0/0\" class=\"pn-periodos-periodo\">02/07/2021</a><a href=\"/ranking/semanal/0/2021/6/25/0/0\" class=\"pn-periodos-periodo\">25/06/2021</a><a href=\"/ranking/semanal/0/2021/6/18/0/0\" class=\"pn-periodos-periodo\">18/06/2021</a><a href=\"/ranking/semanal/0/2021/6/11/0/0\" class=\"pn-periodos-periodo\">11/06/2021</a><a href=\"/ranking/semanal/0/2021/6/4/0/0\" class=\"pn-periodos-periodo\">04/06/2021</a><a href=\"/ranking/semanal/0/2021/5/28/0/0\" class=\"pn-periodos-periodo\">28/05/2021</a><a href=\"/ranking/semanal/0/2021/5/21/0/0\" class=\"pn-periodos-periodo\">21/05/2021</a><a href=\"/ranking/semanal/0/2021/5/14/0/0\" class=\"pn-periodos-periodo\">14/05/2021</a><a href=\"/ranking/semanal/0/2021/5/7/0/0\" class=\"pn-periodos-periodo\">07/05/2021</a><a href=\"/ranking/semanal/0/2021/4/30/0/0\" class=\"pn-periodos-periodo\">30/04/2021</a><a href=\"/ranking/semanal/0/2021/4/23/0/0\" class=\"pn-periodos-periodo\">23/04/2021</a><a href=\"/ranking/semanal/0/2021/4/16/0/0\" class=\"pn-periodos-periodo\">16/04/2021</a><a href=\"/ranking/semanal/0/2021/4/9/0/0\" class=\"pn-periodos-periodo\">09/04/2021</a><a href=\"/ranking/semanal/0/2021/4/2/0/0\" class=\"pn-periodos-periodo\">02/04/2021</a><a href=\"/ranking/semanal/0/2021/3/26/0/0\" class=\"pn-periodos-periodo\">26/03/2021</a><a href=\"/ranking/semanal/0/2021/3/19/0/0\" class=\"pn-periodos-periodo\">19/03/2021</a><a href=\"/ranking/semanal/0/2021/3/12/0/0\" class=\"pn-periodos-periodo\">12/03/2021</a><a href=\"/ranking/semanal/0/2021/3/5/0/0\" class=\"pn-periodos-periodo\">05/03/2021</a><a href=\"/ranking/semanal/0/2021/2/26/0/0\" class=\"pn-periodos-periodo\">26/02/2021</a><a href=\"/ranking/semanal/0/2021/2/19/0/0\" class=\"pn-periodos-periodo\">19/02/2021</a><a href=\"/ranking/semanal/0/2021/2/12/0/0\" class=\"pn-periodos-periodo\">12/02/2021</a><a href=\"/ranking/semanal/0/2021/2/5/0/0\" class=\"pn-periodos-periodo\">05/02/2021</a><a href=\"/ranking/semanal/0/2021/1/29/0/0\" class=\"pn-periodos-periodo\">29/01/2021</a><a href=\"/ranking/semanal/0/2021/1/22/0/0\" class=\"pn-periodos-periodo\">22/01/2021</a><a href=\"/ranking/semanal/0/2021/1/15/0/0\" class=\"pn-periodos-periodo\">15/01/2021</a><a href=\"/ranking/semanal/0/2021/1/8/0/0\" class=\"pn-periodos-periodo\">08/01/2021</a><a href=\"/ranking/semanal/0/2021/1/1/0/0\" class=\"pn-periodos-periodo\">01/01/2021</a><a href=\"/ranking/semanal/0/2020/12/25/0/0\" class=\"pn-periodos-periodo\">25/12/2020</a><a href=\"/ranking/semanal/0/2020/12/18/0/0\" class=\"pn-periodos-periodo\">18/12/2020</a><a href=\"/ranking/semanal/0/2020/12/11/0/0\" class=\"pn-periodos-periodo\">11/12/2020</a><a href=\"/ranking/semanal/0/2020/12/4/0/0\" class=\"pn-periodos-periodo\">04/12/2020</a><a href=\"/ranking/semanal/0/2020/11/27/0/0\" class=\"pn-periodos-periodo\">27/11/2020</a><a href=\"/ranking/semanal/0/2020/11/20/0/0\" class=\"pn-periodos-periodo\">20/11/2020</a><a href=\"/ranking/semanal/0/2020/11/13/0/0\" class=\"pn-periodos-periodo\">13/11/2020</a><a href=\"/ranking/semanal/0/2020/11/6/0/0\" class=\"pn-periodos-periodo\">06/11/2020</a><a href=\"/ranking/semanal/0/2020/10/30/0/0\" class=\"pn-periodos-periodo\">30/10/2020</a><a href=\"/ranking/semanal/0/2020/10/23/0/0\" class=\"pn-periodos-periodo\">23/10/2020</a><a href=\"/ranking/semanal/0/2020/10/16/0/0\" class=\"pn-periodos-periodo\">16/10/2020</a><a href=\"/ranking/semanal/0/2020/10/9/0/0\" class=\"pn-periodos-periodo\">09/10/2020</a><a href=\"/ranking/semanal/0/2020/10/2/0/0\" class=\"pn-periodos-periodo\">02/10/2020</a><a href=\"/ranking/semanal/0/2020/9/25/0/0\" class=\"pn-periodos-periodo\">25/09/2020</a><a href=\"/ranking/semanal/0/2020/9/18/0/0\" class=\"pn-periodos-periodo\">18/09/2020</a><a href=\"/ranking/semanal/0/2020/9/11/0/0\" class=\"pn-periodos-periodo\">11/09/2020</a><a href=\"/ranking/semanal/0/2020/9/4/0/0\" class=\"pn-periodos-periodo\">04/09/2020</a><a href=\"/ranking/semanal/0/2020/8/28/0/0\" class=\"pn-periodos-periodo\">28/08/2020</a><a href=\"/ranking/semanal/0/2020/8/21/0/0\" class=\"pn-periodos-periodo\">21/08/2020</a><a href=\"/ranking/semanal/0/2020/8/14/0/0\" class=\"pn-periodos-periodo\">14/08/2020</a><a href=\"/ranking/semanal/0/2020/8/7/0/0\" class=\"pn-periodos-periodo\">07/08/2020</a><a href=\"/ranking/semanal/0/2020/7/31/0/0\" class=\"pn-periodos-periodo\">31/07/2020</a><a href=\"/ranking/semanal/0/2020/7/24/0/0\" class=\"pn-periodos-periodo\">24/07/2020</a><a href=\"/ranking/semanal/0/2020/7/17/0/0\" class=\"pn-periodos-periodo\">17/07/2020</a><a href=\"/ranking/semanal/0/2020/7/10/0/0\" class=\"pn-periodos-periodo\">10/07/2020</a><a href=\"/ranking/semanal/0/2020/7/3/0/0\" class=\"pn-periodos-periodo\">03/07/2020</a><a href=\"/ranking/semanal/0/2020/6/26/0/0\" class=\"pn-periodos-periodo\">26/06/2020</a><a href=\"/ranking/semanal/0/2020/6/19/0/0\" class=\"pn-periodos-periodo\">19/06/2020</a><a href=\"/ranking/semanal/0/2020/6/12/0/0\" class=\"pn-periodos-periodo\">12/06/2020</a><a href=\"/ranking/semanal/0/2020/6/5/0/0\" class=\"pn-periodos-periodo\">05/06/2020</a><a href=\"/ranking/semanal/0/2020/5/29/0/0\" class=\"pn-periodos-periodo\">29/05/2020</a><a href=\"/ranking/semanal/0/2020/5/22/0/0\" class=\"pn-periodos-periodo\">22/05/2020</a><a href=\"/ranking/semanal/0/2020/5/15/0/0\" class=\"pn-periodos-periodo\">15/05/2020</a><a href=\"/ranking/semanal/0/2020/5/8/0/0\" class=\"pn-periodos-periodo\">08/05/2020</a><a href=\"/ranking/semanal/0/2020/5/1/0/0\" class=\"pn-periodos-periodo\">01/05/2020</a><a href=\"/ranking/semanal/0/2020/4/24/0/0\" class=\"pn-periodos-periodo\">24/04/2020</a><a href=\"/ranking/semanal/0/2020/4/17/0/0\" class=\"pn-periodos-periodo\">17/04/2020</a><a href=\"/ranking/semanal/0/2020/4/10/0/0\" class=\"pn-periodos-periodo\">10/04/2020</a><a href=\"/ranking/semanal/0/2020/4/3/0/0\" class=\"pn-periodos-periodo\">03/04/2020</a><a href=\"/ranking/semanal/0/2020/3/27/0/0\" class=\"pn-periodos-periodo\">27/03/2020</a><a href=\"/ranking/semanal/0/2020/3/20/0/0\" class=\"pn-periodos-periodo\">20/03/2020</a><a href=\"/ranking/semanal/0/2020/3/13/0/0\" class=\"pn-periodos-periodo\">13/03/2020</a><a href=\"/ranking/semanal/0/2020/3/6/0/0\" class=\"pn-periodos-periodo\">06/03/2020</a><a href=\"/ranking/semanal/0/2020/2/28/0/0\" class=\"pn-periodos-periodo\">28/02/2020</a><a href=\"/ranking/semanal/0/2020/2/21/0/0\" class=\"pn-periodos-periodo\">21/02/2020</a><a href=\"/ranking/semanal/0/2020/2/14/0/0\" class=\"pn-periodos-periodo\">14/02/2020</a><a href=\"/ranking/semanal/0/2020/2/7/0/0\" class=\"pn-periodos-periodo\">07/02/2020</a><a href=\"/ranking/semanal/0/2020/1/31/0/0\" class=\"pn-periodos-periodo\">31/01/2020</a><a href=\"/ranking/semanal/0/2020/1/24/0/0\" class=\"pn-periodos-periodo\">24/01/2020</a><a href=\"/ranking/semanal/0/2020/1/17/0/0\" class=\"pn-periodos-periodo\">17/01/2020</a><a href=\"/ranking/semanal/0/2020/1/10/0/0\" class=\"pn-periodos-periodo\">10/01/2020</a><a href=\"/ranking/semanal/0/2020/1/3/0/0\" class=\"pn-periodos-periodo\">03/01/2020</a><a href=\"/ranking/semanal/0/2019/12/27/0/0\" class=\"pn-periodos-periodo\">27/12/2019</a><a href=\"/ranking/semanal/0/2019/12/20/0/0\" class=\"pn-periodos-periodo\">20/12/2019</a><a href=\"/ranking/semanal/0/2019/12/13/0/0\" class=\"pn-periodos-periodo\">13/12/2019</a><a href=\"/ranking/semanal/0/2019/12/6/0/0\" class=\"pn-periodos-periodo\">06/12/2019</a><a href=\"/ranking/semanal/0/2019/11/29/0/0\" class=\"pn-periodos-periodo\">29/11/2019</a><a href=\"/ranking/semanal/0/2019/11/22/0/0\" class=\"pn-periodos-periodo\">22/11/2019</a><a href=\"/ranking/semanal/0/2019/11/15/0/0\" class=\"pn-periodos-periodo\">15/11/2019</a><a href=\"/ranking/semanal/0/2019/11/8/0/0\" class=\"pn-periodos-periodo\">08/11/2019</a><a href=\"/ranking/semanal/0/2019/11/1/0/0\" class=\"pn-periodos-periodo\">01/11/2019</a><a href=\"/ranking/semanal/0/2019/10/25/0/0\" class=\"pn-periodos-periodo\">25/10/2019</a><a href=\"/ranking/semanal/0/2019/10/18/0/0\" class=\"pn-periodos-periodo\">18/10/2019</a><a href=\"/ranking/semanal/0/2019/10/11/0/0\" class=\"pn-periodos-periodo\">11/10/2019</a><a href=\"/ranking/semanal/0/2019/10/4/0/0\" class=\"pn-periodos-periodo\">04/10/2019</a><a href=\"/ranking/semanal/0/2019/9/27/0/0\" class=\"pn-periodos-periodo\">27/09/2019</a><a href=\"/ranking/semanal/0/2019/9/20/0/0\" class=\"pn-periodos-periodo\">20/09/2019</a><a href=\"/ranking/semanal/0/2019/9/13/0/0\" class=\"pn-periodos-periodo\">13/09/2019</a><a href=\"/ranking/semanal/0/2019/9/6/0/0\" class=\"pn-periodos-periodo\">06/09/2019</a><a href=\"/ranking/semanal/0/2019/8/30/0/0\" class=\"pn-periodos-periodo\">30/08/2019</a><a href=\"/ranking/semanal/0/2019/8/23/0/0\" class=\"pn-periodos-periodo\">23/08/2019</a><a href=\"/ranking/semanal/0/2019/8/16/0/0\" class=\"pn-periodos-periodo\">16/08/2019</a><a href=\"/ranking/semanal/0/2019/8/9/0/0\" class=\"pn-periodos-periodo\">09/08/2019</a><a href=\"/ranking/semanal/0/2019/8/2/0/0\" class=\"pn-periodos-periodo\">02/08/2019</a><a href=\"/ranking/semanal/0/2019/7/26/0/0\" class=\"pn-periodos-periodo\">26/07/2019</a><a href=\"/ranking/semanal/0/2019/7/19/0/0\" class=\"pn-periodos-periodo\">19/07/2019</a><a href=\"/ranking/semanal/0/2019/7/12/0/0\" class=\"pn-periodos-periodo\">12/07/2019</a><a href=\"/ranking/semanal/0/2019/7/5/0/0\" class=\"pn-periodos-periodo\">05/07/2019</a><a href=\"/ranking/semanal/0/2019/6/28/0/0\" class=\"pn-periodos-periodo\">28/06/2019</a><a href=\"/ranking/semanal/0/2019/6/21/0/0\" class=\"pn-periodos-periodo\">21/06/2019</a><a href=\"/ranking/semanal/0/2019/6/14/0/0\" class=\"pn-periodos-periodo\">14/06/2019</a><a href=\"/ranking/semanal/0/2019/6/7/0/0\" class=\"pn-periodos-periodo\">07/06/2019</a><a href=\"/ranking/semanal/0/2019/5/31/0/0\" class=\"pn-periodos-periodo\">31/05/2019</a><a href=\"/ranking/semanal/0/2019/5/24/0/0\" class=\"pn-periodos-periodo\">24/05/2019</a><a href=\"/ranking/semanal/0/2019/5/17/0/0\" class=\"pn-periodos-periodo\">17/05/2019</a><a href=\"/ranking/semanal/0/2019/5/10/0/0\" class=\"pn-periodos-periodo\">10/05/2019</a><a href=\"/ranking/semanal/0/2019/5/3/0/0\" class=\"pn-periodos-periodo\">03/05/2019</a><a href=\"/ranking/semanal/0/2019/4/26/0/0\" class=\"pn-periodos-periodo\">26/04/2019</a><a href=\"/ranking/semanal/0/2019/4/19/0/0\" class=\"pn-periodos-periodo\">19/04/2019</a><a href=\"/ranking/semanal/0/2019/4/12/0/0\" class=\"pn-periodos-periodo\">12/04/2019</a><a href=\"/ranking/semanal/0/2019/4/5/0/0\" class=\"pn-periodos-periodo\">05/04/2019</a><a href=\"/ranking/semanal/0/2019/3/29/0/0\" class=\"pn-periodos-periodo\">29/03/2019</a><a href=\"/ranking/semanal/0/2019/3/22/0/0\" class=\"pn-periodos-periodo\">22/03/2019</a><a href=\"/ranking/semanal/0/2019/3/15/0/0\" class=\"pn-periodos-periodo\">15/03/2019</a><a href=\"/ranking/semanal/0/2019/3/8/0/0\" class=\"pn-periodos-periodo\">08/03/2019</a><a href=\"/ranking/semanal/0/2019/3/1/0/0\" class=\"pn-periodos-periodo\">01/03/2019</a><a href=\"/ranking/semanal/0/2019/2/22/0/0\" class=\"pn-periodos-periodo\">22/02/2019</a><a href=\"/ranking/semanal/0/2019/2/15/0/0\" class=\"pn-periodos-periodo\">15/02/2019</a><a href=\"/ranking/semanal/0/2019/2/8/0/0\" class=\"pn-periodos-periodo\">08/02/2019</a><a href=\"/ranking/semanal/0/2019/2/1/0/0\" class=\"pn-periodos-periodo\">01/02/2019</a><a href=\"/ranking/semanal/0/2019/1/25/0/0\" class=\"pn-periodos-periodo\">25/01/2019</a><a href=\"/ranking/semanal/0/2019/1/18/0/0\" class=\"pn-periodos-periodo\">18/01/2019</a><a href=\"/ranking/semanal/0/2019/1/11/0/0\" class=\"pn-periodos-periodo\">11/01/2019</a><a href=\"/ranking/semanal/0/2019/1/4/0/0\" class=\"pn-periodos-periodo\">04/01/2019</a><a href=\"/ranking/semanal/0/2018/12/28/0/0\" class=\"pn-periodos-periodo\">28/12/2018</a><a href=\"/ranking/semanal/0/2018/12/21/0/0\" class=\"pn-periodos-periodo\">21/12/2018</a><a href=\"/ranking/semanal/0/2018/12/14/0/0\" class=\"pn-periodos-periodo\">14/12/2018</a><a href=\"/ranking/semanal/0/2018/12/7/0/0\" class=\"pn-periodos-periodo\">07/12/2018</a><a href=\"/ranking/semanal/0/2018/11/30/0/0\" class=\"pn-periodos-periodo\">30/11/2018</a><a href=\"/ranking/semanal/0/2018/11/23/0/0\" class=\"pn-periodos-periodo\">23/11/2018</a><a href=\"/ranking/semanal/0/2018/11/16/0/0\" class=\"pn-periodos-periodo\">16/11/2018</a><a href=\"/ranking/semanal/0/2018/11/9/0/0\" class=\"pn-periodos-periodo\">09/11/2018</a><a href=\"/ranking/semanal/0/2018/11/2/0/0\" class=\"pn-periodos-periodo\">02/11/2018</a><a href=\"/ranking/semanal/0/2018/10/26/0/0\" class=\"pn-periodos-periodo\">26/10/2018</a><a href=\"/ranking/semanal/0/2018/10/19/0/0\" class=\"pn-periodos-periodo\">19/10/2018</a><a href=\"/ranking/semanal/0/2018/10/12/0/0\" class=\"pn-periodos-periodo\">12/10/2018</a><a href=\"/ranking/semanal/0/2018/10/5/0/0\" class=\"pn-periodos-periodo\">05/10/2018</a><a href=\"/ranking/semanal/0/2018/9/28/0/0\" class=\"pn-periodos-periodo\">28/09/2018</a><a href=\"/ranking/semanal/0/2018/9/21/0/0\" class=\"pn-periodos-periodo\">21/09/2018</a><a href=\"/ranking/semanal/0/2018/9/14/0/0\" class=\"pn-periodos-periodo\">14/09/2018</a><a href=\"/ranking/semanal/0/2018/9/7/0/0\" class=\"pn-periodos-periodo\">07/09/2018</a><a href=\"/ranking/semanal/0/2018/8/31/0/0\" class=\"pn-periodos-periodo\">31/08/2018</a><a href=\"/ranking/semanal/0/2018/8/24/0/0\" class=\"pn-periodos-periodo\">24/08/2018</a><a href=\"/ranking/semanal/0/2018/8/17/0/0\" class=\"pn-periodos-periodo\">17/08/2018</a><a href=\"/ranking/semanal/0/2018/8/10/0/0\" class=\"pn-periodos-periodo\">10/08/2018</a><a href=\"/ranking/semanal/0/2018/8/3/0/0\" class=\"pn-periodos-periodo\">03/08/2018</a><a href=\"/ranking/semanal/0/2018/7/27/0/0\" class=\"pn-periodos-periodo\">27/07/2018</a><a href=\"/ranking/semanal/0/2018/7/20/0/0\" class=\"pn-periodos-periodo\">20/07/2018</a><a href=\"/ranking/semanal/0/2018/7/13/0/0\" class=\"pn-periodos-periodo\">13/07/2018</a><a href=\"/ranking/semanal/0/2018/7/6/0/0\" class=\"pn-periodos-periodo\">06/07/2018</a><a href=\"/ranking/semanal/0/2018/6/29/0/0\" class=\"pn-periodos-periodo\">29/06/2018</a><a href=\"/ranking/semanal/0/2018/6/22/0/0\" class=\"pn-periodos-periodo\">22/06/2018</a><a href=\"/ranking/semanal/0/2018/6/15/0/0\" class=\"pn-periodos-periodo\">15/06/2018</a><a href=\"/ranking/semanal/0/2018/6/8/0/0\" class=\"pn-periodos-periodo\">08/06/2018</a><a href=\"/ranking/semanal/0/2018/6/1/0/0\" class=\"pn-periodos-periodo\">01/06/2018</a><a href=\"/ranking/semanal/0/2018/5/25/0/0\" class=\"pn-periodos-periodo\">25/05/2018</a><a href=\"/ranking/semanal/0/2018/5/18/0/0\" class=\"pn-periodos-periodo\">18/05/2018</a><a href=\"/ranking/semanal/0/2018/5/11/0/0\" class=\"pn-periodos-periodo\">11/05/2018</a><a href=\"/ranking/semanal/0/2018/5/4/0/0\" class=\"pn-periodos-periodo\">04/05/2018</a><a href=\"/ranking/semanal/0/2018/4/27/0/0\" class=\"pn-periodos-periodo\">27/04/2018</a><a href=\"/ranking/semanal/0/2018/4/20/0/0\" class=\"pn-periodos-periodo\">20/04/2018</a><a href=\"/ranking/semanal/0/2018/4/13/0/0\" class=\"pn-periodos-periodo\">13/04/2018</a><a href=\"/ranking/semanal/0/2018/4/6/0/0\" class=\"pn-periodos-periodo\">06/04/2018</a><a href=\"/ranking/semanal/0/2018/3/30/0/0\" class=\"pn-periodos-periodo\">30/03/2018</a><a href=\"/ranking/semanal/0/2018/3/23/0/0\" class=\"pn-periodos-periodo\">23/03/2018</a><a href=\"/ranking/semanal/0/2018/3/16/0/0\" class=\"pn-periodos-periodo\">16/03/2018</a><a href=\"/ranking/semanal/0/2018/3/9/0/0\" class=\"pn-periodos-periodo\">09/03/2018</a><a href=\"/ranking/semanal/0/2018/3/2/0/0\" class=\"pn-periodos-periodo\">02/03/2018</a><a href=\"/ranking/semanal/0/2018/2/23/0/0\" class=\"pn-periodos-periodo\">23/02/2018</a><a href=\"/ranking/semanal/0/2018/2/16/0/0\" class=\"pn-periodos-periodo\">16/02/2018</a><a href=\"/ranking/semanal/0/2018/2/9/0/0\" class=\"pn-periodos-periodo\">09/02/2018</a><a href=\"/ranking/semanal/0/2018/2/2/0/0\" class=\"pn-periodos-periodo\">02/02/2018</a><a href=\"/ranking/semanal/0/2018/1/26/0/0\" class=\"pn-periodos-periodo\">26/01/2018</a><a href=\"/ranking/semanal/0/2018/1/19/0/0\" class=\"pn-periodos-periodo\">19/01/2018</a><a href=\"/ranking/semanal/0/2018/1/12/0/0\" class=\"pn-periodos-periodo\">12/01/2018</a><a href=\"/ranking/semanal/0/2018/1/5/0/0\" class=\"pn-periodos-periodo\">05/01/2018</a><a href=\"/ranking/semanal/0/2017/12/29/0/0\" class=\"pn-periodos-periodo\">29/12/2017</a><a href=\"/ranking/semanal/0/2017/12/22/0/0\" class=\"pn-periodos-periodo\">22/12/2017</a><a href=\"/ranking/semanal/0/2017/12/15/0/0\" class=\"pn-periodos-periodo\">15/12/2017</a><a href=\"/ranking/semanal/0/2017/12/8/0/0\" class=\"pn-periodos-periodo\">08/12/2017</a><a href=\"/ranking/semanal/0/2017/12/1/0/0\" class=\"pn-periodos-periodo\">01/12/2017</a><a href=\"/ranking/semanal/0/2017/11/24/0/0\" class=\"pn-periodos-periodo\">24/11/2017</a><a href=\"/ranking/semanal/0/2017/11/17/0/0\" class=\"pn-periodos-periodo\">17/11/2017</a><a href=\"/ranking/semanal/0/2017/11/10/0/0\" class=\"pn-periodos-periodo\">10/11/2017</a><a href=\"/ranking/semanal/0/2017/11/3/0/0\" class=\"pn-periodos-periodo\">03/11/2017</a><a href=\"/ranking/semanal/0/2017/10/27/0/0\" class=\"pn-periodos-periodo\">27/10/2017</a><a href=\"/ranking/semanal/0/2017/10/20/0/0\" class=\"pn-periodos-periodo\">20/10/2017</a><a href=\"/ranking/semanal/0/2017/10/13/0/0\" class=\"pn-periodos-periodo\">13/10/2017</a><a href=\"/ranking/semanal/0/2017/10/6/0/0\" class=\"pn-periodos-periodo\">06/10/2017</a><a href=\"/ranking/semanal/0/2017/9/29/0/0\" class=\"pn-periodos-periodo\">29/09/2017</a><a href=\"/ranking/semanal/0/2017/9/22/0/0\" class=\"pn-periodos-periodo\">22/09/2017</a><a href=\"/ranking/semanal/0/2017/9/15/0/0\" class=\"pn-periodos-periodo\">15/09/2017</a><a href=\"/ranking/semanal/0/2017/9/8/0/0\" class=\"pn-periodos-periodo\">08/09/2017</a><a href=\"/ranking/semanal/0/2017/9/1/0/0\" class=\"pn-periodos-periodo\">01/09/2017</a><a href=\"/ranking/semanal/0/2017/8/25/0/0\" class=\"pn-periodos-periodo\">25/08/2017</a><a href=\"/ranking/semanal/0/2017/8/18/0/0\" class=\"pn-periodos-periodo\">18/08/2017</a><a href=\"/ranking/semanal/0/2017/8/11/0/0\" class=\"pn-periodos-periodo\">11/08/2017</a><a href=\"/ranking/semanal/0/2017/8/4/0/0\" class=\"pn-periodos-periodo\">04/08/2017</a><a href=\"/ranking/semanal/0/2017/7/28/0/0\" class=\"pn-periodos-periodo\">28/07/2017</a><a href=\"/ranking/semanal/0/2017/7/21/0/0\" class=\"pn-periodos-periodo\">21/07/2017</a><a href=\"/ranking/semanal/0/2017/7/14/0/0\" class=\"pn-periodos-periodo\">14/07/2017</a><a href=\"/ranking/semanal/0/2017/7/7/0/0\" class=\"pn-periodos-periodo\">07/07/2017</a><a href=\"/ranking/semanal/0/2017/6/30/0/0\" class=\"pn-periodos-periodo\">30/06/2017</a><a href=\"/ranking/semanal/0/2017/6/23/0/0\" class=\"pn-periodos-periodo\">23/06/2017</a><a href=\"/ranking/semanal/0/2017/6/16/0/0\" class=\"pn-periodos-periodo\">16/06/2017</a><a href=\"/ranking/semanal/0/2017/6/9/0/0\" class=\"pn-periodos-periodo\">09/06/2017</a><a href=\"/ranking/semanal/0/2017/6/2/0/0\" class=\"pn-periodos-periodo\">02/06/2017</a><a href=\"/ranking/semanal/0/2017/5/26/0/0\" class=\"pn-periodos-periodo\">26/05/2017</a><a href=\"/ranking/semanal/0/2017/5/19/0/0\" class=\"pn-periodos-periodo\">19/05/2017</a><a href=\"/ranking/semanal/0/2017/5/12/0/0\" class=\"pn-periodos-periodo\">12/05/2017</a><a href=\"/ranking/semanal/0/2017/5/5/0/0\" class=\"pn-periodos-periodo\">05/05/2017</a><a href=\"/ranking/semanal/0/2017/4/28/0/0\" class=\"pn-periodos-periodo\">28/04/2017</a><a href=\"/ranking/semanal/0/2017/4/21/0/0\" class=\"pn-periodos-periodo\">21/04/2017</a><a href=\"/ranking/semanal/0/2017/4/14/0/0\" class=\"pn-periodos-periodo\">14/04/2017</a><a href=\"/ranking/semanal/0/2017/4/7/0/0\" class=\"pn-periodos-periodo\">07/04/2017</a><a href=\"/ranking/semanal/0/2017/3/31/0/0\" class=\"pn-periodos-periodo\">31/03/2017</a><a href=\"/ranking/semanal/0/2017/3/24/0/0\" class=\"pn-periodos-periodo\">24/03/2017</a><a href=\"/ranking/semanal/0/2017/3/17/0/0\" class=\"pn-periodos-periodo\">17/03/2017</a><a href=\"/ranking/semanal/0/2017/3/10/0/0\" class=\"pn-periodos-periodo\">10/03/2017</a><a href=\"/ranking/semanal/0/2017/3/3/0/0\" class=\"pn-periodos-periodo\">03/03/2017</a><a href=\"/ranking/semanal/0/2017/2/24/0/0\" class=\"pn-periodos-periodo\">24/02/2017</a><a href=\"/ranking/semanal/0/2017/2/17/0/0\" class=\"pn-periodos-periodo\">17/02/2017</a><a href=\"/ranking/semanal/0/2017/2/10/0/0\" class=\"pn-periodos-periodo\">10/02/2017</a><a href=\"/ranking/semanal/0/2017/2/3/0/0\" class=\"pn-periodos-periodo\">03/02/2017</a><a href=\"/ranking/semanal/0/2017/1/27/0/0\" class=\"pn-periodos-periodo\">27/01/2017</a><a href=\"/ranking/semanal/0/2017/1/20/0/0\" class=\"pn-periodos-periodo\">20/01/2017</a><a href=\"/ranking/semanal/0/2017/1/13/0/0\" class=\"pn-periodos-periodo\">13/01/2017</a><a href=\"/ranking/semanal/0/2017/1/6/0/0\" class=\"pn-periodos-periodo\">06/01/2017</a><a href=\"/ranking/semanal/0/2016/12/30/0/0\" class=\"pn-periodos-periodo\">30/12/2016</a><a href=\"/ranking/semanal/0/2016/12/23/0/0\" class=\"pn-periodos-periodo\">23/12/2016</a><a href=\"/ranking/semanal/0/2016/12/16/0/0\" class=\"pn-periodos-periodo\">16/12/2016</a><a href=\"/ranking/semanal/0/2016/12/9/0/0\" class=\"pn-periodos-periodo\">09/12/2016</a><a href=\"/ranking/semanal/0/2016/12/2/0/0\" class=\"pn-periodos-periodo\">02/12/2016</a><a href=\"/ranking/semanal/0/2016/11/25/0/0\" class=\"pn-periodos-periodo\">25/11/2016</a><a href=\"/ranking/semanal/0/2016/11/18/0/0\" class=\"pn-periodos-periodo\">18/11/2016</a><a href=\"/ranking/semanal/0/2016/11/11/0/0\" class=\"pn-periodos-periodo\">11/11/2016</a><a href=\"/ranking/semanal/0/2016/11/4/0/0\" class=\"pn-periodos-periodo\">04/11/2016</a><a href=\"/ranking/semanal/0/2016/10/28/0/0\" class=\"pn-periodos-periodo\">28/10/2016</a><a href=\"/ranking/semanal/0/2016/10/21/0/0\" class=\"pn-periodos-periodo\">21/10/2016</a><a href=\"/ranking/semanal/0/2016/10/14/0/0\" class=\"pn-periodos-periodo\">14/10/2016</a><a href=\"/ranking/semanal/0/2016/10/7/0/0\" class=\"pn-periodos-periodo\">07/10/2016</a><a href=\"/ranking/semanal/0/2016/9/30/0/0\" class=\"pn-periodos-periodo\">30/09/2016</a><a href=\"/ranking/semanal/0/2016/9/23/0/0\" class=\"pn-periodos-periodo\">23/09/2016</a><a href=\"/ranking/semanal/0/2016/9/16/0/0\" class=\"pn-periodos-periodo\">16/09/2016</a><a href=\"/ranking/semanal/0/2016/9/9/0/0\" class=\"pn-periodos-periodo\">09/09/2016</a><a href=\"/ranking/semanal/0/2016/9/2/0/0\" class=\"pn-periodos-periodo\">02/09/2016</a><a href=\"/ranking/semanal/0/2016/8/26/0/0\" class=\"pn-periodos-periodo\">26/08/2016</a><a href=\"/ranking/semanal/0/2016/8/19/0/0\" class=\"pn-periodos-periodo\">19/08/2016</a><a href=\"/ranking/semanal/0/2016/8/12/0/0\" class=\"pn-periodos-periodo\">12/08/2016</a><a href=\"/ranking/semanal/0/2016/8/5/0/0\" class=\"pn-periodos-periodo\">05/08/2016</a><a href=\"/ranking/semanal/0/2016/7/29/0/0\" class=\"pn-periodos-periodo\">29/07/2016</a><a href=\"/ranking/semanal/0/2016/7/22/0/0\" class=\"pn-periodos-periodo\">22/07/2016</a><a href=\"/ranking/semanal/0/2016/7/15/0/0\" class=\"pn-periodos-periodo\">15/07/2016</a><a href=\"/ranking/semanal/0/2016/7/8/0/0\" class=\"pn-periodos-periodo\">08/07/2016</a><a href=\"/ranking/semanal/0/2016/7/1/0/0\" class=\"pn-periodos-periodo\">01/07/2016</a><a href=\"/ranking/semanal/0/2016/6/24/0/0\" class=\"pn-periodos-periodo\">24/06/2016</a><a href=\"/ranking/semanal/0/2016/6/17/0/0\" class=\"pn-periodos-periodo\">17/06/2016</a><a href=\"/ranking/semanal/0/2016/6/10/0/0\" class=\"pn-periodos-periodo\">10/06/2016</a><a href=\"/ranking/semanal/0/2016/6/3/0/0\" class=\"pn-periodos-periodo\">03/06/2016</a><a href=\"/ranking/semanal/0/2016/5/27/0/0\" class=\"pn-periodos-periodo\">27/05/2016</a><a href=\"/ranking/semanal/0/2016/5/20/0/0\" class=\"pn-periodos-periodo\">20/05/2016</a><a href=\"/ranking/semanal/0/2016/5/13/0/0\" class=\"pn-periodos-periodo\">13/05/2016</a><a href=\"/ranking/semanal/0/2016/5/6/0/0\" class=\"pn-periodos-periodo\">06/05/2016</a><a href=\"/ranking/semanal/0/2016/4/29/0/0\" class=\"pn-periodos-periodo\">29/04/2016</a><a href=\"/ranking/semanal/0/2016/4/22/0/0\" class=\"pn-periodos-periodo\">22/04/2016</a><a href=\"/ranking/semanal/0/2016/4/15/0/0\" class=\"pn-periodos-periodo\">15/04/2016</a><a href=\"/ranking/semanal/0/2016/4/8/0/0\" class=\"pn-periodos-periodo\">08/04/2016</a><a href=\"/ranking/semanal/0/2016/4/1/0/0\" class=\"pn-periodos-periodo\">01/04/2016</a><a href=\"/ranking/semanal/0/2016/3/25/0/0\" class=\"pn-periodos-periodo\">25/03/2016</a><a href=\"/ranking/semanal/0/2016/3/18/0/0\" class=\"pn-periodos-periodo\">18/03/2016</a><a href=\"/ranking/semanal/0/2016/3/11/0/0\" class=\"pn-periodos-periodo\">11/03/2016</a><a href=\"/ranking/semanal/0/2016/3/4/0/0\" class=\"pn-periodos-periodo\">04/03/2016</a><a href=\"/ranking/semanal/0/2016/2/26/0/0\" class=\"pn-periodos-periodo\">26/02/2016</a><a href=\"/ranking/semanal/0/2016/2/19/0/0\" class=\"pn-periodos-periodo\">19/02/2016</a><a href=\"/ranking/semanal/0/2016/2/12/0/0\" class=\"pn-periodos-periodo\">12/02/2016</a><a href=\"/ranking/semanal/0/2016/2/5/0/0\" class=\"pn-periodos-periodo\">05/02/2016</a><a href=\"/ranking/semanal/0/2016/1/29/0/0\" class=\"pn-periodos-periodo\">29/01/2016</a><a href=\"/ranking/semanal/0/2016/1/22/0/0\" class=\"pn-periodos-periodo\">22/01/2016</a><a href=\"/ranking/semanal/0/2016/1/15/0/0\" class=\"pn-periodos-periodo\">15/01/2016</a><a href=\"/ranking/semanal/0/2016/1/8/0/0\" class=\"pn-periodos-periodo\">08/01/2016</a><a href=\"/ranking/semanal/0/2016/1/1/0/0\" class=\"pn-periodos-periodo\">01/01/2016</a><a href=\"/ranking/semanal/0/2015/12/25/0/0\" class=\"pn-periodos-periodo\">25/12/2015</a><a href=\"/ranking/semanal/0/2015/12/18/0/0\" class=\"pn-periodos-periodo\">18/12/2015</a><a href=\"/ranking/semanal/0/2015/12/11/0/0\" class=\"pn-periodos-periodo\">11/12/2015</a><a href=\"/ranking/semanal/0/2015/12/4/0/0\" class=\"pn-periodos-periodo\">04/12/2015</a><a href=\"/ranking/semanal/0/2015/11/27/0/0\" class=\"pn-periodos-periodo\">27/11/2015</a><a href=\"/ranking/semanal/0/2015/11/20/0/0\" class=\"pn-periodos-periodo\">20/11/2015</a><a href=\"/ranking/semanal/0/2015/11/13/0/0\" class=\"pn-periodos-periodo\">13/11/2015</a><a href=\"/ranking/semanal/0/2015/11/6/0/0\" class=\"pn-periodos-periodo\">06/11/2015</a><a href=\"/ranking/semanal/0/2015/10/30/0/0\" class=\"pn-periodos-periodo\">30/10/2015</a><a href=\"/ranking/semanal/0/2015/10/23/0/0\" class=\"pn-periodos-periodo\">23/10/2015</a><a href=\"/ranking/semanal/0/2015/10/16/0/0\" class=\"pn-periodos-periodo\">16/10/2015</a><a href=\"/ranking/semanal/0/2015/10/9/0/0\" class=\"pn-periodos-periodo\">09/10/2015</a><a href=\"/ranking/semanal/0/2015/10/2/0/0\" class=\"pn-periodos-periodo\">02/10/2015</a><a href=\"/ranking/semanal/0/2015/9/25/0/0\" class=\"pn-periodos-periodo\">25/09/2015</a><a href=\"/ranking/semanal/0/2015/9/18/0/0\" class=\"pn-periodos-periodo\">18/09/2015</a><a href=\"/ranking/semanal/0/2015/9/11/0/0\" class=\"pn-periodos-periodo\">11/09/2015</a><a href=\"/ranking/semanal/0/2015/9/4/0/0\" class=\"pn-periodos-periodo\">04/09/2015</a><a href=\"/ranking/semanal/0/2015/8/28/0/0\" class=\"pn-periodos-periodo\">28/08/2015</a><a href=\"/ranking/semanal/0/2015/8/21/0/0\" class=\"pn-periodos-periodo\">21/08/2015</a><a href=\"/ranking/semanal/0/2015/8/14/0/0\" class=\"pn-periodos-periodo\">14/08/2015</a><a href=\"/ranking/semanal/0/2015/8/7/0/0\" class=\"pn-periodos-periodo\">07/08/2015</a><a href=\"/ranking/semanal/0/2015/7/31/0/0\" class=\"pn-periodos-periodo\">31/07/2015</a><a href=\"/ranking/semanal/0/2015/7/24/0/0\" class=\"pn-periodos-periodo\">24/07/2015</a><a href=\"/ranking/semanal/0/2015/7/17/0/0\" class=\"pn-periodos-periodo\">17/07/2015</a><a href=\"/ranking/semanal/0/2015/7/10/0/0\" class=\"pn-periodos-periodo\">10/07/2015</a><a href=\"/ranking/semanal/0/2015/7/3/0/0\" class=\"pn-periodos-periodo\">03/07/2015</a><a href=\"/ranking/semanal/0/2015/6/26/0/0\" class=\"pn-periodos-periodo\">26/06/2015</a><a href=\"/ranking/semanal/0/2015/6/19/0/0\" class=\"pn-periodos-periodo\">19/06/2015</a><a href=\"/ranking/semanal/0/2015/6/12/0/0\" class=\"pn-periodos-periodo\">12/06/2015</a><a href=\"/ranking/semanal/0/2015/6/5/0/0\" class=\"pn-periodos-periodo\">05/06/2015</a><a href=\"/ranking/semanal/0/2015/5/29/0/0\" class=\"pn-periodos-periodo\">29/05/2015</a><a href=\"/ranking/semanal/0/2015/5/22/0/0\" class=\"pn-periodos-periodo\">22/05/2015</a><a href=\"/ranking/semanal/0/2015/5/15/0/0\" class=\"pn-periodos-periodo\">15/05/2015</a><a href=\"/ranking/semanal/0/2015/5/8/0/0\" class=\"pn-periodos-periodo\">08/05/2015</a><a href=\"/ranking/semanal/0/2015/5/1/0/0\" class=\"pn-periodos-periodo\">01/05/2015</a><a href=\"/ranking/semanal/0/2015/4/24/0/0\" class=\"pn-periodos-periodo\">24/04/2015</a><a href=\"/ranking/semanal/0/2015/4/17/0/0\" class=\"pn-periodos-periodo\">17/04/2015</a><a href=\"/ranking/semanal/0/2015/4/10/0/0\" class=\"pn-periodos-periodo\">10/04/2015</a><a href=\"/ranking/semanal/0/2015/4/3/0/0\" class=\"pn-periodos-periodo\">03/04/2015</a><a href=\"/ranking/semanal/0/2015/3/27/0/0\" class=\"pn-periodos-periodo\">27/03/2015</a><a href=\"/ranking/semanal/0/2015/3/20/0/0\" class=\"pn-periodos-periodo\">20/03/2015</a><a href=\"/ranking/semanal/0/2015/3/13/0/0\" class=\"pn-periodos-periodo\">13/03/2015</a><a href=\"/ranking/semanal/0/2015/3/6/0/0\" class=\"pn-periodos-periodo\">06/03/2015</a><a href=\"/ranking/semanal/0/2015/2/27/0/0\" class=\"pn-periodos-periodo\">27/02/2015</a><a href=\"/ranking/semanal/0/2015/2/20/0/0\" class=\"pn-periodos-periodo\">20/02/2015</a><a href=\"/ranking/semanal/0/2015/2/13/0/0\" class=\"pn-periodos-periodo\">13/02/2015</a><a href=\"/ranking/semanal/0/2015/2/6/0/0\" class=\"pn-periodos-periodo\">06/02/2015</a><a href=\"/ranking/semanal/0/2015/1/30/0/0\" class=\"pn-periodos-periodo\">30/01/2015</a><a href=\"/ranking/semanal/0/2015/1/23/0/0\" class=\"pn-periodos-periodo\">23/01/2015</a><a href=\"/ranking/semanal/0/2015/1/16/0/0\" class=\"pn-periodos-periodo\">16/01/2015</a><a href=\"/ranking/semanal/0/2015/1/9/0/0\" class=\"pn-periodos-periodo\">09/01/2015</a><a href=\"/ranking/semanal/0/2015/1/2/0/0\" class=\"pn-periodos-periodo\">02/01/2015</a><a href=\"/ranking/semanal/0/2014/12/26/0/0\" class=\"pn-periodos-periodo\">26/12/2014</a><a href=\"/ranking/semanal/0/2014/12/19/0/0\" class=\"pn-periodos-periodo\">19/12/2014</a><a href=\"/ranking/semanal/0/2014/12/12/0/0\" class=\"pn-periodos-periodo\">12/12/2014</a><a href=\"/ranking/semanal/0/2014/12/5/0/0\" class=\"pn-periodos-periodo\">05/12/2014</a><a href=\"/ranking/semanal/0/2014/11/28/0/0\" class=\"pn-periodos-periodo\">28/11/2014</a><a href=\"/ranking/semanal/0/2014/11/21/0/0\" class=\"pn-periodos-periodo\">21/11/2014</a><a href=\"/ranking/semanal/0/2014/11/14/0/0\" class=\"pn-periodos-periodo\">14/11/2014</a><a href=\"/ranking/semanal/0/2014/11/7/0/0\" class=\"pn-periodos-periodo\">07/11/2014</a><a href=\"/ranking/semanal/0/2014/10/31/0/0\" class=\"pn-periodos-periodo\">31/10/2014</a><a href=\"/ranking/semanal/0/2014/10/24/0/0\" class=\"pn-periodos-periodo\">24/10/2014</a><a href=\"/ranking/semanal/0/2014/10/17/0/0\" class=\"pn-periodos-periodo\">17/10/2014</a><a href=\"/ranking/semanal/0/2014/10/10/0/0\" class=\"pn-periodos-periodo\">10/10/2014</a><a href=\"/ranking/semanal/0/2014/10/3/0/0\" class=\"pn-periodos-periodo\">03/10/2014</a><a href=\"/ranking/semanal/0/2014/9/26/0/0\" class=\"pn-periodos-periodo\">26/09/2014</a><a href=\"/ranking/semanal/0/2014/9/19/0/0\" class=\"pn-periodos-periodo\">19/09/2014</a><a href=\"/ranking/semanal/0/2014/9/12/0/0\" class=\"pn-periodos-periodo\">12/09/2014</a><a href=\"/ranking/semanal/0/2014/9/5/0/0\" class=\"pn-periodos-periodo\">05/09/2014</a><a href=\"/ranking/semanal/0/2014/8/29/0/0\" class=\"pn-periodos-periodo\">29/08/2014</a><a href=\"/ranking/semanal/0/2014/8/22/0/0\" class=\"pn-periodos-periodo\">22/08/2014</a><a href=\"/ranking/semanal/0/2014/8/15/0/0\" class=\"pn-periodos-periodo\">15/08/2014</a><a href=\"/ranking/semanal/0/2014/8/8/0/0\" class=\"pn-periodos-periodo\">08/08/2014</a><a href=\"/ranking/semanal/0/2014/8/1/0/0\" class=\"pn-periodos-periodo\">01/08/2014</a><a href=\"/ranking/semanal/0/2014/7/25/0/0\" class=\"pn-periodos-periodo\">25/07/2014</a><a href=\"/ranking/semanal/0/2014/7/18/0/0\" class=\"pn-periodos-periodo\">18/07/2014</a><a href=\"/ranking/semanal/0/2014/7/11/0/0\" class=\"pn-periodos-periodo\">11/07/2014</a><a href=\"/ranking/semanal/0/2014/7/4/0/0\" class=\"pn-periodos-periodo\">04/07/2014</a><a href=\"/ranking/semanal/0/2014/6/27/0/0\" class=\"pn-periodos-periodo\">27/06/2014</a><a href=\"/ranking/semanal/0/2014/6/20/0/0\" class=\"pn-periodos-periodo\">20/06/2014</a><a href=\"/ranking/semanal/0/2014/6/13/0/0\" class=\"pn-periodos-periodo\">13/06/2014</a><a href=\"/ranking/semanal/0/2014/6/6/0/0\" class=\"pn-periodos-periodo\">06/06/2014</a><a href=\"/ranking/semanal/0/2014/5/30/0/0\" class=\"pn-periodos-periodo\">30/05/2014</a><a href=\"/ranking/semanal/0/2014/5/23/0/0\" class=\"pn-periodos-periodo\">23/05/2014</a><a href=\"/ranking/semanal/0/2014/5/16/0/0\" class=\"pn-periodos-periodo\">16/05/2014</a><a href=\"/ranking/semanal/0/2014/5/9/0/0\" class=\"pn-periodos-periodo\">09/05/2014</a><a href=\"/ranking/semanal/0/2014/5/2/0/0\" class=\"pn-periodos-periodo\">02/05/2014</a><a href=\"/ranking/semanal/0/2014/4/25/0/0\" class=\"pn-periodos-periodo\">25/04/2014</a><a href=\"/ranking/semanal/0/2014/4/18/0/0\" class=\"pn-periodos-periodo\">18/04/2014</a><a href=\"/ranking/semanal/0/2014/4/11/0/0\" class=\"pn-periodos-periodo\">11/04/2014</a><a href=\"/ranking/semanal/0/2014/4/4/0/0\" class=\"pn-periodos-periodo\">04/04/2014</a><a href=\"/ranking/semanal/0/2014/3/28/0/0\" class=\"pn-periodos-periodo\">28/03/2014</a><a href=\"/ranking/semanal/0/2014/3/21/0/0\" class=\"pn-periodos-periodo\">21/03/2014</a><a href=\"/ranking/semanal/0/2014/3/14/0/0\" class=\"pn-periodos-periodo\">14/03/2014</a><a href=\"/ranking/semanal/0/2014/3/7/0/0\" class=\"pn-periodos-periodo\">07/03/2014</a><a href=\"/ranking/semanal/0/2014/2/28/0/0\" class=\"pn-periodos-periodo\">28/02/2014</a><a href=\"/ranking/semanal/0/2014/2/21/0/0\" class=\"pn-periodos-periodo\">21/02/2014</a><a href=\"/ranking/semanal/0/2014/2/14/0/0\" class=\"pn-periodos-periodo\">14/02/2014</a><a href=\"/ranking/semanal/0/2014/2/7/0/0\" class=\"pn-periodos-periodo\">07/02/2014</a><a href=\"/ranking/semanal/0/2014/1/31/0/0\" class=\"pn-periodos-periodo\">31/01/2014</a><a href=\"/ranking/semanal/0/2014/1/24/0/0\" class=\"pn-periodos-periodo\">24/01/2014</a><a href=\"/ranking/semanal/0/2014/1/17/0/0\" class=\"pn-periodos-periodo\">17/01/2014</a><a href=\"/ranking/semanal/0/2014/1/10/0/0\" class=\"pn-periodos-periodo\">10/01/2014</a><a href=\"/ranking/semanal/0/2014/1/3/0/0\" class=\"pn-periodos-periodo\">03/01/2014</a><a href=\"/ranking/semanal/0/2013/12/27/0/0\" class=\"pn-periodos-periodo\">27/12/2013</a><a href=\"/ranking/semanal/0/2013/12/20/0/0\" class=\"pn-periodos-periodo\">20/12/2013</a><a href=\"/ranking/semanal/0/2013/12/13/0/0\" class=\"pn-periodos-periodo\">13/12/2013</a><a href=\"/ranking/semanal/0/2013/12/6/0/0\" class=\"pn-periodos-periodo\">06/12/2013</a><a href=\"/ranking/semanal/0/2013/11/29/0/0\" class=\"pn-periodos-periodo\">29/11/2013</a><a href=\"/ranking/semanal/0/2013/11/22/0/0\" class=\"pn-periodos-periodo\">22/11/2013</a><a href=\"/ranking/semanal/0/2013/11/15/0/0\" class=\"pn-periodos-periodo\">15/11/2013</a><a href=\"/ranking/semanal/0/2013/11/8/0/0\" class=\"pn-periodos-periodo\">08/11/2013</a><a href=\"/ranking/semanal/0/2013/11/1/0/0\" class=\"pn-periodos-periodo\">01/11/2013</a><a href=\"/ranking/semanal/0/2013/10/25/0/0\" class=\"pn-periodos-periodo\">25/10/2013</a><a href=\"/ranking/semanal/0/2013/10/18/0/0\" class=\"pn-periodos-periodo\">18/10/2013</a><a href=\"/ranking/semanal/0/2013/10/11/0/0\" class=\"pn-periodos-periodo\">11/10/2013</a><a href=\"/ranking/semanal/0/2013/10/4/0/0\" class=\"pn-periodos-periodo\">04/10/2013</a><a href=\"/ranking/semanal/0/2013/9/27/0/0\" class=\"pn-periodos-periodo\">27/09/2013</a><a href=\"/ranking/semanal/0/2013/9/20/0/0\" class=\"pn-periodos-periodo\">20/09/2013</a><a href=\"/ranking/semanal/0/2013/9/13/0/0\" class=\"pn-periodos-periodo\">13/09/2013</a><a href=\"/ranking/semanal/0/2013/9/6/0/0\" class=\"pn-periodos-periodo\">06/09/2013</a><a href=\"/ranking/semanal/0/2013/8/30/0/0\" class=\"pn-periodos-periodo\">30/08/2013</a><a href=\"/ranking/semanal/0/2013/8/23/0/0\" class=\"pn-periodos-periodo\">23/08/2013</a><a href=\"/ranking/semanal/0/2013/8/16/0/0\" class=\"pn-periodos-periodo\">16/08/2013</a><a href=\"/ranking/semanal/0/2013/8/9/0/0\" class=\"pn-periodos-periodo\">09/08/2013</a><a href=\"/ranking/semanal/0/2013/8/2/0/0\" class=\"pn-periodos-periodo\">02/08/2013</a><a href=\"/ranking/semanal/0/2013/7/26/0/0\" class=\"pn-periodos-periodo\">26/07/2013</a><a href=\"/ranking/semanal/0/2013/7/19/0/0\" class=\"pn-periodos-periodo\">19/07/2013</a><a href=\"/ranking/semanal/0/2013/7/12/0/0\" class=\"pn-periodos-periodo\">12/07/2013</a><a href=\"/ranking/semanal/0/2013/7/5/0/0\" class=\"pn-periodos-periodo\">05/07/2013</a><a href=\"/ranking/semanal/0/2013/6/28/0/0\" class=\"pn-periodos-periodo\">28/06/2013</a><a href=\"/ranking/semanal/0/2013/6/21/0/0\" class=\"pn-periodos-periodo\">21/06/2013</a><a href=\"/ranking/semanal/0/2013/6/14/0/0\" class=\"pn-periodos-periodo\">14/06/2013</a><a href=\"/ranking/semanal/0/2013/6/7/0/0\" class=\"pn-periodos-periodo\">07/06/2013</a><a href=\"/ranking/semanal/0/2013/5/31/0/0\" class=\"pn-periodos-periodo\">31/05/2013</a><a href=\"/ranking/semanal/0/2013/5/24/0/0\" class=\"pn-periodos-periodo\">24/05/2013</a><a href=\"/ranking/semanal/0/2013/5/17/0/0\" class=\"pn-periodos-periodo\">17/05/2013</a><a href=\"/ranking/semanal/0/2013/5/10/0/0\" class=\"pn-periodos-periodo\">10/05/2013</a><a href=\"/ranking/semanal/0/2013/5/3/0/0\" class=\"pn-periodos-periodo\">03/05/2013</a><a href=\"/ranking/semanal/0/2013/4/26/0/0\" class=\"pn-periodos-periodo\">26/04/2013</a><a href=\"/ranking/semanal/0/2013/4/19/0/0\" class=\"pn-periodos-periodo\">19/04/2013</a><a href=\"/ranking/semanal/0/2013/4/12/0/0\" class=\"pn-periodos-periodo\">12/04/2013</a><a href=\"/ranking/semanal/0/2013/4/5/0/0\" class=\"pn-periodos-periodo\">05/04/2013</a><a href=\"/ranking/semanal/0/2013/3/29/0/0\" class=\"pn-periodos-periodo\">29/03/2013</a><a href=\"/ranking/semanal/0/2013/3/22/0/0\" class=\"pn-periodos-periodo\">22/03/2013</a><a href=\"/ranking/semanal/0/2013/3/15/0/0\" class=\"pn-periodos-periodo\">15/03/2013</a><a href=\"/ranking/semanal/0/2013/3/8/0/0\" class=\"pn-periodos-periodo\">08/03/2013</a><a href=\"/ranking/semanal/0/2013/3/1/0/0\" class=\"pn-periodos-periodo\">01/03/2013</a><a href=\"/ranking/semanal/0/2013/2/22/0/0\" class=\"pn-periodos-periodo\">22/02/2013</a><a href=\"/ranking/semanal/0/2013/2/15/0/0\" class=\"pn-periodos-periodo\">15/02/2013</a><a href=\"/ranking/semanal/0/2013/2/8/0/0\" class=\"pn-periodos-periodo\">08/02/2013</a><a href=\"/ranking/semanal/0/2013/2/1/0/0\" class=\"pn-periodos-periodo\">01/02/2013</a><a href=\"/ranking/semanal/0/2013/1/25/0/0\" class=\"pn-periodos-periodo\">25/01/2013</a><a href=\"/ranking/semanal/0/2013/1/18/0/0\" class=\"pn-periodos-periodo\">18/01/2013</a><a href=\"/ranking/semanal/0/2013/1/11/0/0\" class=\"pn-periodos-periodo\">11/01/2013</a><a href=\"/ranking/semanal/0/2013/1/4/0/0\" class=\"pn-periodos-periodo\">04/01/2013</a><a href=\"/ranking/semanal/0/2012/12/28/0/0\" class=\"pn-periodos-periodo\">28/12/2012</a><a href=\"/ranking/semanal/0/2012/12/21/0/0\" class=\"pn-periodos-periodo\">21/12/2012</a><a href=\"/ranking/semanal/0/2012/12/14/0/0\" class=\"pn-periodos-periodo\">14/12/2012</a><a href=\"/ranking/semanal/0/2012/12/7/0/0\" class=\"pn-periodos-periodo\">07/12/2012</a><a href=\"/ranking/semanal/0/2012/11/30/0/0\" class=\"pn-periodos-periodo\">30/11/2012</a><a href=\"/ranking/semanal/0/2012/11/23/0/0\" class=\"pn-periodos-periodo\">23/11/2012</a><a href=\"/ranking/semanal/0/2012/11/16/0/0\" class=\"pn-periodos-periodo\">16/11/2012</a><a href=\"/ranking/semanal/0/2012/11/9/0/0\" class=\"pn-periodos-periodo\">09/11/2012</a><a href=\"/ranking/semanal/0/2012/11/2/0/0\" class=\"pn-periodos-periodo\">02/11/2012</a><a href=\"/ranking/semanal/0/2012/10/26/0/0\" class=\"pn-periodos-periodo\">26/10/2012</a><a href=\"/ranking/semanal/0/2012/10/19/0/0\" class=\"pn-periodos-periodo\">19/10/2012</a><a href=\"/ranking/semanal/0/2012/10/12/0/0\" class=\"pn-periodos-periodo\">12/10/2012</a><a href=\"/ranking/semanal/0/2012/10/5/0/0\" class=\"pn-periodos-periodo\">05/10/2012</a><a href=\"/ranking/semanal/0/2012/9/28/0/0\" class=\"pn-periodos-periodo\">28/09/2012</a><a href=\"/ranking/semanal/0/2012/9/21/0/0\" class=\"pn-periodos-periodo\">21/09/2012</a><a href=\"/ranking/semanal/0/2012/9/14/0/0\" class=\"pn-periodos-periodo\">14/09/2012</a><a href=\"/ranking/semanal/0/2012/9/7/0/0\" class=\"pn-periodos-periodo\">07/09/2012</a><a href=\"/ranking/semanal/0/2012/8/31/0/0\" class=\"pn-periodos-periodo\">31/08/2012</a><a href=\"/ranking/semanal/0/2012/8/24/0/0\" class=\"pn-periodos-periodo\">24/08/2012</a><a href=\"/ranking/semanal/0/2012/8/17/0/0\" class=\"pn-periodos-periodo\">17/08/2012</a><a href=\"/ranking/semanal/0/2012/8/10/0/0\" class=\"pn-periodos-periodo\">10/08/2012</a><a href=\"/ranking/semanal/0/2012/8/3/0/0\" class=\"pn-periodos-periodo\">03/08/2012</a><a href=\"/ranking/semanal/0/2012/7/27/0/0\" class=\"pn-periodos-periodo\">27/07/2012</a><a href=\"/ranking/semanal/0/2012/7/20/0/0\" class=\"pn-periodos-periodo\">20/07/2012</a><a href=\"/ranking/semanal/0/2012/7/13/0/0\" class=\"pn-periodos-periodo\">13/07/2012</a><a href=\"/ranking/semanal/0/2012/7/6/0/0\" class=\"pn-periodos-periodo\">06/07/2012</a><a href=\"/ranking/semanal/0/2012/6/29/0/0\" class=\"pn-periodos-periodo\">29/06/2012</a><a href=\"/ranking/semanal/0/2012/6/22/0/0\" class=\"pn-periodos-periodo\">22/06/2012</a><a href=\"/ranking/semanal/0/2012/6/15/0/0\" class=\"pn-periodos-periodo\">15/06/2012</a><a href=\"/ranking/semanal/0/2012/6/8/0/0\" class=\"pn-periodos-periodo\">08/06/2012</a><a href=\"/ranking/semanal/0/2012/6/1/0/0\" class=\"pn-periodos-periodo\">01/06/2012</a><a href=\"/ranking/semanal/0/2012/5/25/0/0\" class=\"pn-periodos-periodo\">25/05/2012</a><a href=\"/ranking/semanal/0/2012/5/18/0/0\" class=\"pn-periodos-periodo\">18/05/2012</a><a href=\"/ranking/semanal/0/2012/5/11/0/0\" class=\"pn-periodos-periodo\">11/05/2012</a><a href=\"/ranking/semanal/0/2012/5/4/0/0\" class=\"pn-periodos-periodo\">04/05/2012</a><a href=\"/ranking/semanal/0/2012/4/27/0/0\" class=\"pn-periodos-periodo\">27/04/2012</a><a href=\"/ranking/semanal/0/2012/4/20/0/0\" class=\"pn-periodos-periodo\">20/04/2012</a><a href=\"/ranking/semanal/0/2012/4/13/0/0\" class=\"pn-periodos-periodo\">13/04/2012</a><a href=\"/ranking/semanal/0/2012/4/6/0/0\" class=\"pn-periodos-periodo\">06/04/2012</a><a href=\"/ranking/semanal/0/2012/3/30/0/0\" class=\"pn-periodos-periodo\">30/03/2012</a><a href=\"/ranking/semanal/0/2012/3/23/0/0\" class=\"pn-periodos-periodo\">23/03/2012</a><a href=\"/ranking/semanal/0/2012/3/16/0/0\" class=\"pn-periodos-periodo\">16/03/2012</a><a href=\"/ranking/semanal/0/2012/3/9/0/0\" class=\"pn-periodos-periodo\">09/03/2012</a><a href=\"/ranking/semanal/0/2012/3/2/0/0\" class=\"pn-periodos-periodo\">02/03/2012</a><a href=\"/ranking/semanal/0/2012/2/24/0/0\" class=\"pn-periodos-periodo\">24/02/2012</a><a href=\"/ranking/semanal/0/2012/2/17/0/0\" class=\"pn-periodos-periodo\">17/02/2012</a><a href=\"/ranking/semanal/0/2012/2/10/0/0\" class=\"pn-periodos-periodo\">10/02/2012</a><a href=\"/ranking/semanal/0/2012/2/3/0/0\" class=\"pn-periodos-periodo\">03/02/2012</a><a href=\"/ranking/semanal/0/2012/1/27/0/0\" class=\"pn-periodos-periodo\">27/01/2012</a><a href=\"/ranking/semanal/0/2012/1/20/0/0\" class=\"pn-periodos-periodo\">20/01/2012</a><a href=\"/ranking/semanal/0/2012/1/13/0/0\" class=\"pn-periodos-periodo\">13/01/2012</a><a href=\"/ranking/semanal/0/2012/1/6/0/0\" class=\"pn-periodos-periodo\">06/01/2012</a><a href=\"/ranking/semanal/0/2011/12/30/0/0\" class=\"pn-periodos-periodo\">30/12/2011</a><a href=\"/ranking/semanal/0/2011/12/23/0/0\" class=\"pn-periodos-periodo\">23/12/2011</a><a href=\"/ranking/semanal/0/2011/12/16/0/0\" class=\"pn-periodos-periodo\">16/12/2011</a><a href=\"/ranking/semanal/0/2011/12/9/0/0\" class=\"pn-periodos-periodo\">09/12/2011</a><a href=\"/ranking/semanal/0/2011/12/2/0/0\" class=\"pn-periodos-periodo\">02/12/2011</a><a href=\"/ranking/semanal/0/2011/11/25/0/0\" class=\"pn-periodos-periodo\">25/11/2011</a><a href=\"/ranking/semanal/0/2011/11/18/0/0\" class=\"pn-periodos-periodo\">18/11/2011</a><a href=\"/ranking/semanal/0/2011/11/11/0/0\" class=\"pn-periodos-periodo\">11/11/2011</a><a href=\"/ranking/semanal/0/2011/11/4/0/0\" class=\"pn-periodos-periodo\">04/11/2011</a><a href=\"/ranking/semanal/0/2011/10/28/0/0\" class=\"pn-periodos-periodo\">28/10/2011</a><a href=\"/ranking/semanal/0/2011/10/21/0/0\" class=\"pn-periodos-periodo\">21/10/2011</a><a href=\"/ranking/semanal/0/2011/10/14/0/0\" class=\"pn-periodos-periodo\">14/10/2011</a><a href=\"/ranking/semanal/0/2011/10/7/0/0\" class=\"pn-periodos-periodo\">07/10/2011</a><a href=\"/ranking/semanal/0/2011/9/30/0/0\" class=\"pn-periodos-periodo\">30/09/2011</a><a href=\"/ranking/semanal/0/2011/9/23/0/0\" class=\"pn-periodos-periodo\">23/09/2011</a><a href=\"/ranking/semanal/0/2011/9/16/0/0\" class=\"pn-periodos-periodo\">16/09/2011</a><a href=\"/ranking/semanal/0/2011/9/9/0/0\" class=\"pn-periodos-periodo\">09/09/2011</a><a href=\"/ranking/semanal/0/2011/9/2/0/0\" class=\"pn-periodos-periodo\">02/09/2011</a><a href=\"/ranking/semanal/0/2011/8/26/0/0\" class=\"pn-periodos-periodo\">26/08/2011</a><a href=\"/ranking/semanal/0/2011/8/19/0/0\" class=\"pn-periodos-periodo\">19/08/2011</a><a href=\"/ranking/semanal/0/2011/8/12/0/0\" class=\"pn-periodos-periodo\">12/08/2011</a><a href=\"/ranking/semanal/0/2011/8/5/0/0\" class=\"pn-periodos-periodo\">05/08/2011</a><a href=\"/ranking/semanal/0/2011/7/29/0/0\" class=\"pn-periodos-periodo\">29/07/2011</a><a href=\"/ranking/semanal/0/2011/7/22/0/0\" class=\"pn-periodos-periodo\">22/07/2011</a><a href=\"/ranking/semanal/0/2011/7/15/0/0\" class=\"pn-periodos-periodo\">15/07/2011</a><a href=\"/ranking/semanal/0/2011/7/8/0/0\" class=\"pn-periodos-periodo\">08/07/2011</a><a href=\"/ranking/semanal/0/2011/7/1/0/0\" class=\"pn-periodos-periodo\">01/07/2011</a><a href=\"/ranking/semanal/0/2011/6/24/0/0\" class=\"pn-periodos-periodo\">24/06/2011</a><a href=\"/ranking/semanal/0/2011/6/17/0/0\" class=\"pn-periodos-periodo\">17/06/2011</a><a href=\"/ranking/semanal/0/2011/6/10/0/0\" class=\"pn-periodos-periodo\">10/06/2011</a><a href=\"/ranking/semanal/0/2011/6/3/0/0\" class=\"pn-periodos-periodo\">03/06/2011</a><a href=\"/ranking/semanal/0/2011/5/27/0/0\" class=\"pn-periodos-periodo\">27/05/2011</a><a href=\"/ranking/semanal/0/2011/5/20/0/0\" class=\"pn-periodos-periodo\">20/05/2011</a><a href=\"/ranking/semanal/0/2011/5/13/0/0\" class=\"pn-periodos-periodo\">13/05/2011</a><a href=\"/ranking/semanal/0/2011/5/6/0/0\" class=\"pn-periodos-periodo\">06/05/2011</a><a href=\"/ranking/semanal/0/2011/4/29/0/0\" class=\"pn-periodos-periodo\">29/04/2011</a><a href=\"/ranking/semanal/0/2011/4/22/0/0\" class=\"pn-periodos-periodo\">22/04/2011</a><a href=\"/ranking/semanal/0/2011/4/15/0/0\" class=\"pn-periodos-periodo\">15/04/2011</a><a href=\"/ranking/semanal/0/2011/4/8/0/0\" class=\"pn-periodos-periodo\">08/04/2011</a><a href=\"/ranking/semanal/0/2011/4/1/0/0\" class=\"pn-periodos-periodo\">01/04/2011</a><a href=\"/ranking/semanal/0/2011/3/25/0/0\" class=\"pn-periodos-periodo\">25/03/2011</a><a href=\"/ranking/semanal/0/2011/3/18/0/0\" class=\"pn-periodos-periodo\">18/03/2011</a><a href=\"/ranking/semanal/0/2011/3/11/0/0\" class=\"pn-periodos-periodo\">11/03/2011</a><a href=\"/ranking/semanal/0/2011/3/4/0/0\" class=\"pn-periodos-periodo\">04/03/2011</a><a href=\"/ranking/semanal/0/2011/2/25/0/0\" class=\"pn-periodos-periodo\">25/02/2011</a><a href=\"/ranking/semanal/0/2011/2/18/0/0\" class=\"pn-periodos-periodo\">18/02/2011</a><a href=\"/ranking/semanal/0/2011/2/11/0/0\" class=\"pn-periodos-periodo\">11/02/2011</a><a href=\"/ranking/semanal/0/2011/2/4/0/0\" class=\"pn-periodos-periodo\">04/02/2011</a><a href=\"/ranking/semanal/0/2011/1/28/0/0\" class=\"pn-periodos-periodo\">28/01/2011</a><a href=\"/ranking/semanal/0/2011/1/21/0/0\" class=\"pn-periodos-periodo\">21/01/2011</a><a href=\"/ranking/semanal/0/2011/1/14/0/0\" class=\"pn-periodos-periodo\">14/01/2011</a><a href=\"/ranking/semanal/0/2011/1/7/0/0\" class=\"pn-periodos-periodo\">07/01/2011</a><a href=\"/ranking/semanal/0/2010/12/31/0/0\" class=\"pn-periodos-periodo\">31/12/2010</a><a href=\"/ranking/semanal/0/2010/12/24/0/0\" class=\"pn-periodos-periodo\">24/12/2010</a><a href=\"/ranking/semanal/0/2010/12/17/0/0\" class=\"pn-periodos-periodo\">17/12/2010</a><a href=\"/ranking/semanal/0/2010/12/10/0/0\" class=\"pn-periodos-periodo\">10/12/2010</a><a href=\"/ranking/semanal/0/2010/12/3/0/0\" class=\"pn-periodos-periodo\">03/12/2010</a><a href=\"/ranking/semanal/0/2010/11/26/0/0\" class=\"pn-periodos-periodo\">26/11/2010</a><a href=\"/ranking/semanal/0/2010/11/19/0/0\" class=\"pn-periodos-periodo\">19/11/2010</a><a href=\"/ranking/semanal/0/2010/11/12/0/0\" class=\"pn-periodos-periodo\">12/11/2010</a><a href=\"/ranking/semanal/0/2010/11/5/0/0\" class=\"pn-periodos-periodo\">05/11/2010</a><a href=\"/ranking/semanal/0/2010/10/29/0/0\" class=\"pn-periodos-periodo\">29/10/2010</a><a href=\"/ranking/semanal/0/2010/10/22/0/0\" class=\"pn-periodos-periodo\">22/10/2010</a><a href=\"/ranking/semanal/0/2010/10/15/0/0\" class=\"pn-periodos-periodo\">15/10/2010</a><a href=\"/ranking/semanal/0/2010/10/8/0/0\" class=\"pn-periodos-periodo\">08/10/2010</a><a href=\"/ranking/semanal/0/2010/10/1/0/0\" class=\"pn-periodos-periodo\">01/10/2010</a><a href=\"/ranking/semanal/0/2010/9/24/0/0\" class=\"pn-periodos-periodo\">24/09/2010</a><a href=\"/ranking/semanal/0/2010/9/17/0/0\" class=\"pn-periodos-periodo\">17/09/2010</a><a href=\"/ranking/semanal/0/2010/9/10/0/0\" class=\"pn-periodos-periodo\">10/09/2010</a>\\t\\t\\t\\t\\t\\t\\t</div>\\n\\t\\t\\t\\t\\t\\t</div>\\n\\t\\t\\t\\t\\t\\t<div id=\"pn-selecao-mensal\" class=\"pn-periodos clearfix\" style=\"display:none;\">\\n\\t\\t\\t\\t\\t\\t\\t<div class=\"pn-periodos-corpo clearfix\">\\n\\t\\t\\t\\t\\t\\t\\t<a href=\"/ranking/mensal/0/2021/9/0/0\" class=\"pn-periodos-periodo\">09/2021</a><a href=\"/ranking/mensal/0/2021/8/0/0\" class=\"pn-periodos-periodo\">08/2021</a><a href=\"/ranking/mensal/0/2021/7/0/0\" class=\"pn-periodos-periodo\">07/2021</a><a href=\"/ranking/mensal/0/2021/6/0/0\" class=\"pn-periodos-periodo\">06/2021</a><a href=\"/ranking/mensal/0/2021/5/0/0\" class=\"pn-periodos-periodo\">05/2021</a><a href=\"/ranking/mensal/0/2021/4/0/0\" class=\"pn-periodos-periodo\">04/2021</a><a href=\"/ranking/mensal/0/2021/3/0/0\" class=\"pn-periodos-periodo\">03/2021</a><a href=\"/ranking/mensal/0/2021/2/0/0\" class=\"pn-periodos-periodo\">02/2021</a><a href=\"/ranking/mensal/0/2021/1/0/0\" class=\"pn-periodos-periodo\">01/2021</a><a href=\"/ranking/mensal/0/2020/12/0/0\" class=\"pn-periodos-periodo\">12/2020</a><a href=\"/ranking/mensal/0/2020/11/0/0\" class=\"pn-periodos-periodo\">11/2020</a><a href=\"/ranking/mensal/0/2020/10/0/0\" class=\"pn-periodos-periodo\">10/2020</a><a href=\"/ranking/mensal/0/2020/9/0/0\" class=\"pn-periodos-periodo\">09/2020</a><a href=\"/ranking/mensal/0/2020/8/0/0\" class=\"pn-periodos-periodo\">08/2020</a><a href=\"/ranking/mensal/0/2020/7/0/0\" class=\"pn-periodos-periodo\">07/2020</a><a href=\"/ranking/mensal/0/2020/6/0/0\" class=\"pn-periodos-periodo\">06/2020</a><a href=\"/ranking/mensal/0/2020/5/0/0\" class=\"pn-periodos-periodo\">05/2020</a><a href=\"/ranking/mensal/0/2020/4/0/0\" class=\"pn-periodos-periodo\">04/2020</a><a href=\"/ranking/mensal/0/2020/3/0/0\" class=\"pn-periodos-periodo\">03/2020</a><a href=\"/ranking/mensal/0/2020/2/0/0\" class=\"pn-periodos-periodo\">02/2020</a><a href=\"/ranking/mensal/0/2020/1/0/0\" class=\"pn-periodos-periodo\">01/2020</a><a href=\"/ranking/mensal/0/2019/12/0/0\" class=\"pn-periodos-periodo\">12/2019</a><a href=\"/ranking/mensal/0/2019/11/0/0\" class=\"pn-periodos-periodo\">11/2019</a><a href=\"/ranking/mensal/0/2019/10/0/0\" class=\"pn-periodos-periodo\">10/2019</a><a href=\"/ranking/mensal/0/2019/9/0/0\" class=\"pn-periodos-periodo\">09/2019</a><a href=\"/ranking/mensal/0/2019/8/0/0\" class=\"pn-periodos-periodo\">08/2019</a><a href=\"/ranking/mensal/0/2019/7/0/0\" class=\"pn-periodos-periodo\">07/2019</a><a href=\"/ranking/mensal/0/2019/6/0/0\" class=\"pn-periodos-periodo\">06/2019</a><a href=\"/ranking/mensal/0/2019/5/0/0\" class=\"pn-periodos-periodo\">05/2019</a><a href=\"/ranking/mensal/0/2019/4/0/0\" class=\"pn-periodos-periodo\">04/2019</a><a href=\"/ranking/mensal/0/2019/3/0/0\" class=\"pn-periodos-periodo\">03/2019</a><a href=\"/ranking/mensal/0/2019/2/0/0\" class=\"pn-periodos-periodo\">02/2019</a><a href=\"/ranking/mensal/0/2019/1/0/0\" class=\"pn-periodos-periodo\">01/2019</a><a href=\"/ranking/mensal/0/2018/12/0/0\" class=\"pn-periodos-periodo\">12/2018</a><a href=\"/ranking/mensal/0/2018/11/0/0\" class=\"pn-periodos-periodo\">11/2018</a><a href=\"/ranking/mensal/0/2018/10/0/0\" class=\"pn-periodos-periodo\">10/2018</a><a href=\"/ranking/mensal/0/2018/9/0/0\" class=\"pn-periodos-periodo\">09/2018</a><a href=\"/ranking/mensal/0/2018/8/0/0\" class=\"pn-periodos-periodo\">08/2018</a><a href=\"/ranking/mensal/0/2018/7/0/0\" class=\"pn-periodos-periodo\">07/2018</a><a href=\"/ranking/mensal/0/2018/6/0/0\" class=\"pn-periodos-periodo\">06/2018</a><a href=\"/ranking/mensal/0/2018/5/0/0\" class=\"pn-periodos-periodo\">05/2018</a><a href=\"/ranking/mensal/0/2018/4/0/0\" class=\"pn-periodos-periodo\">04/2018</a><a href=\"/ranking/mensal/0/2018/3/0/0\" class=\"pn-periodos-periodo\">03/2018</a><a href=\"/ranking/mensal/0/2018/2/0/0\" class=\"pn-periodos-periodo\">02/2018</a><a href=\"/ranking/mensal/0/2018/1/0/0\" class=\"pn-periodos-periodo\">01/2018</a><a href=\"/ranking/mensal/0/2017/12/0/0\" class=\"pn-periodos-periodo\">12/2017</a><a href=\"/ranking/mensal/0/2017/11/0/0\" class=\"pn-periodos-periodo\">11/2017</a><a href=\"/ranking/mensal/0/2017/10/0/0\" class=\"pn-periodos-periodo\">10/2017</a><a href=\"/ranking/mensal/0/2017/9/0/0\" class=\"pn-periodos-periodo\">09/2017</a><a href=\"/ranking/mensal/0/2017/8/0/0\" class=\"pn-periodos-periodo\">08/2017</a><a href=\"/ranking/mensal/0/2017/7/0/0\" class=\"pn-periodos-periodo\">07/2017</a><a href=\"/ranking/mensal/0/2017/6/0/0\" class=\"pn-periodos-periodo\">06/2017</a><a href=\"/ranking/mensal/0/2017/5/0/0\" class=\"pn-periodos-periodo\">05/2017</a><a href=\"/ranking/mensal/0/2017/4/0/0\" class=\"pn-periodos-periodo\">04/2017</a><a href=\"/ranking/mensal/0/2017/3/0/0\" class=\"pn-periodos-periodo\">03/2017</a><a href=\"/ranking/mensal/0/2017/2/0/0\" class=\"pn-periodos-periodo\">02/2017</a><a href=\"/ranking/mensal/0/2017/1/0/0\" class=\"pn-periodos-periodo\">01/2017</a><a href=\"/ranking/mensal/0/2016/12/0/0\" class=\"pn-periodos-periodo\">12/2016</a><a href=\"/ranking/mensal/0/2016/11/0/0\" class=\"pn-periodos-periodo\">11/2016</a><a href=\"/ranking/mensal/0/2016/10/0/0\" class=\"pn-periodos-periodo\">10/2016</a><a href=\"/ranking/mensal/0/2016/9/0/0\" class=\"pn-periodos-periodo\">09/2016</a><a href=\"/ranking/mensal/0/2016/8/0/0\" class=\"pn-periodos-periodo\">08/2016</a><a href=\"/ranking/mensal/0/2016/7/0/0\" class=\"pn-periodos-periodo\">07/2016</a><a href=\"/ranking/mensal/0/2016/6/0/0\" class=\"pn-periodos-periodo\">06/2016</a><a href=\"/ranking/mensal/0/2016/5/0/0\" class=\"pn-periodos-periodo\">05/2016</a><a href=\"/ranking/mensal/0/2016/4/0/0\" class=\"pn-periodos-periodo\">04/2016</a><a href=\"/ranking/mensal/0/2016/3/0/0\" class=\"pn-periodos-periodo\">03/2016</a><a href=\"/ranking/mensal/0/2016/2/0/0\" class=\"pn-periodos-periodo\">02/2016</a><a href=\"/ranking/mensal/0/2016/1/0/0\" class=\"pn-periodos-periodo\">01/2016</a><a href=\"/ranking/mensal/0/2015/12/0/0\" class=\"pn-periodos-periodo\">12/2015</a><a href=\"/ranking/mensal/0/2015/11/0/0\" class=\"pn-periodos-periodo\">11/2015</a><a href=\"/ranking/mensal/0/2015/10/0/0\" class=\"pn-periodos-periodo\">10/2015</a><a href=\"/ranking/mensal/0/2015/9/0/0\" class=\"pn-periodos-periodo\">09/2015</a><a href=\"/ranking/mensal/0/2015/8/0/0\" class=\"pn-periodos-periodo\">08/2015</a><a href=\"/ranking/mensal/0/2015/7/0/0\" class=\"pn-periodos-periodo\">07/2015</a><a href=\"/ranking/mensal/0/2015/6/0/0\" class=\"pn-periodos-periodo\">06/2015</a><a href=\"/ranking/mensal/0/2015/5/0/0\" class=\"pn-periodos-periodo\">05/2015</a><a href=\"/ranking/mensal/0/2015/4/0/0\" class=\"pn-periodos-periodo\">04/2015</a><a href=\"/ranking/mensal/0/2015/3/0/0\" class=\"pn-periodos-periodo\">03/2015</a><a href=\"/ranking/mensal/0/2015/2/0/0\" class=\"pn-periodos-periodo\">02/2015</a><a href=\"/ranking/mensal/0/2015/1/0/0\" class=\"pn-periodos-periodo\">01/2015</a><a href=\"/ranking/mensal/0/2014/12/0/0\" class=\"pn-periodos-periodo\">12/2014</a><a href=\"/ranking/mensal/0/2014/11/0/0\" class=\"pn-periodos-periodo\">11/2014</a><a href=\"/ranking/mensal/0/2014/10/0/0\" class=\"pn-periodos-periodo\">10/2014</a><a href=\"/ranking/mensal/0/2014/9/0/0\" class=\"pn-periodos-periodo\">09/2014</a><a href=\"/ranking/mensal/0/2014/8/0/0\" class=\"pn-periodos-periodo\">08/2014</a><a href=\"/ranking/mensal/0/2014/7/0/0\" class=\"pn-periodos-periodo\">07/2014</a><a href=\"/ranking/mensal/0/2014/6/0/0\" class=\"pn-periodos-periodo\">06/2014</a><a href=\"/ranking/mensal/0/2014/5/0/0\" class=\"pn-periodos-periodo\">05/2014</a><a href=\"/ranking/mensal/0/2014/4/0/0\" class=\"pn-periodos-periodo\">04/2014</a><a href=\"/ranking/mensal/0/2014/3/0/0\" class=\"pn-periodos-periodo\">03/2014</a><a href=\"/ranking/mensal/0/2014/2/0/0\" class=\"pn-periodos-periodo\">02/2014</a><a href=\"/ranking/mensal/0/2014/1/0/0\" class=\"pn-periodos-periodo\">01/2014</a><a href=\"/ranking/mensal/0/2013/12/0/0\" class=\"pn-periodos-periodo\">12/2013</a><a href=\"/ranking/mensal/0/2013/11/0/0\" class=\"pn-periodos-periodo\">11/2013</a><a href=\"/ranking/mensal/0/2013/10/0/0\" class=\"pn-periodos-periodo\">10/2013</a><a href=\"/ranking/mensal/0/2013/9/0/0\" class=\"pn-periodos-periodo\">09/2013</a><a href=\"/ranking/mensal/0/2013/8/0/0\" class=\"pn-periodos-periodo\">08/2013</a><a href=\"/ranking/mensal/0/2013/7/0/0\" class=\"pn-periodos-periodo\">07/2013</a><a href=\"/ranking/mensal/0/2013/6/0/0\" class=\"pn-periodos-periodo\">06/2013</a><a href=\"/ranking/mensal/0/2013/5/0/0\" class=\"pn-periodos-periodo\">05/2013</a><a href=\"/ranking/mensal/0/2013/4/0/0\" class=\"pn-periodos-periodo\">04/2013</a><a href=\"/ranking/mensal/0/2013/3/0/0\" class=\"pn-periodos-periodo\">03/2013</a><a href=\"/ranking/mensal/0/2013/2/0/0\" class=\"pn-periodos-periodo\">02/2013</a><a href=\"/ranking/mensal/0/2013/1/0/0\" class=\"pn-periodos-periodo\">01/2013</a><a href=\"/ranking/mensal/0/2012/12/0/0\" class=\"pn-periodos-periodo\">12/2012</a><a href=\"/ranking/mensal/0/2012/11/0/0\" class=\"pn-periodos-periodo\">11/2012</a><a href=\"/ranking/mensal/0/2012/10/0/0\" class=\"pn-periodos-periodo\">10/2012</a><a href=\"/ranking/mensal/0/2012/9/0/0\" class=\"pn-periodos-periodo\">09/2012</a><a href=\"/ranking/mensal/0/2012/8/0/0\" class=\"pn-periodos-periodo\">08/2012</a><a href=\"/ranking/mensal/0/2012/7/0/0\" class=\"pn-periodos-periodo\">07/2012</a><a href=\"/ranking/mensal/0/2012/6/0/0\" class=\"pn-periodos-periodo\">06/2012</a><a href=\"/ranking/mensal/0/2012/5/0/0\" class=\"pn-periodos-periodo\">05/2012</a><a href=\"/ranking/mensal/0/2012/4/0/0\" class=\"pn-periodos-periodo\">04/2012</a><a href=\"/ranking/mensal/0/2012/3/0/0\" class=\"pn-periodos-periodo\">03/2012</a><a href=\"/ranking/mensal/0/2012/2/0/0\" class=\"pn-periodos-periodo\">02/2012</a><a href=\"/ranking/mensal/0/2012/1/0/0\" class=\"pn-periodos-periodo\">01/2012</a><a href=\"/ranking/mensal/0/2011/12/0/0\" class=\"pn-periodos-periodo\">12/2011</a><a href=\"/ranking/mensal/0/2011/11/0/0\" class=\"pn-periodos-periodo\">11/2011</a><a href=\"/ranking/mensal/0/2011/10/0/0\" class=\"pn-periodos-periodo\">10/2011</a><a href=\"/ranking/mensal/0/2011/9/0/0\" class=\"pn-periodos-periodo\">09/2011</a><a href=\"/ranking/mensal/0/2011/8/0/0\" class=\"pn-periodos-periodo\">08/2011</a><a href=\"/ranking/mensal/0/2011/7/0/0\" class=\"pn-periodos-periodo\">07/2011</a><a href=\"/ranking/mensal/0/2011/6/0/0\" class=\"pn-periodos-periodo\">06/2011</a><a href=\"/ranking/mensal/0/2011/5/0/0\" class=\"pn-periodos-periodo\">05/2011</a><a href=\"/ranking/mensal/0/2011/4/0/0\" class=\"pn-periodos-periodo\">04/2011</a><a href=\"/ranking/mensal/0/2011/3/0/0\" class=\"pn-periodos-periodo\">03/2011</a><a href=\"/ranking/mensal/0/2011/2/0/0\" class=\"pn-periodos-periodo\">02/2011</a><a href=\"/ranking/mensal/0/2011/1/0/0\" class=\"pn-periodos-periodo\">01/2011</a><a href=\"/ranking/mensal/0/2010/12/0/0\" class=\"pn-periodos-periodo\">12/2010</a><a href=\"/ranking/mensal/0/2010/11/0/0\" class=\"pn-periodos-periodo\">11/2010</a><a href=\"/ranking/mensal/0/2010/10/0/0\" class=\"pn-periodos-periodo\">10/2010</a><a href=\"/ranking/mensal/0/2010/9/0/0\" class=\"pn-periodos-periodo\">09/2010</a>\\t\\t\\t\\t\\t\\t\\t</div>\\n\\t\\t\\t\\t\\t\\t</div>\\n\\t\\t\\t\\t\\t\\t<div id=\"pn-selecao-anual\" class=\"pn-periodos clearfix\" style=\"display:none;\">\\n\\t\\t\\t\\t\\t\\t\\t<div class=\"pn-periodos-corpo clearfix\">\\n\\t\\t\\t\\t\\t\\t\\t<a href=\"/ranking/anual/0/2022/0/0\" class=\"pn-periodos-periodo\">2022</a><a href=\"/ranking/anual/0/2021/0/0\" class=\"pn-periodos-periodo\">2021</a><a href=\"/ranking/anual/0/2020/0/0\" class=\"pn-periodos-periodo-ativo\">2020</a><a href=\"/ranking/anual/0/2019/0/0\" class=\"pn-periodos-periodo\">2019</a><a href=\"/ranking/anual/0/2018/0/0\" class=\"pn-periodos-periodo\">2018</a><a href=\"/ranking/anual/0/2017/0/0\" class=\"pn-periodos-periodo\">2017</a><a href=\"/ranking/anual/0/2016/0/0\" class=\"pn-periodos-periodo\">2016</a><a href=\"/ranking/anual/0/2015/0/0\" class=\"pn-periodos-periodo\">2015</a><a href=\"/ranking/anual/0/2014/0/0\" class=\"pn-periodos-periodo\">2014</a><a href=\"/ranking/anual/0/2013/0/0\" class=\"pn-periodos-periodo\">2013</a><a href=\"/ranking/anual/0/2012/0/0\" class=\"pn-periodos-periodo\">2012</a><a href=\"/ranking/anual/0/2011/0/0\" class=\"pn-periodos-periodo\">2011</a><a href=\"/ranking/anual/0/2010/0/0\" class=\"pn-periodos-periodo\">2010</a>\\t\\t\\t\\t\\t\\t\\t</div>\\n\\t\\t\\t\\t\\t\\t</div>\\n\\t\\t\\t\\t\\t</div>\\n\\t\\t\\t\\t</div>\\n\\t\\t\\t\\t<div class=\"pn-colunas-04x07\">\\n\\t\\t\\t\\t\\t<div class=\"pn-colunas-corpo clearfix\">\\n\\t\\t\\t\\t\\t\\t<div class=\"pn-subeditoria clearfix\">\\n\\t\\t\\t\\t\\t\\t\\t<div class=\"pn-subeditoria-cabeca clearfix\">\\n\\t\\t\\t\\t\\t\\t\\t\\t<div class=\"pn-subeditoria-titulo\">Livros</div>\\n\\t\\t\\t\\t\\t\\t\\t</div>\\n\\t\\t\\t\\t\\t\\t</div>\\n\\t\\t\\t\\t\\t\\t<div class=\"pn-ranking-livros clearfix\">\\n\\t\\t\\t\\t\\t\\t\\t<div class=\"pn-ranking-livros-corpo clearfix\">\\n\\t\\t\\t\\t\\t\\t\\t\\t\\n\\n<script>\\n\\t\\tconsole.log(\\'SELECT SUM(tb1.venda_volume) AS volume,tb1.livro_id AS id FROM tb_mercado_vendas AS tb1 WHERE 1 AND tb1.venda_data>=1577847600 AND tb1.venda_data<=1609469999 AND tb1.venda_publicada<=>1 GROUP BY tb1.livro_id HAVING volume>=31660 ORDER BY volume DESC LIMIT 9999\\')\\n\\t</script>\\t<div class=\"pn-ranking-livros-posicao clearfix\">\\n\\t\\t<div class=\"pn-ranking-livros-posicao-numero\">1</div>\\n\\t\\t<div class=\"pn-ranking-livros-posicao-volume\">113.041</div>\\n\\t\\t<div class=\"pn-ranking-livros-posicao-corpo clearfix\">\\n\\t\\t\\t\\t\\t<div class=\"pn-ranking-livro clearfix\">\\n\\t\\t\\t\\t<div class=\"pn-ranking-livro-dados\">\\n\\t\\t\\t\\t\\t\\t\\t\\t\\t\\t<div class=\"pn-ranking-livro-capa\"><img src=\"https://www.publishnews.com.br/estaticos/uploads/2021/07/Vgzr5F4Gh4Y0HTGeYaoSimsdVz8uJPebAWx397qktmYwr00d2YDOElgtMJ9QoFAT9LtGKTA3keBzzTDd.jpg\" border=\"0\" alt=\"\" /></div>\\n\\t\\t\\t\\t\\t\\t\\t\\t\\t\\t<div class=\"pn-ranking-livro-nome\">Mais esperto que o diabo</div>\\n\\t\\t\\t\\t\\t<div class=\"pn-ranking-livro-autor\">Napoleon Hill</div>\\n\\t\\t\\t\\t\\t<div class=\"pn-ranking-livro-editora\">Citadel</div>\\n\\t\\t\\t\\t</div>\\n\\t\\t\\t\\t<div class=\"pn-ranking-livro-extras\" style=\"display:none;\">\\n\\t\\t\\t\\t\\t\\t\\t\\t\\t\\t<div class=\"pn-ranking-livro-resumo\"><p>Escrito em 1938, após uma das maiores crises econômicas, e precedendo a Segunda Guerra Mundial, este livro não somente é uma fonte de inspiração e coragem, mas deve ser considerado um manual para todas aquelas pessoas que desejam ser mais espertas que seus medos, problemas e limitações, pois, como o próprio Hill fala - em toda adversidade existe uma semente de benefício equivalente. </p></div>\\n\\t\\t\\t\\t\\t\\t\\t\\t\\t\\t\\t\\t\\t\\t\\t\\t\\t\\t\\t\\t<div class=\"pn-ranking-livro-isbn\">ISBN <strong>978-85-68014-00-4</strong></div>\\n\\t\\t\\t\\t\\t\\t\\t\\t\\t\\t<div class=\"pn-ranking-livro-categoria\">Categoria <strong>Autoajuda</strong></div>\\n\\t\\t\\t\\t\\t\\t\\t\\t\\t\\t<!-- Removido após a solicitação na Tarefa #24 (19/11/2019 20:08), solicitante: Mari Xavier -->\\n\\t\\t\\t\\t\\t<!--<div class=\"pn-ranking-livro-preco\">Preço <strong>R$ </strong></div> -->\\n\\t\\t\\t\\t\\t<div class=\"pn-ranking-livro-paginas\">Páginas <strong>200</strong></div>\\n\\t\\t\\t\\t</div>\\n\\t\\t\\t</div>\\n\\t\\t\\t\\t</div>\\n\\t</div>\\n\\t<div class=\"pn-ranking-livros-posicao clearfix\">\\n\\t\\t<div class=\"pn-ranking-livros-posicao-numero\">2</div>\\n\\t\\t<div class=\"pn-ranking-livros-posicao-volume\">104.649</div>\\n\\t\\t<div class=\"pn-ranking-livros-posicao-corpo clearfix\">\\n\\t\\t\\t\\t\\t<div class=\"pn-ranking-livro clearfix\">\\n\\t\\t\\t\\t<div class=\"pn-ranking-livro-dados\">\\n\\t\\t\\t\\t\\t\\t\\t\\t\\t\\t<div class=\"pn-ranking-livro-capa\"><img src=\"https://www.publishnews.com.br/estaticos/uploads/2017/11/jP6T6kjLLbNOzMJTDuDlFOhovDSzHZUtxHb7PCzHRmA2AnysA7y8PnS031mhbJcl9c1JRa8T2Z8NjQFA.jpg\" border=\"0\" alt=\"\" /></div>\\n\\t\\t\\t\\t\\t\\t\\t\\t\\t\\t<div class=\"pn-ranking-livro-nome\">A sutil arte de ligar o foda-se</div>\\n\\t\\t\\t\\t\\t<div class=\"pn-ranking-livro-autor\">Mark Manson</div>\\n\\t\\t\\t\\t\\t<div class=\"pn-ranking-livro-editora\">Intrínseca</div>\\n\\t\\t\\t\\t</div>\\n\\t\\t\\t\\t<div class=\"pn-ranking-livro-extras\" style=\"display:none;\">\\n\\t\\t\\t\\t\\t\\t\\t\\t\\t\\t<div class=\"pn-ranking-livro-resumo\"><p>Mark Manson usa toda a sua sagacidade de escritor e seu olhar crítico para propor um novo caminho rumo a uma vida melhor, mais coerente com a realidade e consciente dos nossos limites. E ele faz isso da melhor maneira. Como um verdadeiro amigo, Mark se senta ao seu lado e diz, olhando nos seus olhos: você não é tão especial. Ele conta umas piadas aqui, dá uns exemplos inusitados ali, joga umas verdades na sua cara e pronto, você já se sente muito mais alerta e capaz de enfrentar esse mundo cão.</p></div>\\n\\t\\t\\t\\t\\t\\t\\t\\t\\t\\t\\t\\t\\t\\t\\t<div class=\"pn-ranking-livro-tradutor\">Tradução <strong>Joana Faro</strong></div>\\n\\t\\t\\t\\t\\t\\t\\t\\t\\t\\t\\t\\t\\t\\t\\t<div class=\"pn-ranking-livro-isbn\">ISBN <strong>978-85-51002-49-0</strong></div>\\n\\t\\t\\t\\t\\t\\t\\t\\t\\t\\t<div class=\"pn-ranking-livro-categoria\">Categoria <strong>Autoajuda</strong></div>\\n\\t\\t\\t\\t\\t\\t\\t\\t\\t\\t<!-- Removido após a solicitação na Tarefa #24 (19/11/2019 20:08), solicitante: Mari Xavier -->\\n\\t\\t\\t\\t\\t<!--<div class=\"pn-ranking-livro-preco\">Preço <strong>R$ </strong></div> -->\\n\\t\\t\\t\\t\\t<div class=\"pn-ranking-livro-paginas\">Páginas <strong>224</strong></div>\\n\\t\\t\\t\\t</div>\\n\\t\\t\\t</div>\\n\\t\\t\\t\\t</div>\\n\\t</div>\\n\\t<div class=\"pn-ranking-livros-posicao clearfix\">\\n\\t\\t<div class=\"pn-ranking-livros-posicao-numero\">3</div>\\n\\t\\t<div class=\"pn-ranking-livros-posicao-volume\">77.862</div>\\n\\t\\t<div class=\"pn-ranking-livros-posicao-corpo clearfix\">\\n\\t\\t\\t\\t\\t<div class=\"pn-ranking-livro clearfix\">\\n\\t\\t\\t\\t<div class=\"pn-ranking-livro-dados\">\\n\\t\\t\\t\\t\\t\\t\\t\\t\\t\\t<div class=\"pn-ranking-livro-capa\"><img src=\"https://www.publishnews.com.br/estaticos/uploads/2018/12/r45liYDuqOHQRJlKyhGi8KtfeXhwsr60hzkrN1xIHmnI8hyJUJfziDKooYi22JQfFTdopHRumlqknJIq.jpg\" border=\"0\" alt=\"\" /></div>\\n\\t\\t\\t\\t\\t\\t\\t\\t\\t\\t<div class=\"pn-ranking-livro-nome\">Do mil ao milhão<img src=\"/estaticos/arquivos/icone_16x12_bandeira_brasil.png\" width=\"16\" height=\"12\" border=\"0\" style=\"margin-left:10px;\" /></div>\\n\\t\\t\\t\\t\\t<div class=\"pn-ranking-livro-autor\">Thiago Nigro</div>\\n\\t\\t\\t\\t\\t<div class=\"pn-ranking-livro-editora\">HarperCollins</div>\\n\\t\\t\\t\\t</div>\\n\\t\\t\\t\\t<div class=\"pn-ranking-livro-extras\" style=\"display:none;\">\\n\\t\\t\\t\\t\\t\\t\\t\\t\\t\\t<div class=\"pn-ranking-livro-resumo\"><p><span class=\"txtDescricao\">Em seu primeiro livro, Thiago Nigro, criador da plataforma O Primo Rico, ensina aos leitores os três pilares para atingir a independência financeira: gastar bem, investir melhor e ganhar mais. Por meio de dados e de sua própria experiência como investidor e assessor, Nigro mostra que a riqueza é possível para todos – basta estar disposto a aprender e se dedicar.</span></p></div>\\n\\t\\t\\t\\t\\t\\t\\t\\t\\t\\t\\t\\t\\t\\t\\t\\t\\t\\t\\t\\t<div class=\"pn-ranking-livro-isbn\">ISBN <strong>978-85-95083-27-1</strong></div>\\n\\t\\t\\t\\t\\t\\t\\t\\t\\t\\t<div class=\"pn-ranking-livro-categoria\">Categoria <strong>Negócios</strong></div>\\n\\t\\t\\t\\t\\t\\t\\t\\t\\t\\t<!-- Removido após a solicitação na Tarefa #24 (19/11/2019 20:08), solicitante: Mari Xavier -->\\n\\t\\t\\t\\t\\t<!--<div class=\"pn-ranking-livro-preco\">Preço <strong>R$ </strong></div> -->\\n\\t\\t\\t\\t\\t<div class=\"pn-ranking-livro-paginas\">Páginas <strong>192</strong></div>\\n\\t\\t\\t\\t</div>\\n\\t\\t\\t</div>\\n\\t\\t\\t\\t</div>\\n\\t</div>\\n\\t<div class=\"pn-ranking-livros-posicao clearfix\">\\n\\t\\t<div class=\"pn-ranking-livros-posicao-numero\">4</div>\\n\\t\\t<div class=\"pn-ranking-livros-posicao-volume\">62.235</div>\\n\\t\\t<div class=\"pn-ranking-livros-posicao-corpo clearfix\">\\n\\t\\t\\t\\t\\t<div class=\"pn-ranking-livro clearfix\">\\n\\t\\t\\t\\t<div class=\"pn-ranking-livro-dados\">\\n\\t\\t\\t\\t\\t\\t\\t\\t\\t\\t<div class=\"pn-ranking-livro-capa\"><img src=\"https://www.publishnews.com.br/estaticos/uploads/2018/02/A3toxUAg57K2dnqZ4yaxgV8QSRulhgPyNuYHFzaNXfcOFLYtqsy3qFnYAWN84mOubxsw7RqP7hglyrjr.jpg\" border=\"0\" alt=\"\" /></div>\\n\\t\\t\\t\\t\\t\\t\\t\\t\\t\\t<div class=\"pn-ranking-livro-nome\">O milagre da manhã</div>\\n\\t\\t\\t\\t\\t<div class=\"pn-ranking-livro-autor\">Hal Elrod</div>\\n\\t\\t\\t\\t\\t<div class=\"pn-ranking-livro-editora\">BestSeller</div>\\n\\t\\t\\t\\t</div>\\n\\t\\t\\t\\t<div class=\"pn-ranking-livro-extras\" style=\"display:none;\">\\n\\t\\t\\t\\t\\t\\t\\t\\t\\t\\t<div class=\"pn-ranking-livro-resumo\"><p>Hal Elrod explica os benefícios de acordar cedo e desenvolver todo o nosso potencial e as nossas habilidades. O Milagre da manhã permite que o leitor alcance níveis de sucesso jamais imaginados, tanto na vida pessoal quanto profissional. A Mudança de hábitos e a nova rotina matinal proposta por Hal vai proporcionar melhorias significativas na saúde, na felicidade, nos relacionamentos, nas finanças, na espiritualidade ou quaisquer outras áreas que necessitem ser aprimoradas.</p></div>\\n\\t\\t\\t\\t\\t\\t\\t\\t\\t\\t\\t\\t\\t\\t\\t<div class=\"pn-ranking-livro-tradutor\">Tradução <strong>Marcelo Schild</strong></div>\\n\\t\\t\\t\\t\\t\\t\\t\\t\\t\\t\\t\\t\\t\\t\\t<div class=\"pn-ranking-livro-isbn\">ISBN <strong>978-85-76849-94-0</strong></div>\\n\\t\\t\\t\\t\\t\\t\\t\\t\\t\\t<div class=\"pn-ranking-livro-categoria\">Categoria <strong>Autoajuda</strong></div>\\n\\t\\t\\t\\t\\t\\t\\t\\t\\t\\t<!-- Removido após a solicitação na Tarefa #24 (19/11/2019 20:08), solicitante: Mari Xavier -->\\n\\t\\t\\t\\t\\t<!--<div class=\"pn-ranking-livro-preco\">Preço <strong>R$ </strong></div> -->\\n\\t\\t\\t\\t\\t<div class=\"pn-ranking-livro-paginas\">Páginas <strong>196</strong></div>\\n\\t\\t\\t\\t</div>\\n\\t\\t\\t</div>\\n\\t\\t\\t\\t</div>\\n\\t</div>\\n\\t<div class=\"pn-ranking-livros-posicao clearfix\">\\n\\t\\t<div class=\"pn-ranking-livros-posicao-numero\">5</div>\\n\\t\\t<div class=\"pn-ranking-livros-posicao-volume\">55.124</div>\\n\\t\\t<div class=\"pn-ranking-livros-posicao-corpo clearfix\">\\n\\t\\t\\t\\t\\t<div class=\"pn-ranking-livro clearfix\">\\n\\t\\t\\t\\t<div class=\"pn-ranking-livro-dados\">\\n\\t\\t\\t\\t\\t\\t\\t\\t\\t\\t<div class=\"pn-ranking-livro-capa\"><img src=\"https://www.publishnews.com.br/estaticos/uploads/2016/06/ZVZXGtmVkxXbcrtLVuFWHaKZ1hH6EcokVkhdmp1IZjiGVnULwrGvfD4UegxdnjfAG7kP5Uh17BFPMyGT.jpg\" border=\"0\" alt=\"\" /></div>\\n\\t\\t\\t\\t\\t\\t\\t\\t\\t\\t<div class=\"pn-ranking-livro-nome\">Box Harry Potter</div>\\n\\t\\t\\t\\t\\t<div class=\"pn-ranking-livro-autor\">J. K. Rowling</div>\\n\\t\\t\\t\\t\\t<div class=\"pn-ranking-livro-editora\">Rocco</div>\\n\\t\\t\\t\\t</div>\\n\\t\\t\\t\\t<div class=\"pn-ranking-livro-extras\" style=\"display:none;\">\\n\\t\\t\\t\\t\\t\\t\\t\\t\\t\\t<div class=\"pn-ranking-livro-resumo\"><p>A série Harry Potter chega às prateleiras em mais uma edição de colecionador. Os sete livros da saga criada por J. K. Rowling - que acompanha a jornada do adorado aprendiz de bruxo contra o maléfico Voldemort - ganham novas capas e novas ilustrações e vêm num box exclusivo.</p></div>\\n\\t\\t\\t\\t\\t\\t\\t\\t\\t\\t\\t\\t\\t\\t\\t<div class=\"pn-ranking-livro-tradutor\">Tradução <strong>Lia Wyler</strong></div>\\n\\t\\t\\t\\t\\t\\t\\t\\t\\t\\t\\t\\t\\t\\t\\t<div class=\"pn-ranking-livro-isbn\">ISBN <strong>978-85-32512-94-9</strong></div>\\n\\t\\t\\t\\t\\t\\t\\t\\t\\t\\t<div class=\"pn-ranking-livro-categoria\">Categoria <strong>Infantojuvenil</strong></div>\\n\\t\\t\\t\\t\\t\\t\\t\\t\\t\\t<!-- Removido após a solicitação na Tarefa #24 (19/11/2019 20:08), solicitante: Mari Xavier -->\\n\\t\\t\\t\\t\\t<!--<div class=\"pn-ranking-livro-preco\">Preço <strong>R$ </strong></div> -->\\n\\t\\t\\t\\t\\t<div class=\"pn-ranking-livro-paginas\">Páginas <strong>3.096</strong></div>\\n\\t\\t\\t\\t</div>\\n\\t\\t\\t</div>\\n\\t\\t\\t\\t</div>\\n\\t</div>\\n\\t<div class=\"pn-ranking-livros-posicao clearfix\">\\n\\t\\t<div class=\"pn-ranking-livros-posicao-numero\">6</div>\\n\\t\\t<div class=\"pn-ranking-livros-posicao-volume\">48.946</div>\\n\\t\\t<div class=\"pn-ranking-livros-posicao-corpo clearfix\">\\n\\t\\t\\t\\t\\t<div class=\"pn-ranking-livro clearfix\">\\n\\t\\t\\t\\t<div class=\"pn-ranking-livro-dados\">\\n\\t\\t\\t\\t\\t\\t\\t\\t\\t\\t<div class=\"pn-ranking-livro-capa\"><img src=\"https://www.publishnews.com.br/estaticos/uploads/2020/04/obGDsUPO7NCTikZ4LsXm9BQ5uWFGlAJJt9xGOf2ketvvLFjKdCh9LmWqPyuXdB8e7nL0jadoDzzIvzqk.jpg\" border=\"0\" alt=\"\" /></div>\\n\\t\\t\\t\\t\\t\\t\\t\\t\\t\\t<div class=\"pn-ranking-livro-nome\">Decida vencer<img src=\"/estaticos/arquivos/icone_16x12_bandeira_brasil.png\" width=\"16\" height=\"12\" border=\"0\" style=\"margin-left:10px;\" /></div>\\n\\t\\t\\t\\t\\t<div class=\"pn-ranking-livro-autor\">Eduardo Volpato</div>\\n\\t\\t\\t\\t\\t<div class=\"pn-ranking-livro-editora\">Gente</div>\\n\\t\\t\\t\\t</div>\\n\\t\\t\\t\\t<div class=\"pn-ranking-livro-extras\" style=\"display:none;\">\\n\\t\\t\\t\\t\\t\\t\\t\\t\\t\\t<div class=\"pn-ranking-livro-resumo\"><p>Eduardo Volpato traz, em seu livro Decida Vencer um método poderoso e eficaz para que você consiga criar um círculo de entendimento em sua vida e mude o que está travando o seu sucesso pessoal. </p></div>\\n\\t\\t\\t\\t\\t\\t\\t\\t\\t\\t\\t\\t\\t\\t\\t\\t\\t\\t\\t\\t<div class=\"pn-ranking-livro-isbn\">ISBN <strong>978-85-45203-89-6</strong></div>\\n\\t\\t\\t\\t\\t\\t\\t\\t\\t\\t<div class=\"pn-ranking-livro-categoria\">Categoria <strong>Negócios</strong></div>\\n\\t\\t\\t\\t\\t\\t\\t\\t\\t\\t<!-- Removido após a solicitação na Tarefa #24 (19/11/2019 20:08), solicitante: Mari Xavier -->\\n\\t\\t\\t\\t\\t<!--<div class=\"pn-ranking-livro-preco\">Preço <strong>R$ </strong></div> -->\\n\\t\\t\\t\\t\\t<div class=\"pn-ranking-livro-paginas\">Páginas <strong>208</strong></div>\\n\\t\\t\\t\\t</div>\\n\\t\\t\\t</div>\\n\\t\\t\\t\\t</div>\\n\\t</div>\\n\\t<div class=\"pn-ranking-livros-posicao clearfix\">\\n\\t\\t<div class=\"pn-ranking-livros-posicao-numero\">7</div>\\n\\t\\t<div class=\"pn-ranking-livros-posicao-volume\">47.641</div>\\n\\t\\t<div class=\"pn-ranking-livros-posicao-corpo clearfix\">\\n\\t\\t\\t\\t\\t<div class=\"pn-ranking-livro clearfix\">\\n\\t\\t\\t\\t<div class=\"pn-ranking-livro-dados\">\\n\\t\\t\\t\\t\\t\\t\\t\\t\\t\\t<div class=\"pn-ranking-livro-capa\"><img src=\"https://www.publishnews.com.br/estaticos/uploads/2018/01/AbONUvGHIy8HqrjYtdB2BOvF323DYdrgEvQi5dXk3D2hpJSKrKjjyjUQLgpgG2lP4SxZG1AzKZHegCzT.jpg\" border=\"0\" alt=\"\" /></div>\\n\\t\\t\\t\\t\\t\\t\\t\\t\\t\\t<div class=\"pn-ranking-livro-nome\">O poder da autorresponsabilidade<img src=\"/estaticos/arquivos/icone_16x12_bandeira_brasil.png\" width=\"16\" height=\"12\" border=\"0\" style=\"margin-left:10px;\" /></div>\\n\\t\\t\\t\\t\\t<div class=\"pn-ranking-livro-autor\">Paulo Vieira</div>\\n\\t\\t\\t\\t\\t<div class=\"pn-ranking-livro-editora\">Gente</div>\\n\\t\\t\\t\\t</div>\\n\\t\\t\\t\\t<div class=\"pn-ranking-livro-extras\" style=\"display:none;\">\\n\\t\\t\\t\\t\\t\\t\\t\\t\\t\\t<div class=\"pn-ranking-livro-resumo\"><p>Muitas pessoas têm consciência de que precisam assumir as rédeas da própria vida, porém não sabem como fazer isso na prática. Este livro traz ao leitor o conceito de autorresponsabilidade. Trata-se de um manual que apresenta a metodologia das 6 leis para a conquista da autorresponsabilidade, de modo que o leitor assuma o comando de sua vida. Aplicando esse conceito, você será capaz de levar alta performance à vida pessoal e profissional, saindo de um estado não satisfatório para uma vida de abundância e de sucesso.</p></div>\\n\\t\\t\\t\\t\\t\\t\\t\\t\\t\\t\\t\\t\\t\\t\\t\\t\\t\\t\\t\\t<div class=\"pn-ranking-livro-isbn\">ISBN <strong>978-85-45202-21-9</strong></div>\\n\\t\\t\\t\\t\\t\\t\\t\\t\\t\\t<div class=\"pn-ranking-livro-categoria\">Categoria <strong>Negócios</strong></div>\\n\\t\\t\\t\\t\\t\\t\\t\\t\\t\\t<!-- Removido após a solicitação na Tarefa #24 (19/11/2019 20:08), solicitante: Mari Xavier -->\\n\\t\\t\\t\\t\\t<!--<div class=\"pn-ranking-livro-preco\">Preço <strong>R$ </strong></div> -->\\n\\t\\t\\t\\t\\t<div class=\"pn-ranking-livro-paginas\">Páginas <strong>160</strong></div>\\n\\t\\t\\t\\t</div>\\n\\t\\t\\t</div>\\n\\t\\t\\t\\t</div>\\n\\t</div>\\n\\t<div class=\"pn-ranking-livros-posicao clearfix\">\\n\\t\\t<div class=\"pn-ranking-livros-posicao-numero\">8</div>\\n\\t\\t<div class=\"pn-ranking-livros-posicao-volume\">46.790</div>\\n\\t\\t<div class=\"pn-ranking-livros-posicao-corpo clearfix\">\\n\\t\\t\\t\\t\\t<div class=\"pn-ranking-livro clearfix\">\\n\\t\\t\\t\\t<div class=\"pn-ranking-livro-dados\">\\n\\t\\t\\t\\t\\t\\t\\t\\t\\t\\t<div class=\"pn-ranking-livro-capa\"><img src=\"https://www.publishnews.com.br/estaticos/uploads/2017/10/Qie8KitX4klj02vK6FmS4h4xID3TOs8dUVHQZG9TYVayIen3pvV24newzjUDQvTx0GltLkX6Dzr3LNlV.jpg\" border=\"0\" alt=\"\" /></div>\\n\\t\\t\\t\\t\\t\\t\\t\\t\\t\\t<div class=\"pn-ranking-livro-nome\">Seja foda!<img src=\"/estaticos/arquivos/icone_16x12_bandeira_brasil.png\" width=\"16\" height=\"12\" border=\"0\" style=\"margin-left:10px;\" /></div>\\n\\t\\t\\t\\t\\t<div class=\"pn-ranking-livro-autor\">Caio Carneiro</div>\\n\\t\\t\\t\\t\\t<div class=\"pn-ranking-livro-editora\">Buzz</div>\\n\\t\\t\\t\\t</div>\\n\\t\\t\\t\\t<div class=\"pn-ranking-livro-extras\" style=\"display:none;\">\\n\\t\\t\\t\\t\\t\\t\\t\\t\\t\\t<div class=\"pn-ranking-livro-resumo\"><p>Aposto que você quer, no final da sua vida, olhar para trás, bater no peito com o coração cheio de felicidade, sem falsa modéstia, com plena convicção e serenidade, e dizer: minha vida foi FODA. Mas calma, encontrar este livro é só o começo. Agora, você precisa levá-lo com você. Com ele, você vai aprender comportamentos e atitudes necessários para conquistar, em todos os aspectos da sua vida, resultados incríveis.</p></div>\\n\\t\\t\\t\\t\\t\\t\\t\\t\\t\\t\\t\\t\\t\\t\\t\\t\\t\\t\\t\\t<div class=\"pn-ranking-livro-isbn\">ISBN <strong>978-85-93156-29-8</strong></div>\\n\\t\\t\\t\\t\\t\\t\\t\\t\\t\\t<div class=\"pn-ranking-livro-categoria\">Categoria <strong>Negócios</strong></div>\\n\\t\\t\\t\\t\\t\\t\\t\\t\\t\\t<!-- Removido após a solicitação na Tarefa #24 (19/11/2019 20:08), solicitante: Mari Xavier -->\\n\\t\\t\\t\\t\\t<!--<div class=\"pn-ranking-livro-preco\">Preço <strong>R$ </strong></div> -->\\n\\t\\t\\t\\t\\t<div class=\"pn-ranking-livro-paginas\">Páginas <strong>208</strong></div>\\n\\t\\t\\t\\t</div>\\n\\t\\t\\t</div>\\n\\t\\t\\t\\t</div>\\n\\t</div>\\n\\t<div class=\"pn-ranking-livros-posicao clearfix\">\\n\\t\\t<div class=\"pn-ranking-livros-posicao-numero\">9</div>\\n\\t\\t<div class=\"pn-ranking-livros-posicao-volume\">44.401</div>\\n\\t\\t<div class=\"pn-ranking-livros-posicao-corpo clearfix\">\\n\\t\\t\\t\\t\\t<div class=\"pn-ranking-livro clearfix\">\\n\\t\\t\\t\\t<div class=\"pn-ranking-livro-dados\">\\n\\t\\t\\t\\t\\t\\t\\t\\t\\t\\t<div class=\"pn-ranking-livro-capa\"><img src=\"https://www.publishnews.com.br/estaticos/uploads/2020/05/kTTvf4uqnQBwy73PIrUXKZzUpvWpynoy7OFcb4nWTNI3PtRKyFtc4WEtof6LTSFf3zICtl6ijMBtvs1o.jpg\" border=\"0\" alt=\"\" /></div>\\n\\t\\t\\t\\t\\t\\t\\t\\t\\t\\t<div class=\"pn-ranking-livro-nome\">Sol da meia-noite</div>\\n\\t\\t\\t\\t\\t<div class=\"pn-ranking-livro-autor\">Stephenie Meyer</div>\\n\\t\\t\\t\\t\\t<div class=\"pn-ranking-livro-editora\">Intrínseca</div>\\n\\t\\t\\t\\t</div>\\n\\t\\t\\t\\t<div class=\"pn-ranking-livro-extras\" style=\"display:none;\">\\n\\t\\t\\t\\t\\t\\t\\t\\t\\t\\t<div class=\"pn-ranking-livro-resumo\"><p>Em <i>Sol da meia-noite</i>, Stephenie Meyer faz um retorno triunfal ao universo de <i>Crepúsculo</i> e nos transporta mais uma vez para Forks, convidando-nos a revisitar cada detalhe dessa história que conquistou milhões de fãs em todo o mundo. Em meio a uma paixão cercada de perigos sobrenaturais, vamos descobrir como Edward encara seus prazeres mais profundos e as consequências devastadoras de um amor proibido e imortal.</p></div>\\n\\t\\t\\t\\t\\t\\t\\t\\t\\t\\t\\t\\t\\t\\t\\t<div class=\"pn-ranking-livro-tradutor\">Tradução <strong>Maria Silva</strong></div>\\n\\t\\t\\t\\t\\t\\t\\t\\t\\t\\t\\t\\t\\t\\t\\t<div class=\"pn-ranking-livro-isbn\">ISBN <strong>978-65-55600-29-2</strong></div>\\n\\t\\t\\t\\t\\t\\t\\t\\t\\t\\t<div class=\"pn-ranking-livro-categoria\">Categoria <strong>Ficção</strong></div>\\n\\t\\t\\t\\t\\t\\t\\t\\t\\t\\t<!-- Removido após a solicitação na Tarefa #24 (19/11/2019 20:08), solicitante: Mari Xavier -->\\n\\t\\t\\t\\t\\t<!--<div class=\"pn-ranking-livro-preco\">Preço <strong>R$ </strong></div> -->\\n\\t\\t\\t\\t\\t<div class=\"pn-ranking-livro-paginas\">Páginas <strong>536</strong></div>\\n\\t\\t\\t\\t</div>\\n\\t\\t\\t</div>\\n\\t\\t\\t\\t</div>\\n\\t</div>\\n\\t<div class=\"pn-ranking-livros-posicao clearfix\">\\n\\t\\t<div class=\"pn-ranking-livros-posicao-numero\">10</div>\\n\\t\\t<div class=\"pn-ranking-livros-posicao-volume\">44.185</div>\\n\\t\\t<div class=\"pn-ranking-livros-posicao-corpo clearfix\">\\n\\t\\t\\t\\t\\t<div class=\"pn-ranking-livro clearfix\">\\n\\t\\t\\t\\t<div class=\"pn-ranking-livro-dados\">\\n\\t\\t\\t\\t\\t\\t\\t\\t\\t\\t<div class=\"pn-ranking-livro-capa\"><img src=\"https://www.publishnews.com.br/estaticos/uploads/2015/08/flQqYuiyxm1OThx3kMyaVlegJFP98SPiBIeASQRjroLrR6Sh47nP2JAYg05VAjpOHBktd85lsxQf6PvK.jpg\" border=\"0\" alt=\"\" /></div>\\n\\t\\t\\t\\t\\t\\t\\t\\t\\t\\t<div class=\"pn-ranking-livro-nome\">Os segredos da mente milionária</div>\\n\\t\\t\\t\\t\\t<div class=\"pn-ranking-livro-autor\">T. Harv Eker</div>\\n\\t\\t\\t\\t\\t<div class=\"pn-ranking-livro-editora\">Sextante</div>\\n\\t\\t\\t\\t</div>\\n\\t\\t\\t\\t<div class=\"pn-ranking-livro-extras\" style=\"display:none;\">\\n\\t\\t\\t\\t\\t\\t\\t\\t\\t\\t<div class=\"pn-ranking-livro-resumo\"><p>Se as finanças andam na corda bamba, talvez seja hora de refletir sobre o que T. Harv Eker chama de \"o seu modelo de dinheiro\" – um conjunto de crenças que todos alimentamos desde a infância e que molda o destino financeiro, quase sempre levando para uma situação difícil. Neste livro, Eker mostra como substituir uma mentalidade destrutiva – que o leitor talvez nem perceba que tem – pelos \"arquivos de riqueza\", 17 modos de pensar e agir que distinguem os ricos das demais pessoas. O autor também ensina um método eficiente de administrar o dinheiro. O leitor aprenderá a estabelecer sua remuneração pelos resultados que apresenta e não pelas horas que trabalha. Além disso, saberá como aumentar o seu patrimônio líquido – a verdadeira medida da riqueza.</p></div>\\n\\t\\t\\t\\t\\t\\t\\t\\t\\t\\t\\t\\t\\t\\t\\t<div class=\"pn-ranking-livro-tradutor\">Tradução <strong>Pedro Jorgensen Júnior</strong></div>\\n\\t\\t\\t\\t\\t\\t\\t\\t\\t\\t\\t\\t\\t\\t\\t<div class=\"pn-ranking-livro-isbn\">ISBN <strong>978-85-75422-39-7</strong></div>\\n\\t\\t\\t\\t\\t\\t\\t\\t\\t\\t<div class=\"pn-ranking-livro-categoria\">Categoria <strong>Negócios</strong></div>\\n\\t\\t\\t\\t\\t\\t\\t\\t\\t\\t<!-- Removido após a solicitação na Tarefa #24 (19/11/2019 20:08), solicitante: Mari Xavier -->\\n\\t\\t\\t\\t\\t<!--<div class=\"pn-ranking-livro-preco\">Preço <strong>R$ </strong></div> -->\\n\\t\\t\\t\\t\\t<div class=\"pn-ranking-livro-paginas\">Páginas <strong>176</strong></div>\\n\\t\\t\\t\\t</div>\\n\\t\\t\\t</div>\\n\\t\\t\\t\\t</div>\\n\\t</div>\\n\\t<div class=\"pn-ranking-livros-posicao clearfix\">\\n\\t\\t<div class=\"pn-ranking-livros-posicao-numero\">11</div>\\n\\t\\t<div class=\"pn-ranking-livros-posicao-volume\">43.744</div>\\n\\t\\t<div class=\"pn-ranking-livros-posicao-corpo clearfix\">\\n\\t\\t\\t\\t\\t<div class=\"pn-ranking-livro clearfix\">\\n\\t\\t\\t\\t<div class=\"pn-ranking-livro-dados\">\\n\\t\\t\\t\\t\\t\\t\\t\\t\\t\\t<div class=\"pn-ranking-livro-capa\"><img src=\"https://www.publishnews.com.br/estaticos/uploads/2018/12/nCxf8cyh2k3HhDeb2nFf52XRbR5AJ4WRr6FaZ4XIELrSr0kEGpwxoc2YCbdYRlLp1t7OvWBQiSXbrZnm.jpg\" border=\"0\" alt=\"\" /></div>\\n\\t\\t\\t\\t\\t\\t\\t\\t\\t\\t<div class=\"pn-ranking-livro-nome\">Mulheres que correm com os lobos (capa dura)</div>\\n\\t\\t\\t\\t\\t<div class=\"pn-ranking-livro-autor\">Clarissa Pinkola Estes</div>\\n\\t\\t\\t\\t\\t<div class=\"pn-ranking-livro-editora\">Rocco</div>\\n\\t\\t\\t\\t</div>\\n\\t\\t\\t\\t<div class=\"pn-ranking-livro-extras\" style=\"display:none;\">\\n\\t\\t\\t\\t\\t\\t\\t\\t\\t\\t<div class=\"pn-ranking-livro-resumo\"><p>Clássico dos estudos sobre o sagrado feminino e o feminismo, o livro <em>Mulheres que correm com os lobos </em>é o primeiro de uma série de <em><em>longsellers</em> </em>da Rocco a ganhar edição com novo projeto gráfico e capa dura.</p></div>\\n\\t\\t\\t\\t\\t\\t\\t\\t\\t\\t\\t\\t\\t\\t\\t<div class=\"pn-ranking-livro-tradutor\">Tradução <strong>Waldea Barcellos</strong></div>\\n\\t\\t\\t\\t\\t\\t\\t\\t\\t\\t\\t\\t\\t\\t\\t<div class=\"pn-ranking-livro-isbn\">ISBN <strong>978-85-32529-78-7</strong></div>\\n\\t\\t\\t\\t\\t\\t\\t\\t\\t\\t<div class=\"pn-ranking-livro-categoria\">Categoria <strong>Não ficção</strong></div>\\n\\t\\t\\t\\t\\t\\t\\t\\t\\t\\t<!-- Removido após a solicitação na Tarefa #24 (19/11/2019 20:08), solicitante: Mari Xavier -->\\n\\t\\t\\t\\t\\t<!--<div class=\"pn-ranking-livro-preco\">Preço <strong>R$ </strong></div> -->\\n\\t\\t\\t\\t\\t<div class=\"pn-ranking-livro-paginas\">Páginas <strong>576</strong></div>\\n\\t\\t\\t\\t</div>\\n\\t\\t\\t</div>\\n\\t\\t\\t\\t</div>\\n\\t</div>\\n\\t<div class=\"pn-ranking-livros-posicao clearfix\">\\n\\t\\t<div class=\"pn-ranking-livros-posicao-numero\">12</div>\\n\\t\\t<div class=\"pn-ranking-livros-posicao-volume\">43.416</div>\\n\\t\\t<div class=\"pn-ranking-livros-posicao-corpo clearfix\">\\n\\t\\t\\t\\t\\t<div class=\"pn-ranking-livro clearfix\">\\n\\t\\t\\t\\t<div class=\"pn-ranking-livro-dados\">\\n\\t\\t\\t\\t\\t\\t\\t\\t\\t\\t<div class=\"pn-ranking-livro-capa\"><img src=\"https://www.publishnews.com.br/estaticos/uploads/2017/08/tLitLuknHc31foyJmNjF3FQHbwpq4D4rcoRQIXAC4NfFvdrHan31V6lagNspmVVS3sLgWsVOhYUIOBlT.png\" border=\"0\" alt=\"\" /></div>\\n\\t\\t\\t\\t\\t\\t\\t\\t\\t\\t<div class=\"pn-ranking-livro-nome\">Pai rico, pai pobre - Edição de 20 anos</div>\\n\\t\\t\\t\\t\\t<div class=\"pn-ranking-livro-autor\">Robert T. Kiyosak</div>\\n\\t\\t\\t\\t\\t<div class=\"pn-ranking-livro-editora\">Alta Books Editora</div>\\n\\t\\t\\t\\t</div>\\n\\t\\t\\t\\t<div class=\"pn-ranking-livro-extras\" style=\"display:none;\">\\n\\t\\t\\t\\t\\t\\t\\t\\t\\t\\t<div class=\"pn-ranking-livro-resumo\"><p>Celebrando 20 anos como o livro n° 1 em finanças pessoais. A escola prepara as crianças para o mundo real? Essa é a primeira pergunta com a qual o leitor se depara neste livro. O recado é ousado e direto: boa formação e notas altas não bastam para assegurar o sucesso de alguém. O mundo mudou; a maioria dos jovens tem cartão de crédito, antes mesmo de concluir os estudos, e nunca teve aula sobre dinheiro, investimentos, juros etc.</p></div>\\n\\t\\t\\t\\t\\t\\t\\t\\t\\t\\t\\t\\t\\t\\t\\t\\t\\t\\t\\t\\t<div class=\"pn-ranking-livro-isbn\">ISBN <strong>978-85-50801-48-3</strong></div>\\n\\t\\t\\t\\t\\t\\t\\t\\t\\t\\t<div class=\"pn-ranking-livro-categoria\">Categoria <strong>Negócios</strong></div>\\n\\t\\t\\t\\t\\t\\t\\t\\t\\t\\t<!-- Removido após a solicitação na Tarefa #24 (19/11/2019 20:08), solicitante: Mari Xavier -->\\n\\t\\t\\t\\t\\t<!--<div class=\"pn-ranking-livro-preco\">Preço <strong>R$ </strong></div> -->\\n\\t\\t\\t\\t\\t<div class=\"pn-ranking-livro-paginas\">Páginas <strong>336</strong></div>\\n\\t\\t\\t\\t</div>\\n\\t\\t\\t</div>\\n\\t\\t\\t\\t</div>\\n\\t</div>\\n\\t<div class=\"pn-ranking-livros-posicao clearfix\">\\n\\t\\t<div class=\"pn-ranking-livros-posicao-numero\">13</div>\\n\\t\\t<div class=\"pn-ranking-livros-posicao-volume\">43.351</div>\\n\\t\\t<div class=\"pn-ranking-livros-posicao-corpo clearfix\">\\n\\t\\t\\t\\t\\t<div class=\"pn-ranking-livro clearfix\">\\n\\t\\t\\t\\t<div class=\"pn-ranking-livro-dados\">\\n\\t\\t\\t\\t\\t\\t\\t\\t\\t\\t<div class=\"pn-ranking-livro-capa\"><img src=\"https://www.publishnews.com.br/estaticos/uploads/2017/02/5HP5wLKxVviJzbc4LUouqhyZuli999P7tLXjPIZ5UlPQSbLMTj5BsgdUiAtbjCRU23PuSuXZmwrgibYJ.jpg\" border=\"0\" alt=\"\" /></div>\\n\\t\\t\\t\\t\\t\\t\\t\\t\\t\\t<div class=\"pn-ranking-livro-nome\">Mindset</div>\\n\\t\\t\\t\\t\\t<div class=\"pn-ranking-livro-autor\">Carol Dweck</div>\\n\\t\\t\\t\\t\\t<div class=\"pn-ranking-livro-editora\">Objetiva</div>\\n\\t\\t\\t\\t</div>\\n\\t\\t\\t\\t<div class=\"pn-ranking-livro-extras\" style=\"display:none;\">\\n\\t\\t\\t\\t\\t\\t\\t\\t\\t\\t<div class=\"pn-ranking-livro-resumo\"><p>Carol S. Dweck, professora de psicologia na Universidade Stanford e especialista internacional em sucesso e motivação, desenvolveu, ao longo de décadas de pesquisa, um conceito fundamental: a atitude mental com que encaramos a vida, que ela chama de “mindset”, é crucial para o sucesso. O “mindset” não é um mero traço de personalidade, é a explicação de por que somos otimistas ou pessimistas, bem-sucedidos ou não. É um fator decisivo para que todo o nosso potencial seja explorado.</p></div>\\n\\t\\t\\t\\t\\t\\t\\t\\t\\t\\t\\t\\t\\t\\t\\t\\t\\t\\t\\t\\t<div class=\"pn-ranking-livro-isbn\">ISBN <strong>978-85-47000-24-0</strong></div>\\n\\t\\t\\t\\t\\t\\t\\t\\t\\t\\t<div class=\"pn-ranking-livro-categoria\">Categoria <strong>Não ficção</strong></div>\\n\\t\\t\\t\\t\\t\\t\\t\\t\\t\\t<!-- Removido após a solicitação na Tarefa #24 (19/11/2019 20:08), solicitante: Mari Xavier -->\\n\\t\\t\\t\\t\\t<!--<div class=\"pn-ranking-livro-preco\">Preço <strong>R$ </strong></div> -->\\n\\t\\t\\t\\t\\t<div class=\"pn-ranking-livro-paginas\">Páginas <strong>328</strong></div>\\n\\t\\t\\t\\t</div>\\n\\t\\t\\t</div>\\n\\t\\t\\t\\t</div>\\n\\t</div>\\n\\t<div class=\"pn-ranking-livros-posicao clearfix\">\\n\\t\\t<div class=\"pn-ranking-livros-posicao-numero\">14</div>\\n\\t\\t<div class=\"pn-ranking-livros-posicao-volume\">41.909</div>\\n\\t\\t<div class=\"pn-ranking-livros-posicao-corpo clearfix\">\\n\\t\\t\\t\\t\\t<div class=\"pn-ranking-livro clearfix\">\\n\\t\\t\\t\\t<div class=\"pn-ranking-livro-dados\">\\n\\t\\t\\t\\t\\t\\t\\t\\t\\t\\t<div class=\"pn-ranking-livro-capa\"><img src=\"https://www.publishnews.com.br/estaticos/uploads/2019/04/o8HmV2jl1OLFJlkjT6qkTFADkYMEeZQ6gxYqaotYVj3B0QJ10S619PZtq6rs9pB9qvqs5Dv2yDwltjlJ.jpg\" border=\"0\" alt=\"\" /></div>\\n\\t\\t\\t\\t\\t\\t\\t\\t\\t\\t<div class=\"pn-ranking-livro-nome\">A garota do lago</div>\\n\\t\\t\\t\\t\\t<div class=\"pn-ranking-livro-autor\">Charlie Donlea</div>\\n\\t\\t\\t\\t\\t<div class=\"pn-ranking-livro-editora\">Faro Editorial</div>\\n\\t\\t\\t\\t</div>\\n\\t\\t\\t\\t<div class=\"pn-ranking-livro-extras\" style=\"display:none;\">\\n\\t\\t\\t\\t\\t\\t\\t\\t\\t\\t<div class=\"pn-ranking-livro-resumo\"><p><span class=\"txtDescricao\">Summit Lake, uma pequena cidade entre montanhas, é esse tipo de lugar, bucólico e com encantadoras casas dispostas à beira de um longo trecho de água intocada. Duas semanas atrás, a estudante de direito Becca Eckersley foi brutalmente assassinada em uma dessas casas. Filha de um poderoso advogado, Becca estava no auge de sua vida. Atraída instintivamente pela notícia, a repórter Kelsey Castle vai até a cidade para investigar o caso. E enquanto descobre sobre as amizades de Becca, sua vida amorosa e os segredos que ela guardava, a repórter fica cada vez mais convencida de que a verdade sobre o que aconteceu com Becca pode ser a chave para superar as marcas sombrias de seu próprio passado.</span></p></div>\\n\\t\\t\\t\\t\\t\\t\\t\\t\\t\\t\\t\\t\\t\\t\\t<div class=\"pn-ranking-livro-tradutor\">Tradução <strong>Carlos David Szlak</strong></div>\\n\\t\\t\\t\\t\\t\\t\\t\\t\\t\\t\\t\\t\\t\\t\\t<div class=\"pn-ranking-livro-isbn\">ISBN <strong>978-85-62409-88-2</strong></div>\\n\\t\\t\\t\\t\\t\\t\\t\\t\\t\\t<div class=\"pn-ranking-livro-categoria\">Categoria <strong>Ficção</strong></div>\\n\\t\\t\\t\\t\\t\\t\\t\\t\\t\\t<!-- Removido após a solicitação na Tarefa #24 (19/11/2019 20:08), solicitante: Mari Xavier -->\\n\\t\\t\\t\\t\\t<!--<div class=\"pn-ranking-livro-preco\">Preço <strong>R$ </strong></div> -->\\n\\t\\t\\t\\t\\t<div class=\"pn-ranking-livro-paginas\">Páginas <strong>296</strong></div>\\n\\t\\t\\t\\t</div>\\n\\t\\t\\t</div>\\n\\t\\t\\t\\t</div>\\n\\t</div>\\n\\t<div class=\"pn-ranking-livros-posicao clearfix\">\\n\\t\\t<div class=\"pn-ranking-livros-posicao-numero\">15</div>\\n\\t\\t<div class=\"pn-ranking-livros-posicao-volume\">40.093</div>\\n\\t\\t<div class=\"pn-ranking-livros-posicao-corpo clearfix\">\\n\\t\\t\\t\\t\\t<div class=\"pn-ranking-livro clearfix\">\\n\\t\\t\\t\\t<div class=\"pn-ranking-livro-dados\">\\n\\t\\t\\t\\t\\t\\t\\t\\t\\t\\t<div class=\"pn-ranking-livro-capa\"><img src=\"https://www.publishnews.com.br/estaticos/uploads/2020/06/DTj12rhPYSWxf0PliiYery8EeiMydwQvfwv26z8Ju2YCRHl20aPviay6HndKl1niVTSqC8OueAOYoEPF.jpg\" border=\"0\" alt=\"\" /></div>\\n\\t\\t\\t\\t\\t\\t\\t\\t\\t\\t<div class=\"pn-ranking-livro-nome\">DNA da cocriação<img src=\"/estaticos/arquivos/icone_16x12_bandeira_brasil.png\" width=\"16\" height=\"12\" border=\"0\" style=\"margin-left:10px;\" /></div>\\n\\t\\t\\t\\t\\t<div class=\"pn-ranking-livro-autor\">Elainne Ourives</div>\\n\\t\\t\\t\\t\\t<div class=\"pn-ranking-livro-editora\">Gente</div>\\n\\t\\t\\t\\t</div>\\n\\t\\t\\t\\t<div class=\"pn-ranking-livro-extras\" style=\"display:none;\">\\n\\t\\t\\t\\t\\t\\t\\t\\t\\t\\t<div class=\"pn-ranking-livro-resumo\"><p>O DNA da Cocriação é o Eu Holográfico®, que alguns chamam de “eu gêmeo” ou eu quântico. Seu eu ideal, sintonizado na frequência vibracional da harmonia desde o início da sua criação como consciência. Você consegue acessá-lo quando entra em coerência cardíaca harmônica, alinhando mente, coração e corpo. Ele rompe a barreira de espaço/tempo e pode trazer todas as respostas e soluções diretamente do futuro.</p></div>\\n\\t\\t\\t\\t\\t\\t\\t\\t\\t\\t\\t\\t\\t\\t\\t\\t\\t\\t\\t\\t<div class=\"pn-ranking-livro-isbn\">ISBN <strong>978-85-45203-86-5</strong></div>\\n\\t\\t\\t\\t\\t\\t\\t\\t\\t\\t<div class=\"pn-ranking-livro-categoria\">Categoria <strong>Autoajuda</strong></div>\\n\\t\\t\\t\\t\\t\\t\\t\\t\\t\\t<!-- Removido após a solicitação na Tarefa #24 (19/11/2019 20:08), solicitante: Mari Xavier -->\\n\\t\\t\\t\\t\\t<!--<div class=\"pn-ranking-livro-preco\">Preço <strong>R$ </strong></div> -->\\n\\t\\t\\t\\t\\t<div class=\"pn-ranking-livro-paginas\">Páginas <strong>288</strong></div>\\n\\t\\t\\t\\t</div>\\n\\t\\t\\t</div>\\n\\t\\t\\t\\t</div>\\n\\t</div>\\n\\t<div class=\"pn-ranking-livros-posicao clearfix\">\\n\\t\\t<div class=\"pn-ranking-livros-posicao-numero\">16</div>\\n\\t\\t<div class=\"pn-ranking-livros-posicao-volume\">39.093</div>\\n\\t\\t<div class=\"pn-ranking-livros-posicao-corpo clearfix\">\\n\\t\\t\\t\\t\\t<div class=\"pn-ranking-livro clearfix\">\\n\\t\\t\\t\\t<div class=\"pn-ranking-livro-dados\">\\n\\t\\t\\t\\t\\t\\t\\t\\t\\t\\t<div class=\"pn-ranking-livro-capa\"><img src=\"https://www.publishnews.com.br/estaticos/uploads/2015/08/SSD47DiXYZczBBE1UhKU68VrA4oTA6NAqe5Ic5C1TQhKgsEcy1Ch5BusqeN1UnCfhi4TqzETdEbcokXI.jpg\" border=\"0\" alt=\"\" /></div>\\n\\t\\t\\t\\t\\t\\t\\t\\t\\t\\t<div class=\"pn-ranking-livro-nome\">O poder do hábito</div>\\n\\t\\t\\t\\t\\t<div class=\"pn-ranking-livro-autor\">Charles Duhigg</div>\\n\\t\\t\\t\\t\\t<div class=\"pn-ranking-livro-editora\">Objetiva</div>\\n\\t\\t\\t\\t</div>\\n\\t\\t\\t\\t<div class=\"pn-ranking-livro-extras\" style=\"display:none;\">\\n\\t\\t\\t\\t\\t\\t\\t\\t\\t\\t<div class=\"pn-ranking-livro-resumo\"><p>Com base na leitura de centenas de artigos acadêmicos, entrevistas com mais de trezentos cientistas e executivos, além de pesquisas realizadas em dezenas de empresas, o repórter investigativo do <em>New York Times</em> Charles Duhigg elabora, em O poder do hábito, um argumento animador: a chave para se exercitar regularmente, perder peso, educar bem os filhos, se tornar uma pessoa mais produtiva, criar empresas revolucionárias e ter sucesso é entender como os hábitos funcionam. Transformá-los pode gerar bilhões e significar a diferença entre fracasso e sucesso, vida e morte. Duhigg conclui por que algumas pessoas e empresas têm tanta dificuldade em mudar, enquanto outras o fazem da noite para o dia. \\n</p></div>\\n\\t\\t\\t\\t\\t\\t\\t\\t\\t\\t\\t\\t\\t\\t\\t<div class=\"pn-ranking-livro-tradutor\">Tradução <strong>Rafael Mantovani</strong></div>\\n\\t\\t\\t\\t\\t\\t\\t\\t\\t\\t\\t\\t\\t\\t\\t<div class=\"pn-ranking-livro-isbn\">ISBN <strong>978-85-39004-11-9</strong></div>\\n\\t\\t\\t\\t\\t\\t\\t\\t\\t\\t<div class=\"pn-ranking-livro-categoria\">Categoria <strong>Autoajuda</strong></div>\\n\\t\\t\\t\\t\\t\\t\\t\\t\\t\\t<!-- Removido após a solicitação na Tarefa #24 (19/11/2019 20:08), solicitante: Mari Xavier -->\\n\\t\\t\\t\\t\\t<!--<div class=\"pn-ranking-livro-preco\">Preço <strong>R$ </strong></div> -->\\n\\t\\t\\t\\t\\t<div class=\"pn-ranking-livro-paginas\">Páginas <strong>408</strong></div>\\n\\t\\t\\t\\t</div>\\n\\t\\t\\t</div>\\n\\t\\t\\t\\t</div>\\n\\t</div>\\n\\t<div class=\"pn-ranking-livros-posicao clearfix\">\\n\\t\\t<div class=\"pn-ranking-livros-posicao-numero\">17</div>\\n\\t\\t<div class=\"pn-ranking-livros-posicao-volume\">37.780</div>\\n\\t\\t<div class=\"pn-ranking-livros-posicao-corpo clearfix\">\\n\\t\\t\\t\\t\\t<div class=\"pn-ranking-livro clearfix\">\\n\\t\\t\\t\\t<div class=\"pn-ranking-livro-dados\">\\n\\t\\t\\t\\t\\t\\t\\t\\t\\t\\t<div class=\"pn-ranking-livro-capa\"><img src=\"https://www.publishnews.com.br/estaticos/uploads/2019/08/3MUsyNs7SBct2qtlqE4dLusDOxtaqueIIzQxgk3mzWvpyCNaCPGKOVuEzakX3QmVo0tOq4gQsSVk4Sf7.jpg\" border=\"0\" alt=\"\" /></div>\\n\\t\\t\\t\\t\\t\\t\\t\\t\\t\\t<div class=\"pn-ranking-livro-nome\">Escravidão -Vol 1<img src=\"/estaticos/arquivos/icone_16x12_bandeira_brasil.png\" width=\"16\" height=\"12\" border=\"0\" style=\"margin-left:10px;\" /></div>\\n\\t\\t\\t\\t\\t<div class=\"pn-ranking-livro-autor\">Laurentino Gomes</div>\\n\\t\\t\\t\\t\\t<div class=\"pn-ranking-livro-editora\">Globo Livros</div>\\n\\t\\t\\t\\t</div>\\n\\t\\t\\t\\t<div class=\"pn-ranking-livro-extras\" style=\"display:none;\">\\n\\t\\t\\t\\t\\t\\t\\t\\t\\t\\t<div class=\"pn-ranking-livro-resumo\"><p>Maior território escravista do hemisfério ocidental, o Brasil recebeu cerca de 5 milhões de cativos africanos, 40% do total embarcado para a América ao longo de três séculos e meio. Como resultado, o país tem hoje a maior população negra do planeta, com exceção apenas da Nigéria. Foi também, entre os países do Novo Mundo, o último a abolir o cativeiro, por meio da Lei Áurea de 1888 &mdash; quatro anos depois de Porto Rico e dois depois de Cuba. Nenhum outro assunto é tão importante e tão definidor da nossa identidade nacional quanto a escravidão. Conhecê-lo ajuda a explicar o que fomos no passado, o que somos hoje e também o que seremos daqui para a frente.</p></div>\\n\\t\\t\\t\\t\\t\\t\\t\\t\\t\\t\\t\\t\\t\\t\\t\\t\\t\\t\\t\\t<div class=\"pn-ranking-livro-isbn\">ISBN <strong>978-65-80634-01-9</strong></div>\\n\\t\\t\\t\\t\\t\\t\\t\\t\\t\\t<div class=\"pn-ranking-livro-categoria\">Categoria <strong>Não ficção</strong></div>\\n\\t\\t\\t\\t\\t\\t\\t\\t\\t\\t<!-- Removido após a solicitação na Tarefa #24 (19/11/2019 20:08), solicitante: Mari Xavier -->\\n\\t\\t\\t\\t\\t<!--<div class=\"pn-ranking-livro-preco\">Preço <strong>R$ </strong></div> -->\\n\\t\\t\\t\\t\\t<div class=\"pn-ranking-livro-paginas\">Páginas <strong>504</strong></div>\\n\\t\\t\\t\\t</div>\\n\\t\\t\\t</div>\\n\\t\\t\\t\\t</div>\\n\\t</div>\\n\\t<div class=\"pn-ranking-livros-posicao clearfix\">\\n\\t\\t<div class=\"pn-ranking-livros-posicao-numero\">18</div>\\n\\t\\t<div class=\"pn-ranking-livros-posicao-volume\">33.807</div>\\n\\t\\t<div class=\"pn-ranking-livros-posicao-corpo clearfix\">\\n\\t\\t\\t\\t\\t<div class=\"pn-ranking-livro clearfix\">\\n\\t\\t\\t\\t<div class=\"pn-ranking-livro-dados\">\\n\\t\\t\\t\\t\\t\\t\\t\\t\\t\\t<div class=\"pn-ranking-livro-capa\"><img src=\"https://www.publishnews.com.br/estaticos/uploads/2016/12/m7BpsMTGQ6HyTToW0RZ3LWstCiZ6pCLGfiz38c4LYfAgGbJjberkt8frU4P6SPBtaMZBAQYxprGSa8Vf.jpg\" border=\"0\" alt=\"\" /></div>\\n\\t\\t\\t\\t\\t\\t\\t\\t\\t\\t<div class=\"pn-ranking-livro-nome\">A revolução dos bichos</div>\\n\\t\\t\\t\\t\\t<div class=\"pn-ranking-livro-autor\">George Orwell</div>\\n\\t\\t\\t\\t\\t<div class=\"pn-ranking-livro-editora\">Companhia das Letras</div>\\n\\t\\t\\t\\t</div>\\n\\t\\t\\t\\t<div class=\"pn-ranking-livro-extras\" style=\"display:none;\">\\n\\t\\t\\t\\t\\t\\t\\t\\t\\t\\t<div class=\"pn-ranking-livro-resumo\"><p>Escrita em plena Segunda Guerra Mundial e publicada em 1945 depois de ter sido rejeitada por várias editoras, essa pequena narrativa causou desconforto ao satirizar ferozmente a ditadura stalinista numa época em que os soviéticos ainda eram aliados do Ocidente na luta contra o eixo nazifascista.<br>De fato, são claras as referências: o despótico Napoleão seria Stálin, o banido Bola-de-Neve seria Trotsky, e os eventos políticos - expurgos, instituição de um estado policial, deturpação tendenciosa da História - mimetizam os que estavam em curso na União Soviética.</p></div>\\n\\t\\t\\t\\t\\t\\t\\t\\t\\t\\t\\t\\t\\t\\t\\t<div class=\"pn-ranking-livro-tradutor\">Tradução <strong>Heitor Aquino Ferreira</strong></div>\\n\\t\\t\\t\\t\\t\\t\\t\\t\\t\\t\\t\\t\\t\\t\\t<div class=\"pn-ranking-livro-isbn\">ISBN <strong>978-85-35909-55-5</strong></div>\\n\\t\\t\\t\\t\\t\\t\\t\\t\\t\\t<div class=\"pn-ranking-livro-categoria\">Categoria <strong>Ficção</strong></div>\\n\\t\\t\\t\\t\\t\\t\\t\\t\\t\\t<!-- Removido após a solicitação na Tarefa #24 (19/11/2019 20:08), solicitante: Mari Xavier -->\\n\\t\\t\\t\\t\\t<!--<div class=\"pn-ranking-livro-preco\">Preço <strong>R$ </strong></div> -->\\n\\t\\t\\t\\t\\t<div class=\"pn-ranking-livro-paginas\">Páginas <strong>156</strong></div>\\n\\t\\t\\t\\t</div>\\n\\t\\t\\t</div>\\n\\t\\t\\t\\t</div>\\n\\t</div>\\n\\t<div class=\"pn-ranking-livros-posicao clearfix\">\\n\\t\\t<div class=\"pn-ranking-livros-posicao-numero\">19</div>\\n\\t\\t<div class=\"pn-ranking-livros-posicao-volume\">32.166</div>\\n\\t\\t<div class=\"pn-ranking-livros-posicao-corpo clearfix\">\\n\\t\\t\\t\\t\\t<div class=\"pn-ranking-livro clearfix\">\\n\\t\\t\\t\\t<div class=\"pn-ranking-livro-dados\">\\n\\t\\t\\t\\t\\t\\t\\t\\t\\t\\t<div class=\"pn-ranking-livro-capa\"><img src=\"https://www.publishnews.com.br/estaticos/uploads/2018/09/XEfqvd9JYoY4oMlkfDzMuUUcPXVQzkLzavWuNDMyprufxSyBG9BAjaS04FOqy5xNzXfKHs08EaUb43wx.jpg\" border=\"0\" alt=\"\" /></div>\\n\\t\\t\\t\\t\\t\\t\\t\\t\\t\\t<div class=\"pn-ranking-livro-nome\">21 lições para o século 21</div>\\n\\t\\t\\t\\t\\t<div class=\"pn-ranking-livro-autor\">Yuval Noah Harari</div>\\n\\t\\t\\t\\t\\t<div class=\"pn-ranking-livro-editora\">Companhia das Letras</div>\\n\\t\\t\\t\\t</div>\\n\\t\\t\\t\\t<div class=\"pn-ranking-livro-extras\" style=\"display:none;\">\\n\\t\\t\\t\\t\\t\\t\\t\\t\\t\\t<div class=\"pn-ranking-livro-resumo\"><p>Em Sapiens, Yuval Noah Harari mostrou de onde viemos; em Homo Deus, para onde vamos. 21 lições para o século 21 explora o presente e nos conduz por uma fascinante jornada pelos assuntos prementes da atualidade. Seu novo livro trata sobre o desafio de manter o foco coletivo e individual em face a mudanças frequentes e desconcertantes. Seríamos ainda capazes de entender o mundo que criamos?</p></div>\\n\\t\\t\\t\\t\\t\\t\\t\\t\\t\\t\\t\\t\\t\\t\\t\\t\\t\\t\\t\\t<div class=\"pn-ranking-livro-isbn\">ISBN <strong>978-85-35930-91-7</strong></div>\\n\\t\\t\\t\\t\\t\\t\\t\\t\\t\\t<div class=\"pn-ranking-livro-categoria\">Categoria <strong>Não ficção</strong></div>\\n\\t\\t\\t\\t\\t\\t\\t\\t\\t\\t<!-- Removido após a solicitação na Tarefa #24 (19/11/2019 20:08), solicitante: Mari Xavier -->\\n\\t\\t\\t\\t\\t<!--<div class=\"pn-ranking-livro-preco\">Preço <strong>R$ </strong></div> -->\\n\\t\\t\\t\\t\\t<div class=\"pn-ranking-livro-paginas\">Páginas <strong>432</strong></div>\\n\\t\\t\\t\\t</div>\\n\\t\\t\\t</div>\\n\\t\\t\\t\\t</div>\\n\\t</div>\\n\\t<div class=\"pn-ranking-livros-posicao clearfix\">\\n\\t\\t<div class=\"pn-ranking-livros-posicao-numero\">20</div>\\n\\t\\t<div class=\"pn-ranking-livros-posicao-volume\">31.660</div>\\n\\t\\t<div class=\"pn-ranking-livros-posicao-corpo clearfix\">\\n\\t\\t\\t\\t\\t<div class=\"pn-ranking-livro clearfix\">\\n\\t\\t\\t\\t<div class=\"pn-ranking-livro-dados\">\\n\\t\\t\\t\\t\\t\\t\\t\\t\\t\\t<div class=\"pn-ranking-livro-capa\"><img src=\"https://www.publishnews.com.br/estaticos/uploads/2016/12/puDT0pqdIM4GWYgSjWSIOMdrkxceqAudbz4bqePpKjr14ZNiVDJrJEmEodCGz7abQeYJVgPLsTwfzuCn.jpg\" border=\"0\" alt=\"\" /></div>\\n\\t\\t\\t\\t\\t\\t\\t\\t\\t\\t<div class=\"pn-ranking-livro-nome\">1984</div>\\n\\t\\t\\t\\t\\t<div class=\"pn-ranking-livro-autor\">George Orwell</div>\\n\\t\\t\\t\\t\\t<div class=\"pn-ranking-livro-editora\">Companhia das Letras</div>\\n\\t\\t\\t\\t</div>\\n\\t\\t\\t\\t<div class=\"pn-ranking-livro-extras\" style=\"display:none;\">\\n\\t\\t\\t\\t\\t\\t\\t\\t\\t\\t<div class=\"pn-ranking-livro-resumo\"><p>Winston, herói de 1984, último romance de George Orwell, vive aprisionado na engrenagem totalitária de uma sociedade completamente dominada pelo Estado, onde tudo é feito coletivamente, mas cada qual vive sozinho. Ninguém escapa à vigilância do Grande Irmão, a mais famosa personificação literária de um poder cínico e cruel ao infinito, além de vazio de sentido histórico.</p></div>\\n\\t\\t\\t\\t\\t\\t\\t\\t\\t\\t\\t\\t\\t\\t\\t<div class=\"pn-ranking-livro-tradutor\">Tradução <strong>Alexandre Hubner | Heloisa Jahn</strong></div>\\n\\t\\t\\t\\t\\t\\t\\t\\t\\t\\t\\t\\t\\t\\t\\t<div class=\"pn-ranking-livro-isbn\">ISBN <strong>978-85-35914-84-9</strong></div>\\n\\t\\t\\t\\t\\t\\t\\t\\t\\t\\t<div class=\"pn-ranking-livro-categoria\">Categoria <strong>Ficção</strong></div>\\n\\t\\t\\t\\t\\t\\t\\t\\t\\t\\t<!-- Removido após a solicitação na Tarefa #24 (19/11/2019 20:08), solicitante: Mari Xavier -->\\n\\t\\t\\t\\t\\t<!--<div class=\"pn-ranking-livro-preco\">Preço <strong>R$ </strong></div> -->\\n\\t\\t\\t\\t\\t<div class=\"pn-ranking-livro-paginas\">Páginas <strong>416</strong></div>\\n\\t\\t\\t\\t</div>\\n\\t\\t\\t</div>\\n\\t\\t\\t\\t</div>\\n\\t</div>\\n<script type=\"text/javascript\">\\n$(document).ready(function(){\\n\\t$(\".pn-ranking-livro-dados\").click(function(){\\n\\t\\t$(this).siblings(\".pn-ranking-livro-extras\").toggle(\\'fast\\');\\n\\t});\\n});\\n</script>\\n\\n\\t\\t\\t\\t\\t\\t\\t</div>\\n\\t\\t\\t\\t\\t\\t\\t<!--\\n\\t\\t\\t\\t\\t\\t\\t<div style=\"padding-left:5px;\">\\n\\t\\t\\t\\t\\t\\t\\t\\t<strong>Período de apuração:</strong> 30/12/2019 a 27/12/2020<br />\\n \\t\\t\\t\\t\\t\\t\\t\\t<strong>Data de publicação:</strong> 31/12/2020\\t\\t\\t\\t\\t\\t\\t</div>\\n\\t\\t\\t\\t\\t\\t\\t-->\\n\\t\\t\\t\\t\\t\\t</div>\\n\\t\\t\\t\\t\\t</div>\\n\\t\\t\\t\\t</div>\\n\\t\\t\\t\\t<div class=\"pn-colunas-02x07\">\\n\\t\\t\\t\\t\\t<div class=\"pn-colunas-corpo clearfix\">\\n\\t\\t\\t\\t\\t\\t<div class=\"pn-subeditoria clearfix\">\\n\\t\\t\\t\\t\\t\\t\\t<div class=\"pn-subeditoria-cabeca clearfix\">\\n\\t\\t\\t\\t\\t\\t\\t\\t<div class=\"pn-subeditoria-titulo\">Editoras</div>\\n\\t\\t\\t\\t\\t\\t\\t\\t\\t\\t\\t\\t\\t\\t\\t</div>\\n\\t\\t\\t\\t\\t\\t</div>\\n\\t\\t\\t\\t\\t\\t<div class=\"pn-ranking-grupos clearfix\">\\n\\t\\t\\t\\t\\t\\t\\t<div class=\"pn-ranking-grupos-corpo clearfix\">\\n\\t\\t\\t\\t\\t\\t\\t\\t\\n\\n\\t<div class=\"pn-ranking-grupos-posicao clearfix\">\\n\\t\\t<div class=\"pn-ranking-grupos-posicao-numero\">1</div>\\n\\t\\t<div class=\"pn-ranking-grupos-posicao-corpo clearfix\">\\n\\t\\t\\t\\t\\t<div class=\"pn-ranking-grupo clearfix\">\\n\\t\\t\\t\\t<div class=\"pn-ranking-grupo-volume\">57</div>\\n\\t\\t\\t\\t\\t\\t\\t\\t<div class=\"pn-ranking-grupo-nome\"><a href=\"/ranking/anual/0/2020/10/0\">Sextante</a></div>\\n\\t\\t\\t\\t\\t\\t\\t\\t\\t\\t\\t\\t\\t\\t\\t\\t<div class=\"pn-ranking-grupo-editoras clearfix\">\\n\\t\\t\\t\\t\\t\\t\\t\\t\\t\\t\\t\\t\\t\\t<div class=\"pn-ranking-editora clearfix\">\\n\\t\\t\\t\\t\\t\\t<div class=\"pn-ranking-editora-volume\">40</div>\\n\\t\\t\\t\\t\\t\\t\\t\\t\\t\\t\\t\\t<div class=\"pn-ranking-editora-nome\"><a href=\"/ranking/anual/0/2020/10/11\">Sextante</a></div>\\n\\t\\t\\t\\t\\t\\t\\t\\t\\t\\t\\t</div>\\n\\t\\t\\t\\t\\t\\t\\t\\t\\t\\t\\t\\t\\t\\t\\t<div class=\"pn-ranking-editora clearfix\">\\n\\t\\t\\t\\t\\t\\t<div class=\"pn-ranking-editora-volume\">15</div>\\n\\t\\t\\t\\t\\t\\t\\t\\t\\t\\t\\t\\t<div class=\"pn-ranking-editora-nome\"><a href=\"/ranking/anual/0/2020/10/212\">Arqueiro</a></div>\\n\\t\\t\\t\\t\\t\\t\\t\\t\\t\\t\\t</div>\\n\\t\\t\\t\\t\\t\\t\\t\\t\\t\\t\\t\\t\\t\\t\\t<div class=\"pn-ranking-editora clearfix\">\\n\\t\\t\\t\\t\\t\\t<div class=\"pn-ranking-editora-volume\">2</div>\\n\\t\\t\\t\\t\\t\\t\\t\\t\\t\\t\\t\\t<div class=\"pn-ranking-editora-nome\"><a href=\"/ranking/anual/0/2020/10/430\">Estação Brasil</a></div>\\n\\t\\t\\t\\t\\t\\t\\t\\t\\t\\t\\t</div>\\n\\t\\t\\t\\t\\t\\t\\t\\t\\t</div>\\n\\t\\t\\t\\t\\t\\t\\t</div>\\n\\t\\t\\t\\t</div>\\n\\t</div>\\n\\t<div class=\"pn-ranking-grupos-posicao clearfix\">\\n\\t\\t<div class=\"pn-ranking-grupos-posicao-numero\">2</div>\\n\\t\\t<div class=\"pn-ranking-grupos-posicao-corpo clearfix\">\\n\\t\\t\\t\\t\\t<div class=\"pn-ranking-grupo clearfix\">\\n\\t\\t\\t\\t<div class=\"pn-ranking-grupo-volume\">48</div>\\n\\t\\t\\t\\t\\t\\t\\t\\t<div class=\"pn-ranking-grupo-nome\"><a href=\"/ranking/anual/0/2020/21/0\">Gente</a></div>\\n\\t\\t\\t\\t\\t\\t\\t\\t\\t\\t\\t\\t\\t\\t\\t\\t<div class=\"pn-ranking-grupo-editoras clearfix\">\\n\\t\\t\\t\\t\\t\\t\\t\\t\\t\\t\\t\\t\\t\\t<div class=\"pn-ranking-editora clearfix\">\\n\\t\\t\\t\\t\\t\\t<div class=\"pn-ranking-editora-volume\">47</div>\\n\\t\\t\\t\\t\\t\\t\\t\\t\\t\\t\\t\\t<div class=\"pn-ranking-editora-nome\"><a href=\"/ranking/anual/0/2020/21/98\">Gente</a></div>\\n\\t\\t\\t\\t\\t\\t\\t\\t\\t\\t\\t</div>\\n\\t\\t\\t\\t\\t\\t\\t\\t\\t\\t\\t\\t\\t\\t\\t<div class=\"pn-ranking-editora clearfix\">\\n\\t\\t\\t\\t\\t\\t<div class=\"pn-ranking-editora-volume\">1</div>\\n\\t\\t\\t\\t\\t\\t\\t\\t\\t\\t\\t\\t<div class=\"pn-ranking-editora-nome\"><a href=\"/ranking/anual/0/2020/21/361\">Única</a></div>\\n\\t\\t\\t\\t\\t\\t\\t\\t\\t\\t\\t</div>\\n\\t\\t\\t\\t\\t\\t\\t\\t\\t</div>\\n\\t\\t\\t\\t\\t\\t\\t</div>\\n\\t\\t\\t\\t\\t<div class=\"pn-ranking-grupo clearfix\">\\n\\t\\t\\t\\t<div class=\"pn-ranking-grupo-volume\">48</div>\\n\\t\\t\\t\\t\\t\\t\\t\\t<div class=\"pn-ranking-grupo-nome\"><a href=\"/ranking/anual/0/2020/20/0\">Grupo Companhia das Letras</a></div>\\n\\t\\t\\t\\t\\t\\t\\t\\t\\t\\t\\t\\t\\t\\t\\t\\t<div class=\"pn-ranking-grupo-editoras clearfix\">\\n\\t\\t\\t\\t\\t\\t\\t\\t\\t\\t\\t\\t\\t\\t<div class=\"pn-ranking-editora clearfix\">\\n\\t\\t\\t\\t\\t\\t<div class=\"pn-ranking-editora-volume\">23</div>\\n\\t\\t\\t\\t\\t\\t\\t\\t\\t\\t\\t\\t<div class=\"pn-ranking-editora-nome\"><a href=\"/ranking/anual/0/2020/20/2\">Companhia das Letras</a></div>\\n\\t\\t\\t\\t\\t\\t\\t\\t\\t\\t\\t</div>\\n\\t\\t\\t\\t\\t\\t\\t\\t\\t\\t\\t\\t\\t\\t\\t<div class=\"pn-ranking-editora clearfix\">\\n\\t\\t\\t\\t\\t\\t<div class=\"pn-ranking-editora-volume\">7</div>\\n\\t\\t\\t\\t\\t\\t\\t\\t\\t\\t\\t\\t<div class=\"pn-ranking-editora-nome\"><a href=\"/ranking/anual/0/2020/20/346\">Seguinte</a></div>\\n\\t\\t\\t\\t\\t\\t\\t\\t\\t\\t\\t</div>\\n\\t\\t\\t\\t\\t\\t\\t\\t\\t\\t\\t\\t\\t\\t\\t<div class=\"pn-ranking-editora clearfix\">\\n\\t\\t\\t\\t\\t\\t<div class=\"pn-ranking-editora-volume\">6</div>\\n\\t\\t\\t\\t\\t\\t\\t\\t\\t\\t\\t\\t<div class=\"pn-ranking-editora-nome\"><a href=\"/ranking/anual/0/2020/20/40\">Objetiva</a></div>\\n\\t\\t\\t\\t\\t\\t\\t\\t\\t\\t\\t</div>\\n\\t\\t\\t\\t\\t\\t\\t\\t\\t\\t\\t\\t\\t\\t\\t<div class=\"pn-ranking-editora clearfix\">\\n\\t\\t\\t\\t\\t\\t<div class=\"pn-ranking-editora-volume\">5</div>\\n\\t\\t\\t\\t\\t\\t\\t\\t\\t\\t\\t\\t<div class=\"pn-ranking-editora-nome\"><a href=\"/ranking/anual/0/2020/20/25\">Suma de Letras</a></div>\\n\\t\\t\\t\\t\\t\\t\\t\\t\\t\\t\\t</div>\\n\\t\\t\\t\\t\\t\\t\\t\\t\\t\\t\\t\\t\\t\\t\\t<div class=\"pn-ranking-editora clearfix\">\\n\\t\\t\\t\\t\\t\\t<div class=\"pn-ranking-editora-volume\">4</div>\\n\\t\\t\\t\\t\\t\\t\\t\\t\\t\\t\\t\\t<div class=\"pn-ranking-editora-nome\"><a href=\"/ranking/anual/0/2020/20/301\">Paralela</a></div>\\n\\t\\t\\t\\t\\t\\t\\t\\t\\t\\t\\t</div>\\n\\t\\t\\t\\t\\t\\t\\t\\t\\t\\t\\t\\t\\t\\t\\t<div class=\"pn-ranking-editora clearfix\">\\n\\t\\t\\t\\t\\t\\t<div class=\"pn-ranking-editora-volume\">1</div>\\n\\t\\t\\t\\t\\t\\t\\t\\t\\t\\t\\t\\t<div class=\"pn-ranking-editora-nome\"><a href=\"/ranking/anual/0/2020/20/140\">Cia das Letrinhas</a></div>\\n\\t\\t\\t\\t\\t\\t\\t\\t\\t\\t\\t</div>\\n\\t\\t\\t\\t\\t\\t\\t\\t\\t\\t<div class=\"pn-ranking-editora clearfix\">\\n\\t\\t\\t\\t\\t\\t<div class=\"pn-ranking-editora-volume\">1</div>\\n\\t\\t\\t\\t\\t\\t\\t\\t\\t\\t\\t\\t<div class=\"pn-ranking-editora-nome\"><a href=\"/ranking/anual/0/2020/20/295\">Companhia de Bolso</a></div>\\n\\t\\t\\t\\t\\t\\t\\t\\t\\t\\t\\t</div>\\n\\t\\t\\t\\t\\t\\t\\t\\t\\t\\t<div class=\"pn-ranking-editora clearfix\">\\n\\t\\t\\t\\t\\t\\t<div class=\"pn-ranking-editora-volume\">1</div>\\n\\t\\t\\t\\t\\t\\t\\t\\t\\t\\t\\t\\t<div class=\"pn-ranking-editora-nome\"><a href=\"/ranking/anual/0/2020/20/138\">Quadrinhos na Cia</a></div>\\n\\t\\t\\t\\t\\t\\t\\t\\t\\t\\t\\t</div>\\n\\t\\t\\t\\t\\t\\t\\t\\t\\t</div>\\n\\t\\t\\t\\t\\t\\t\\t</div>\\n\\t\\t\\t\\t\\t<div class=\"pn-ranking-grupo clearfix\">\\n\\t\\t\\t\\t<div class=\"pn-ranking-grupo-volume\">48</div>\\n\\t\\t\\t\\t\\t\\t\\t\\t<div class=\"pn-ranking-grupo-nome\"><a href=\"/ranking/anual/0/2020/3/0\">Intrínseca</a></div>\\n\\t\\t\\t\\t\\t\\t\\t\\t\\t\\t\\t\\t\\t\\t\\t</div>\\n\\t\\t\\t\\t</div>\\n\\t</div>\\n\\t<div class=\"pn-ranking-grupos-posicao clearfix\">\\n\\t\\t<div class=\"pn-ranking-grupos-posicao-numero\">5</div>\\n\\t\\t<div class=\"pn-ranking-grupos-posicao-corpo clearfix\">\\n\\t\\t\\t\\t\\t<div class=\"pn-ranking-grupo clearfix\">\\n\\t\\t\\t\\t<div class=\"pn-ranking-grupo-volume\">41</div>\\n\\t\\t\\t\\t\\t\\t\\t\\t<div class=\"pn-ranking-grupo-nome\"><a href=\"/ranking/anual/0/2020/232/0\">Alta Books</a></div>\\n\\t\\t\\t\\t\\t\\t\\t\\t\\t\\t\\t\\t\\t\\t\\t\\t<div class=\"pn-ranking-grupo-editoras clearfix\">\\n\\t\\t\\t\\t\\t\\t\\t\\t\\t\\t\\t\\t\\t\\t<div class=\"pn-ranking-editora clearfix\">\\n\\t\\t\\t\\t\\t\\t<div class=\"pn-ranking-editora-volume\">36</div>\\n\\t\\t\\t\\t\\t\\t\\t\\t\\t\\t\\t\\t<div class=\"pn-ranking-editora-nome\"><a href=\"/ranking/anual/0/2020/232/308\">Alta Books Editora</a></div>\\n\\t\\t\\t\\t\\t\\t\\t\\t\\t\\t\\t</div>\\n\\t\\t\\t\\t\\t\\t\\t\\t\\t\\t\\t\\t\\t\\t\\t<div class=\"pn-ranking-editora clearfix\">\\n\\t\\t\\t\\t\\t\\t<div class=\"pn-ranking-editora-volume\">5</div>\\n\\t\\t\\t\\t\\t\\t\\t\\t\\t\\t\\t\\t<div class=\"pn-ranking-editora-nome\"><a href=\"/ranking/anual/0/2020/232/548\">Alta Life Editora</a></div>\\n\\t\\t\\t\\t\\t\\t\\t\\t\\t\\t\\t</div>\\n\\t\\t\\t\\t\\t\\t\\t\\t\\t</div>\\n\\t\\t\\t\\t\\t\\t\\t</div>\\n\\t\\t\\t\\t</div>\\n\\t</div>\\n\\t<div class=\"pn-ranking-grupos-posicao clearfix\">\\n\\t\\t<div class=\"pn-ranking-grupos-posicao-numero\">6</div>\\n\\t\\t<div class=\"pn-ranking-grupos-posicao-corpo clearfix\">\\n\\t\\t\\t\\t\\t<div class=\"pn-ranking-grupo clearfix\">\\n\\t\\t\\t\\t<div class=\"pn-ranking-grupo-volume\">36</div>\\n\\t\\t\\t\\t\\t\\t\\t\\t<div class=\"pn-ranking-grupo-nome\"><a href=\"/ranking/anual/0/2020/4/0\">Grupo Editorial Record</a></div>\\n\\t\\t\\t\\t\\t\\t\\t\\t\\t\\t\\t\\t\\t\\t\\t\\t<div class=\"pn-ranking-grupo-editoras clearfix\">\\n\\t\\t\\t\\t\\t\\t\\t\\t\\t\\t\\t\\t\\t\\t<div class=\"pn-ranking-editora clearfix\">\\n\\t\\t\\t\\t\\t\\t<div class=\"pn-ranking-editora-volume\">9</div>\\n\\t\\t\\t\\t\\t\\t\\t\\t\\t\\t\\t\\t<div class=\"pn-ranking-editora-nome\"><a href=\"/ranking/anual/0/2020/4/6\">Record</a></div>\\n\\t\\t\\t\\t\\t\\t\\t\\t\\t\\t\\t</div>\\n\\t\\t\\t\\t\\t\\t\\t\\t\\t\\t\\t\\t\\t\\t\\t<div class=\"pn-ranking-editora clearfix\">\\n\\t\\t\\t\\t\\t\\t<div class=\"pn-ranking-editora-volume\">8</div>\\n\\t\\t\\t\\t\\t\\t\\t\\t\\t\\t\\t\\t<div class=\"pn-ranking-editora-nome\"><a href=\"/ranking/anual/0/2020/4/50\">BestSeller</a></div>\\n\\t\\t\\t\\t\\t\\t\\t\\t\\t\\t\\t</div>\\n\\t\\t\\t\\t\\t\\t\\t\\t\\t\\t\\t\\t\\t\\t\\t<div class=\"pn-ranking-editora clearfix\">\\n\\t\\t\\t\\t\\t\\t<div class=\"pn-ranking-editora-volume\">7</div>\\n\\t\\t\\t\\t\\t\\t\\t\\t\\t\\t\\t\\t<div class=\"pn-ranking-editora-nome\"><a href=\"/ranking/anual/0/2020/4/169\">Galera Record</a></div>\\n\\t\\t\\t\\t\\t\\t\\t\\t\\t\\t\\t</div>\\n\\t\\t\\t\\t\\t\\t\\t\\t\\t\\t\\t\\t\\t\\t\\t<div class=\"pn-ranking-editora clearfix\">\\n\\t\\t\\t\\t\\t\\t<div class=\"pn-ranking-editora-volume\">3</div>\\n\\t\\t\\t\\t\\t\\t\\t\\t\\t\\t\\t\\t<div class=\"pn-ranking-editora-nome\"><a href=\"/ranking/anual/0/2020/4/90\">Verus</a></div>\\n\\t\\t\\t\\t\\t\\t\\t\\t\\t\\t\\t</div>\\n\\t\\t\\t\\t\\t\\t\\t\\t\\t\\t\\t\\t\\t\\t\\t<div class=\"pn-ranking-editora clearfix\">\\n\\t\\t\\t\\t\\t\\t<div class=\"pn-ranking-editora-volume\">2</div>\\n\\t\\t\\t\\t\\t\\t\\t\\t\\t\\t\\t\\t<div class=\"pn-ranking-editora-nome\"><a href=\"/ranking/anual/0/2020/4/69\">Bertrand Brasil</a></div>\\n\\t\\t\\t\\t\\t\\t\\t\\t\\t\\t\\t</div>\\n\\t\\t\\t\\t\\t\\t\\t\\t\\t\\t<div class=\"pn-ranking-editora clearfix\">\\n\\t\\t\\t\\t\\t\\t<div class=\"pn-ranking-editora-volume\">2</div>\\n\\t\\t\\t\\t\\t\\t\\t\\t\\t\\t\\t\\t<div class=\"pn-ranking-editora-nome\"><a href=\"/ranking/anual/0/2020/4/218\">Best Business</a></div>\\n\\t\\t\\t\\t\\t\\t\\t\\t\\t\\t\\t</div>\\n\\t\\t\\t\\t\\t\\t\\t\\t\\t\\t<div class=\"pn-ranking-editora clearfix\">\\n\\t\\t\\t\\t\\t\\t<div class=\"pn-ranking-editora-volume\">2</div>\\n\\t\\t\\t\\t\\t\\t\\t\\t\\t\\t\\t\\t<div class=\"pn-ranking-editora-nome\"><a href=\"/ranking/anual/0/2020/4/143\">Civilização Brasileira</a></div>\\n\\t\\t\\t\\t\\t\\t\\t\\t\\t\\t\\t</div>\\n\\t\\t\\t\\t\\t\\t\\t\\t\\t\\t\\t\\t\\t\\t\\t<div class=\"pn-ranking-editora clearfix\">\\n\\t\\t\\t\\t\\t\\t<div class=\"pn-ranking-editora-volume\">1</div>\\n\\t\\t\\t\\t\\t\\t\\t\\t\\t\\t\\t\\t<div class=\"pn-ranking-editora-nome\"><a href=\"/ranking/anual/0/2020/4/93\">José Olympio</a></div>\\n\\t\\t\\t\\t\\t\\t\\t\\t\\t\\t\\t</div>\\n\\t\\t\\t\\t\\t\\t\\t\\t\\t\\t<div class=\"pn-ranking-editora clearfix\">\\n\\t\\t\\t\\t\\t\\t<div class=\"pn-ranking-editora-volume\">1</div>\\n\\t\\t\\t\\t\\t\\t\\t\\t\\t\\t\\t\\t<div class=\"pn-ranking-editora-nome\"><a href=\"/ranking/anual/0/2020/4/507\">Rosa dos Tempos</a></div>\\n\\t\\t\\t\\t\\t\\t\\t\\t\\t\\t\\t</div>\\n\\t\\t\\t\\t\\t\\t\\t\\t\\t\\t<div class=\"pn-ranking-editora clearfix\">\\n\\t\\t\\t\\t\\t\\t<div class=\"pn-ranking-editora-volume\">1</div>\\n\\t\\t\\t\\t\\t\\t\\t\\t\\t\\t\\t\\t<div class=\"pn-ranking-editora-nome\"><a href=\"/ranking/anual/0/2020/4/552\">Viva Livros</a></div>\\n\\t\\t\\t\\t\\t\\t\\t\\t\\t\\t\\t</div>\\n\\t\\t\\t\\t\\t\\t\\t\\t\\t</div>\\n\\t\\t\\t\\t\\t\\t\\t</div>\\n\\t\\t\\t\\t</div>\\n\\t</div>\\n\\t<div class=\"pn-ranking-grupos-posicao clearfix\">\\n\\t\\t<div class=\"pn-ranking-grupos-posicao-numero\">7</div>\\n\\t\\t<div class=\"pn-ranking-grupos-posicao-corpo clearfix\">\\n\\t\\t\\t\\t\\t<div class=\"pn-ranking-grupo clearfix\">\\n\\t\\t\\t\\t<div class=\"pn-ranking-grupo-volume\">23</div>\\n\\t\\t\\t\\t\\t\\t\\t\\t<div class=\"pn-ranking-grupo-nome\"><a href=\"/ranking/anual/0/2020/336/0\">Buzz</a></div>\\n\\t\\t\\t\\t\\t\\t\\t\\t\\t\\t\\t\\t\\t\\t\\t</div>\\n\\t\\t\\t\\t\\t<div class=\"pn-ranking-grupo clearfix\">\\n\\t\\t\\t\\t<div class=\"pn-ranking-grupo-volume\">23</div>\\n\\t\\t\\t\\t\\t\\t\\t\\t<div class=\"pn-ranking-grupo-nome\"><a href=\"/ranking/anual/0/2020/12/0\">Planeta</a></div>\\n\\t\\t\\t\\t\\t\\t\\t\\t\\t\\t\\t\\t\\t\\t\\t\\t<div class=\"pn-ranking-grupo-editoras clearfix\">\\n\\t\\t\\t\\t\\t\\t\\t\\t\\t\\t\\t\\t\\t\\t<div class=\"pn-ranking-editora clearfix\">\\n\\t\\t\\t\\t\\t\\t<div class=\"pn-ranking-editora-volume\">12</div>\\n\\t\\t\\t\\t\\t\\t\\t\\t\\t\\t\\t\\t<div class=\"pn-ranking-editora-nome\"><a href=\"/ranking/anual/0/2020/12/8\">Planeta do Brasil</a></div>\\n\\t\\t\\t\\t\\t\\t\\t\\t\\t\\t\\t</div>\\n\\t\\t\\t\\t\\t\\t\\t\\t\\t\\t\\t\\t\\t\\t\\t<div class=\"pn-ranking-editora clearfix\">\\n\\t\\t\\t\\t\\t\\t<div class=\"pn-ranking-editora-volume\">7</div>\\n\\t\\t\\t\\t\\t\\t\\t\\t\\t\\t\\t\\t<div class=\"pn-ranking-editora-nome\"><a href=\"/ranking/anual/0/2020/12/443\">Outro Planeta</a></div>\\n\\t\\t\\t\\t\\t\\t\\t\\t\\t\\t\\t</div>\\n\\t\\t\\t\\t\\t\\t\\t\\t\\t\\t\\t\\t\\t\\t\\t<div class=\"pn-ranking-editora clearfix\">\\n\\t\\t\\t\\t\\t\\t<div class=\"pn-ranking-editora-volume\">3</div>\\n\\t\\t\\t\\t\\t\\t\\t\\t\\t\\t\\t\\t<div class=\"pn-ranking-editora-nome\"><a href=\"/ranking/anual/0/2020/12/91\">Academia</a></div>\\n\\t\\t\\t\\t\\t\\t\\t\\t\\t\\t\\t</div>\\n\\t\\t\\t\\t\\t\\t\\t\\t\\t\\t\\t\\t\\t\\t\\t<div class=\"pn-ranking-editora clearfix\">\\n\\t\\t\\t\\t\\t\\t<div class=\"pn-ranking-editora-volume\">1</div>\\n\\t\\t\\t\\t\\t\\t\\t\\t\\t\\t\\t\\t<div class=\"pn-ranking-editora-nome\"><a href=\"/ranking/anual/0/2020/12/266\">Essência</a></div>\\n\\t\\t\\t\\t\\t\\t\\t\\t\\t\\t\\t</div>\\n\\t\\t\\t\\t\\t\\t\\t\\t\\t</div>\\n\\t\\t\\t\\t\\t\\t\\t</div>\\n\\t\\t\\t\\t\\t<div class=\"pn-ranking-grupo clearfix\">\\n\\t\\t\\t\\t<div class=\"pn-ranking-grupo-volume\">23</div>\\n\\t\\t\\t\\t\\t\\t\\t\\t<div class=\"pn-ranking-grupo-nome\"><a href=\"/ranking/anual/0/2020/6/0\">Rocco</a></div>\\n\\t\\t\\t\\t\\t\\t\\t\\t\\t\\t\\t\\t\\t\\t\\t\\t<div class=\"pn-ranking-grupo-editoras clearfix\">\\n\\t\\t\\t\\t\\t\\t\\t\\t\\t\\t\\t\\t\\t\\t<div class=\"pn-ranking-editora clearfix\">\\n\\t\\t\\t\\t\\t\\t<div class=\"pn-ranking-editora-volume\">19</div>\\n\\t\\t\\t\\t\\t\\t\\t\\t\\t\\t\\t\\t<div class=\"pn-ranking-editora-nome\"><a href=\"/ranking/anual/0/2020/6/13\">Rocco</a></div>\\n\\t\\t\\t\\t\\t\\t\\t\\t\\t\\t\\t</div>\\n\\t\\t\\t\\t\\t\\t\\t\\t\\t\\t\\t\\t\\t\\t\\t<div class=\"pn-ranking-editora clearfix\">\\n\\t\\t\\t\\t\\t\\t<div class=\"pn-ranking-editora-volume\">4</div>\\n\\t\\t\\t\\t\\t\\t\\t\\t\\t\\t\\t\\t<div class=\"pn-ranking-editora-nome\"><a href=\"/ranking/anual/0/2020/6/272\">Rocco Jovens Leitores</a></div>\\n\\t\\t\\t\\t\\t\\t\\t\\t\\t\\t\\t</div>\\n\\t\\t\\t\\t\\t\\t\\t\\t\\t</div>\\n\\t\\t\\t\\t\\t\\t\\t</div>\\n\\t\\t\\t\\t</div>\\n\\t</div>\\n\\t<div class=\"pn-ranking-grupos-posicao clearfix\">\\n\\t\\t<div class=\"pn-ranking-grupos-posicao-numero\">10</div>\\n\\t\\t<div class=\"pn-ranking-grupos-posicao-corpo clearfix\">\\n\\t\\t\\t\\t\\t<div class=\"pn-ranking-grupo clearfix\">\\n\\t\\t\\t\\t<div class=\"pn-ranking-grupo-volume\">17</div>\\n\\t\\t\\t\\t\\t\\t\\t\\t<div class=\"pn-ranking-grupo-nome\"><a href=\"/ranking/anual/0/2020/170/0\">Ciranda Cultural</a></div>\\n\\t\\t\\t\\t\\t\\t\\t\\t\\t\\t\\t\\t\\t\\t\\t\\t<div class=\"pn-ranking-grupo-editoras clearfix\">\\n\\t\\t\\t\\t\\t\\t\\t\\t\\t\\t\\t\\t\\t\\t<div class=\"pn-ranking-editora clearfix\">\\n\\t\\t\\t\\t\\t\\t<div class=\"pn-ranking-editora-volume\">16</div>\\n\\t\\t\\t\\t\\t\\t\\t\\t\\t\\t\\t\\t<div class=\"pn-ranking-editora-nome\"><a href=\"/ranking/anual/0/2020/170/235\">Ciranda Cultural</a></div>\\n\\t\\t\\t\\t\\t\\t\\t\\t\\t\\t\\t</div>\\n\\t\\t\\t\\t\\t\\t\\t\\t\\t\\t\\t\\t\\t\\t\\t<div class=\"pn-ranking-editora clearfix\">\\n\\t\\t\\t\\t\\t\\t<div class=\"pn-ranking-editora-volume\">1</div>\\n\\t\\t\\t\\t\\t\\t\\t\\t\\t\\t\\t\\t<div class=\"pn-ranking-editora-nome\"><a href=\"/ranking/anual/0/2020/170/536\">Principis</a></div>\\n\\t\\t\\t\\t\\t\\t\\t\\t\\t\\t\\t</div>\\n\\t\\t\\t\\t\\t\\t\\t\\t\\t</div>\\n\\t\\t\\t\\t\\t\\t\\t</div>\\n\\t\\t\\t\\t\\t<div class=\"pn-ranking-grupo clearfix\">\\n\\t\\t\\t\\t<div class=\"pn-ranking-grupo-volume\">17</div>\\n\\t\\t\\t\\t\\t\\t\\t\\t<div class=\"pn-ranking-grupo-nome\"><a href=\"/ranking/anual/0/2020/344/0\">Citadel Grupo Editorial</a></div>\\n\\t\\t\\t\\t\\t\\t\\t\\t\\t\\t\\t\\t\\t\\t\\t\\t<div class=\"pn-ranking-grupo-editoras clearfix\">\\n\\t\\t\\t\\t\\t\\t\\t\\t\\t\\t\\t\\t\\t\\t<div class=\"pn-ranking-editora clearfix\">\\n\\t\\t\\t\\t\\t\\t<div class=\"pn-ranking-editora-volume\">17</div>\\n\\t\\t\\t\\t\\t\\t\\t\\t\\t\\t\\t\\t<div class=\"pn-ranking-editora-nome\"><a href=\"/ranking/anual/0/2020/344/483\">Citadel</a></div>\\n\\t\\t\\t\\t\\t\\t\\t\\t\\t\\t\\t</div>\\n\\t\\t\\t\\t\\t\\t\\t\\t\\t\\t\\t\\t\\t\\t\\t<div class=\"pn-ranking-editora clearfix\">\\n\\t\\t\\t\\t\\t\\t<div class=\"pn-ranking-editora-volume\">2</div>\\n\\t\\t\\t\\t\\t\\t\\t\\t\\t\\t\\t\\t<div class=\"pn-ranking-editora-nome\"><a href=\"/ranking/anual/0/2020/344/467\">CDG</a></div>\\n\\t\\t\\t\\t\\t\\t\\t\\t\\t\\t\\t</div>\\n\\t\\t\\t\\t\\t\\t\\t\\t\\t</div>\\n\\t\\t\\t\\t\\t\\t\\t</div>\\n\\t\\t\\t\\t\\t<div class=\"pn-ranking-grupo clearfix\">\\n\\t\\t\\t\\t<div class=\"pn-ranking-grupo-volume\">17</div>\\n\\t\\t\\t\\t\\t\\t\\t\\t<div class=\"pn-ranking-grupo-nome\"><a href=\"/ranking/anual/0/2020/8/0\">Ediouro</a></div>\\n\\t\\t\\t\\t\\t\\t\\t\\t\\t\\t\\t\\t\\t\\t\\t\\t<div class=\"pn-ranking-grupo-editoras clearfix\">\\n\\t\\t\\t\\t\\t\\t\\t\\t\\t\\t\\t\\t\\t\\t<div class=\"pn-ranking-editora clearfix\">\\n\\t\\t\\t\\t\\t\\t<div class=\"pn-ranking-editora-volume\">9</div>\\n\\t\\t\\t\\t\\t\\t\\t\\t\\t\\t\\t\\t<div class=\"pn-ranking-editora-nome\"><a href=\"/ranking/anual/0/2020/8/506\">Pixel</a></div>\\n\\t\\t\\t\\t\\t\\t\\t\\t\\t\\t\\t</div>\\n\\t\\t\\t\\t\\t\\t\\t\\t\\t\\t\\t\\t\\t\\t\\t<div class=\"pn-ranking-editora clearfix\">\\n\\t\\t\\t\\t\\t\\t<div class=\"pn-ranking-editora-volume\">6</div>\\n\\t\\t\\t\\t\\t\\t\\t\\t\\t\\t\\t\\t<div class=\"pn-ranking-editora-nome\"><a href=\"/ranking/anual/0/2020/8/92\">Nova Fronteira</a></div>\\n\\t\\t\\t\\t\\t\\t\\t\\t\\t\\t\\t</div>\\n\\t\\t\\t\\t\\t\\t\\t\\t\\t\\t\\t\\t\\t\\t\\t<div class=\"pn-ranking-editora clearfix\">\\n\\t\\t\\t\\t\\t\\t<div class=\"pn-ranking-editora-volume\">1</div>\\n\\t\\t\\t\\t\\t\\t\\t\\t\\t\\t\\t\\t<div class=\"pn-ranking-editora-nome\"><a href=\"/ranking/anual/0/2020/8/44\">Ediouro</a></div>\\n\\t\\t\\t\\t\\t\\t\\t\\t\\t\\t\\t</div>\\n\\t\\t\\t\\t\\t\\t\\t\\t\\t\\t<div class=\"pn-ranking-editora clearfix\">\\n\\t\\t\\t\\t\\t\\t<div class=\"pn-ranking-editora-volume\">1</div>\\n\\t\\t\\t\\t\\t\\t\\t\\t\\t\\t\\t\\t<div class=\"pn-ranking-editora-nome\"><a href=\"/ranking/anual/0/2020/8/408\">Petra</a></div>\\n\\t\\t\\t\\t\\t\\t\\t\\t\\t\\t\\t</div>\\n\\t\\t\\t\\t\\t\\t\\t\\t\\t</div>\\n\\t\\t\\t\\t\\t\\t\\t</div>\\n\\t\\t\\t\\t</div>\\n\\t</div>\\n\\t<div class=\"pn-ranking-grupos-posicao clearfix\">\\n\\t\\t<div class=\"pn-ranking-grupos-posicao-numero\">13</div>\\n\\t\\t<div class=\"pn-ranking-grupos-posicao-corpo clearfix\">\\n\\t\\t\\t\\t\\t<div class=\"pn-ranking-grupo clearfix\">\\n\\t\\t\\t\\t<div class=\"pn-ranking-grupo-volume\">16</div>\\n\\t\\t\\t\\t\\t\\t\\t\\t<div class=\"pn-ranking-grupo-nome\"><a href=\"/ranking/anual/0/2020/7/0\">Globo</a></div>\\n\\t\\t\\t\\t\\t\\t\\t\\t\\t\\t\\t\\t\\t\\t\\t\\t<div class=\"pn-ranking-grupo-editoras clearfix\">\\n\\t\\t\\t\\t\\t\\t\\t\\t\\t\\t\\t\\t\\t\\t<div class=\"pn-ranking-editora clearfix\">\\n\\t\\t\\t\\t\\t\\t<div class=\"pn-ranking-editora-volume\">8</div>\\n\\t\\t\\t\\t\\t\\t\\t\\t\\t\\t\\t\\t<div class=\"pn-ranking-editora-nome\"><a href=\"/ranking/anual/0/2020/7/18\">Globo Livros</a></div>\\n\\t\\t\\t\\t\\t\\t\\t\\t\\t\\t\\t</div>\\n\\t\\t\\t\\t\\t\\t\\t\\t\\t\\t\\t\\t\\t\\t\\t<div class=\"pn-ranking-editora clearfix\">\\n\\t\\t\\t\\t\\t\\t<div class=\"pn-ranking-editora-volume\">4</div>\\n\\t\\t\\t\\t\\t\\t\\t\\t\\t\\t\\t\\t<div class=\"pn-ranking-editora-nome\"><a href=\"/ranking/anual/0/2020/7/484\">Globo Alt</a></div>\\n\\t\\t\\t\\t\\t\\t\\t\\t\\t\\t\\t</div>\\n\\t\\t\\t\\t\\t\\t\\t\\t\\t\\t\\t\\t\\t\\t\\t<div class=\"pn-ranking-editora clearfix\">\\n\\t\\t\\t\\t\\t\\t<div class=\"pn-ranking-editora-volume\">3</div>\\n\\t\\t\\t\\t\\t\\t\\t\\t\\t\\t\\t\\t<div class=\"pn-ranking-editora-nome\"><a href=\"/ranking/anual/0/2020/7/314\">Biblioteca Azul</a></div>\\n\\t\\t\\t\\t\\t\\t\\t\\t\\t\\t\\t</div>\\n\\t\\t\\t\\t\\t\\t\\t\\t\\t\\t\\t\\t\\t\\t\\t<div class=\"pn-ranking-editora clearfix\">\\n\\t\\t\\t\\t\\t\\t<div class=\"pn-ranking-editora-volume\">1</div>\\n\\t\\t\\t\\t\\t\\t\\t\\t\\t\\t\\t\\t<div class=\"pn-ranking-editora-nome\"><a href=\"/ranking/anual/0/2020/7/329\">Globo Estilo</a></div>\\n\\t\\t\\t\\t\\t\\t\\t\\t\\t\\t\\t</div>\\n\\t\\t\\t\\t\\t\\t\\t\\t\\t</div>\\n\\t\\t\\t\\t\\t\\t\\t</div>\\n\\t\\t\\t\\t</div>\\n\\t</div>\\n\\t<div class=\"pn-ranking-grupos-posicao clearfix\">\\n\\t\\t<div class=\"pn-ranking-grupos-posicao-numero\">14</div>\\n\\t\\t<div class=\"pn-ranking-grupos-posicao-corpo clearfix\">\\n\\t\\t\\t\\t\\t<div class=\"pn-ranking-grupo clearfix\">\\n\\t\\t\\t\\t<div class=\"pn-ranking-grupo-volume\">15</div>\\n\\t\\t\\t\\t\\t\\t\\t\\t<div class=\"pn-ranking-grupo-nome\"><a href=\"/ranking/anual/0/2020/338/0\">HarperCollins Brasil</a></div>\\n\\t\\t\\t\\t\\t\\t\\t\\t\\t\\t\\t\\t\\t\\t\\t\\t<div class=\"pn-ranking-grupo-editoras clearfix\">\\n\\t\\t\\t\\t\\t\\t\\t\\t\\t\\t\\t\\t\\t\\t<div class=\"pn-ranking-editora clearfix\">\\n\\t\\t\\t\\t\\t\\t<div class=\"pn-ranking-editora-volume\">14</div>\\n\\t\\t\\t\\t\\t\\t\\t\\t\\t\\t\\t\\t<div class=\"pn-ranking-editora-nome\"><a href=\"/ranking/anual/0/2020/338/422\">HarperCollins</a></div>\\n\\t\\t\\t\\t\\t\\t\\t\\t\\t\\t\\t</div>\\n\\t\\t\\t\\t\\t\\t\\t\\t\\t\\t\\t\\t\\t\\t\\t<div class=\"pn-ranking-editora clearfix\">\\n\\t\\t\\t\\t\\t\\t<div class=\"pn-ranking-editora-volume\">1</div>\\n\\t\\t\\t\\t\\t\\t\\t\\t\\t\\t\\t\\t<div class=\"pn-ranking-editora-nome\"><a href=\"/ranking/anual/0/2020/338/106\">Thomas Nelson Brasil</a></div>\\n\\t\\t\\t\\t\\t\\t\\t\\t\\t\\t\\t</div>\\n\\t\\t\\t\\t\\t\\t\\t\\t\\t</div>\\n\\t\\t\\t\\t\\t\\t\\t</div>\\n\\t\\t\\t\\t</div>\\n\\t</div>\\n\\t<div class=\"pn-ranking-grupos-posicao clearfix\">\\n\\t\\t<div class=\"pn-ranking-grupos-posicao-numero\">15</div>\\n\\t\\t<div class=\"pn-ranking-grupos-posicao-corpo clearfix\">\\n\\t\\t\\t\\t\\t<div class=\"pn-ranking-grupo clearfix\">\\n\\t\\t\\t\\t<div class=\"pn-ranking-grupo-volume\">12</div>\\n\\t\\t\\t\\t\\t\\t\\t\\t<div class=\"pn-ranking-grupo-nome\"><a href=\"/ranking/anual/0/2020/242/0\">Loyola</a></div>\\n\\t\\t\\t\\t\\t\\t\\t\\t\\t\\t\\t\\t\\t\\t\\t\\t<div class=\"pn-ranking-grupo-editoras clearfix\">\\n\\t\\t\\t\\t\\t\\t\\t\\t\\t\\t\\t\\t\\t\\t<div class=\"pn-ranking-editora clearfix\">\\n\\t\\t\\t\\t\\t\\t<div class=\"pn-ranking-editora-volume\">10</div>\\n\\t\\t\\t\\t\\t\\t\\t\\t\\t\\t\\t\\t<div class=\"pn-ranking-editora-nome\"><a href=\"/ranking/anual/0/2020/242/321\">Loyola</a></div>\\n\\t\\t\\t\\t\\t\\t\\t\\t\\t\\t\\t</div>\\n\\t\\t\\t\\t\\t\\t\\t\\t\\t\\t\\t\\t\\t\\t\\t<div class=\"pn-ranking-editora clearfix\">\\n\\t\\t\\t\\t\\t\\t<div class=\"pn-ranking-editora-volume\">2</div>\\n\\t\\t\\t\\t\\t\\t\\t\\t\\t\\t\\t\\t<div class=\"pn-ranking-editora-nome\"><a href=\"/ranking/anual/0/2020/395/533\">Fons Sapientiae</a></div>\\n\\t\\t\\t\\t\\t\\t\\t\\t\\t\\t\\t</div>\\n\\t\\t\\t\\t\\t\\t\\t\\t\\t</div>\\n\\t\\t\\t\\t\\t\\t\\t</div>\\n\\t\\t\\t\\t</div>\\n\\t</div>\\n\\t<div class=\"pn-ranking-grupos-posicao clearfix\">\\n\\t\\t<div class=\"pn-ranking-grupos-posicao-numero\">16</div>\\n\\t\\t<div class=\"pn-ranking-grupos-posicao-corpo clearfix\">\\n\\t\\t\\t\\t\\t<div class=\"pn-ranking-grupo clearfix\">\\n\\t\\t\\t\\t<div class=\"pn-ranking-grupo-volume\">11</div>\\n\\t\\t\\t\\t\\t\\t\\t\\t<div class=\"pn-ranking-grupo-nome\"><a href=\"/ranking/anual/0/2020/18/0\">Novo Século</a></div>\\n\\t\\t\\t\\t\\t\\t\\t\\t\\t\\t\\t\\t\\t\\t\\t\\t<div class=\"pn-ranking-grupo-editoras clearfix\">\\n\\t\\t\\t\\t\\t\\t\\t\\t\\t\\t\\t\\t\\t\\t<div class=\"pn-ranking-editora clearfix\">\\n\\t\\t\\t\\t\\t\\t<div class=\"pn-ranking-editora-volume\">10</div>\\n\\t\\t\\t\\t\\t\\t\\t\\t\\t\\t\\t\\t<div class=\"pn-ranking-editora-nome\"><a href=\"/ranking/anual/0/2020/18/97\">Novo Século</a></div>\\n\\t\\t\\t\\t\\t\\t\\t\\t\\t\\t\\t</div>\\n\\t\\t\\t\\t\\t\\t\\t\\t\\t\\t\\t\\t\\t\\t\\t<div class=\"pn-ranking-editora clearfix\">\\n\\t\\t\\t\\t\\t\\t<div class=\"pn-ranking-editora-volume\">1</div>\\n\\t\\t\\t\\t\\t\\t\\t\\t\\t\\t\\t\\t<div class=\"pn-ranking-editora-nome\"><a href=\"/ranking/anual/0/2020/18/510\">Figurati</a></div>\\n\\t\\t\\t\\t\\t\\t\\t\\t\\t\\t\\t</div>\\n\\t\\t\\t\\t\\t\\t\\t\\t\\t</div>\\n\\t\\t\\t\\t\\t\\t\\t</div>\\n\\t\\t\\t\\t</div>\\n\\t</div>\\n\\t<div class=\"pn-ranking-grupos-posicao clearfix\">\\n\\t\\t<div class=\"pn-ranking-grupos-posicao-numero\">17</div>\\n\\t\\t<div class=\"pn-ranking-grupos-posicao-corpo clearfix\">\\n\\t\\t\\t\\t\\t<div class=\"pn-ranking-grupo clearfix\">\\n\\t\\t\\t\\t<div class=\"pn-ranking-grupo-volume\">10</div>\\n\\t\\t\\t\\t\\t\\t\\t\\t<div class=\"pn-ranking-grupo-nome\"><a href=\"/ranking/anual/0/2020/292/0\">Pandorga</a></div>\\n\\t\\t\\t\\t\\t\\t\\t\\t\\t\\t\\t\\t\\t\\t\\t</div>\\n\\t\\t\\t\\t\\t<div class=\"pn-ranking-grupo clearfix\">\\n\\t\\t\\t\\t<div class=\"pn-ranking-grupo-volume\">10</div>\\n\\t\\t\\t\\t\\t\\t\\t\\t<div class=\"pn-ranking-grupo-nome\"><a href=\"/ranking/anual/0/2020/176/0\">Somos Educação</a></div>\\n\\t\\t\\t\\t\\t\\t\\t\\t\\t\\t\\t\\t\\t\\t\\t\\t<div class=\"pn-ranking-grupo-editoras clearfix\">\\n\\t\\t\\t\\t\\t\\t\\t\\t\\t\\t\\t\\t\\t\\t<div class=\"pn-ranking-editora clearfix\">\\n\\t\\t\\t\\t\\t\\t<div class=\"pn-ranking-editora-volume\">5</div>\\n\\t\\t\\t\\t\\t\\t\\t\\t\\t\\t\\t\\t<div class=\"pn-ranking-editora-nome\"><a href=\"/ranking/anual/0/2020/176/7\">Saraiva</a></div>\\n\\t\\t\\t\\t\\t\\t\\t\\t\\t\\t\\t</div>\\n\\t\\t\\t\\t\\t\\t\\t\\t\\t\\t\\t\\t\\t\\t\\t<div class=\"pn-ranking-editora clearfix\">\\n\\t\\t\\t\\t\\t\\t<div class=\"pn-ranking-editora-volume\">2</div>\\n\\t\\t\\t\\t\\t\\t\\t\\t\\t\\t\\t\\t<div class=\"pn-ranking-editora-nome\"><a href=\"/ranking/anual/0/2020/176/55\">Benvirá</a></div>\\n\\t\\t\\t\\t\\t\\t\\t\\t\\t\\t\\t</div>\\n\\t\\t\\t\\t\\t\\t\\t\\t\\t\\t\\t\\t\\t\\t\\t<div class=\"pn-ranking-editora clearfix\">\\n\\t\\t\\t\\t\\t\\t<div class=\"pn-ranking-editora-volume\">1</div>\\n\\t\\t\\t\\t\\t\\t\\t\\t\\t\\t\\t\\t<div class=\"pn-ranking-editora-nome\"><a href=\"/ranking/anual/0/2020/176/240\">Ática</a></div>\\n\\t\\t\\t\\t\\t\\t\\t\\t\\t\\t\\t</div>\\n\\t\\t\\t\\t\\t\\t\\t\\t\\t\\t<div class=\"pn-ranking-editora clearfix\">\\n\\t\\t\\t\\t\\t\\t<div class=\"pn-ranking-editora-volume\">1</div>\\n\\t\\t\\t\\t\\t\\t\\t\\t\\t\\t\\t\\t<div class=\"pn-ranking-editora-nome\"><a href=\"/ranking/anual/0/2020/176/538\">Formato</a></div>\\n\\t\\t\\t\\t\\t\\t\\t\\t\\t\\t\\t</div>\\n\\t\\t\\t\\t\\t\\t\\t\\t\\t\\t<div class=\"pn-ranking-editora clearfix\">\\n\\t\\t\\t\\t\\t\\t<div class=\"pn-ranking-editora-volume\">1</div>\\n\\t\\t\\t\\t\\t\\t\\t\\t\\t\\t\\t\\t<div class=\"pn-ranking-editora-nome\"><a href=\"/ranking/anual/0/2020/176/491\">Saraiva Jur</a></div>\\n\\t\\t\\t\\t\\t\\t\\t\\t\\t\\t\\t</div>\\n\\t\\t\\t\\t\\t\\t\\t\\t\\t</div>\\n\\t\\t\\t\\t\\t\\t\\t</div>\\n\\t\\t\\t\\t</div>\\n\\t</div>\\n\\t<div class=\"pn-ranking-grupos-posicao clearfix\">\\n\\t\\t<div class=\"pn-ranking-grupos-posicao-numero\">19</div>\\n\\t\\t<div class=\"pn-ranking-grupos-posicao-corpo clearfix\">\\n\\t\\t\\t\\t\\t<div class=\"pn-ranking-grupo clearfix\">\\n\\t\\t\\t\\t<div class=\"pn-ranking-grupo-volume\">8</div>\\n\\t\\t\\t\\t\\t\\t\\t\\t<div class=\"pn-ranking-grupo-nome\"><a href=\"/ranking/anual/0/2020/402/0\">Angelus Editora</a></div>\\n\\t\\t\\t\\t\\t\\t\\t\\t\\t\\t\\t\\t\\t\\t\\t</div>\\n\\t\\t\\t\\t</div>\\n\\t</div>\\n\\t<div class=\"pn-ranking-grupos-posicao clearfix\">\\n\\t\\t<div class=\"pn-ranking-grupos-posicao-numero\">20</div>\\n\\t\\t<div class=\"pn-ranking-grupos-posicao-corpo clearfix\">\\n\\t\\t\\t\\t\\t<div class=\"pn-ranking-grupo clearfix\">\\n\\t\\t\\t\\t<div class=\"pn-ranking-grupo-volume\">7</div>\\n\\t\\t\\t\\t\\t\\t\\t\\t<div class=\"pn-ranking-grupo-nome\"><a href=\"/ranking/anual/0/2020/339/0\">Faro Editorial</a></div>\\n\\t\\t\\t\\t\\t\\t\\t\\t\\t\\t\\t\\t\\t\\t\\t</div>\\n\\t\\t\\t\\t\\t<div class=\"pn-ranking-grupo clearfix\">\\n\\t\\t\\t\\t<div class=\"pn-ranking-grupo-volume\">7</div>\\n\\t\\t\\t\\t\\t\\t\\t\\t<div class=\"pn-ranking-grupo-nome\"><a href=\"/ranking/anual/0/2020/343/0\">Luz da Serra</a></div>\\n\\t\\t\\t\\t\\t\\t\\t\\t\\t\\t\\t\\t\\t\\t\\t\\t<div class=\"pn-ranking-grupo-editoras clearfix\">\\n\\t\\t\\t\\t\\t\\t\\t\\t\\t\\t\\t\\t\\t\\t<div class=\"pn-ranking-editora clearfix\">\\n\\t\\t\\t\\t\\t\\t<div class=\"pn-ranking-editora-volume\">5</div>\\n\\t\\t\\t\\t\\t\\t\\t\\t\\t\\t\\t\\t<div class=\"pn-ranking-editora-nome\"><a href=\"/ranking/anual/0/2020/343/466\">Luz da Serra</a></div>\\n\\t\\t\\t\\t\\t\\t\\t\\t\\t\\t\\t</div>\\n\\t\\t\\t\\t\\t\\t\\t\\t\\t\\t\\t\\t\\t\\t\\t<div class=\"pn-ranking-editora clearfix\">\\n\\t\\t\\t\\t\\t\\t<div class=\"pn-ranking-editora-volume\">2</div>\\n\\t\\t\\t\\t\\t\\t\\t\\t\\t\\t\\t\\t<div class=\"pn-ranking-editora-nome\"><a href=\"/ranking/anual/0/2020/343/551\">MAP - Mentes de Alta Performance</a></div>\\n\\t\\t\\t\\t\\t\\t\\t\\t\\t\\t\\t</div>\\n\\t\\t\\t\\t\\t\\t\\t\\t\\t</div>\\n\\t\\t\\t\\t\\t\\t\\t</div>\\n\\t\\t\\t\\t\\t<div class=\"pn-ranking-grupo clearfix\">\\n\\t\\t\\t\\t<div class=\"pn-ranking-grupo-volume\">7</div>\\n\\t\\t\\t\\t\\t\\t\\t\\t<div class=\"pn-ranking-grupo-nome\"><a href=\"/ranking/anual/0/2020/31/0\">Melhoramentos</a></div>\\n\\t\\t\\t\\t\\t\\t\\t\\t\\t\\t\\t\\t\\t\\t\\t</div>\\n\\t\\t\\t\\t\\t<div class=\"pn-ranking-grupo clearfix\">\\n\\t\\t\\t\\t<div class=\"pn-ranking-grupo-volume\">7</div>\\n\\t\\t\\t\\t\\t\\t\\t\\t<div class=\"pn-ranking-grupo-nome\"><a href=\"/ranking/anual/0/2020/32/0\">VR Editora</a></div>\\n\\t\\t\\t\\t\\t\\t\\t\\t\\t\\t\\t\\t\\t\\t\\t\\t<div class=\"pn-ranking-grupo-editoras clearfix\">\\n\\t\\t\\t\\t\\t\\t\\t\\t\\t\\t\\t\\t\\t\\t<div class=\"pn-ranking-editora clearfix\">\\n\\t\\t\\t\\t\\t\\t<div class=\"pn-ranking-editora-volume\">7</div>\\n\\t\\t\\t\\t\\t\\t\\t\\t\\t\\t\\t\\t<div class=\"pn-ranking-editora-nome\"><a href=\"/ranking/anual/0/2020/32/109\">VR Editora</a></div>\\n\\t\\t\\t\\t\\t\\t\\t\\t\\t\\t\\t</div>\\n\\t\\t\\t\\t\\t\\t\\t\\t\\t\\t\\t\\t\\t\\t\\t<div class=\"pn-ranking-editora clearfix\">\\n\\t\\t\\t\\t\\t\\t<div class=\"pn-ranking-editora-volume\">1</div>\\n\\t\\t\\t\\t\\t\\t\\t\\t\\t\\t\\t\\t<div class=\"pn-ranking-editora-nome\"><a href=\"/ranking/anual/0/2020/32/531\">VR Editora</a></div>\\n\\t\\t\\t\\t\\t\\t\\t\\t\\t\\t\\t</div>\\n\\t\\t\\t\\t\\t\\t\\t\\t\\t</div>\\n\\t\\t\\t\\t\\t\\t\\t</div>\\n\\t\\t\\t\\t</div>\\n\\t</div>\\n\\t<div class=\"pn-ranking-grupos-posicao clearfix\">\\n\\t\\t<div class=\"pn-ranking-grupos-posicao-numero\">24</div>\\n\\t\\t<div class=\"pn-ranking-grupos-posicao-corpo clearfix\">\\n\\t\\t\\t\\t\\t<div class=\"pn-ranking-grupo clearfix\">\\n\\t\\t\\t\\t<div class=\"pn-ranking-grupo-volume\">6</div>\\n\\t\\t\\t\\t\\t\\t\\t\\t<div class=\"pn-ranking-grupo-nome\"><a href=\"/ranking/anual/0/2020/317/0\">Alto Astral</a></div>\\n\\t\\t\\t\\t\\t\\t\\t\\t\\t\\t\\t\\t\\t\\t\\t</div>\\n\\t\\t\\t\\t\\t<div class=\"pn-ranking-grupo clearfix\">\\n\\t\\t\\t\\t<div class=\"pn-ranking-grupo-volume\">6</div>\\n\\t\\t\\t\\t\\t\\t\\t\\t<div class=\"pn-ranking-grupo-nome\"><a href=\"/ranking/anual/0/2020/306/0\">DarkSide</a></div>\\n\\t\\t\\t\\t\\t\\t\\t\\t\\t\\t\\t\\t\\t\\t\\t</div>\\n\\t\\t\\t\\t\\t<div class=\"pn-ranking-grupo clearfix\">\\n\\t\\t\\t\\t<div class=\"pn-ranking-grupo-volume\">6</div>\\n\\t\\t\\t\\t\\t\\t\\t\\t<div class=\"pn-ranking-grupo-nome\"><a href=\"/ranking/anual/0/2020/342/0\">Literare Books</a></div>\\n\\t\\t\\t\\t\\t\\t\\t\\t\\t\\t\\t\\t\\t\\t\\t</div>\\n\\t\\t\\t\\t</div>\\n\\t</div>\\n\\t<div class=\"pn-ranking-grupos-posicao clearfix\">\\n\\t\\t<div class=\"pn-ranking-grupos-posicao-numero\">27</div>\\n\\t\\t<div class=\"pn-ranking-grupos-posicao-corpo clearfix\">\\n\\t\\t\\t\\t\\t<div class=\"pn-ranking-grupo clearfix\">\\n\\t\\t\\t\\t<div class=\"pn-ranking-grupo-volume\">5</div>\\n\\t\\t\\t\\t\\t\\t\\t\\t<div class=\"pn-ranking-grupo-nome\"><a href=\"/ranking/anual/0/2020/95/0\">Aleph</a></div>\\n\\t\\t\\t\\t\\t\\t\\t\\t\\t\\t\\t\\t\\t\\t\\t\\t<div class=\"pn-ranking-grupo-editoras clearfix\">\\n\\t\\t\\t\\t\\t\\t\\t\\t\\t\\t\\t\\t\\t\\t<div class=\"pn-ranking-editora clearfix\">\\n\\t\\t\\t\\t\\t\\t<div class=\"pn-ranking-editora-volume\">4</div>\\n\\t\\t\\t\\t\\t\\t\\t\\t\\t\\t\\t\\t<div class=\"pn-ranking-editora-nome\"><a href=\"/ranking/anual/0/2020/95/152\">Aleph</a></div>\\n\\t\\t\\t\\t\\t\\t\\t\\t\\t\\t\\t</div>\\n\\t\\t\\t\\t\\t\\t\\t\\t\\t\\t\\t\\t\\t\\t\\t<div class=\"pn-ranking-editora clearfix\">\\n\\t\\t\\t\\t\\t\\t<div class=\"pn-ranking-editora-volume\">1</div>\\n\\t\\t\\t\\t\\t\\t\\t\\t\\t\\t\\t\\t<div class=\"pn-ranking-editora-nome\"><a href=\"/ranking/anual/0/2020/95/546\">Goya</a></div>\\n\\t\\t\\t\\t\\t\\t\\t\\t\\t\\t\\t</div>\\n\\t\\t\\t\\t\\t\\t\\t\\t\\t</div>\\n\\t\\t\\t\\t\\t\\t\\t</div>\\n\\t\\t\\t\\t\\t<div class=\"pn-ranking-grupo clearfix\">\\n\\t\\t\\t\\t<div class=\"pn-ranking-grupo-volume\">5</div>\\n\\t\\t\\t\\t\\t\\t\\t\\t<div class=\"pn-ranking-grupo-nome\"><a href=\"/ranking/anual/0/2020/74/0\">Vozes</a></div>\\n\\t\\t\\t\\t\\t\\t\\t\\t\\t\\t\\t\\t\\t\\t\\t\\t<div class=\"pn-ranking-grupo-editoras clearfix\">\\n\\t\\t\\t\\t\\t\\t\\t\\t\\t\\t\\t\\t\\t\\t<div class=\"pn-ranking-editora clearfix\">\\n\\t\\t\\t\\t\\t\\t<div class=\"pn-ranking-editora-volume\">4</div>\\n\\t\\t\\t\\t\\t\\t\\t\\t\\t\\t\\t\\t<div class=\"pn-ranking-editora-nome\"><a href=\"/ranking/anual/0/2020/74/129\">Vozes</a></div>\\n\\t\\t\\t\\t\\t\\t\\t\\t\\t\\t\\t</div>\\n\\t\\t\\t\\t\\t\\t\\t\\t\\t\\t\\t\\t\\t\\t\\t<div class=\"pn-ranking-editora clearfix\">\\n\\t\\t\\t\\t\\t\\t<div class=\"pn-ranking-editora-volume\">1</div>\\n\\t\\t\\t\\t\\t\\t\\t\\t\\t\\t\\t\\t<div class=\"pn-ranking-editora-nome\"><a href=\"/ranking/anual/0/2020/74/400\">Vozes de Bolso</a></div>\\n\\t\\t\\t\\t\\t\\t\\t\\t\\t\\t\\t</div>\\n\\t\\t\\t\\t\\t\\t\\t\\t\\t</div>\\n\\t\\t\\t\\t\\t\\t\\t</div>\\n\\t\\t\\t\\t</div>\\n\\t</div>\\n\\t<div class=\"pn-ranking-grupos-posicao clearfix\">\\n\\t\\t<div class=\"pn-ranking-grupos-posicao-numero\">29</div>\\n\\t\\t<div class=\"pn-ranking-grupos-posicao-corpo clearfix\">\\n\\t\\t\\t\\t\\t<div class=\"pn-ranking-grupo clearfix\">\\n\\t\\t\\t\\t<div class=\"pn-ranking-grupo-volume\">4</div>\\n\\t\\t\\t\\t\\t\\t\\t\\t<div class=\"pn-ranking-grupo-nome\"><a href=\"/ranking/anual/0/2020/321/0\">Aeroplano Editora</a></div>\\n\\t\\t\\t\\t\\t\\t\\t\\t\\t\\t\\t\\t\\t\\t\\t</div>\\n\\t\\t\\t\\t\\t<div class=\"pn-ranking-grupo clearfix\">\\n\\t\\t\\t\\t<div class=\"pn-ranking-grupo-volume\">4</div>\\n\\t\\t\\t\\t\\t\\t\\t\\t<div class=\"pn-ranking-grupo-nome\"><a href=\"/ranking/anual/0/2020/395/0\">Distribuidora Loyola</a></div>\\n\\t\\t\\t\\t\\t\\t\\t\\t\\t\\t\\t\\t\\t\\t\\t</div>\\n\\t\\t\\t\\t\\t<div class=\"pn-ranking-grupo clearfix\">\\n\\t\\t\\t\\t<div class=\"pn-ranking-grupo-volume\">4</div>\\n\\t\\t\\t\\t\\t\\t\\t\\t<div class=\"pn-ranking-grupo-nome\"><a href=\"/ranking/anual/0/2020/92/0\">Panini</a></div>\\n\\t\\t\\t\\t\\t\\t\\t\\t\\t\\t\\t\\t\\t\\t\\t</div>\\n\\t\\t\\t\\t\\t<div class=\"pn-ranking-grupo clearfix\">\\n\\t\\t\\t\\t<div class=\"pn-ranking-grupo-volume\">4</div>\\n\\t\\t\\t\\t\\t\\t\\t\\t<div class=\"pn-ranking-grupo-nome\"><a href=\"/ranking/anual/0/2020/375/0\">Paulus Editora</a></div>\\n\\t\\t\\t\\t\\t\\t\\t\\t\\t\\t\\t\\t\\t\\t\\t</div>\\n\\t\\t\\t\\t</div>\\n\\t</div>\\n\\t<div class=\"pn-ranking-grupos-posicao clearfix\">\\n\\t\\t<div class=\"pn-ranking-grupos-posicao-numero\">33</div>\\n\\t\\t<div class=\"pn-ranking-grupos-posicao-corpo clearfix\">\\n\\t\\t\\t\\t\\t<div class=\"pn-ranking-grupo clearfix\">\\n\\t\\t\\t\\t<div class=\"pn-ranking-grupo-volume\">3</div>\\n\\t\\t\\t\\t\\t\\t\\t\\t<div class=\"pn-ranking-grupo-nome\"><a href=\"/ranking/anual/0/2020/90/0\">Autêntica</a></div>\\n\\t\\t\\t\\t\\t\\t\\t\\t\\t\\t\\t\\t\\t\\t\\t\\t<div class=\"pn-ranking-grupo-editoras clearfix\">\\n\\t\\t\\t\\t\\t\\t\\t\\t\\t\\t\\t\\t\\t\\t<div class=\"pn-ranking-editora clearfix\">\\n\\t\\t\\t\\t\\t\\t<div class=\"pn-ranking-editora-volume\">2</div>\\n\\t\\t\\t\\t\\t\\t\\t\\t\\t\\t\\t\\t<div class=\"pn-ranking-editora-nome\"><a href=\"/ranking/anual/0/2020/90/252\">Autêntica</a></div>\\n\\t\\t\\t\\t\\t\\t\\t\\t\\t\\t\\t</div>\\n\\t\\t\\t\\t\\t\\t\\t\\t\\t\\t\\t\\t\\t\\t\\t<div class=\"pn-ranking-editora clearfix\">\\n\\t\\t\\t\\t\\t\\t<div class=\"pn-ranking-editora-volume\">1</div>\\n\\t\\t\\t\\t\\t\\t\\t\\t\\t\\t\\t\\t<div class=\"pn-ranking-editora-nome\"><a href=\"/ranking/anual/0/2020/90/488\">Vestígio</a></div>\\n\\t\\t\\t\\t\\t\\t\\t\\t\\t\\t\\t</div>\\n\\t\\t\\t\\t\\t\\t\\t\\t\\t</div>\\n\\t\\t\\t\\t\\t\\t\\t</div>\\n\\t\\t\\t\\t\\t<div class=\"pn-ranking-grupo clearfix\">\\n\\t\\t\\t\\t<div class=\"pn-ranking-grupo-volume\">3</div>\\n\\t\\t\\t\\t\\t\\t\\t\\t<div class=\"pn-ranking-grupo-nome\"><a href=\"/ranking/anual/0/2020/134/0\">L&amp;PM</a></div>\\n\\t\\t\\t\\t\\t\\t\\t\\t\\t\\t\\t\\t\\t\\t\\t\\t<div class=\"pn-ranking-grupo-editoras clearfix\">\\n\\t\\t\\t\\t\\t\\t\\t\\t\\t\\t\\t\\t\\t\\t<div class=\"pn-ranking-editora clearfix\">\\n\\t\\t\\t\\t\\t\\t<div class=\"pn-ranking-editora-volume\">2</div>\\n\\t\\t\\t\\t\\t\\t\\t\\t\\t\\t\\t\\t<div class=\"pn-ranking-editora-nome\"><a href=\"/ranking/anual/0/2020/134/194\">L&amp;PM POCKET</a></div>\\n\\t\\t\\t\\t\\t\\t\\t\\t\\t\\t\\t</div>\\n\\t\\t\\t\\t\\t\\t\\t\\t\\t\\t\\t\\t\\t\\t\\t<div class=\"pn-ranking-editora clearfix\">\\n\\t\\t\\t\\t\\t\\t<div class=\"pn-ranking-editora-volume\">1</div>\\n\\t\\t\\t\\t\\t\\t\\t\\t\\t\\t\\t\\t<div class=\"pn-ranking-editora-nome\"><a href=\"/ranking/anual/0/2020/134/43\">L&amp;PM</a></div>\\n\\t\\t\\t\\t\\t\\t\\t\\t\\t\\t\\t</div>\\n\\t\\t\\t\\t\\t\\t\\t\\t\\t</div>\\n\\t\\t\\t\\t\\t\\t\\t</div>\\n\\t\\t\\t\\t\\t<div class=\"pn-ranking-grupo clearfix\">\\n\\t\\t\\t\\t<div class=\"pn-ranking-grupo-volume\">3</div>\\n\\t\\t\\t\\t\\t\\t\\t\\t<div class=\"pn-ranking-grupo-nome\"><a href=\"/ranking/anual/0/2020/13/0\">LeYa</a></div>\\n\\t\\t\\t\\t\\t\\t\\t\\t\\t\\t\\t\\t\\t\\t\\t</div>\\n\\t\\t\\t\\t\\t<div class=\"pn-ranking-grupo clearfix\">\\n\\t\\t\\t\\t<div class=\"pn-ranking-grupo-volume\">3</div>\\n\\t\\t\\t\\t\\t\\t\\t\\t<div class=\"pn-ranking-grupo-nome\"><a href=\"/ranking/anual/0/2020/220/0\">Martin Claret</a></div>\\n\\t\\t\\t\\t\\t\\t\\t\\t\\t\\t\\t\\t\\t\\t\\t</div>\\n\\t\\t\\t\\t\\t<div class=\"pn-ranking-grupo clearfix\">\\n\\t\\t\\t\\t<div class=\"pn-ranking-grupo-volume\">3</div>\\n\\t\\t\\t\\t\\t\\t\\t\\t<div class=\"pn-ranking-grupo-nome\"><a href=\"/ranking/anual/0/2020/302/0\">On Line Editora</a></div>\\n\\t\\t\\t\\t\\t\\t\\t\\t\\t\\t\\t\\t\\t\\t\\t</div>\\n\\t\\t\\t\\t\\t<div class=\"pn-ranking-grupo clearfix\">\\n\\t\\t\\t\\t<div class=\"pn-ranking-grupo-volume\">3</div>\\n\\t\\t\\t\\t\\t\\t\\t\\t<div class=\"pn-ranking-grupo-nome\"><a href=\"/ranking/anual/0/2020/316/0\">Pão Diário</a></div>\\n\\t\\t\\t\\t\\t\\t\\t\\t\\t\\t\\t\\t\\t\\t\\t</div>\\n\\t\\t\\t\\t\\t<div class=\"pn-ranking-grupo clearfix\">\\n\\t\\t\\t\\t<div class=\"pn-ranking-grupo-volume\">3</div>\\n\\t\\t\\t\\t\\t\\t\\t\\t<div class=\"pn-ranking-grupo-nome\"><a href=\"/ranking/anual/0/2020/360/0\">Todavia Livros</a></div>\\n\\t\\t\\t\\t\\t\\t\\t\\t\\t\\t\\t\\t\\t\\t\\t</div>\\n\\t\\t\\t\\t\\t<div class=\"pn-ranking-grupo clearfix\">\\n\\t\\t\\t\\t<div class=\"pn-ranking-grupo-volume\">3</div>\\n\\t\\t\\t\\t\\t\\t\\t\\t<div class=\"pn-ranking-grupo-nome\"><a href=\"/ranking/anual/0/2020/124/0\">WMF Martins Fontes</a></div>\\n\\t\\t\\t\\t\\t\\t\\t\\t\\t\\t\\t\\t\\t\\t\\t</div>\\n\\t\\t\\t\\t</div>\\n\\t</div>\\n\\t<div class=\"pn-ranking-grupos-posicao clearfix\">\\n\\t\\t<div class=\"pn-ranking-grupos-posicao-numero\">41</div>\\n\\t\\t<div class=\"pn-ranking-grupos-posicao-corpo clearfix\">\\n\\t\\t\\t\\t\\t<div class=\"pn-ranking-grupo clearfix\">\\n\\t\\t\\t\\t<div class=\"pn-ranking-grupo-volume\">2</div>\\n\\t\\t\\t\\t\\t\\t\\t\\t<div class=\"pn-ranking-grupo-nome\"><a href=\"/ranking/anual/0/2020/262/0\">Boitempo Editorial</a></div>\\n\\t\\t\\t\\t\\t\\t\\t\\t\\t\\t\\t\\t\\t\\t\\t</div>\\n\\t\\t\\t\\t\\t<div class=\"pn-ranking-grupo clearfix\">\\n\\t\\t\\t\\t<div class=\"pn-ranking-grupo-volume\">2</div>\\n\\t\\t\\t\\t\\t\\t\\t\\t<div class=\"pn-ranking-grupo-nome\"><a href=\"/ranking/anual/0/2020/14/0\">Fundamento</a></div>\\n\\t\\t\\t\\t\\t\\t\\t\\t\\t\\t\\t\\t\\t\\t\\t</div>\\n\\t\\t\\t\\t\\t<div class=\"pn-ranking-grupo clearfix\">\\n\\t\\t\\t\\t<div class=\"pn-ranking-grupo-volume\">2</div>\\n\\t\\t\\t\\t\\t\\t\\t\\t<div class=\"pn-ranking-grupo-nome\"><a href=\"/ranking/anual/0/2020/69/0\">IBEP</a></div>\\n\\t\\t\\t\\t\\t\\t\\t\\t\\t\\t\\t\\t\\t\\t\\t</div>\\n\\t\\t\\t\\t\\t<div class=\"pn-ranking-grupo clearfix\">\\n\\t\\t\\t\\t<div class=\"pn-ranking-grupo-volume\">2</div>\\n\\t\\t\\t\\t\\t\\t\\t\\t<div class=\"pn-ranking-grupo-nome\"><a href=\"/ranking/anual/0/2020/49/0\">M.Books</a></div>\\n\\t\\t\\t\\t\\t\\t\\t\\t\\t\\t\\t\\t\\t\\t\\t</div>\\n\\t\\t\\t\\t\\t<div class=\"pn-ranking-grupo clearfix\">\\n\\t\\t\\t\\t<div class=\"pn-ranking-grupo-volume\">2</div>\\n\\t\\t\\t\\t\\t\\t\\t\\t<div class=\"pn-ranking-grupo-nome\"><a href=\"/ranking/anual/0/2020/102/0\">Martins Fontes</a></div>\\n\\t\\t\\t\\t\\t\\t\\t\\t\\t\\t\\t\\t\\t\\t\\t</div>\\n\\t\\t\\t\\t\\t<div class=\"pn-ranking-grupo clearfix\">\\n\\t\\t\\t\\t<div class=\"pn-ranking-grupo-volume\">2</div>\\n\\t\\t\\t\\t\\t\\t\\t\\t<div class=\"pn-ranking-grupo-nome\"><a href=\"/ranking/anual/0/2020/104/0\">Nobel</a></div>\\n\\t\\t\\t\\t\\t\\t\\t\\t\\t\\t\\t\\t\\t\\t\\t\\t<div class=\"pn-ranking-grupo-editoras clearfix\">\\n\\t\\t\\t\\t\\t\\t\\t\\t\\t\\t\\t\\t\\t\\t<div class=\"pn-ranking-editora clearfix\">\\n\\t\\t\\t\\t\\t\\t<div class=\"pn-ranking-editora-volume\">1</div>\\n\\t\\t\\t\\t\\t\\t\\t\\t\\t\\t\\t\\t<div class=\"pn-ranking-editora-nome\"><a href=\"/ranking/anual/0/2020/104/414\">Marco Zero</a></div>\\n\\t\\t\\t\\t\\t\\t\\t\\t\\t\\t\\t</div>\\n\\t\\t\\t\\t\\t\\t\\t\\t\\t\\t<div class=\"pn-ranking-editora clearfix\">\\n\\t\\t\\t\\t\\t\\t<div class=\"pn-ranking-editora-volume\">1</div>\\n\\t\\t\\t\\t\\t\\t\\t\\t\\t\\t\\t\\t<div class=\"pn-ranking-editora-nome\"><a href=\"/ranking/anual/0/2020/104/437\">Tiger Tales</a></div>\\n\\t\\t\\t\\t\\t\\t\\t\\t\\t\\t\\t</div>\\n\\t\\t\\t\\t\\t\\t\\t\\t\\t</div>\\n\\t\\t\\t\\t\\t\\t\\t</div>\\n\\t\\t\\t\\t\\t<div class=\"pn-ranking-grupo clearfix\">\\n\\t\\t\\t\\t<div class=\"pn-ranking-grupo-volume\">2</div>\\n\\t\\t\\t\\t\\t\\t\\t\\t<div class=\"pn-ranking-grupo-nome\"><a href=\"/ranking/anual/0/2020/46/0\">Papirus</a></div>\\n\\t\\t\\t\\t\\t\\t\\t\\t\\t\\t\\t\\t\\t\\t\\t</div>\\n\\t\\t\\t\\t\\t<div class=\"pn-ranking-grupo clearfix\">\\n\\t\\t\\t\\t<div class=\"pn-ranking-grupo-volume\">2</div>\\n\\t\\t\\t\\t\\t\\t\\t\\t<div class=\"pn-ranking-grupo-nome\"><a href=\"/ranking/anual/0/2020/401/0\">Pólen Livros</a></div>\\n\\t\\t\\t\\t\\t\\t\\t\\t\\t\\t\\t\\t\\t\\t\\t</div>\\n\\t\\t\\t\\t\\t<div class=\"pn-ranking-grupo clearfix\">\\n\\t\\t\\t\\t<div class=\"pn-ranking-grupo-volume\">2</div>\\n\\t\\t\\t\\t\\t\\t\\t\\t<div class=\"pn-ranking-grupo-nome\"><a href=\"/ranking/anual/0/2020/9/0\">Saraiva</a></div>\\n\\t\\t\\t\\t\\t\\t\\t\\t\\t\\t\\t\\t\\t\\t\\t</div>\\n\\t\\t\\t\\t\\t<div class=\"pn-ranking-grupo clearfix\">\\n\\t\\t\\t\\t<div class=\"pn-ranking-grupo-volume\">2</div>\\n\\t\\t\\t\\t\\t\\t\\t\\t<div class=\"pn-ranking-grupo-nome\"><a href=\"/ranking/anual/0/2020/56/0\">Senac São Paulo</a></div>\\n\\t\\t\\t\\t\\t\\t\\t\\t\\t\\t\\t\\t\\t\\t\\t\\t<div class=\"pn-ranking-grupo-editoras clearfix\">\\n\\t\\t\\t\\t\\t\\t\\t\\t\\t\\t\\t\\t\\t\\t<div class=\"pn-ranking-editora clearfix\">\\n\\t\\t\\t\\t\\t\\t<div class=\"pn-ranking-editora-volume\">1</div>\\n\\t\\t\\t\\t\\t\\t\\t\\t\\t\\t\\t\\t<div class=\"pn-ranking-editora-nome\"><a href=\"/ranking/anual/0/2020/56/452\">Panelinha</a></div>\\n\\t\\t\\t\\t\\t\\t\\t\\t\\t\\t\\t</div>\\n\\t\\t\\t\\t\\t\\t\\t\\t\\t\\t<div class=\"pn-ranking-editora clearfix\">\\n\\t\\t\\t\\t\\t\\t<div class=\"pn-ranking-editora-volume\">1</div>\\n\\t\\t\\t\\t\\t\\t\\t\\t\\t\\t\\t\\t<div class=\"pn-ranking-editora-nome\"><a href=\"/ranking/anual/0/2020/56/33\">Senac São Paulo</a></div>\\n\\t\\t\\t\\t\\t\\t\\t\\t\\t\\t\\t</div>\\n\\t\\t\\t\\t\\t\\t\\t\\t\\t</div>\\n\\t\\t\\t\\t\\t\\t\\t</div>\\n\\t\\t\\t\\t\\t<div class=\"pn-ranking-grupo clearfix\">\\n\\t\\t\\t\\t<div class=\"pn-ranking-grupo-volume\">2</div>\\n\\t\\t\\t\\t\\t\\t\\t\\t<div class=\"pn-ranking-grupo-nome\"><a href=\"/ranking/anual/0/2020/23/0\">Universo dos Livros</a></div>\\n\\t\\t\\t\\t\\t\\t\\t\\t\\t\\t\\t\\t\\t\\t\\t</div>\\n\\t\\t\\t\\t\\t<div class=\"pn-ranking-grupo clearfix\">\\n\\t\\t\\t\\t<div class=\"pn-ranking-grupo-volume\">2</div>\\n\\t\\t\\t\\t\\t\\t\\t\\t<div class=\"pn-ranking-grupo-nome\"><a href=\"/ranking/anual/0/2020/38/0\">Zahar</a></div>\\n\\t\\t\\t\\t\\t\\t\\t\\t\\t\\t\\t\\t\\t\\t\\t</div>\\n\\t\\t\\t\\t</div>\\n\\t</div>\\n\\t<div class=\"pn-ranking-grupos-posicao clearfix\">\\n\\t\\t<div class=\"pn-ranking-grupos-posicao-numero\">53</div>\\n\\t\\t<div class=\"pn-ranking-grupos-posicao-corpo clearfix\">\\n\\t\\t\\t\\t\\t<div class=\"pn-ranking-grupo clearfix\">\\n\\t\\t\\t\\t<div class=\"pn-ranking-grupo-volume\">1</div>\\n\\t\\t\\t\\t\\t\\t\\t\\t<div class=\"pn-ranking-grupo-nome\"><a href=\"/ranking/anual/0/2020/135/0\">Alaúde</a></div>\\n\\t\\t\\t\\t\\t\\t\\t\\t\\t\\t\\t\\t\\t\\t\\t</div>\\n\\t\\t\\t\\t\\t<div class=\"pn-ranking-grupo clearfix\">\\n\\t\\t\\t\\t<div class=\"pn-ranking-grupo-volume\">1</div>\\n\\t\\t\\t\\t\\t\\t\\t\\t<div class=\"pn-ranking-grupo-nome\"><a href=\"/ranking/anual/0/2020/405/0\">Aletria</a></div>\\n\\t\\t\\t\\t\\t\\t\\t\\t\\t\\t\\t\\t\\t\\t\\t</div>\\n\\t\\t\\t\\t\\t<div class=\"pn-ranking-grupo clearfix\">\\n\\t\\t\\t\\t<div class=\"pn-ranking-grupo-volume\">1</div>\\n\\t\\t\\t\\t\\t\\t\\t\\t<div class=\"pn-ranking-grupo-nome\"><a href=\"/ranking/anual/0/2020/86/0\">Ave Maria</a></div>\\n\\t\\t\\t\\t\\t\\t\\t\\t\\t\\t\\t\\t\\t\\t\\t</div>\\n\\t\\t\\t\\t\\t<div class=\"pn-ranking-grupo clearfix\">\\n\\t\\t\\t\\t<div class=\"pn-ranking-grupo-volume\">1</div>\\n\\t\\t\\t\\t\\t\\t\\t\\t<div class=\"pn-ranking-grupo-nome\"><a href=\"/ranking/anual/0/2020/406/0\">Book One Editora</a></div>\\n\\t\\t\\t\\t\\t\\t\\t\\t\\t\\t\\t\\t\\t\\t\\t</div>\\n\\t\\t\\t\\t\\t<div class=\"pn-ranking-grupo clearfix\">\\n\\t\\t\\t\\t<div class=\"pn-ranking-grupo-volume\">1</div>\\n\\t\\t\\t\\t\\t\\t\\t\\t<div class=\"pn-ranking-grupo-nome\"><a href=\"/ranking/anual/0/2020/394/0\">Butterfly Editora</a></div>\\n\\t\\t\\t\\t\\t\\t\\t\\t\\t\\t\\t\\t\\t\\t\\t</div>\\n\\t\\t\\t\\t\\t<div class=\"pn-ranking-grupo clearfix\">\\n\\t\\t\\t\\t<div class=\"pn-ranking-grupo-volume\">1</div>\\n\\t\\t\\t\\t\\t\\t\\t\\t<div class=\"pn-ranking-grupo-nome\"><a href=\"/ranking/anual/0/2020/93/0\">Canção Nova</a></div>\\n\\t\\t\\t\\t\\t\\t\\t\\t\\t\\t\\t\\t\\t\\t\\t</div>\\n\\t\\t\\t\\t\\t<div class=\"pn-ranking-grupo clearfix\">\\n\\t\\t\\t\\t<div class=\"pn-ranking-grupo-volume\">1</div>\\n\\t\\t\\t\\t\\t\\t\\t\\t<div class=\"pn-ranking-grupo-nome\"><a href=\"/ranking/anual/0/2020/45/0\">Contexto</a></div>\\n\\t\\t\\t\\t\\t\\t\\t\\t\\t\\t\\t\\t\\t\\t\\t</div>\\n\\t\\t\\t\\t\\t<div class=\"pn-ranking-grupo clearfix\">\\n\\t\\t\\t\\t<div class=\"pn-ranking-grupo-volume\">1</div>\\n\\t\\t\\t\\t\\t\\t\\t\\t<div class=\"pn-ranking-grupo-nome\"><a href=\"/ranking/anual/0/2020/399/0\">Crivo Editorial</a></div>\\n\\t\\t\\t\\t\\t\\t\\t\\t\\t\\t\\t\\t\\t\\t\\t</div>\\n\\t\\t\\t\\t\\t<div class=\"pn-ranking-grupo clearfix\">\\n\\t\\t\\t\\t<div class=\"pn-ranking-grupo-volume\">1</div>\\n\\t\\t\\t\\t\\t\\t\\t\\t<div class=\"pn-ranking-grupo-nome\"><a href=\"/ranking/anual/0/2020/388/0\">Culturama</a></div>\\n\\t\\t\\t\\t\\t\\t\\t\\t\\t\\t\\t\\t\\t\\t\\t</div>\\n\\t\\t\\t\\t\\t<div class=\"pn-ranking-grupo clearfix\">\\n\\t\\t\\t\\t<div class=\"pn-ranking-grupo-volume\">1</div>\\n\\t\\t\\t\\t\\t\\t\\t\\t<div class=\"pn-ranking-grupo-nome\"><a href=\"/ranking/anual/0/2020/193/0\">Edipro</a></div>\\n\\t\\t\\t\\t\\t\\t\\t\\t\\t\\t\\t\\t\\t\\t\\t</div>\\n\\t\\t\\t\\t\\t<div class=\"pn-ranking-grupo clearfix\">\\n\\t\\t\\t\\t<div class=\"pn-ranking-grupo-volume\">1</div>\\n\\t\\t\\t\\t\\t\\t\\t\\t<div class=\"pn-ranking-grupo-nome\"><a href=\"/ranking/anual/0/2020/400/0\">Editora Buqui</a></div>\\n\\t\\t\\t\\t\\t\\t\\t\\t\\t\\t\\t\\t\\t\\t\\t</div>\\n\\t\\t\\t\\t\\t<div class=\"pn-ranking-grupo clearfix\">\\n\\t\\t\\t\\t<div class=\"pn-ranking-grupo-volume\">1</div>\\n\\t\\t\\t\\t\\t\\t\\t\\t<div class=\"pn-ranking-grupo-nome\"><a href=\"/ranking/anual/0/2020/396/0\">Editora CLA Cultura</a></div>\\n\\t\\t\\t\\t\\t\\t\\t\\t\\t\\t\\t\\t\\t\\t\\t</div>\\n\\t\\t\\t\\t\\t<div class=\"pn-ranking-grupo clearfix\">\\n\\t\\t\\t\\t<div class=\"pn-ranking-grupo-volume\">1</div>\\n\\t\\t\\t\\t\\t\\t\\t\\t<div class=\"pn-ranking-grupo-nome\"><a href=\"/ranking/anual/0/2020/403/0\">Editora Perspectiva</a></div>\\n\\t\\t\\t\\t\\t\\t\\t\\t\\t\\t\\t\\t\\t\\t\\t</div>\\n\\t\\t\\t\\t\\t<div class=\"pn-ranking-grupo clearfix\">\\n\\t\\t\\t\\t<div class=\"pn-ranking-grupo-volume\">1</div>\\n\\t\\t\\t\\t\\t\\t\\t\\t<div class=\"pn-ranking-grupo-nome\"><a href=\"/ranking/anual/0/2020/30/0\">Elsevier</a></div>\\n\\t\\t\\t\\t\\t\\t\\t\\t\\t\\t\\t\\t\\t\\t\\t</div>\\n\\t\\t\\t\\t\\t<div class=\"pn-ranking-grupo clearfix\">\\n\\t\\t\\t\\t<div class=\"pn-ranking-grupo-volume\">1</div>\\n\\t\\t\\t\\t\\t\\t\\t\\t<div class=\"pn-ranking-grupo-nome\"><a href=\"/ranking/anual/0/2020/91/0\">Geração Editorial</a></div>\\n\\t\\t\\t\\t\\t\\t\\t\\t\\t\\t\\t\\t\\t\\t\\t</div>\\n\\t\\t\\t\\t\\t<div class=\"pn-ranking-grupo clearfix\">\\n\\t\\t\\t\\t<div class=\"pn-ranking-grupo-volume\">1</div>\\n\\t\\t\\t\\t\\t\\t\\t\\t<div class=\"pn-ranking-grupo-nome\"><a href=\"/ranking/anual/0/2020/214/0\">Girassol Brasil</a></div>\\n\\t\\t\\t\\t\\t\\t\\t\\t\\t\\t\\t\\t\\t\\t\\t</div>\\n\\t\\t\\t\\t\\t<div class=\"pn-ranking-grupo clearfix\">\\n\\t\\t\\t\\t<div class=\"pn-ranking-grupo-volume\">1</div>\\n\\t\\t\\t\\t\\t\\t\\t\\t<div class=\"pn-ranking-grupo-nome\"><a href=\"/ranking/anual/0/2020/383/0\">Grupo Editorial Global</a></div>\\n\\t\\t\\t\\t\\t\\t\\t\\t\\t\\t\\t\\t\\t\\t\\t</div>\\n\\t\\t\\t\\t\\t<div class=\"pn-ranking-grupo clearfix\">\\n\\t\\t\\t\\t<div class=\"pn-ranking-grupo-volume\">1</div>\\n\\t\\t\\t\\t\\t\\t\\t\\t<div class=\"pn-ranking-grupo-nome\"><a href=\"/ranking/anual/0/2020/51/0\">Grupo Summus</a></div>\\n\\t\\t\\t\\t\\t\\t\\t\\t\\t\\t\\t\\t\\t\\t\\t</div>\\n\\t\\t\\t\\t\\t<div class=\"pn-ranking-grupo clearfix\">\\n\\t\\t\\t\\t<div class=\"pn-ranking-grupo-volume\">1</div>\\n\\t\\t\\t\\t\\t\\t\\t\\t<div class=\"pn-ranking-grupo-nome\"><a href=\"/ranking/anual/0/2020/208/0\">Hunter Books</a></div>\\n\\t\\t\\t\\t\\t\\t\\t\\t\\t\\t\\t\\t\\t\\t\\t</div>\\n\\t\\t\\t\\t\\t<div class=\"pn-ranking-grupo clearfix\">\\n\\t\\t\\t\\t<div class=\"pn-ranking-grupo-volume\">1</div>\\n\\t\\t\\t\\t\\t\\t\\t\\t<div class=\"pn-ranking-grupo-nome\"><a href=\"/ranking/anual/0/2020/64/0\">Matrix Editora</a></div>\\n\\t\\t\\t\\t\\t\\t\\t\\t\\t\\t\\t\\t\\t\\t\\t</div>\\n\\t\\t\\t\\t\\t<div class=\"pn-ranking-grupo clearfix\">\\n\\t\\t\\t\\t<div class=\"pn-ranking-grupo-volume\">1</div>\\n\\t\\t\\t\\t\\t\\t\\t\\t<div class=\"pn-ranking-grupo-nome\"><a href=\"/ranking/anual/0/2020/148/0\">Melbooks</a></div>\\n\\t\\t\\t\\t\\t\\t\\t\\t\\t\\t\\t\\t\\t\\t\\t</div>\\n\\t\\t\\t\\t\\t<div class=\"pn-ranking-grupo clearfix\">\\n\\t\\t\\t\\t<div class=\"pn-ranking-grupo-volume\">1</div>\\n\\t\\t\\t\\t\\t\\t\\t\\t<div class=\"pn-ranking-grupo-nome\"><a href=\"/ranking/anual/0/2020/398/0\">Metanoia Editora</a></div>\\n\\t\\t\\t\\t\\t\\t\\t\\t\\t\\t\\t\\t\\t\\t\\t</div>\\n\\t\\t\\t\\t\\t<div class=\"pn-ranking-grupo clearfix\">\\n\\t\\t\\t\\t<div class=\"pn-ranking-grupo-volume\">1</div>\\n\\t\\t\\t\\t\\t\\t\\t\\t<div class=\"pn-ranking-grupo-nome\"><a href=\"/ranking/anual/0/2020/17/0\">Mundo Cristão</a></div>\\n\\t\\t\\t\\t\\t\\t\\t\\t\\t\\t\\t\\t\\t\\t\\t</div>\\n\\t\\t\\t\\t\\t<div class=\"pn-ranking-grupo clearfix\">\\n\\t\\t\\t\\t<div class=\"pn-ranking-grupo-volume\">1</div>\\n\\t\\t\\t\\t\\t\\t\\t\\t<div class=\"pn-ranking-grupo-nome\"><a href=\"/ranking/anual/0/2020/397/0\">N-1 Edições</a></div>\\n\\t\\t\\t\\t\\t\\t\\t\\t\\t\\t\\t\\t\\t\\t\\t</div>\\n\\t\\t\\t\\t\\t<div class=\"pn-ranking-grupo clearfix\">\\n\\t\\t\\t\\t<div class=\"pn-ranking-grupo-volume\">1</div>\\n\\t\\t\\t\\t\\t\\t\\t\\t<div class=\"pn-ranking-grupo-nome\"><a href=\"/ranking/anual/0/2020/19/0\">Novo Conceito</a></div>\\n\\t\\t\\t\\t\\t\\t\\t\\t\\t\\t\\t\\t\\t\\t\\t</div>\\n\\t\\t\\t\\t\\t<div class=\"pn-ranking-grupo clearfix\">\\n\\t\\t\\t\\t<div class=\"pn-ranking-grupo-volume\">1</div>\\n\\t\\t\\t\\t\\t\\t\\t\\t<div class=\"pn-ranking-grupo-nome\"><a href=\"/ranking/anual/0/2020/106/0\">Panda Books</a></div>\\n\\t\\t\\t\\t\\t\\t\\t\\t\\t\\t\\t\\t\\t\\t\\t</div>\\n\\t\\t\\t\\t\\t<div class=\"pn-ranking-grupo clearfix\">\\n\\t\\t\\t\\t<div class=\"pn-ranking-grupo-volume\">1</div>\\n\\t\\t\\t\\t\\t\\t\\t\\t<div class=\"pn-ranking-grupo-nome\"><a href=\"/ranking/anual/0/2020/62/0\">Publifolha</a></div>\\n\\t\\t\\t\\t\\t\\t\\t\\t\\t\\t\\t\\t\\t\\t\\t</div>\\n\\t\\t\\t\\t\\t<div class=\"pn-ranking-grupo clearfix\">\\n\\t\\t\\t\\t<div class=\"pn-ranking-grupo-volume\">1</div>\\n\\t\\t\\t\\t\\t\\t\\t\\t<div class=\"pn-ranking-grupo-nome\"><a href=\"/ranking/anual/0/2020/36/0\">Rideel</a></div>\\n\\t\\t\\t\\t\\t\\t\\t\\t\\t\\t\\t\\t\\t\\t\\t</div>\\n\\t\\t\\t\\t\\t<div class=\"pn-ranking-grupo clearfix\">\\n\\t\\t\\t\\t<div class=\"pn-ranking-grupo-volume\">1</div>\\n\\t\\t\\t\\t\\t\\t\\t\\t<div class=\"pn-ranking-grupo-nome\"><a href=\"/ranking/anual/0/2020/267/0\">Valentina</a></div>\\n\\t\\t\\t\\t\\t\\t\\t\\t\\t\\t\\t\\t\\t\\t\\t</div>\\n\\t\\t\\t\\t\\t<div class=\"pn-ranking-grupo clearfix\">\\n\\t\\t\\t\\t<div class=\"pn-ranking-grupo-volume\">1</div>\\n\\t\\t\\t\\t\\t\\t\\t\\t<div class=\"pn-ranking-grupo-nome\"><a href=\"/ranking/anual/0/2020/22/0\">Vida e Consciência</a></div>\\n\\t\\t\\t\\t\\t\\t\\t\\t\\t\\t\\t\\t\\t\\t\\t</div>\\n\\t\\t\\t\\t</div>\\n\\t</div>\\n\\n\\t\\t\\t\\t\\t\\t\\t</div>\\n\\t\\t\\t\\t\\t\\t</div>\\n\\t\\t\\t\\t\\t</div>\\n\\t\\t\\t\\t</div>\\n\\t\\t\\t\\t<div class=\"pn-colunas-06x07\">\\n\\t\\t\\t\\t\\t<div class=\"pn-colunas-corpo clearfix\">\\n\\t\\t\\t\\t\\t\\t\\t\\t\\t\\t\\t</div>\\n\\t\\t\\t\\t</div>\\n\\t\\t\\t\\t<div class=\"pn-colunas-06x07\" style=\"padding-top:20px;\">\\n\\t\\t\\t\\t\\t<div class=\"pn-colunas-04x07\">\\n\\t\\t\\t\\t\\t\\t<div class=\"pn-colunas-corpo clearfix\">\\n\\t\\t\\t\\t\\t\\t\\t\\n\\n<div class=\"pn-editoria clearfix\">\\n\\t<div class=\"pn-editoria-cabeca clearfix\">\\n\\t\\t<div class=\"pn-editoria-titulo\">Metodologia</div>\\n\\t</div>\\n\\t<div class=\"pn-editoria-corpo clearfix\">\\n\\t\\tO ranking de livros mais vendidos é elaborado a partir da soma simples das vendas de todas as livrarias consultadas (ver quadro ao lado). Os números e gráficos aqui apresentados refletem justamente esta soma. Trata-se, portanto, de uma amostra e não do universo da venda de livros no Brasil. Como as livrarias mandam no máximo listas com os 20 livros mais vendidos em cada categoria, as posições finais da lista, a partir do 15º lugar, apresentam uma maior margem de erro.<br />\\n\\t\\t<br />\\n\\t\\tCada título é considerado em apenas uma categoria. Por exemplo, os livros de negócio e autoajuda não são considerados na lista de não ficção. Além disso, cada edição de uma obra é considerada individualmente. Livros em domínio público, com diversas edições com ISBNs diferentes em editoras diversas não têm suas vendas somadas.<br />\\n\\t\\t<br />\\n\\t\\tO ranking de editoras é resultado do número de títulos que cada editora ou selo coloca na lista e não reflete a quantidade de livros vendidos. No caso dos rankings mensal e anual, a contagem é feita pelo número total de títulos que apareceram em quaisquer das listas semanais durante o período em questão, e não pela quantidade de livros nas listas consolidadas mensais ou anual. Ou seja, a editora com mais títulos em listas semanais será a líder do ranking.<br />\\n\\t</div>\\n</div>\\n\\n\\t\\t\\t\\t\\t\\t</div>\\n\\t\\t\\t\\t\\t</div>\\n\\t\\t\\t\\t\\t<div class=\"pn-colunas-02x07\">\\n\\t\\t\\t\\t\\t\\t<div class=\"pn-colunas-corpo clearfix\">\\n\\t\\t\\t\\t\\t\\t\\t\\n<div class=\"pn-editoria clearfix\">\\n\\t<div class=\"pn-editoria-cabeca clearfix\">\\n\\t\\t<div class=\"pn-editoria-titulo\">Livrarias</div>\\n\\t</div>\\n\\t<div class=\"pn-editoria-corpo clearfix\">\\n\\t\\t\\t\\t<div class=\"pn-ranking-livraria clearfix\">\\n\\t\\t\\t\\t\\t\\t<div class=\"pn-ranking-livraria-nome\"><a href=\"https://www.apaginadistribuidora.com.br/\" target=\"_blank\">A Página</a></div>\\n\\t\\t\\t\\t\\t\\t\\t\\t</div>\\n\\t\\t\\t\\t<div class=\"pn-ranking-livraria clearfix\">\\n\\t\\t\\t\\t\\t\\t<div class=\"pn-ranking-livraria-nome\"><a href=\"http://www.livrariaargumento.com.br\" target=\"_blank\">Argumento</a></div>\\n\\t\\t\\t\\t\\t\\t\\t\\t</div>\\n\\t\\t\\t\\t<div class=\"pn-ranking-livraria clearfix\">\\n\\t\\t\\t\\t\\t\\t<div class=\"pn-ranking-livraria-nome\">Blooks</div>\\n\\t\\t\\t\\t\\t\\t\\t\\t</div>\\n\\t\\t\\t\\t<div class=\"pn-ranking-livraria clearfix\">\\n\\t\\t\\t\\t\\t\\t<div class=\"pn-ranking-livraria-nome\"><a href=\"http://www.livrariacultura.com.br\" target=\"_blank\">Cultura</a></div>\\n\\t\\t\\t\\t\\t\\t\\t\\t</div>\\n\\t\\t\\t\\t<div class=\"pn-ranking-livraria clearfix\">\\n\\t\\t\\t\\t\\t\\t<div class=\"pn-ranking-livraria-nome\"><a href=\"http://www.livrariascuritiba.com.br\" target=\"_blank\">Curitiba</a></div>\\n\\t\\t\\t\\t\\t\\t\\t\\t</div>\\n\\t\\t\\t\\t<div class=\"pn-ranking-livraria clearfix\">\\n\\t\\t\\t\\t\\t\\t<div class=\"pn-ranking-livraria-nome\"><a href=\"https://www.escariz.com.br\" target=\"_blank\">Escariz</a></div>\\n\\t\\t\\t\\t\\t\\t\\t\\t</div>\\n\\t\\t\\t\\t<div class=\"pn-ranking-livraria clearfix\">\\n\\t\\t\\t\\t\\t\\t<div class=\"pn-ranking-livraria-nome\"><a href=\"http://www.leitura.com.br\" target=\"_blank\">Leitura</a></div>\\n\\t\\t\\t\\t\\t\\t\\t\\t</div>\\n\\t\\t\\t\\t<div class=\"pn-ranking-livraria clearfix\">\\n\\t\\t\\t\\t\\t\\t<div class=\"pn-ranking-livraria-nome\"><a href=\"http://livrariacameron.com.br/\" target=\"_blank\">Livraria Cameron</a></div>\\n\\t\\t\\t\\t\\t\\t\\t\\t</div>\\n\\t\\t\\t\\t<div class=\"pn-ranking-livraria clearfix\">\\n\\t\\t\\t\\t\\t\\t<div class=\"pn-ranking-livraria-nome\"><a href=\"http://www.livrariadavila.com.br\" target=\"_blank\">Livraria da Vila</a></div>\\n\\t\\t\\t\\t\\t\\t\\t\\t</div>\\n\\t\\t\\t\\t<div class=\"pn-ranking-livraria clearfix\">\\n\\t\\t\\t\\t\\t\\t<div class=\"pn-ranking-livraria-nome\"><a href=\"https://www.livrarialdm.com.br/\" target=\"_blank\">Livraria LDM</a></div>\\n\\t\\t\\t\\t\\t\\t\\t\\t</div>\\n\\t\\t\\t\\t<div class=\"pn-ranking-livraria clearfix\">\\n\\t\\t\\t\\t\\t\\t<div class=\"pn-ranking-livraria-nome\"><a href=\"https://www.livrarialoyola.com.br\" target=\"_blank\">Livraria Loyola</a></div>\\n\\t\\t\\t\\t\\t\\t\\t\\t</div>\\n\\t\\t\\t\\t<div class=\"pn-ranking-livraria clearfix\">\\n\\t\\t\\t\\t\\t\\t<div class=\"pn-ranking-livraria-nome\">Livraria Santos</div>\\n\\t\\t\\t\\t\\t\\t\\t\\t</div>\\n\\t\\t\\t\\t<div class=\"pn-ranking-livraria clearfix\">\\n\\t\\t\\t\\t\\t\\t<div class=\"pn-ranking-livraria-nome\"><a href=\"https://www.livrariavozes.com.br/\" target=\"_blank\">Livraria Vozes</a></div>\\n\\t\\t\\t\\t\\t\\t\\t\\t</div>\\n\\t\\t\\t\\t<div class=\"pn-ranking-livraria clearfix\">\\n\\t\\t\\t\\t\\t\\t<div class=\"pn-ranking-livraria-nome\"><a href=\"https://livruz.com.br/\" target=\"_blank\">Livruz</a></div>\\n\\t\\t\\t\\t\\t\\t\\t\\t</div>\\n\\t\\t\\t\\t<div class=\"pn-ranking-livraria clearfix\">\\n\\t\\t\\t\\t\\t\\t<div class=\"pn-ranking-livraria-nome\">Lojas Americanas</div>\\n\\t\\t\\t\\t\\t\\t\\t\\t</div>\\n\\t\\t\\t\\t<div class=\"pn-ranking-livraria clearfix\">\\n\\t\\t\\t\\t\\t\\t<div class=\"pn-ranking-livraria-nome\">Magazine Luiza</div>\\n\\t\\t\\t\\t\\t\\t\\t\\t</div>\\n\\t\\t\\t\\t<div class=\"pn-ranking-livraria clearfix\">\\n\\t\\t\\t\\t\\t\\t<div class=\"pn-ranking-livraria-nome\"><a href=\"http://www.martinsfontespaulista.com.br\" target=\"_blank\">Martins Fontes SP</a></div>\\n\\t\\t\\t\\t\\t\\t\\t\\t</div>\\n\\t\\t\\t\\t<div class=\"pn-ranking-livraria clearfix\">\\n\\t\\t\\t\\t\\t\\t<div class=\"pn-ranking-livraria-nome\"><a href=\"http://www.livrarianobel.com.br\" target=\"_blank\">Nobel</a></div>\\n\\t\\t\\t\\t\\t\\t\\t\\t</div>\\n\\t\\t\\t\\t<div class=\"pn-ranking-livraria clearfix\">\\n\\t\\t\\t\\t\\t\\t<div class=\"pn-ranking-livraria-nome\"><a href=\"http://www.saraiva.com.br\" target=\"_blank\">Saraiva</a></div>\\n\\t\\t\\t\\t\\t\\t\\t\\t</div>\\n\\t\\t\\t\\t<div class=\"pn-ranking-livraria clearfix\">\\n\\t\\t\\t\\t\\t\\t<div class=\"pn-ranking-livraria-nome\"><a href=\"https://www.submarino.com.br/\" target=\"_blank\">Submarino</a></div>\\n\\t\\t\\t\\t\\t\\t\\t\\t</div>\\n\\t\\t\\t\\t<div class=\"pn-ranking-livraria clearfix\">\\n\\t\\t\\t\\t\\t\\t<div class=\"pn-ranking-livraria-nome\"><a href=\"http://www.travessa.com.br\" target=\"_blank\">Travessa</a></div>\\n\\t\\t\\t\\t\\t\\t\\t\\t</div>\\n\\t\\t\\t\\t<div class=\"pn-ranking-livraria clearfix\">\\n\\t\\t\\t\\t\\t\\t<div class=\"pn-ranking-livraria-nome\"><a href=\"https://www.livrariavanguarda.com.br/\" target=\"_blank\">Vanguarda</a></div>\\n\\t\\t\\t\\t\\t\\t\\t\\t</div>\\n\\t\\t\\t\\t<div class=\"pn-ranking-livraria clearfix\">\\n\\t\\t\\t\\t\\t\\t<div class=\"pn-ranking-livraria-nome\">Vitrola Livraria</div>\\n\\t\\t\\t\\t\\t\\t\\t\\t</div>\\n\\t\\t\\t</div>\\n</div>\\n\\n\\t\\t\\t\\t\\t\\t</div>\\n\\t\\t\\t\\t\\t</div>\\n\\t\\t\\t\\t</div>\\n\\t\\t\\t</div>\\n\\t\\t\\t<div class=\"pn-colunas-01x07\">\\n\\t\\t\\t\\t<div class=\"pn-colunas-corpo clearfix\">\\n\\t\\t\\t\\t\\t\\t\\t\\t\\t\\t<div class=\"pn-citacao clearfix\">\\n\\t\\t\\t\\t\\t\\t<div class=\"pn-citacao-conteudo\"><span>&#8220;</span>O livro é parte fundante da construção do conhecimento, tanto do imaginário quanto das vontades de futuro<span>&#8221;</span></div>\\n\\t\\t\\t\\t\\t\\t\\t\\t\\t\\t\\t\\t<div class=\"pn-citacao-autor\">Edith Derdyk</div>\\n\\t\\t\\t\\t\\t\\t\\t\\t\\t\\t\\t\\t\\t\\t\\t\\t\\t\\t<div class=\"pn-citacao-contexto\">Artista paulistana</div>\\n\\t\\t\\t\\t\\t\\t\\t\\t\\t\\t\\t</div>\\n\\t\\t\\t\\t\\t\\t\\t\\t\\t\\t\\t\\t\\t\\t\\t<div id=\"pn-anuncio-ranking-lateral-intermediaria\" class=\"pn-anuncio clearfix\"><div class=\"pn-anuncio-aviso clearfix\">Publicidade</div><div class=\"pn-anuncio-imagem clearfix\" style=\"width:130px;text-align:center;\"><a href=\"https://www.publishnews.com.br/anuncios/1005\" target=\"_blank\"><img id=\"pn-anuncio-ranking-lateral-intermediaria-imagem\" src=\"https://www.publishnews.com.br/estaticos/uploads/2021/09/zXSUAaUQ7ua2gvwkgEmSsVskm61j00nqiuwChnHKSNfm82jDG4zYyWvAH1D9AIiEk7lgQ2PObSr1DMbU.gif\" border=\"0\" alt=\"\" /></a></div></div>\\t\\t\\t\\t\\t<div id=\"pn-anuncio-ranking-lateral-intermediaria-1\" class=\"pn-anuncio clearfix\"><div class=\"pn-anuncio-aviso clearfix\">Publicidade</div><div class=\"pn-anuncio-imagem clearfix\" style=\"width:130px;text-align:center;\"><a href=\"https://www.publishnews.com.br/anuncios/995\" target=\"_blank\"><img id=\"pn-anuncio-ranking-lateral-intermediaria-1-imagem\" src=\"https://www.publishnews.com.br/estaticos/uploads/2021/09/AFHFBMHUi2Bk5izGU839lz8B8fQs5lqSuB8JcWNZFGVNd9DWEAYKUhA2EA61dN5KwqV8tBkWUQJ832G5.gif\" border=\"0\" alt=\"\" /></a></div></div>\\t\\t\\t\\t\\t<div id=\"pn-anuncio-capa-lateral-intermediaria-2\" class=\"pn-anuncio clearfix\"><div class=\"pn-anuncio-aviso clearfix\">Publicidade</div><div class=\"pn-anuncio-imagem clearfix\" style=\"width:130px;text-align:center;\"><a href=\"https://www.publishnews.com.br/anuncios/990\" target=\"_blank\"><img id=\"pn-anuncio-capa-lateral-intermediaria-2-imagem\" src=\"https://www.publishnews.com.br/estaticos/uploads/2021/08/fYyn1YHdfoZ61DYgtQmF84LnfjECnB0gHCoHdqynaZ05nwepqbMqkYBEDP1o00dHqcWMQsfrw4ScQxRz.gif\" border=\"0\" alt=\"\" /></a></div></div>\\t\\t\\t\\t\\t<div id=\"pn-anuncio-ranking-lateral-intermediaria-3\" class=\"pn-anuncio clearfix\"><div class=\"pn-anuncio-aviso clearfix\">Publicidade</div><div class=\"pn-anuncio-imagem clearfix\" style=\"width:130px;text-align:center;\"><a href=\"https://www.publishnews.com.br/anuncios/1008\" target=\"_blank\"><img id=\"pn-anuncio-ranking-lateral-intermediaria-3-imagem\" src=\"https://www.publishnews.com.br/estaticos/uploads/2021/10/3B4w6Casrl1wY4HEj7s0OmEoc7vRQOnpVUVErvUIVWgXjSC8eYbbFRxsnAFENnfDi4bkT8CZSjJmCjRa.gif\" border=\"0\" alt=\"\" /></a></div></div>\\t\\t\\t\\t\\t<div id=\"pn-anuncio-ranking-lateral-intermediaria-4\" class=\"pn-anuncio clearfix\"><div class=\"pn-anuncio-aviso clearfix\">Publicidade</div><div class=\"pn-anuncio-imagem clearfix\" style=\"width:130px;text-align:center;\"><a href=\"https://www.publishnews.com.br/anuncios/745\" target=\"_blank\"><img id=\"pn-anuncio-ranking-lateral-intermediaria-4-imagem\" src=\"https://www.publishnews.com.br/estaticos/uploads/2019/02/l6rVlXeqOJXOk1mmwGen2cGCgbEGiudybnfbmSFxW1YRSqipH5393G6Gdh60RLyEWVPUJJ7p22oCclxW.gif\" border=\"0\" alt=\"\" /></a></div></div>\\t\\t\\t\\t\\t\\t\\t\\t\\t\\t<div id=\"pn-anuncio-capa-lateral-inferior\" class=\"pn-anuncio clearfix\"><div class=\"pn-anuncio-aviso clearfix\">Publicidade</div><div class=\"pn-anuncio-imagem clearfix\" style=\"width:130px;text-align:center;\"><a href=\"https://www.publishnews.com.br/anuncios/739\" target=\"_blank\"><img id=\"pn-anuncio-capa-lateral-inferior-imagem\" src=\"https://www.publishnews.com.br/estaticos/uploads/2018/12/dw6wK3DE2YcPIlEHujG4dFjYudETXLPrFHcbDKn2JVSpkBWbKxcG2Eb9XkIo9gC5t6IZhPGBb0EIyYCT.gif\" border=\"0\" alt=\"\" /></a></div></div>\\t\\t\\t\\t</div>\\n\\t\\t\\t</div>\\n\\t\\t</div>\\n\\t</div>\\n</div>\\n<script type=\"text/javascript\">\\n$(document).ready(function(){\\n\\t$(\"#pn-orelha-semanal\").click(function(){\\n\\t\\tif($(\"#pn-selecao-semanal\").is(\":visible\")){\\n\\t\\t\\t$(\"#pn-orelha-semanal\").removeClass(\"pn-fichario-orelha-ativa\").addClass(\"pn-fichario-orelha\");\\n\\t\\t\\t$(\"#pn-orelha-mensal\").removeClass(\"pn-fichario-orelha-ativa\").addClass(\"pn-fichario-orelha\");\\n\\t\\t\\t$(\"#pn-orelha-anual\").removeClass(\"pn-fichario-orelha\").addClass(\"pn-fichario-orelha-ativa\");\\n\\t\\t\\t$(\"#pn-selecao-semanal\").hide(\\'fast\\');\\n\\t\\t}else{\\n\\t\\t\\t$(\"#pn-orelha-semanal\").removeClass(\"pn-fichario-orelha\").addClass(\"pn-fichario-orelha-ativa\");\\n\\t\\t\\t$(\"#pn-orelha-mensal\").removeClass(\"pn-fichario-orelha-ativa\").addClass(\"pn-fichario-orelha\");\\n\\t\\t\\t$(\"#pn-orelha-anual\").removeClass(\"pn-fichario-orelha-ativa\").addClass(\"pn-fichario-orelha\");\\n\\t\\t\\t$(\"#pn-selecao-semanal\").show(\\'fast\\');\\n\\t\\t}\\n\\t\\t$(\"#pn-selecao-mensal\").hide(\\'fast\\');\\n\\t\\t$(\"#pn-selecao-anual\").hide(\\'fast\\');\\n\\t});\\n\\t$(\"#pn-orelha-mensal\").click(function(){\\n\\t\\tif($(\"#pn-selecao-mensal\").is(\":visible\")){\\n\\t\\t\\t$(\"#pn-orelha-semanal\").removeClass(\"pn-fichario-orelha-ativa\").addClass(\"pn-fichario-orelha\");\\n\\t\\t\\t$(\"#pn-orelha-mensal\").removeClass(\"pn-fichario-orelha-ativa\").addClass(\"pn-fichario-orelha\");\\n\\t\\t\\t$(\"#pn-orelha-anual\").removeClass(\"pn-fichario-orelha\").addClass(\"pn-fichario-orelha-ativa\");\\n\\t\\t\\t$(\"#pn-selecao-mensal\").hide(\\'fast\\');\\n\\t\\t}else{\\n\\t\\t\\t$(\"#pn-orelha-semanal\").removeClass(\"pn-fichario-orelha-ativa\").addClass(\"pn-fichario-orelha\");\\n\\t\\t\\t$(\"#pn-orelha-mensal\").removeClass(\"pn-fichario-orelha\").addClass(\"pn-fichario-orelha-ativa\");\\n\\t\\t\\t$(\"#pn-orelha-anual\").removeClass(\"pn-fichario-orelha-ativa\").addClass(\"pn-fichario-orelha\");\\n\\t\\t\\t$(\"#pn-selecao-mensal\").show(\\'fast\\');\\n\\t\\t}\\n\\t\\t$(\"#pn-selecao-semanal\").hide(\\'fast\\');\\n\\t\\t$(\"#pn-selecao-anual\").hide(\\'fast\\');\\n\\t});\\n\\t$(\"#pn-orelha-anual\").click(function(){\\n\\t\\tif($(\"#pn-selecao-anual\").is(\":visible\")){\\n\\t\\t\\t$(\"#pn-orelha-semanal\").removeClass(\"pn-fichario-orelha-ativa\").addClass(\"pn-fichario-orelha\");\\n\\t\\t\\t$(\"#pn-orelha-mensal\").removeClass(\"pn-fichario-orelha-ativa\").addClass(\"pn-fichario-orelha\");\\n\\t\\t\\t$(\"#pn-orelha-anual\").removeClass(\"pn-fichario-orelha\").addClass(\"pn-fichario-orelha-ativa\");\\n\\t\\t\\t$(\"#pn-selecao-anual\").hide(\\'fast\\');\\n\\t\\t}else{\\n\\t\\t\\t$(\"#pn-orelha-semanal\").removeClass(\"pn-fichario-orelha-ativa\").addClass(\"pn-fichario-orelha\");\\n\\t\\t\\t$(\"#pn-orelha-mensal\").removeClass(\"pn-fichario-orelha-ativa\").addClass(\"pn-fichario-orelha\");\\n\\t\\t\\t$(\"#pn-orelha-anual\").removeClass(\"pn-fichario-orelha\").addClass(\"pn-fichario-orelha-ativa\");\\n\\t\\t\\t$(\"#pn-selecao-anual\").show(\\'fast\\');\\n\\t\\t}\\n\\t\\t$(\"#pn-selecao-semanal\").hide(\\'fast\\');\\n\\t\\t$(\"#pn-selecao-mensal\").hide(\\'fast\\');\\n\\t});\\n});\\n</script>\\n\\n\\n\\t<div class=\"pn-destaque clearfix\">\\n\\t\\t<div class=\"pn-largura clearfix\">\\n\\t\\t\\t<div class=\"pn-colunas clearfix\">\\n\\t\\t\\t\\t<div class=\"pn-colunas-02x07\">\\n\\t\\t\\t\\t\\t<div class=\"pn-colunas-corpo clearfix\">\\n\\t\\t\\t\\t\\t\\t<div class=\"pn-editoria clearfix\">\\n\\t\\t\\t\\t\\t\\t\\t<div class=\"pn-editoria-cabeca clearfix\">\\n\\t\\t\\t\\t\\t\\t\\t\\t<div class=\"pn-editoria-titulo\"><a href=\"/empregos\">Empregos</a></div>\\n\\t\\t\\t\\t\\t\\t\\t</div>\\n\\t\\t\\t\\t\\t\\t\\t<div class=\"pn-editoria-corpo clearfix\" style=\"border:none;\">\\n\\t\\t\\t\\t\\t\\t\\t\\t<p>Você está buscando um emprego no mercado editorial? O PublishNews oferece um banco de vagas abertas em diversas empresas da cadeia do livro. E se você quiser anunciar uma vaga em sua empresa, entre em contato.</p>\\n\\t\\t\\t\\t\\t\\t\\t\\t<p><a href=\"/empregos\" class=\"pn-botao\" style=\"margin-top:10px;margin-left:auto;margin-right:auto;margin-bottom:20px;padding-top:12px;padding-left:0px;padding-right:0px;padding-bottom:13px;width:100%;line-height:20px;font-size:14px;text-align:center;\">Procurar</a></p>\\n\\t\\t\\t\\t\\t\\t\\t</div>\\n\\t\\t\\t\\t\\t\\t</div>\\n\\t\\t\\t\\t\\t</div>\\n\\t\\t\\t\\t</div>\\n\\t\\t\\t\\t<div class=\"pn-colunas-02x07\">\\n\\t\\t\\t\\t\\t<div class=\"pn-colunas-corpo clearfix\">\\n\\t\\t\\t\\t\\t\\t<div class=\"pn-editoria clearfix\">\\n\\t\\t\\t\\t\\t\\t\\t<div class=\"pn-editoria-cabeca clearfix\">\\n\\t\\t\\t\\t\\t\\t\\t\\t<div class=\"pn-editoria-titulo\"><a href=\"/fornecedores\">Fornecedores</a></div>\\n\\t\\t\\t\\t\\t\\t\\t</div>\\n\\t\\t\\t\\t\\t\\t\\t<div class=\"pn-editoria-corpo clearfix\" style=\"border:none;\">\\n\\t\\t\\t\\t\\t\\t\\t\\t<p>Precisando de um capista, de um diagramador ou de uma gráfica? Ou de um conversor de e-books? Seja o que for, você poderá encontrar no nosso Guia de Fornecedores. E para anunciar sua empresa, entre em contato.</p>\\n\\t\\t\\t\\t\\t\\t\\t\\t<p><a href=\"/fornecedores\" class=\"pn-botao\" style=\"margin-top:10px;margin-left:auto;margin-right:auto;margin-bottom:20px;padding-top:12px;padding-left:0px;padding-right:0px;padding-bottom:13px;width:100%;line-height:20px;font-size:14px;text-align:center;\">Procurar</a></p>\\n\\t\\t\\t\\t\\t\\t\\t</div>\\n\\t\\t\\t\\t\\t\\t</div>\\n\\t\\t\\t\\t\\t</div>\\n\\t\\t\\t\\t</div>\\n\\t\\t\\t\\t<div class=\"pn-colunas-02x07\">\\n\\t\\t\\t\\t\\t<div class=\"pn-colunas-corpo clearfix\">\\n\\t\\t\\t\\t\\t\\t<div class=\"pn-editoria clearfix\">\\n\\t\\t\\t\\t\\t\\t\\t<div class=\"pn-editoria-cabeca clearfix\">\\n\\t\\t\\t\\t\\t\\t\\t\\t<div class=\"pn-editoria-titulo\"><a href=\"/paginas/assinatura\">Newsletter</a></div>\\n\\t\\t\\t\\t\\t\\t\\t</div>\\n\\t\\t\\t\\t\\t\\t\\t<div class=\"pn-editoria-corpo clearfix\" style=\"border:none;\">\\n\\t\\t\\t\\t\\t\\t\\t\\t<p>O PublishNews nasceu como uma newsletter. E esta continua sendo nossa principal ferramenta de comunicação. Quer receber diariamente todas as notícias do mundo do livro resumidas em um parágrafo?</p>\\n\\t\\t\\t\\t\\t\\t\\t\\t<p><a href=\"/paginas/assinatura\" class=\"pn-botao\" style=\"margin-top:10px;margin-left:auto;margin-right:auto;margin-bottom:20px;padding-top:12px;padding-left:0px;padding-right:0px;padding-bottom:13px;width:100%;line-height:20px;font-size:14px;text-align:center;\">Assinar</a></p>\\n\\t\\t\\t\\t\\t\\t\\t</div>\\n\\t\\t\\t\\t\\t\\t</div>\\n\\t\\t\\t\\t\\t</div>\\n\\t\\t\\t\\t</div>\\n\\t\\t\\t\\t<div class=\"pn-colunas-01x07\">\\n\\t\\t\\t\\t\\t<div class=\"pn-colunas-corpo clearfix\">\\n\\t\\t\\t\\t\\t\\t\\t\\t\\t\\t\\t</div>\\n\\t\\t\\t\\t</div>\\n\\t\\t\\t</div>\\n\\t\\t\\t<div class=\"pn-border\"></div>\\n\\t\\t</div>\\n\\t</div>\\n\\t<div class=\"pn-rodape clearfix\">\\n\\t\\t<div class=\"pn-largura clearfix\">\\n\\t\\t\\t<div class=\"pn-paginas clearfix\">\\n\\t\\t\\t\\t<a href=\"/newsletters\">Newsletters</a>\\n\\t\\t\\t\\t<!--a href=\"/paginas/premio-publishnews-2019\">Prêmio PublishNews 2019</a-->\\n\\t\\t\\t\\t<a href=\"/materias/2021/05/13/engajamento-nas-redes-sociais-vence-o-premio-publishnews-2020\">Prêmio PublishNews 2020</a>\\n\\t\\t\\t\\t<li><a href=\"/paginas/jovenstalentos2019\">Prêmio Jovens Talentos 2019</a></li>\\n\\t\\t\\t\\t<!--<a href=\"/paginas/pub-livro18\">Pub-Livro 2018</a>-->\\n\\t\\t\\t\\t<!--<a href=\"/paginas/publishnews-tv\">TV</a>-->\\n\\t\\t\\t\\t<a href=\"/paginas/institucional\">Institucional</a>\\n\\t\\t\\t\\t<a href=\"/paginas/anuncie\">Anuncie</a>\\n\\t\\t\\t\\t<a href=\"/paginas/faq\">FAQ</a>\\n\\t\\t\\t\\t<a href=\"/paginas/contato\">Contato</a>\\n\\t\\t\\t</div>\\n\\t\\t\\t<div class=\"pn-logo\">\\n\\t\\t\\t\\t<a href=\"/\"><img src=\"/estaticos/arquivos/logo_155x75_publishnews_branco.png\" width=\"155\" height=\"75\" border=\"0\" alt=\"\" /></a>\\n\\t\\t\\t</div>\\n\\t\\t\\t<div class=\"pn-social\">\\n\\t\\t\\t\\t<a href=\"https://www.facebook.com/publishnews\" target=\"_blank\"><img src=\"/estaticos/arquivos/logo_32x32_facebook_branco.png\" width=\"32\" height=\"32\" border=\"0\" alt=\"\" /></a>\\n\\t\\t\\t\\t<a href=\"https://www.twitter.com/publishnews\" target=\"_blank\"><img src=\"/estaticos/arquivos/logo_32x32_twitter_branco.png\" width=\"32\" height=\"32\" border=\"0\" alt=\"\" /></a>\\n\\t\\t\\t\\t<a href=\"https://www.linkedin.com/company/2037405\" target=\"_blank\"><img src=\"/estaticos/arquivos/logo_32x32_linkedin_branco.png\" width=\"32\" height=\"32\" border=\"0\" alt=\"\" /></a>\\n\\t\\t\\t\\t<a href=\"https://www.youtube.com/user/publishnewstv\" target=\"_blank\"><img src=\"/estaticos/arquivos/logo_32x32_youtube_branco.png\" width=\"32\" height=\"32\" border=\"0\" alt=\"\" /></a>\\n\\t\\t\\t\\t<a href=\"/rss.xml\" target=\"_blank\"><img src=\"/estaticos/arquivos/logo_32x32_rss_branco.png\" width=\"32\" height=\"32\" border=\"0\" alt=\"PublishNews\" /></a>\\n\\t\\t\\t\\t<a href=\"/alternar?uri=ranking%2Fanual%2F0%2F2020%2F0%2F0\"><img src=\"/estaticos/arquivos/logo_32x32_celular_branco.png\" width=\"32\" height=\"32\" border=\"0\" alt=\"Versão Desktop\" /></a>\\n\\t\\t\\t</div>\\n\\t\\t</div>\\n\\t</div>\\n\\t<div class=\"pn-bottom clearfix\">\\n\\t\\t<div class=\"pn-largura clearfix\">\\n\\t\\t\\t<div class=\"pn-copyright\">\\n\\t\\t\\t\\t&copy;2001-2021 por Carrenho Editorial Ltda. Todos os direitos reservados.<br />\\n\\t\\t\\t\\tRua Henrique Schaumann, 1108 A, CEP 05413-011 Pinheiros, São Paulo -SP<br />\\n\\t\\t\\t\\tEste conteúdo não pode ser publicado, transmitido, reescrito ou redistribuído sem autorização.\\n\\t\\t\\t</div>\\n\\t\\t\\t<div class=\"pn-developer\">\\n\\t\\t\\t\\t<!--a href=\"http://www.blackbean.com.br\" target=\"_blank\"><img src=\"/estaticos/arquivos/logo_75x50_blackbean_branco.png\" width=\"75\" height=\"50\" border=\"0\" alt=\"\" /></a-->\\n\\t\\t\\t</div>\\n\\t\\t</div>\\n\\t</div>\\n</div>\\n<div id=\"fb-root\"></div>\\n<script type=\"text/javascript\" src=\"/estaticos/scripts/clipboard.js\" language=\"javascript\" charset=\"utf-8\"></script>\\n<script type=\"text/javascript\" src=\"/estaticos/scripts/jquery.cookie.js\" language=\"javascript\" charset=\"utf-8\"></script>\\n<script type=\"text/javascript\">\\n(function(){\\n\\tvar fb = document.createElement(\\'script\\');\\n\\tfb.type = \\'text/javascript\\';\\n\\tfb.async = true;\\n\\tfb.id = \\'fb-js\\';\\n\\tfb.src = (\\'https:\\' == document.location.protocol ? \\'https://\\' : \\'http://\\') + \\'//connect.facebook.net/pt_BR/sdk.js#xfbml=1&version=v2.9&appId=1440384329596746\\';\\n\\tvar js = document.getElementsByTagName(\\'script\\')[0];\\n\\tjs.parentNode.insertBefore(fb, js);\\n})();\\n</script>\\n<script type=\"text/javascript\" src=\"https://d335luupugsy2.cloudfront.net/js/loader-scripts/6bfd9a9d-4976-4ea7-9396-3eedbee253a1-loader.js\" language=\"javascript\" charset=\"utf-8\"></script>\\n<!-- 0.40952587127686ms -->\\n</body>\\n</html>\\n'"
            ]
          },
          "metadata": {},
          "execution_count": 3
        }
      ]
    },
    {
      "cell_type": "markdown",
      "metadata": {
        "id": "mtj6u7Lj1zPf"
      },
      "source": [
        "Em seguida, criamos uma instância chamada *soup* que recebeu o conteúdo através do módulo Requests. Por meio dela fizemos um parsing-teste utilizando o módulo html.parser. Existem outros métodos como o lxml, o html5lib etc., e a opção pelo html.parser foi devido a ele ser um *parser* presente no próprio Python 3, sem necessitar qualquer instalação extra."
      ]
    },
    {
      "cell_type": "code",
      "metadata": {
        "id": "2JxSgraRjF-W"
      },
      "source": [
        "soup = BeautifulSoup(response.content, 'html.parser')"
      ],
      "execution_count": null,
      "outputs": []
    },
    {
      "cell_type": "markdown",
      "metadata": {
        "id": "xq3qlb9GQCFp"
      },
      "source": [
        "No código abaixo extraímos o título da página-teste, bem como as informações de cada livro por meio da busca iterada de todo o conteúdo que estivesse presente na classe '*pn-ranking-livros-dados*'. Para que o resultado exibisse somente o texto sem as tags HTML, aplicamos a função *get_text* e o *replace* para eliminar quebras de linha desnecessárias."
      ]
    },
    {
      "cell_type": "code",
      "metadata": {
        "id": "mfcsYpfxk9cb",
        "colab": {
          "base_uri": "https://localhost:8080/"
        },
        "outputId": "9c5670e2-67df-452b-af50-b1f4b9797b76"
      },
      "source": [
        "print(soup.title.get_text(), '\\n')\n",
        "for livro in soup.find_all('div', {'class': 'pn-ranking-livro-dados'}):\n",
        "  print(livro.get_text().replace('\\n\\n', ''))"
      ],
      "execution_count": null,
      "outputs": [
        {
          "output_type": "stream",
          "name": "stdout",
          "text": [
            "Lista de Mais Vendidos Geral de 2020 | PublishNews \n",
            "\n",
            "Mais esperto que o diabo\n",
            "Napoleon Hill\n",
            "Citadel\n",
            "\n",
            "A sutil arte de ligar o foda-se\n",
            "Mark Manson\n",
            "Intrínseca\n",
            "\n",
            "Do mil ao milhão\n",
            "Thiago Nigro\n",
            "HarperCollins\n",
            "\n",
            "O milagre da manhã\n",
            "Hal Elrod\n",
            "BestSeller\n",
            "\n",
            "Box Harry Potter\n",
            "J. K. Rowling\n",
            "Rocco\n",
            "\n",
            "Decida vencer\n",
            "Eduardo Volpato\n",
            "Gente\n",
            "\n",
            "O poder da autorresponsabilidade\n",
            "Paulo Vieira\n",
            "Gente\n",
            "\n",
            "Seja foda!\n",
            "Caio Carneiro\n",
            "Buzz\n",
            "\n",
            "Sol da meia-noite\n",
            "Stephenie Meyer\n",
            "Intrínseca\n",
            "\n",
            "Os segredos da mente milionária\n",
            "T. Harv Eker\n",
            "Sextante\n",
            "\n",
            "Mulheres que correm com os lobos (capa dura)\n",
            "Clarissa Pinkola Estes\n",
            "Rocco\n",
            "\n",
            "Pai rico, pai pobre - Edição de 20 anos\n",
            "Robert T. Kiyosak\n",
            "Alta Books Editora\n",
            "\n",
            "Mindset\n",
            "Carol Dweck\n",
            "Objetiva\n",
            "\n",
            "A garota do lago\n",
            "Charlie Donlea\n",
            "Faro Editorial\n",
            "\n",
            "DNA da cocriação\n",
            "Elainne Ourives\n",
            "Gente\n",
            "\n",
            "O poder do hábito\n",
            "Charles Duhigg\n",
            "Objetiva\n",
            "\n",
            "Escravidão -Vol 1\n",
            "Laurentino Gomes\n",
            "Globo Livros\n",
            "\n",
            "A revolução dos bichos\n",
            "George Orwell\n",
            "Companhia das Letras\n",
            "\n",
            "21 lições para o século 21\n",
            "Yuval Noah Harari\n",
            "Companhia das Letras\n",
            "\n",
            "1984\n",
            "George Orwell\n",
            "Companhia das Letras\n",
            "\n"
          ]
        }
      ]
    },
    {
      "cell_type": "markdown",
      "metadata": {
        "id": "f3q8jfxjiqnE"
      },
      "source": [
        "Nos códigos seguintes, criamos uma variável chamada 'livros-geral' que recebeu o conteúdo extraído da classe 'pn-ranking-livros-posicao clearfix'. Como a busca não foi iterada, ele retornou o conteúdo somente do primeiro livro, e como não utilizamos nenhuma função de limpeza das tags, ele retornou todo o código HTML. A ideia aqui foi identificar os aninhamentos para que fosse possível extrair as informações relacionadas ao ranking de cada título. A partir dela, a análise seguiu conforme a seguinte ordem:\n",
        "\n",
        "1. Nome (**variável:** primeiro_titulo)\n",
        "2. Autor (**variavel:** primeiro_autor)\n",
        "3. Editora (**variavel:** primeiro_editora)\n",
        "4. Páginas (**variavel:** primeiro_paginas)\n",
        "5. Categoria (**variavel:** primeiro_categoria)\n",
        "6. Posição (**variavel:** primeiro_posicao)\n",
        "7. Exemplares vendidos (**variavel:** primeiro_exemplares)\n",
        "\n",
        "Cada categoria acima foi transformada em uma variável que recebeu sua respectiva informação.\n",
        "<p>Sabendo que este processo é apenas um teste com o objetivo de avaliar os comandos de raspagem de cada informação que iremos analisar, escolhemos inserir no nome das variáveis o termo 'primeiro_' para indicar que não são definitivas, mas respondem à intenção de raspar os dados do primeiro livro somente.</p>\n",
        "<p>Importante observar que alguns valores precisaram ser convertidos de string para inteiro ou float.</p>"
      ]
    },
    {
      "cell_type": "code",
      "metadata": {
        "colab": {
          "base_uri": "https://localhost:8080/",
          "height": 35
        },
        "id": "nLegTGkRv42A",
        "outputId": "92a66f89-8258-4ed1-cf66-75ac5c627638"
      },
      "source": [
        "headers_geral = soup.title.get_text()\n",
        "\n",
        "headers_geral"
      ],
      "execution_count": null,
      "outputs": [
        {
          "output_type": "execute_result",
          "data": {
            "application/vnd.google.colaboratory.intrinsic+json": {
              "type": "string"
            },
            "text/plain": [
              "'Lista de Mais Vendidos Geral de 2020 | PublishNews'"
            ]
          },
          "metadata": {},
          "execution_count": 6
        }
      ]
    },
    {
      "cell_type": "code",
      "metadata": {
        "id": "WN1cPGzguirt",
        "colab": {
          "base_uri": "https://localhost:8080/"
        },
        "outputId": "6a1d9332-e407-436f-9e74-15ee5ae613e7"
      },
      "source": [
        "livros_geral = soup.find_all('div', {'class': 'pn-ranking-livros-posicao clearfix'})\n",
        "\n",
        "primeiro_geral = livros_geral[0]\n",
        "primeiro_geral"
      ],
      "execution_count": null,
      "outputs": [
        {
          "output_type": "execute_result",
          "data": {
            "text/plain": [
              "<div class=\"pn-ranking-livros-posicao clearfix\">\n",
              "<div class=\"pn-ranking-livros-posicao-numero\">1</div>\n",
              "<div class=\"pn-ranking-livros-posicao-volume\">113.041</div>\n",
              "<div class=\"pn-ranking-livros-posicao-corpo clearfix\">\n",
              "<div class=\"pn-ranking-livro clearfix\">\n",
              "<div class=\"pn-ranking-livro-dados\">\n",
              "<div class=\"pn-ranking-livro-capa\"><img alt=\"\" border=\"0\" src=\"https://www.publishnews.com.br/estaticos/uploads/2021/07/Vgzr5F4Gh4Y0HTGeYaoSimsdVz8uJPebAWx397qktmYwr00d2YDOElgtMJ9QoFAT9LtGKTA3keBzzTDd.jpg\"/></div>\n",
              "<div class=\"pn-ranking-livro-nome\">Mais esperto que o diabo</div>\n",
              "<div class=\"pn-ranking-livro-autor\">Napoleon Hill</div>\n",
              "<div class=\"pn-ranking-livro-editora\">Citadel</div>\n",
              "</div>\n",
              "<div class=\"pn-ranking-livro-extras\" style=\"display:none;\">\n",
              "<div class=\"pn-ranking-livro-resumo\"><p>Escrito em 1938, após uma das maiores crises econômicas, e precedendo a Segunda Guerra Mundial, este livro não somente é uma fonte de inspiração e coragem, mas deve ser considerado um manual para todas aquelas pessoas que desejam ser mais espertas que seus medos, problemas e limitações, pois, como o próprio Hill fala - em toda adversidade existe uma semente de benefício equivalente. </p></div>\n",
              "<div class=\"pn-ranking-livro-isbn\">ISBN <strong>978-85-68014-00-4</strong></div>\n",
              "<div class=\"pn-ranking-livro-categoria\">Categoria <strong>Autoajuda</strong></div>\n",
              "<!-- Removido após a solicitação na Tarefa #24 (19/11/2019 20:08), solicitante: Mari Xavier -->\n",
              "<!--<div class=\"pn-ranking-livro-preco\">Preço <strong>R$ </strong></div> -->\n",
              "<div class=\"pn-ranking-livro-paginas\">Páginas <strong>200</strong></div>\n",
              "</div>\n",
              "</div>\n",
              "</div>\n",
              "</div>"
            ]
          },
          "metadata": {},
          "execution_count": 7
        }
      ]
    },
    {
      "cell_type": "code",
      "metadata": {
        "colab": {
          "base_uri": "https://localhost:8080/",
          "height": 35
        },
        "id": "QKFmj7u6iDpO",
        "outputId": "6d94f0b2-03f0-40de-a4f0-9b08f1ca9aa5"
      },
      "source": [
        "primeiro_titulo = primeiro_geral.find('div', {'class': 'pn-ranking-livro-nome'})\n",
        "primeiro_titulo.text"
      ],
      "execution_count": null,
      "outputs": [
        {
          "output_type": "execute_result",
          "data": {
            "application/vnd.google.colaboratory.intrinsic+json": {
              "type": "string"
            },
            "text/plain": [
              "'Mais esperto que o diabo'"
            ]
          },
          "metadata": {},
          "execution_count": 8
        }
      ]
    },
    {
      "cell_type": "code",
      "metadata": {
        "colab": {
          "base_uri": "https://localhost:8080/",
          "height": 35
        },
        "id": "3MGbNH9fk18W",
        "outputId": "5c678b7d-a050-4bd8-bf09-b35faf350c2d"
      },
      "source": [
        "primeiro_autor = primeiro_geral.find('div', {'class': 'pn-ranking-livro-autor'})\n",
        "primeiro_autor.text"
      ],
      "execution_count": null,
      "outputs": [
        {
          "output_type": "execute_result",
          "data": {
            "application/vnd.google.colaboratory.intrinsic+json": {
              "type": "string"
            },
            "text/plain": [
              "'Napoleon Hill'"
            ]
          },
          "metadata": {},
          "execution_count": 9
        }
      ]
    },
    {
      "cell_type": "code",
      "metadata": {
        "colab": {
          "base_uri": "https://localhost:8080/",
          "height": 35
        },
        "id": "RM3wjypHn275",
        "outputId": "db2a3838-d7b2-4720-bc6e-ec6ca8134923"
      },
      "source": [
        "primeiro_editora = primeiro_geral.find('div', {'class': 'pn-ranking-livro-editora'})\n",
        "primeiro_editora.text"
      ],
      "execution_count": null,
      "outputs": [
        {
          "output_type": "execute_result",
          "data": {
            "application/vnd.google.colaboratory.intrinsic+json": {
              "type": "string"
            },
            "text/plain": [
              "'Citadel'"
            ]
          },
          "metadata": {},
          "execution_count": 10
        }
      ]
    },
    {
      "cell_type": "code",
      "metadata": {
        "colab": {
          "base_uri": "https://localhost:8080/"
        },
        "id": "YCWlsi5EoDgA",
        "outputId": "80cd4a0c-cd89-49c0-e9be-2f4aafda7754"
      },
      "source": [
        "primeiro_paginas = primeiro_geral.find('div', {'class': 'pn-ranking-livro-paginas'})\n",
        "primeiro_paginas = int(primeiro_paginas.strong.text)\n",
        "print(primeiro_paginas)"
      ],
      "execution_count": null,
      "outputs": [
        {
          "output_type": "stream",
          "name": "stdout",
          "text": [
            "200\n"
          ]
        }
      ]
    },
    {
      "cell_type": "code",
      "metadata": {
        "colab": {
          "base_uri": "https://localhost:8080/"
        },
        "id": "1LrBz0z5oQkI",
        "outputId": "218865ee-2e4a-47cc-f82e-aaec0cd8c5af"
      },
      "source": [
        "primeiro_categoria = primeiro_geral.find('div', {'class': 'pn-ranking-livro-categoria'})\n",
        "primeiro_categoria = primeiro_categoria.strong.text\n",
        "print(primeiro_categoria)"
      ],
      "execution_count": null,
      "outputs": [
        {
          "output_type": "stream",
          "name": "stdout",
          "text": [
            "Autoajuda\n"
          ]
        }
      ]
    },
    {
      "cell_type": "code",
      "metadata": {
        "colab": {
          "base_uri": "https://localhost:8080/"
        },
        "id": "PdmZQl8mo9ai",
        "outputId": "cd21e7bf-3f59-4a51-f5ce-06dc41bbcdda"
      },
      "source": [
        "primeiro_posicao = primeiro_geral.find('div', {'class': 'pn-ranking-livros-posicao-numero'})\n",
        "primeiro_posicao = int(primeiro_posicao.text)\n",
        "print(primeiro_posicao)"
      ],
      "execution_count": null,
      "outputs": [
        {
          "output_type": "stream",
          "name": "stdout",
          "text": [
            "1\n"
          ]
        }
      ]
    },
    {
      "cell_type": "code",
      "metadata": {
        "colab": {
          "base_uri": "https://localhost:8080/"
        },
        "id": "_W0QWmTrpKEN",
        "outputId": "559f2625-632c-454e-ddf5-765a95228ca5"
      },
      "source": [
        "primeiro_exemplares = primeiro_geral.find('div', {'class': 'pn-ranking-livros-posicao-volume'})\n",
        "primeiro_exemplares = float(primeiro_exemplares.text)\n",
        "print(primeiro_exemplares)"
      ],
      "execution_count": null,
      "outputs": [
        {
          "output_type": "stream",
          "name": "stdout",
          "text": [
            "113.041\n"
          ]
        }
      ]
    },
    {
      "cell_type": "markdown",
      "metadata": {
        "id": "ySXjyWyqxXZD"
      },
      "source": [
        "O Pandas é uma biblioteca em Python criada para auxiliar na manipulação e análise de dados. Sua especialidade é o poder de agrupar e organizar os dados em Dataframes, que são tabelas através das quais visualizaremos e trabalharemos com as informações. Desse modo, o utilizaremos para testar tanto esse primeiro exercício de elaboração dos comandos de extração como no exercício seguinte, que se trata do script pronto para raspar os dados de uma página-teste."
      ]
    },
    {
      "cell_type": "code",
      "metadata": {
        "colab": {
          "base_uri": "https://localhost:8080/",
          "height": 341
        },
        "id": "KAce_0prUERG",
        "outputId": "1e78999c-99b7-416f-ef29-b069f03e833c"
      },
      "source": [
        "import pandas as pd\n",
        "\n",
        "teste1_df = pd.DataFrame({'livro': primeiro_titulo,\n",
        "                        'autor/a': primeiro_autor,\n",
        "                        'editora': primeiro_editora,\n",
        "                        'paginas': primeiro_paginas,\n",
        "                        'categoria': primeiro_categoria,\n",
        "                        'ranking': primeiro_posicao,\n",
        "                        'exemplares_vendidos': primeiro_exemplares}, index=[0])\n",
        "print(teste1_df.info())\n",
        "teste1_df"
      ],
      "execution_count": null,
      "outputs": [
        {
          "output_type": "stream",
          "name": "stdout",
          "text": [
            "<class 'pandas.core.frame.DataFrame'>\n",
            "Int64Index: 1 entries, 0 to 0\n",
            "Data columns (total 7 columns):\n",
            " #   Column               Non-Null Count  Dtype  \n",
            "---  ------               --------------  -----  \n",
            " 0   livro                1 non-null      object \n",
            " 1   autor/a              1 non-null      object \n",
            " 2   editora              1 non-null      object \n",
            " 3   paginas              1 non-null      int64  \n",
            " 4   categoria            1 non-null      object \n",
            " 5   ranking              1 non-null      int64  \n",
            " 6   exemplares_vendidos  1 non-null      float64\n",
            "dtypes: float64(1), int64(2), object(4)\n",
            "memory usage: 64.0+ bytes\n",
            "None\n"
          ]
        },
        {
          "output_type": "execute_result",
          "data": {
            "text/html": [
              "<div>\n",
              "<style scoped>\n",
              "    .dataframe tbody tr th:only-of-type {\n",
              "        vertical-align: middle;\n",
              "    }\n",
              "\n",
              "    .dataframe tbody tr th {\n",
              "        vertical-align: top;\n",
              "    }\n",
              "\n",
              "    .dataframe thead th {\n",
              "        text-align: right;\n",
              "    }\n",
              "</style>\n",
              "<table border=\"1\" class=\"dataframe\">\n",
              "  <thead>\n",
              "    <tr style=\"text-align: right;\">\n",
              "      <th></th>\n",
              "      <th>livro</th>\n",
              "      <th>autor/a</th>\n",
              "      <th>editora</th>\n",
              "      <th>paginas</th>\n",
              "      <th>categoria</th>\n",
              "      <th>ranking</th>\n",
              "      <th>exemplares_vendidos</th>\n",
              "    </tr>\n",
              "  </thead>\n",
              "  <tbody>\n",
              "    <tr>\n",
              "      <th>0</th>\n",
              "      <td>Mais esperto que o diabo</td>\n",
              "      <td>Napoleon Hill</td>\n",
              "      <td>Citadel</td>\n",
              "      <td>200</td>\n",
              "      <td>Autoajuda</td>\n",
              "      <td>1</td>\n",
              "      <td>113.041</td>\n",
              "    </tr>\n",
              "  </tbody>\n",
              "</table>\n",
              "</div>"
            ],
            "text/plain": [
              "                      livro        autor/a  ... ranking  exemplares_vendidos\n",
              "0  Mais esperto que o diabo  Napoleon Hill  ...       1              113.041\n",
              "\n",
              "[1 rows x 7 columns]"
            ]
          },
          "metadata": {},
          "execution_count": 15
        }
      ]
    },
    {
      "cell_type": "code",
      "metadata": {
        "id": "36ZhuDFQsQp6",
        "colab": {
          "base_uri": "https://localhost:8080/"
        },
        "outputId": "efb97308-969d-4c9f-9a3f-a23f5ed75cf0"
      },
      "source": [
        "# Listas nas quais os dados serão armazenados\n",
        "teste_titulos = []\n",
        "teste_autores = []\n",
        "teste_editoras = []\n",
        "teste_paginas = []\n",
        "teste_categorias = []\n",
        "teste_posicoes = []\n",
        "teste_exemplares = []\n",
        "\n",
        "# Extrai os dados, individualmente, do container de livros\n",
        "for container in livros_geral:\n",
        "  # Título\n",
        "  titulo = container.find('div', {'class': 'pn-ranking-livro-nome'})\n",
        "  titulo = str(titulo.text)\n",
        "  teste_titulos.append(titulo)\n",
        "  # Autor\n",
        "  autor = container.find('div', {'class': 'pn-ranking-livro-autor'})\n",
        "  autor = str(autor.text)\n",
        "  teste_autores.append(autor)\n",
        "  # Editora\n",
        "  editora = container.find('div', {'class': 'pn-ranking-livro-editora'})\n",
        "  editora = str(editora.text)\n",
        "  teste_editoras.append(editora)\n",
        "  # Paginação\n",
        "  pagina = container.find('div', {'class': 'pn-ranking-livro-paginas'})\n",
        "  pagina = int(str(pagina.strong.text).replace('.', ''))\n",
        "  teste_paginas.append(pagina)\n",
        "  # Categorias\n",
        "  categoria = container.find('div', {'class': 'pn-ranking-livro-categoria'})\n",
        "  categoria = str(categoria.strong.text)\n",
        "  teste_categorias.append(categoria)\n",
        "  # Posição\n",
        "  posicao = container.find('div', {'class': 'pn-ranking-livros-posicao-numero'})\n",
        "  posicao = int(posicao.text)\n",
        "  teste_posicoes.append(posicao)\n",
        "  # Exemplares\n",
        "  exemplar = container.find('div', {'class': 'pn-ranking-livros-posicao-volume'})\n",
        "  exemplar = float(str(exemplar.text))\n",
        "  teste_exemplares.append(exemplar)\n",
        "\n",
        "# Verifica se a extração funcionou\n",
        "print(teste_titulos)\n",
        "print(teste_autores)\n",
        "print(teste_editoras)\n",
        "print(teste_paginas)\n",
        "print(teste_categorias)\n",
        "print(teste_posicoes)\n",
        "print(teste_exemplares)"
      ],
      "execution_count": null,
      "outputs": [
        {
          "output_type": "stream",
          "name": "stdout",
          "text": [
            "['Mais esperto que o diabo', 'A sutil arte de ligar o foda-se', 'Do mil ao milhão', 'O milagre da manhã', 'Box Harry Potter', 'Decida vencer', 'O poder da autorresponsabilidade', 'Seja foda!', 'Sol da meia-noite', 'Os segredos da mente milionária', 'Mulheres que correm com os lobos (capa dura)', 'Pai rico, pai pobre - Edição de 20 anos', 'Mindset', 'A garota do lago', 'DNA da cocriação', 'O poder do hábito', 'Escravidão -Vol 1', 'A revolução dos bichos', '21 lições para o século 21', '1984']\n",
            "['Napoleon Hill', 'Mark Manson', 'Thiago Nigro', 'Hal Elrod', 'J. K. Rowling', 'Eduardo Volpato', 'Paulo Vieira', 'Caio Carneiro', 'Stephenie Meyer', 'T. Harv Eker', 'Clarissa Pinkola Estes', 'Robert T. Kiyosak', 'Carol Dweck', 'Charlie Donlea', 'Elainne Ourives', 'Charles Duhigg', 'Laurentino Gomes', 'George Orwell', 'Yuval Noah Harari', 'George Orwell']\n",
            "['Citadel', 'Intrínseca', 'HarperCollins', 'BestSeller', 'Rocco', 'Gente', 'Gente', 'Buzz', 'Intrínseca', 'Sextante', 'Rocco', 'Alta Books Editora', 'Objetiva', 'Faro Editorial', 'Gente', 'Objetiva', 'Globo Livros', 'Companhia das Letras', 'Companhia das Letras', 'Companhia das Letras']\n",
            "[200, 224, 192, 196, 3096, 208, 160, 208, 536, 176, 576, 336, 328, 296, 288, 408, 504, 156, 432, 416]\n",
            "['Autoajuda', 'Autoajuda', 'Negócios', 'Autoajuda', 'Infantojuvenil', 'Negócios', 'Negócios', 'Negócios', 'Ficção', 'Negócios', 'Não ficção', 'Negócios', 'Não ficção', 'Ficção', 'Autoajuda', 'Autoajuda', 'Não ficção', 'Ficção', 'Não ficção', 'Ficção']\n",
            "[1, 2, 3, 4, 5, 6, 7, 8, 9, 10, 11, 12, 13, 14, 15, 16, 17, 18, 19, 20]\n",
            "[113.041, 104.649, 77.862, 62.235, 55.124, 48.946, 47.641, 46.79, 44.401, 44.185, 43.744, 43.416, 43.351, 41.909, 40.093, 39.093, 37.78, 33.807, 32.166, 31.66]\n"
          ]
        }
      ]
    },
    {
      "cell_type": "code",
      "metadata": {
        "colab": {
          "base_uri": "https://localhost:8080/"
        },
        "id": "MTorVpBk3136",
        "outputId": "b8006c51-4453-4424-9c8f-b324740f500c"
      },
      "source": [
        "type(pagina)"
      ],
      "execution_count": null,
      "outputs": [
        {
          "output_type": "execute_result",
          "data": {
            "text/plain": [
              "int"
            ]
          },
          "metadata": {},
          "execution_count": 17
        }
      ]
    },
    {
      "cell_type": "code",
      "metadata": {
        "colab": {
          "base_uri": "https://localhost:8080/",
          "height": 937
        },
        "id": "dYCsn-Qjf9qX",
        "outputId": "14d176e3-da9b-45c5-8229-dc7c2a12a128"
      },
      "source": [
        "testefinal_df = pd.DataFrame({'livro': teste_titulos,\n",
        "                              'autor/a': teste_autores,\n",
        "                              'editora': teste_editoras,\n",
        "                              'paginacao': teste_paginas,\n",
        "                              'categoria': teste_categorias,\n",
        "                              'ranking': teste_posicoes,\n",
        "                              'exemplares_vendidos': teste_exemplares})\n",
        "print(testefinal_df.info())\n",
        "testefinal_df"
      ],
      "execution_count": null,
      "outputs": [
        {
          "output_type": "stream",
          "name": "stdout",
          "text": [
            "<class 'pandas.core.frame.DataFrame'>\n",
            "RangeIndex: 20 entries, 0 to 19\n",
            "Data columns (total 7 columns):\n",
            " #   Column               Non-Null Count  Dtype  \n",
            "---  ------               --------------  -----  \n",
            " 0   livro                20 non-null     object \n",
            " 1   autor/a              20 non-null     object \n",
            " 2   editora              20 non-null     object \n",
            " 3   paginacao            20 non-null     int64  \n",
            " 4   categoria            20 non-null     object \n",
            " 5   ranking              20 non-null     int64  \n",
            " 6   exemplares_vendidos  20 non-null     float64\n",
            "dtypes: float64(1), int64(2), object(4)\n",
            "memory usage: 1.2+ KB\n",
            "None\n"
          ]
        },
        {
          "output_type": "execute_result",
          "data": {
            "text/html": [
              "<div>\n",
              "<style scoped>\n",
              "    .dataframe tbody tr th:only-of-type {\n",
              "        vertical-align: middle;\n",
              "    }\n",
              "\n",
              "    .dataframe tbody tr th {\n",
              "        vertical-align: top;\n",
              "    }\n",
              "\n",
              "    .dataframe thead th {\n",
              "        text-align: right;\n",
              "    }\n",
              "</style>\n",
              "<table border=\"1\" class=\"dataframe\">\n",
              "  <thead>\n",
              "    <tr style=\"text-align: right;\">\n",
              "      <th></th>\n",
              "      <th>livro</th>\n",
              "      <th>autor/a</th>\n",
              "      <th>editora</th>\n",
              "      <th>paginacao</th>\n",
              "      <th>categoria</th>\n",
              "      <th>ranking</th>\n",
              "      <th>exemplares_vendidos</th>\n",
              "    </tr>\n",
              "  </thead>\n",
              "  <tbody>\n",
              "    <tr>\n",
              "      <th>0</th>\n",
              "      <td>Mais esperto que o diabo</td>\n",
              "      <td>Napoleon Hill</td>\n",
              "      <td>Citadel</td>\n",
              "      <td>200</td>\n",
              "      <td>Autoajuda</td>\n",
              "      <td>1</td>\n",
              "      <td>113.041</td>\n",
              "    </tr>\n",
              "    <tr>\n",
              "      <th>1</th>\n",
              "      <td>A sutil arte de ligar o foda-se</td>\n",
              "      <td>Mark Manson</td>\n",
              "      <td>Intrínseca</td>\n",
              "      <td>224</td>\n",
              "      <td>Autoajuda</td>\n",
              "      <td>2</td>\n",
              "      <td>104.649</td>\n",
              "    </tr>\n",
              "    <tr>\n",
              "      <th>2</th>\n",
              "      <td>Do mil ao milhão</td>\n",
              "      <td>Thiago Nigro</td>\n",
              "      <td>HarperCollins</td>\n",
              "      <td>192</td>\n",
              "      <td>Negócios</td>\n",
              "      <td>3</td>\n",
              "      <td>77.862</td>\n",
              "    </tr>\n",
              "    <tr>\n",
              "      <th>3</th>\n",
              "      <td>O milagre da manhã</td>\n",
              "      <td>Hal Elrod</td>\n",
              "      <td>BestSeller</td>\n",
              "      <td>196</td>\n",
              "      <td>Autoajuda</td>\n",
              "      <td>4</td>\n",
              "      <td>62.235</td>\n",
              "    </tr>\n",
              "    <tr>\n",
              "      <th>4</th>\n",
              "      <td>Box Harry Potter</td>\n",
              "      <td>J. K. Rowling</td>\n",
              "      <td>Rocco</td>\n",
              "      <td>3096</td>\n",
              "      <td>Infantojuvenil</td>\n",
              "      <td>5</td>\n",
              "      <td>55.124</td>\n",
              "    </tr>\n",
              "    <tr>\n",
              "      <th>5</th>\n",
              "      <td>Decida vencer</td>\n",
              "      <td>Eduardo Volpato</td>\n",
              "      <td>Gente</td>\n",
              "      <td>208</td>\n",
              "      <td>Negócios</td>\n",
              "      <td>6</td>\n",
              "      <td>48.946</td>\n",
              "    </tr>\n",
              "    <tr>\n",
              "      <th>6</th>\n",
              "      <td>O poder da autorresponsabilidade</td>\n",
              "      <td>Paulo Vieira</td>\n",
              "      <td>Gente</td>\n",
              "      <td>160</td>\n",
              "      <td>Negócios</td>\n",
              "      <td>7</td>\n",
              "      <td>47.641</td>\n",
              "    </tr>\n",
              "    <tr>\n",
              "      <th>7</th>\n",
              "      <td>Seja foda!</td>\n",
              "      <td>Caio Carneiro</td>\n",
              "      <td>Buzz</td>\n",
              "      <td>208</td>\n",
              "      <td>Negócios</td>\n",
              "      <td>8</td>\n",
              "      <td>46.790</td>\n",
              "    </tr>\n",
              "    <tr>\n",
              "      <th>8</th>\n",
              "      <td>Sol da meia-noite</td>\n",
              "      <td>Stephenie Meyer</td>\n",
              "      <td>Intrínseca</td>\n",
              "      <td>536</td>\n",
              "      <td>Ficção</td>\n",
              "      <td>9</td>\n",
              "      <td>44.401</td>\n",
              "    </tr>\n",
              "    <tr>\n",
              "      <th>9</th>\n",
              "      <td>Os segredos da mente milionária</td>\n",
              "      <td>T. Harv Eker</td>\n",
              "      <td>Sextante</td>\n",
              "      <td>176</td>\n",
              "      <td>Negócios</td>\n",
              "      <td>10</td>\n",
              "      <td>44.185</td>\n",
              "    </tr>\n",
              "    <tr>\n",
              "      <th>10</th>\n",
              "      <td>Mulheres que correm com os lobos (capa dura)</td>\n",
              "      <td>Clarissa Pinkola Estes</td>\n",
              "      <td>Rocco</td>\n",
              "      <td>576</td>\n",
              "      <td>Não ficção</td>\n",
              "      <td>11</td>\n",
              "      <td>43.744</td>\n",
              "    </tr>\n",
              "    <tr>\n",
              "      <th>11</th>\n",
              "      <td>Pai rico, pai pobre - Edição de 20 anos</td>\n",
              "      <td>Robert T. Kiyosak</td>\n",
              "      <td>Alta Books Editora</td>\n",
              "      <td>336</td>\n",
              "      <td>Negócios</td>\n",
              "      <td>12</td>\n",
              "      <td>43.416</td>\n",
              "    </tr>\n",
              "    <tr>\n",
              "      <th>12</th>\n",
              "      <td>Mindset</td>\n",
              "      <td>Carol Dweck</td>\n",
              "      <td>Objetiva</td>\n",
              "      <td>328</td>\n",
              "      <td>Não ficção</td>\n",
              "      <td>13</td>\n",
              "      <td>43.351</td>\n",
              "    </tr>\n",
              "    <tr>\n",
              "      <th>13</th>\n",
              "      <td>A garota do lago</td>\n",
              "      <td>Charlie Donlea</td>\n",
              "      <td>Faro Editorial</td>\n",
              "      <td>296</td>\n",
              "      <td>Ficção</td>\n",
              "      <td>14</td>\n",
              "      <td>41.909</td>\n",
              "    </tr>\n",
              "    <tr>\n",
              "      <th>14</th>\n",
              "      <td>DNA da cocriação</td>\n",
              "      <td>Elainne Ourives</td>\n",
              "      <td>Gente</td>\n",
              "      <td>288</td>\n",
              "      <td>Autoajuda</td>\n",
              "      <td>15</td>\n",
              "      <td>40.093</td>\n",
              "    </tr>\n",
              "    <tr>\n",
              "      <th>15</th>\n",
              "      <td>O poder do hábito</td>\n",
              "      <td>Charles Duhigg</td>\n",
              "      <td>Objetiva</td>\n",
              "      <td>408</td>\n",
              "      <td>Autoajuda</td>\n",
              "      <td>16</td>\n",
              "      <td>39.093</td>\n",
              "    </tr>\n",
              "    <tr>\n",
              "      <th>16</th>\n",
              "      <td>Escravidão -Vol 1</td>\n",
              "      <td>Laurentino Gomes</td>\n",
              "      <td>Globo Livros</td>\n",
              "      <td>504</td>\n",
              "      <td>Não ficção</td>\n",
              "      <td>17</td>\n",
              "      <td>37.780</td>\n",
              "    </tr>\n",
              "    <tr>\n",
              "      <th>17</th>\n",
              "      <td>A revolução dos bichos</td>\n",
              "      <td>George Orwell</td>\n",
              "      <td>Companhia das Letras</td>\n",
              "      <td>156</td>\n",
              "      <td>Ficção</td>\n",
              "      <td>18</td>\n",
              "      <td>33.807</td>\n",
              "    </tr>\n",
              "    <tr>\n",
              "      <th>18</th>\n",
              "      <td>21 lições para o século 21</td>\n",
              "      <td>Yuval Noah Harari</td>\n",
              "      <td>Companhia das Letras</td>\n",
              "      <td>432</td>\n",
              "      <td>Não ficção</td>\n",
              "      <td>19</td>\n",
              "      <td>32.166</td>\n",
              "    </tr>\n",
              "    <tr>\n",
              "      <th>19</th>\n",
              "      <td>1984</td>\n",
              "      <td>George Orwell</td>\n",
              "      <td>Companhia das Letras</td>\n",
              "      <td>416</td>\n",
              "      <td>Ficção</td>\n",
              "      <td>20</td>\n",
              "      <td>31.660</td>\n",
              "    </tr>\n",
              "  </tbody>\n",
              "</table>\n",
              "</div>"
            ],
            "text/plain": [
              "                                           livro  ... exemplares_vendidos\n",
              "0                       Mais esperto que o diabo  ...             113.041\n",
              "1                A sutil arte de ligar o foda-se  ...             104.649\n",
              "2                               Do mil ao milhão  ...              77.862\n",
              "3                             O milagre da manhã  ...              62.235\n",
              "4                               Box Harry Potter  ...              55.124\n",
              "5                                  Decida vencer  ...              48.946\n",
              "6               O poder da autorresponsabilidade  ...              47.641\n",
              "7                                     Seja foda!  ...              46.790\n",
              "8                              Sol da meia-noite  ...              44.401\n",
              "9                Os segredos da mente milionária  ...              44.185\n",
              "10  Mulheres que correm com os lobos (capa dura)  ...              43.744\n",
              "11       Pai rico, pai pobre - Edição de 20 anos  ...              43.416\n",
              "12                                       Mindset  ...              43.351\n",
              "13                              A garota do lago  ...              41.909\n",
              "14                              DNA da cocriação  ...              40.093\n",
              "15                             O poder do hábito  ...              39.093\n",
              "16                             Escravidão -Vol 1  ...              37.780\n",
              "17                        A revolução dos bichos  ...              33.807\n",
              "18                    21 lições para o século 21  ...              32.166\n",
              "19                                          1984  ...              31.660\n",
              "\n",
              "[20 rows x 7 columns]"
            ]
          },
          "metadata": {},
          "execution_count": 18
        }
      ]
    },
    {
      "cell_type": "markdown",
      "metadata": {
        "id": "1h2vjBfi7Fgt"
      },
      "source": [
        "Nomeamos a variável 'pagina' anterior como 'paginas_antiga' para que mantivéssemos a demonstração do erro. Assim, o que fizemos foi converter a variável em string, substituir o ponto final por um espaço em branco para, em seguida, convertê-la para integer. Agora ela pode ser utilizada tanto dentro do dataframe como individualmente."
      ]
    },
    {
      "cell_type": "markdown",
      "metadata": {
        "id": "-FNOrz_Y7mEI"
      },
      "source": [
        "# **ETAPA 2. Parsing de todas as páginas do ranking**"
      ]
    },
    {
      "cell_type": "markdown",
      "metadata": {
        "id": "UFdsNKqtg1iB"
      },
      "source": [
        "Extrairemos dados de 20 livros de 6 páginas diferentes, o que totalizará 120 informações. É uma quantidade pequena de dados, o que nos permitirá realizar uma maio quantidade de correlações.\n",
        "<p>Na primeira etapa elaboramos o script para extração dos dados que buscamos. Porém, ele só funciona em uma página de cada vez e queremos raspar informações de 6 páginas. Assim, percebemos ser necessário automatizar o parsing de todos os arquivos web.</p>\n",
        "<p>Ao acessarmos as páginas do portal PublishNews, percebemos que os parâmetros da URL se alteram fora de uma ordem específica. A maneira mais simples que encontramos de identificar esses parâmetros foi criando uma lista com os valores que se modificam na mudança de URL. Esses valores foram convertidos para string em uma nova lista chamada url_pagina e foram utilizados no processo de importação de cada página.</p>"
      ]
    },
    {
      "cell_type": "code",
      "metadata": {
        "id": "ytL4sazM5_Jp",
        "colab": {
          "base_uri": "https://localhost:8080/"
        },
        "outputId": "0c62f561-5588-400d-c1a6-107fcac66403"
      },
      "source": [
        "# Lista com os códigos numéricos presentes em cada URL\n",
        "url_codigo = [0, 9, 13, 5, 11, 8]\n",
        "\n",
        "# Conversão de cada número da lista url_codigo em string\n",
        "url_pagina = [str(i) for i in url_codigo]\n",
        "\n",
        "for codigo in url_pagina:\n",
        "  r = requests.get(f'https://www.publishnews.com.br/ranking/anual/{codigo}/2020/0/0')\n",
        "  s = BeautifulSoup(r.content, 'html.parser')\n",
        "  print(r.url)"
      ],
      "execution_count": null,
      "outputs": [
        {
          "output_type": "stream",
          "name": "stdout",
          "text": [
            "https://www.publishnews.com.br/ranking/anual/0/2020/0/0\n",
            "https://www.publishnews.com.br/ranking/anual/9/2020/0/0\n",
            "https://www.publishnews.com.br/ranking/anual/13/2020/0/0\n",
            "https://www.publishnews.com.br/ranking/anual/5/2020/0/0\n",
            "https://www.publishnews.com.br/ranking/anual/11/2020/0/0\n",
            "https://www.publishnews.com.br/ranking/anual/8/2020/0/0\n"
          ]
        }
      ]
    },
    {
      "cell_type": "markdown",
      "metadata": {
        "id": "EYVcSPqV1NFc"
      },
      "source": [
        "Uma das mudanças que fizemos em relação ao script anterior foi puxar, como categoria, o título das respectivas páginas e multiplicá-las 20 vezes, de modo que conseguíssemos manter o mesmo número de valores para todas as colunas no Dataframe do Pandas. Outra vantagem dessa multiplicação é poder usar a lista de headers como categorias de ranking de cada livro."
      ]
    },
    {
      "cell_type": "code",
      "metadata": {
        "colab": {
          "base_uri": "https://localhost:8080/"
        },
        "id": "xPYyMF2No_KJ",
        "outputId": "e08f4a92-cdd5-4375-99d6-a7ce616d6b2a"
      },
      "source": [
        "# Listas nas quais os dados serão armazenados\n",
        "headers = []\n",
        "titulos = []\n",
        "autores = []\n",
        "editoras = []\n",
        "paginas = []\n",
        "categorias = []\n",
        "posicoes = []\n",
        "exemplares = []\n",
        "\n",
        "for codigo in url_pagina:\n",
        "  r = requests.get(f'https://www.publishnews.com.br/ranking/anual/{codigo}/2020/0/0')\n",
        "  s = BeautifulSoup(r.content, 'html.parser')\n",
        "  livros = s.find_all('div', {'class': 'pn-ranking-livros-posicao clearfix'})\n",
        "\n",
        "\n",
        "# Extrai os dados, individualmente, do container de livros\n",
        "  # Headers\n",
        "  header = s.title.get_text().replace(' | PublishNews', '')\n",
        "  headers.append(header)\n",
        "  headers_repeated = [item for item in headers for i in range(20)]\n",
        "\n",
        "  for container in livros:\n",
        "    # Título\n",
        "    titulo = container.find('div', {'class': 'pn-ranking-livro-nome'})\n",
        "    titulo = str(titulo.text)\n",
        "    titulos.append(titulo)\n",
        "    # Autor\n",
        "    autor = container.find('div', {'class': 'pn-ranking-livro-autor'})\n",
        "    autor = str(autor.text)\n",
        "    autores.append(autor)\n",
        "    # Editora\n",
        "    editora = container.find('div', {'class': 'pn-ranking-livro-editora'})\n",
        "    editora = str(editora.text)\n",
        "    editoras.append(editora)\n",
        "    # Paginação\n",
        "    pagina = container.find('div', {'class': 'pn-ranking-livro-paginas'})\n",
        "    pagina = int(str(pagina.strong.text).replace('.', ''))\n",
        "    paginas.append(pagina)\n",
        "    # Posição\n",
        "    posicao = container.find('div', {'class': 'pn-ranking-livros-posicao-numero'})\n",
        "    posicao = int(posicao.text)\n",
        "    posicoes.append(posicao)\n",
        "    # Exemplares\n",
        "    exemplar = container.find('div', {'class': 'pn-ranking-livros-posicao-volume'})\n",
        "    exemplar = float(str(exemplar.text))\n",
        "    exemplares.append(exemplar)\n",
        "\n",
        "# Verifica se a extração funcionou\n",
        "print(headers_repeated)\n",
        "print(titulos)\n",
        "print(autores)\n",
        "print(editoras)\n",
        "print(paginas)\n",
        "print(posicoes)\n",
        "print(exemplares)"
      ],
      "execution_count": null,
      "outputs": [
        {
          "output_type": "stream",
          "name": "stdout",
          "text": [
            "['Lista de Mais Vendidos Geral de 2020', 'Lista de Mais Vendidos Geral de 2020', 'Lista de Mais Vendidos Geral de 2020', 'Lista de Mais Vendidos Geral de 2020', 'Lista de Mais Vendidos Geral de 2020', 'Lista de Mais Vendidos Geral de 2020', 'Lista de Mais Vendidos Geral de 2020', 'Lista de Mais Vendidos Geral de 2020', 'Lista de Mais Vendidos Geral de 2020', 'Lista de Mais Vendidos Geral de 2020', 'Lista de Mais Vendidos Geral de 2020', 'Lista de Mais Vendidos Geral de 2020', 'Lista de Mais Vendidos Geral de 2020', 'Lista de Mais Vendidos Geral de 2020', 'Lista de Mais Vendidos Geral de 2020', 'Lista de Mais Vendidos Geral de 2020', 'Lista de Mais Vendidos Geral de 2020', 'Lista de Mais Vendidos Geral de 2020', 'Lista de Mais Vendidos Geral de 2020', 'Lista de Mais Vendidos Geral de 2020', 'Lista de Mais Vendidos de Ficção de 2020', 'Lista de Mais Vendidos de Ficção de 2020', 'Lista de Mais Vendidos de Ficção de 2020', 'Lista de Mais Vendidos de Ficção de 2020', 'Lista de Mais Vendidos de Ficção de 2020', 'Lista de Mais Vendidos de Ficção de 2020', 'Lista de Mais Vendidos de Ficção de 2020', 'Lista de Mais Vendidos de Ficção de 2020', 'Lista de Mais Vendidos de Ficção de 2020', 'Lista de Mais Vendidos de Ficção de 2020', 'Lista de Mais Vendidos de Ficção de 2020', 'Lista de Mais Vendidos de Ficção de 2020', 'Lista de Mais Vendidos de Ficção de 2020', 'Lista de Mais Vendidos de Ficção de 2020', 'Lista de Mais Vendidos de Ficção de 2020', 'Lista de Mais Vendidos de Ficção de 2020', 'Lista de Mais Vendidos de Ficção de 2020', 'Lista de Mais Vendidos de Ficção de 2020', 'Lista de Mais Vendidos de Ficção de 2020', 'Lista de Mais Vendidos de Ficção de 2020', 'Lista de Mais Vendidos de Não ficção de 2020', 'Lista de Mais Vendidos de Não ficção de 2020', 'Lista de Mais Vendidos de Não ficção de 2020', 'Lista de Mais Vendidos de Não ficção de 2020', 'Lista de Mais Vendidos de Não ficção de 2020', 'Lista de Mais Vendidos de Não ficção de 2020', 'Lista de Mais Vendidos de Não ficção de 2020', 'Lista de Mais Vendidos de Não ficção de 2020', 'Lista de Mais Vendidos de Não ficção de 2020', 'Lista de Mais Vendidos de Não ficção de 2020', 'Lista de Mais Vendidos de Não ficção de 2020', 'Lista de Mais Vendidos de Não ficção de 2020', 'Lista de Mais Vendidos de Não ficção de 2020', 'Lista de Mais Vendidos de Não ficção de 2020', 'Lista de Mais Vendidos de Não ficção de 2020', 'Lista de Mais Vendidos de Não ficção de 2020', 'Lista de Mais Vendidos de Não ficção de 2020', 'Lista de Mais Vendidos de Não ficção de 2020', 'Lista de Mais Vendidos de Não ficção de 2020', 'Lista de Mais Vendidos de Não ficção de 2020', 'Lista de Mais Vendidos de Autoajuda de 2020', 'Lista de Mais Vendidos de Autoajuda de 2020', 'Lista de Mais Vendidos de Autoajuda de 2020', 'Lista de Mais Vendidos de Autoajuda de 2020', 'Lista de Mais Vendidos de Autoajuda de 2020', 'Lista de Mais Vendidos de Autoajuda de 2020', 'Lista de Mais Vendidos de Autoajuda de 2020', 'Lista de Mais Vendidos de Autoajuda de 2020', 'Lista de Mais Vendidos de Autoajuda de 2020', 'Lista de Mais Vendidos de Autoajuda de 2020', 'Lista de Mais Vendidos de Autoajuda de 2020', 'Lista de Mais Vendidos de Autoajuda de 2020', 'Lista de Mais Vendidos de Autoajuda de 2020', 'Lista de Mais Vendidos de Autoajuda de 2020', 'Lista de Mais Vendidos de Autoajuda de 2020', 'Lista de Mais Vendidos de Autoajuda de 2020', 'Lista de Mais Vendidos de Autoajuda de 2020', 'Lista de Mais Vendidos de Autoajuda de 2020', 'Lista de Mais Vendidos de Autoajuda de 2020', 'Lista de Mais Vendidos de Autoajuda de 2020', 'Lista de Mais Vendidos de Infantojuvenil de 2020', 'Lista de Mais Vendidos de Infantojuvenil de 2020', 'Lista de Mais Vendidos de Infantojuvenil de 2020', 'Lista de Mais Vendidos de Infantojuvenil de 2020', 'Lista de Mais Vendidos de Infantojuvenil de 2020', 'Lista de Mais Vendidos de Infantojuvenil de 2020', 'Lista de Mais Vendidos de Infantojuvenil de 2020', 'Lista de Mais Vendidos de Infantojuvenil de 2020', 'Lista de Mais Vendidos de Infantojuvenil de 2020', 'Lista de Mais Vendidos de Infantojuvenil de 2020', 'Lista de Mais Vendidos de Infantojuvenil de 2020', 'Lista de Mais Vendidos de Infantojuvenil de 2020', 'Lista de Mais Vendidos de Infantojuvenil de 2020', 'Lista de Mais Vendidos de Infantojuvenil de 2020', 'Lista de Mais Vendidos de Infantojuvenil de 2020', 'Lista de Mais Vendidos de Infantojuvenil de 2020', 'Lista de Mais Vendidos de Infantojuvenil de 2020', 'Lista de Mais Vendidos de Infantojuvenil de 2020', 'Lista de Mais Vendidos de Infantojuvenil de 2020', 'Lista de Mais Vendidos de Infantojuvenil de 2020', 'Lista de Mais Vendidos de Negócios de 2020', 'Lista de Mais Vendidos de Negócios de 2020', 'Lista de Mais Vendidos de Negócios de 2020', 'Lista de Mais Vendidos de Negócios de 2020', 'Lista de Mais Vendidos de Negócios de 2020', 'Lista de Mais Vendidos de Negócios de 2020', 'Lista de Mais Vendidos de Negócios de 2020', 'Lista de Mais Vendidos de Negócios de 2020', 'Lista de Mais Vendidos de Negócios de 2020', 'Lista de Mais Vendidos de Negócios de 2020', 'Lista de Mais Vendidos de Negócios de 2020', 'Lista de Mais Vendidos de Negócios de 2020', 'Lista de Mais Vendidos de Negócios de 2020', 'Lista de Mais Vendidos de Negócios de 2020', 'Lista de Mais Vendidos de Negócios de 2020', 'Lista de Mais Vendidos de Negócios de 2020', 'Lista de Mais Vendidos de Negócios de 2020', 'Lista de Mais Vendidos de Negócios de 2020', 'Lista de Mais Vendidos de Negócios de 2020', 'Lista de Mais Vendidos de Negócios de 2020']\n",
            "['Mais esperto que o diabo', 'A sutil arte de ligar o foda-se', 'Do mil ao milhão', 'O milagre da manhã', 'Box Harry Potter', 'Decida vencer', 'O poder da autorresponsabilidade', 'Seja foda!', 'Sol da meia-noite', 'Os segredos da mente milionária', 'Mulheres que correm com os lobos (capa dura)', 'Pai rico, pai pobre - Edição de 20 anos', 'Mindset', 'A garota do lago', 'DNA da cocriação', 'O poder do hábito', 'Escravidão -Vol 1', 'A revolução dos bichos', '21 lições para o século 21', '1984', 'Sol da meia-noite', 'A garota do lago', 'A revolução dos bichos', '1984', 'O homem de giz', 'O conto da Aia', 'Essa gente', 'Textos cruéis demais para serem lidos rapidamente', 'Mitologia nórdica', 'Eleanor & Park', 'A paciente silenciosa', 'A princesa salva a si mesma neste livro', 'Prisioneiros da mente', 'Os olhos da escuridão', 'A bruxa não vai para a fogueira neste livro', 'O fim em doses homeopáticas', 'Stranger Things: Raízes do mal', 'Box - Edgar Allan Poe', 'Teto para dois', 'Box Nórdicos', 'Mulheres que correm com os lobos (capa dura)', 'Mindset', 'Escravidão -Vol 1', '21 lições para o século 21', 'Sapiens', 'Pequeno manual antirracista', 'Minha história', 'A felicidade é inútil', 'Uma terra prometida', 'Homo Deus', 'Batismo de fogo', 'Sapiens ( edição de bolso)', 'Os segredos da longevidade', 'Prólogo, ato, epílogo', 'Além da prevenção', 'Será que ele me ama?', 'Destrua este diário ( capa vermelha)', 'O livro da psicologia', 'Morte a Vossa Excelência', 'A organização', 'Mais esperto que o diabo', 'A sutil arte de ligar o foda-se', 'O milagre da manhã', 'DNA da cocriação', 'O poder do hábito', 'A coragem de ser imperfeito', 'Como fazer amigos e influenciar pessoas', 'As cinco linguagens do amor', 'Ansiedade - Como enfrentar o mal do século', 'Felicidade', 'As muralhas vão cair', 'A morte é um dia que vale a pena viver', 'Minutos de sabedoria', 'Como fazer amigos e Influenciar pessoas - Edição comemorativa 80 anos', 'O poder do agora', 'Atitude mental positiva', 'F*deu geral', 'Desperte a sua vitória', 'Mais esperto que o diabo (edição de bolso)', 'Atitude positiva diária', 'Box Harry Potter', 'Harry Potter e a pedra filosofal (capa dura)', 'O diário perdido de Gravity Falls', 'As aventuras de Mike', 'Diário de um banana - Quebra tudo', 'Luccas Neto em \"Os aventureiros\"', 'Meu diário mágico', 'O pequeno príncipe', 'A cinco passos de você', 'Coleção especial Anne de Green Gables', 'Harry Potter e a câmara secreta (capa dura)', 'Box- Percy Jackon e os olimpianos', 'A seleção', 'Coraline', 'Beijinhos da Gi', 'O mundo segundo Felipe Neto', 'Para todos os garotos que já amei', 'Box - Alice no país das maravilhas', 'Anne de Green Gables', 'Luluca - No mundo dos desafios', 'Do mil ao milhão', 'Decida vencer', 'O poder da autorresponsabilidade', 'Seja foda!', 'Os segredos da mente milionária', 'Pai rico, pai pobre - Edição de 20 anos', 'Quem pensa enriquece: o legado', 'O poder da ação', 'O homem mais rico da Babilônia', 'Me poupe!', 'Enfodere-se!', 'Essencialismo', 'O poder da ação ( edição de luxo)', 'O investidor inteligente', 'Na raça', 'Rápido e devagar', 'Quem pensa enriquece : o legado (edição de bolso)', 'O jeito Harvard de ser feliz', 'Vade Mecum Saraiva 2020- 29ª Edição', 'O seu direito de ser rico']\n",
            "['Napoleon Hill', 'Mark Manson', 'Thiago Nigro', 'Hal Elrod', 'J. K. Rowling', 'Eduardo Volpato', 'Paulo Vieira', 'Caio Carneiro', 'Stephenie Meyer', 'T. Harv Eker', 'Clarissa Pinkola Estes', 'Robert T. Kiyosak', 'Carol Dweck', 'Charlie Donlea', 'Elainne Ourives', 'Charles Duhigg', 'Laurentino Gomes', 'George Orwell', 'Yuval Noah Harari', 'George Orwell', 'Stephenie Meyer', 'Charlie Donlea', 'George Orwell', 'George Orwell', 'C. J. Tudor', 'Margaret Atwood', 'Chico Buarque', 'Igor Pires da Silva / Gabriela Barreira', 'Neil Gaiman', 'Rainbow Rowell', 'Alex Michaelides', 'Amanda Lovelace', 'Augusto Cury', 'Dean Koontz', 'Amanda Lovelace', 'Igor Pires', 'Gwenda Bond', 'Edgar Allan Poe', 'Beth O’Leary', 'Vários', 'Clarissa Pinkola Estes', 'Carol Dweck', 'Laurentino Gomes', 'Yuval Noah Harari', 'Yuval Noah Harari', 'Djamila Ribeiro', 'Michelle Obama', 'Clovis de Barros Filho', 'Barack Obama', 'Yuval Noah Harari', 'Padre Marcelo Rossi', 'Yuval Noah Harari', 'Edmond Saab Jr.', 'Fernanda Montenegro', 'Edmond Saab Jr.', 'Gregory Berns', 'Keri Smith', 'Vários', 'Alexandre Stille', 'Malu Gaspar', 'Napoleon Hill', 'Mark Manson', 'Hal Elrod', 'Elainne Ourives', 'Charles Duhigg', 'Brené Brown', 'Dale Carnegie', 'Gary Chapman', 'Augusto Cury', 'Mario Sergio Cortella / Leandro Karnal / Luis Felipe Pondé', 'Padre Reginaldo Manzotti', 'Ana Claudia Quintana Arantes', 'C. Torres Pastorino', 'Dale Carnegie', 'Eckhart Tolle', 'Napoleon Hill', 'Mark Manson', 'William Sanches', 'Napoleon Hill', 'Eduardo Volpato', 'J. K. Rowling', 'J. K. Rowling', 'Alex Hirsch', 'Gabriel Dearo / Manu Digilio', 'Jeff Kinney', 'Luccas Neto', 'Ciranda Cultural', 'Antoine Saint-Exupéry', 'Rachael Lippincott / Mikki Daughtry / Tobias Laconis', 'Lucy Maud Montgomery', 'J. K. Rowling', 'Rick Riordan', 'Kiera Cass', 'Neil Gaiman', 'Luccas Neto', 'Felipe Neto', 'Jenny Han', 'Lewis Carroll', 'Lucy Maud Montgomery', 'Luluca', 'Thiago Nigro', 'Eduardo Volpato', 'Paulo Vieira', 'Caio Carneiro', 'T. Harv Eker', 'Robert T. Kiyosak', 'Napoleon Hill', 'Paulo Vieira', 'George S. Clason', 'Nathalia Arcuri', 'Caio Carneiro', 'Greg McKeown', 'Paulo Vieira', 'Benjamin Graham', 'Maria Luíza Filgueiras', 'Daniel Kahneman', 'Napoleon Hill', 'Shawn Achor', 'Editora Saraiva', 'Napoleon Hill']\n",
            "['Citadel', 'Intrínseca', 'HarperCollins', 'BestSeller', 'Rocco', 'Gente', 'Gente', 'Buzz', 'Intrínseca', 'Sextante', 'Rocco', 'Alta Books Editora', 'Objetiva', 'Faro Editorial', 'Gente', 'Objetiva', 'Globo Livros', 'Companhia das Letras', 'Companhia das Letras', 'Companhia das Letras', 'Intrínseca', 'Faro Editorial', 'Companhia das Letras', 'Companhia das Letras', 'Intrínseca', 'Rocco', 'Companhia das Letras', 'Globo Alt', 'Intrínseca', 'Novo Século', 'Record', 'LeYa', 'HarperCollins', 'Citadel', 'LeYa', 'Globo Alt', 'Intrínseca', 'Pandorga', 'Intrínseca', 'Pandorga', 'Rocco', 'Objetiva', 'Globo Livros', 'Companhia das Letras', 'L&PM', 'Companhia das Letras', 'Objetiva', 'Citadel', 'Companhia das Letras', 'Companhia das Letras', 'Planeta do Brasil', 'L&PM POCKET', 'Citadel', 'Companhia das Letras', 'Citadel', 'Citadel', 'Intrínseca', 'Globo Livros', 'Citadel', 'Companhia das Letras', 'Citadel', 'Intrínseca', 'BestSeller', 'Gente', 'Objetiva', 'Sextante', 'Companhia Editora Nacional', 'Mundo Cristão', 'Saraiva', 'Planeta do Brasil', 'Petra', 'Sextante', 'Vozes', 'Companhia Editora Nacional', 'Sextante', 'Citadel', 'Intrínseca', 'Luz da Serra', 'Citadel', 'Gente', 'Rocco', 'Rocco', 'Universo dos Livros', 'Outro Planeta', 'VR Editora', 'Pixel', 'Ciranda Cultural', 'HarperCollins', 'Globo Alt', 'Ciranda Cultural', 'Rocco', 'Intrínseca', 'Seguinte', 'Intrínseca', 'Pixel', 'Pixel', 'Intrínseca', 'Pandorga', 'Autêntica', 'Astral Cultural', 'HarperCollins', 'Gente', 'Gente', 'Buzz', 'Sextante', 'Alta Books Editora', 'Citadel', 'Gente', 'HarperCollins', 'Sextante', 'Buzz', 'Sextante', 'Gente', 'HarperCollins', 'Intrínseca', 'Objetiva', 'Citadel', 'Saraiva', 'Saraiva', 'Citadel']\n",
            "[200, 224, 192, 196, 3096, 208, 160, 208, 536, 176, 576, 336, 328, 296, 288, 408, 504, 156, 432, 416, 536, 296, 156, 416, 272, 368, 200, 304, 288, 287, 350, 208, 320, 272, 208, 304, 304, 385, 400, 450, 576, 328, 504, 432, 464, 136, 448, 288, 764, 448, 144, 592, 288, 392, 144, 256, 224, 352, 480, 640, 200, 224, 196, 288, 408, 208, 312, 216, 160, 160, 176, 192, 288, 336, 224, 312, 288, 224, 144, 128, 3096, 208, 288, 144, 224, 64, 96, 96, 288, 1760, 224, 1816, 368, 224, 64, 128, 320, 384, 320, 64, 192, 208, 160, 208, 176, 336, 364, 256, 160, 176, 208, 272, 256, 672, 240, 608, 144, 216, 2568, 336]\n",
            "[1, 2, 3, 4, 5, 6, 7, 8, 9, 10, 11, 12, 13, 14, 15, 16, 17, 18, 19, 20, 1, 2, 3, 4, 5, 6, 7, 8, 9, 10, 11, 12, 13, 14, 15, 16, 17, 18, 19, 20, 1, 2, 3, 4, 5, 6, 7, 8, 9, 10, 11, 12, 13, 14, 15, 16, 17, 18, 19, 20, 1, 2, 3, 4, 5, 6, 7, 8, 9, 10, 11, 12, 13, 14, 15, 16, 17, 18, 19, 20, 1, 2, 3, 4, 5, 6, 7, 8, 9, 10, 11, 12, 13, 14, 15, 16, 17, 18, 19, 20, 1, 2, 3, 4, 5, 6, 7, 8, 9, 10, 11, 12, 13, 14, 15, 16, 17, 18, 19, 20]\n",
            "[113.041, 104.649, 77.862, 62.235, 55.124, 48.946, 47.641, 46.79, 44.401, 44.185, 43.744, 43.416, 43.351, 41.909, 40.093, 39.093, 37.78, 33.807, 32.166, 31.66, 44.401, 41.909, 33.807, 31.66, 27.21, 23.749, 20.857, 14.736, 12.561, 12.265, 10.679, 9.993, 9.756, 9.67, 8.896, 8.175, 7.608, 6.971, 6.624, 6.117, 43.744, 43.351, 37.78, 32.166, 30.324, 28.215, 26.78, 19.068, 15.758, 15.167, 15.092, 14.697, 8.489, 7.177, 7.001, 6.444, 6.369, 5.985, 5.955, 4.638, 113.041, 104.649, 62.235, 40.093, 39.093, 28.099, 27.614, 24.192, 23.923, 23.633, 23.227, 22.788, 19.14, 18.574, 18.489, 15.734, 15.517, 15.056, 14.26, 12.767, 55.124, 29.315, 27.856, 26.743, 19.741, 18.988, 18.688, 16.785, 16.367, 14.944, 11.77, 11.073, 10.95, 10.364, 10.344, 9.929, 9.8, 7.887, 7.799, 7.056, 77.862, 48.946, 47.641, 46.79, 44.185, 43.416, 31.193, 27.978, 24.409, 20.381, 19.212, 16.837, 15.227, 12.802, 9.028, 8.266, 7.125, 6.96, 6.152, 5.698]\n"
          ]
        }
      ]
    },
    {
      "cell_type": "code",
      "metadata": {
        "colab": {
          "base_uri": "https://localhost:8080/",
          "height": 684
        },
        "id": "VTcrgHGUp1nu",
        "outputId": "73004d47-35d0-40a0-ea98-b1f47c1bfb6f"
      },
      "source": [
        "df = pd.DataFrame({'livro': titulos,\n",
        "                   'autor/a': autores,\n",
        "                   'editora': editoras,\n",
        "                   'paginacao': paginas,\n",
        "                   'categoria': headers_repeated,\n",
        "                   'ranking': posicoes,\n",
        "                   'exemplares_vendidos': exemplares})\n",
        "print(df.info())\n",
        "df"
      ],
      "execution_count": null,
      "outputs": [
        {
          "output_type": "stream",
          "name": "stdout",
          "text": [
            "<class 'pandas.core.frame.DataFrame'>\n",
            "RangeIndex: 120 entries, 0 to 119\n",
            "Data columns (total 7 columns):\n",
            " #   Column               Non-Null Count  Dtype  \n",
            "---  ------               --------------  -----  \n",
            " 0   livro                120 non-null    object \n",
            " 1   autor/a              120 non-null    object \n",
            " 2   editora              120 non-null    object \n",
            " 3   paginacao            120 non-null    int64  \n",
            " 4   categoria            120 non-null    object \n",
            " 5   ranking              120 non-null    int64  \n",
            " 6   exemplares_vendidos  120 non-null    float64\n",
            "dtypes: float64(1), int64(2), object(4)\n",
            "memory usage: 6.7+ KB\n",
            "None\n"
          ]
        },
        {
          "output_type": "execute_result",
          "data": {
            "text/html": [
              "<div>\n",
              "<style scoped>\n",
              "    .dataframe tbody tr th:only-of-type {\n",
              "        vertical-align: middle;\n",
              "    }\n",
              "\n",
              "    .dataframe tbody tr th {\n",
              "        vertical-align: top;\n",
              "    }\n",
              "\n",
              "    .dataframe thead th {\n",
              "        text-align: right;\n",
              "    }\n",
              "</style>\n",
              "<table border=\"1\" class=\"dataframe\">\n",
              "  <thead>\n",
              "    <tr style=\"text-align: right;\">\n",
              "      <th></th>\n",
              "      <th>livro</th>\n",
              "      <th>autor/a</th>\n",
              "      <th>editora</th>\n",
              "      <th>paginacao</th>\n",
              "      <th>categoria</th>\n",
              "      <th>ranking</th>\n",
              "      <th>exemplares_vendidos</th>\n",
              "    </tr>\n",
              "  </thead>\n",
              "  <tbody>\n",
              "    <tr>\n",
              "      <th>0</th>\n",
              "      <td>Mais esperto que o diabo</td>\n",
              "      <td>Napoleon Hill</td>\n",
              "      <td>Citadel</td>\n",
              "      <td>200</td>\n",
              "      <td>Lista de Mais Vendidos Geral de 2020</td>\n",
              "      <td>1</td>\n",
              "      <td>113.041</td>\n",
              "    </tr>\n",
              "    <tr>\n",
              "      <th>1</th>\n",
              "      <td>A sutil arte de ligar o foda-se</td>\n",
              "      <td>Mark Manson</td>\n",
              "      <td>Intrínseca</td>\n",
              "      <td>224</td>\n",
              "      <td>Lista de Mais Vendidos Geral de 2020</td>\n",
              "      <td>2</td>\n",
              "      <td>104.649</td>\n",
              "    </tr>\n",
              "    <tr>\n",
              "      <th>2</th>\n",
              "      <td>Do mil ao milhão</td>\n",
              "      <td>Thiago Nigro</td>\n",
              "      <td>HarperCollins</td>\n",
              "      <td>192</td>\n",
              "      <td>Lista de Mais Vendidos Geral de 2020</td>\n",
              "      <td>3</td>\n",
              "      <td>77.862</td>\n",
              "    </tr>\n",
              "    <tr>\n",
              "      <th>3</th>\n",
              "      <td>O milagre da manhã</td>\n",
              "      <td>Hal Elrod</td>\n",
              "      <td>BestSeller</td>\n",
              "      <td>196</td>\n",
              "      <td>Lista de Mais Vendidos Geral de 2020</td>\n",
              "      <td>4</td>\n",
              "      <td>62.235</td>\n",
              "    </tr>\n",
              "    <tr>\n",
              "      <th>4</th>\n",
              "      <td>Box Harry Potter</td>\n",
              "      <td>J. K. Rowling</td>\n",
              "      <td>Rocco</td>\n",
              "      <td>3096</td>\n",
              "      <td>Lista de Mais Vendidos Geral de 2020</td>\n",
              "      <td>5</td>\n",
              "      <td>55.124</td>\n",
              "    </tr>\n",
              "    <tr>\n",
              "      <th>...</th>\n",
              "      <td>...</td>\n",
              "      <td>...</td>\n",
              "      <td>...</td>\n",
              "      <td>...</td>\n",
              "      <td>...</td>\n",
              "      <td>...</td>\n",
              "      <td>...</td>\n",
              "    </tr>\n",
              "    <tr>\n",
              "      <th>115</th>\n",
              "      <td>Rápido e devagar</td>\n",
              "      <td>Daniel Kahneman</td>\n",
              "      <td>Objetiva</td>\n",
              "      <td>608</td>\n",
              "      <td>Lista de Mais Vendidos de Negócios de 2020</td>\n",
              "      <td>16</td>\n",
              "      <td>8.266</td>\n",
              "    </tr>\n",
              "    <tr>\n",
              "      <th>116</th>\n",
              "      <td>Quem pensa enriquece : o legado (edição de bolso)</td>\n",
              "      <td>Napoleon Hill</td>\n",
              "      <td>Citadel</td>\n",
              "      <td>144</td>\n",
              "      <td>Lista de Mais Vendidos de Negócios de 2020</td>\n",
              "      <td>17</td>\n",
              "      <td>7.125</td>\n",
              "    </tr>\n",
              "    <tr>\n",
              "      <th>117</th>\n",
              "      <td>O jeito Harvard de ser feliz</td>\n",
              "      <td>Shawn Achor</td>\n",
              "      <td>Saraiva</td>\n",
              "      <td>216</td>\n",
              "      <td>Lista de Mais Vendidos de Negócios de 2020</td>\n",
              "      <td>18</td>\n",
              "      <td>6.960</td>\n",
              "    </tr>\n",
              "    <tr>\n",
              "      <th>118</th>\n",
              "      <td>Vade Mecum Saraiva 2020- 29ª Edição</td>\n",
              "      <td>Editora Saraiva</td>\n",
              "      <td>Saraiva</td>\n",
              "      <td>2568</td>\n",
              "      <td>Lista de Mais Vendidos de Negócios de 2020</td>\n",
              "      <td>19</td>\n",
              "      <td>6.152</td>\n",
              "    </tr>\n",
              "    <tr>\n",
              "      <th>119</th>\n",
              "      <td>O seu direito de ser rico</td>\n",
              "      <td>Napoleon Hill</td>\n",
              "      <td>Citadel</td>\n",
              "      <td>336</td>\n",
              "      <td>Lista de Mais Vendidos de Negócios de 2020</td>\n",
              "      <td>20</td>\n",
              "      <td>5.698</td>\n",
              "    </tr>\n",
              "  </tbody>\n",
              "</table>\n",
              "<p>120 rows × 7 columns</p>\n",
              "</div>"
            ],
            "text/plain": [
              "                                                 livro  ... exemplares_vendidos\n",
              "0                             Mais esperto que o diabo  ...             113.041\n",
              "1                      A sutil arte de ligar o foda-se  ...             104.649\n",
              "2                                     Do mil ao milhão  ...              77.862\n",
              "3                                   O milagre da manhã  ...              62.235\n",
              "4                                     Box Harry Potter  ...              55.124\n",
              "..                                                 ...  ...                 ...\n",
              "115                                   Rápido e devagar  ...               8.266\n",
              "116  Quem pensa enriquece : o legado (edição de bolso)  ...               7.125\n",
              "117                       O jeito Harvard de ser feliz  ...               6.960\n",
              "118                Vade Mecum Saraiva 2020- 29ª Edição  ...               6.152\n",
              "119                          O seu direito de ser rico  ...               5.698\n",
              "\n",
              "[120 rows x 7 columns]"
            ]
          },
          "metadata": {},
          "execution_count": 21
        }
      ]
    },
    {
      "cell_type": "markdown",
      "metadata": {
        "id": "uTfFDzOp2CnJ"
      },
      "source": [
        "A próxima etapa será armazenar o Dataframe em um arquivo .csv, para que possamos analisar e manipular os dados sem precisar realizar, toda vez, um novo request no portal PublishNews."
      ]
    },
    {
      "cell_type": "markdown",
      "metadata": {
        "id": "VDFDsGPI2hz-"
      },
      "source": [
        "# **Etapa 3. Conversão do Dataframe em Pandas para um arquivo .csv**"
      ]
    },
    {
      "cell_type": "markdown",
      "metadata": {
        "id": "X8Ck4TMmfcGF"
      },
      "source": [
        "A conversão é bem simples uma vez que a biblioteca Pandas já possui uma função específica para transformar um dataframe em um arquivo .csv, bem como para ler esse arquivo no formato de dataframe."
      ]
    },
    {
      "cell_type": "code",
      "metadata": {
        "id": "Hb25114C3m3J"
      },
      "source": [
        "# O parâmetro 'index = False' remove o marcador da primeira coluna de identificação das linhas\n",
        "df.to_csv(\"ProjetoDS_LivrosMaisVendidos2020.csv\", index = False)"
      ],
      "execution_count": null,
      "outputs": []
    },
    {
      "cell_type": "code",
      "metadata": {
        "colab": {
          "base_uri": "https://localhost:8080/",
          "height": 424
        },
        "id": "ZdCGzqKFd-j_",
        "outputId": "cb8a4b39-46ab-43f4-951e-3f89a3b5aad5"
      },
      "source": [
        "projeto = pd.read_csv(\"ProjetoDS_LivrosMaisVendidos2020.csv\")\n",
        "projeto"
      ],
      "execution_count": null,
      "outputs": [
        {
          "output_type": "execute_result",
          "data": {
            "text/html": [
              "<div>\n",
              "<style scoped>\n",
              "    .dataframe tbody tr th:only-of-type {\n",
              "        vertical-align: middle;\n",
              "    }\n",
              "\n",
              "    .dataframe tbody tr th {\n",
              "        vertical-align: top;\n",
              "    }\n",
              "\n",
              "    .dataframe thead th {\n",
              "        text-align: right;\n",
              "    }\n",
              "</style>\n",
              "<table border=\"1\" class=\"dataframe\">\n",
              "  <thead>\n",
              "    <tr style=\"text-align: right;\">\n",
              "      <th></th>\n",
              "      <th>livro</th>\n",
              "      <th>autor/a</th>\n",
              "      <th>editora</th>\n",
              "      <th>paginacao</th>\n",
              "      <th>categoria</th>\n",
              "      <th>ranking</th>\n",
              "      <th>exemplares_vendidos</th>\n",
              "    </tr>\n",
              "  </thead>\n",
              "  <tbody>\n",
              "    <tr>\n",
              "      <th>0</th>\n",
              "      <td>Mais esperto que o diabo</td>\n",
              "      <td>Napoleon Hill</td>\n",
              "      <td>Citadel</td>\n",
              "      <td>200</td>\n",
              "      <td>Lista de Mais Vendidos Geral de 2020</td>\n",
              "      <td>1</td>\n",
              "      <td>113.041</td>\n",
              "    </tr>\n",
              "    <tr>\n",
              "      <th>1</th>\n",
              "      <td>A sutil arte de ligar o foda-se</td>\n",
              "      <td>Mark Manson</td>\n",
              "      <td>Intrínseca</td>\n",
              "      <td>224</td>\n",
              "      <td>Lista de Mais Vendidos Geral de 2020</td>\n",
              "      <td>2</td>\n",
              "      <td>104.649</td>\n",
              "    </tr>\n",
              "    <tr>\n",
              "      <th>2</th>\n",
              "      <td>Do mil ao milhão</td>\n",
              "      <td>Thiago Nigro</td>\n",
              "      <td>HarperCollins</td>\n",
              "      <td>192</td>\n",
              "      <td>Lista de Mais Vendidos Geral de 2020</td>\n",
              "      <td>3</td>\n",
              "      <td>77.862</td>\n",
              "    </tr>\n",
              "    <tr>\n",
              "      <th>3</th>\n",
              "      <td>O milagre da manhã</td>\n",
              "      <td>Hal Elrod</td>\n",
              "      <td>BestSeller</td>\n",
              "      <td>196</td>\n",
              "      <td>Lista de Mais Vendidos Geral de 2020</td>\n",
              "      <td>4</td>\n",
              "      <td>62.235</td>\n",
              "    </tr>\n",
              "    <tr>\n",
              "      <th>4</th>\n",
              "      <td>Box Harry Potter</td>\n",
              "      <td>J. K. Rowling</td>\n",
              "      <td>Rocco</td>\n",
              "      <td>3096</td>\n",
              "      <td>Lista de Mais Vendidos Geral de 2020</td>\n",
              "      <td>5</td>\n",
              "      <td>55.124</td>\n",
              "    </tr>\n",
              "    <tr>\n",
              "      <th>...</th>\n",
              "      <td>...</td>\n",
              "      <td>...</td>\n",
              "      <td>...</td>\n",
              "      <td>...</td>\n",
              "      <td>...</td>\n",
              "      <td>...</td>\n",
              "      <td>...</td>\n",
              "    </tr>\n",
              "    <tr>\n",
              "      <th>115</th>\n",
              "      <td>Rápido e devagar</td>\n",
              "      <td>Daniel Kahneman</td>\n",
              "      <td>Objetiva</td>\n",
              "      <td>608</td>\n",
              "      <td>Lista de Mais Vendidos de Negócios de 2020</td>\n",
              "      <td>16</td>\n",
              "      <td>8.266</td>\n",
              "    </tr>\n",
              "    <tr>\n",
              "      <th>116</th>\n",
              "      <td>Quem pensa enriquece : o legado (edição de bolso)</td>\n",
              "      <td>Napoleon Hill</td>\n",
              "      <td>Citadel</td>\n",
              "      <td>144</td>\n",
              "      <td>Lista de Mais Vendidos de Negócios de 2020</td>\n",
              "      <td>17</td>\n",
              "      <td>7.125</td>\n",
              "    </tr>\n",
              "    <tr>\n",
              "      <th>117</th>\n",
              "      <td>O jeito Harvard de ser feliz</td>\n",
              "      <td>Shawn Achor</td>\n",
              "      <td>Saraiva</td>\n",
              "      <td>216</td>\n",
              "      <td>Lista de Mais Vendidos de Negócios de 2020</td>\n",
              "      <td>18</td>\n",
              "      <td>6.960</td>\n",
              "    </tr>\n",
              "    <tr>\n",
              "      <th>118</th>\n",
              "      <td>Vade Mecum Saraiva 2020- 29ª Edição</td>\n",
              "      <td>Editora Saraiva</td>\n",
              "      <td>Saraiva</td>\n",
              "      <td>2568</td>\n",
              "      <td>Lista de Mais Vendidos de Negócios de 2020</td>\n",
              "      <td>19</td>\n",
              "      <td>6.152</td>\n",
              "    </tr>\n",
              "    <tr>\n",
              "      <th>119</th>\n",
              "      <td>O seu direito de ser rico</td>\n",
              "      <td>Napoleon Hill</td>\n",
              "      <td>Citadel</td>\n",
              "      <td>336</td>\n",
              "      <td>Lista de Mais Vendidos de Negócios de 2020</td>\n",
              "      <td>20</td>\n",
              "      <td>5.698</td>\n",
              "    </tr>\n",
              "  </tbody>\n",
              "</table>\n",
              "<p>120 rows × 7 columns</p>\n",
              "</div>"
            ],
            "text/plain": [
              "                                                 livro  ... exemplares_vendidos\n",
              "0                             Mais esperto que o diabo  ...             113.041\n",
              "1                      A sutil arte de ligar o foda-se  ...             104.649\n",
              "2                                     Do mil ao milhão  ...              77.862\n",
              "3                                   O milagre da manhã  ...              62.235\n",
              "4                                     Box Harry Potter  ...              55.124\n",
              "..                                                 ...  ...                 ...\n",
              "115                                   Rápido e devagar  ...               8.266\n",
              "116  Quem pensa enriquece : o legado (edição de bolso)  ...               7.125\n",
              "117                       O jeito Harvard de ser feliz  ...               6.960\n",
              "118                Vade Mecum Saraiva 2020- 29ª Edição  ...               6.152\n",
              "119                          O seu direito de ser rico  ...               5.698\n",
              "\n",
              "[120 rows x 7 columns]"
            ]
          },
          "metadata": {},
          "execution_count": 23
        }
      ]
    },
    {
      "cell_type": "markdown",
      "metadata": {
        "id": "qycm71ba3XN_"
      },
      "source": [
        "# **Etapa 4. Análise exploratória dos dados coletados com Pandas e Matplotlib**"
      ]
    },
    {
      "cell_type": "markdown",
      "metadata": {
        "id": "B3h9EzWAhKaK"
      },
      "source": [
        "Antes de tudo, é importante ressaltar a metodologia de pesquisa do portal PublishNews para chegar nestas informações. A pesquisa leva em consideração os relatórios de vendas de apenas 23 livrarias o que, de longe, representa a totalidade do mercado editorial. Embora essa seleção acompanhe as livrarias com maior popularidade, também precisamos nos lembrar das várias livrarias independentes que existem em todo o território brasileiro. Logo, os valores apresentados simbolizam uma amostra significativa do mercado, mas não o seu todo. "
      ]
    },
    {
      "cell_type": "code",
      "metadata": {
        "id": "LS-E4Xphmjr3"
      },
      "source": [
        "# Importação de novas bibliotecas\n",
        "import matplotlib.pyplot as plt\n",
        "import numpy as np"
      ],
      "execution_count": null,
      "outputs": []
    },
    {
      "cell_type": "markdown",
      "metadata": {
        "id": "T1hXRM_RpiuA"
      },
      "source": [
        "Primeiro, precisamos armazenar o Dataframe dos dados lidos diretamente do arquivo .csv em uma variável, para que possa ser lida pela biblioteca Matplotlib e para que possamos trabalhar sobre ele."
      ]
    },
    {
      "cell_type": "code",
      "metadata": {
        "id": "Yl9ecNmopV1C"
      },
      "source": [
        "projeto_df = pd.DataFrame(projeto)"
      ],
      "execution_count": null,
      "outputs": []
    },
    {
      "cell_type": "markdown",
      "metadata": {
        "id": "megDMUmHqxnY"
      },
      "source": [
        "Em seguida, analisamos as primeiras cinco linhas (head) e as últimas cinco linhas (tail) do Dataframe para facilitar a visualização da distribuição dos dados na tabela."
      ]
    },
    {
      "cell_type": "code",
      "metadata": {
        "colab": {
          "base_uri": "https://localhost:8080/",
          "height": 206
        },
        "id": "JWnCvIsbqnes",
        "outputId": "26555d0e-8760-41a4-808b-aa9d26b5d71a"
      },
      "source": [
        "projeto_df.head()"
      ],
      "execution_count": null,
      "outputs": [
        {
          "output_type": "execute_result",
          "data": {
            "text/html": [
              "<div>\n",
              "<style scoped>\n",
              "    .dataframe tbody tr th:only-of-type {\n",
              "        vertical-align: middle;\n",
              "    }\n",
              "\n",
              "    .dataframe tbody tr th {\n",
              "        vertical-align: top;\n",
              "    }\n",
              "\n",
              "    .dataframe thead th {\n",
              "        text-align: right;\n",
              "    }\n",
              "</style>\n",
              "<table border=\"1\" class=\"dataframe\">\n",
              "  <thead>\n",
              "    <tr style=\"text-align: right;\">\n",
              "      <th></th>\n",
              "      <th>livro</th>\n",
              "      <th>autor/a</th>\n",
              "      <th>editora</th>\n",
              "      <th>paginacao</th>\n",
              "      <th>categoria</th>\n",
              "      <th>ranking</th>\n",
              "      <th>exemplares_vendidos</th>\n",
              "    </tr>\n",
              "  </thead>\n",
              "  <tbody>\n",
              "    <tr>\n",
              "      <th>0</th>\n",
              "      <td>Mais esperto que o diabo</td>\n",
              "      <td>Napoleon Hill</td>\n",
              "      <td>Citadel</td>\n",
              "      <td>200</td>\n",
              "      <td>Lista de Mais Vendidos Geral de 2020</td>\n",
              "      <td>1</td>\n",
              "      <td>113.041</td>\n",
              "    </tr>\n",
              "    <tr>\n",
              "      <th>1</th>\n",
              "      <td>A sutil arte de ligar o foda-se</td>\n",
              "      <td>Mark Manson</td>\n",
              "      <td>Intrínseca</td>\n",
              "      <td>224</td>\n",
              "      <td>Lista de Mais Vendidos Geral de 2020</td>\n",
              "      <td>2</td>\n",
              "      <td>104.649</td>\n",
              "    </tr>\n",
              "    <tr>\n",
              "      <th>2</th>\n",
              "      <td>Do mil ao milhão</td>\n",
              "      <td>Thiago Nigro</td>\n",
              "      <td>HarperCollins</td>\n",
              "      <td>192</td>\n",
              "      <td>Lista de Mais Vendidos Geral de 2020</td>\n",
              "      <td>3</td>\n",
              "      <td>77.862</td>\n",
              "    </tr>\n",
              "    <tr>\n",
              "      <th>3</th>\n",
              "      <td>O milagre da manhã</td>\n",
              "      <td>Hal Elrod</td>\n",
              "      <td>BestSeller</td>\n",
              "      <td>196</td>\n",
              "      <td>Lista de Mais Vendidos Geral de 2020</td>\n",
              "      <td>4</td>\n",
              "      <td>62.235</td>\n",
              "    </tr>\n",
              "    <tr>\n",
              "      <th>4</th>\n",
              "      <td>Box Harry Potter</td>\n",
              "      <td>J. K. Rowling</td>\n",
              "      <td>Rocco</td>\n",
              "      <td>3096</td>\n",
              "      <td>Lista de Mais Vendidos Geral de 2020</td>\n",
              "      <td>5</td>\n",
              "      <td>55.124</td>\n",
              "    </tr>\n",
              "  </tbody>\n",
              "</table>\n",
              "</div>"
            ],
            "text/plain": [
              "                             livro        autor/a  ... ranking  exemplares_vendidos\n",
              "0         Mais esperto que o diabo  Napoleon Hill  ...       1              113.041\n",
              "1  A sutil arte de ligar o foda-se    Mark Manson  ...       2              104.649\n",
              "2                 Do mil ao milhão   Thiago Nigro  ...       3               77.862\n",
              "3               O milagre da manhã      Hal Elrod  ...       4               62.235\n",
              "4                 Box Harry Potter  J. K. Rowling  ...       5               55.124\n",
              "\n",
              "[5 rows x 7 columns]"
            ]
          },
          "metadata": {},
          "execution_count": 26
        }
      ]
    },
    {
      "cell_type": "code",
      "metadata": {
        "colab": {
          "base_uri": "https://localhost:8080/",
          "height": 206
        },
        "id": "kV2x_uMUrSBr",
        "outputId": "a429b122-2db0-48b7-e764-a5b4c1bc843e"
      },
      "source": [
        "projeto_df.tail()"
      ],
      "execution_count": null,
      "outputs": [
        {
          "output_type": "execute_result",
          "data": {
            "text/html": [
              "<div>\n",
              "<style scoped>\n",
              "    .dataframe tbody tr th:only-of-type {\n",
              "        vertical-align: middle;\n",
              "    }\n",
              "\n",
              "    .dataframe tbody tr th {\n",
              "        vertical-align: top;\n",
              "    }\n",
              "\n",
              "    .dataframe thead th {\n",
              "        text-align: right;\n",
              "    }\n",
              "</style>\n",
              "<table border=\"1\" class=\"dataframe\">\n",
              "  <thead>\n",
              "    <tr style=\"text-align: right;\">\n",
              "      <th></th>\n",
              "      <th>livro</th>\n",
              "      <th>autor/a</th>\n",
              "      <th>editora</th>\n",
              "      <th>paginacao</th>\n",
              "      <th>categoria</th>\n",
              "      <th>ranking</th>\n",
              "      <th>exemplares_vendidos</th>\n",
              "    </tr>\n",
              "  </thead>\n",
              "  <tbody>\n",
              "    <tr>\n",
              "      <th>115</th>\n",
              "      <td>Rápido e devagar</td>\n",
              "      <td>Daniel Kahneman</td>\n",
              "      <td>Objetiva</td>\n",
              "      <td>608</td>\n",
              "      <td>Lista de Mais Vendidos de Negócios de 2020</td>\n",
              "      <td>16</td>\n",
              "      <td>8.266</td>\n",
              "    </tr>\n",
              "    <tr>\n",
              "      <th>116</th>\n",
              "      <td>Quem pensa enriquece : o legado (edição de bolso)</td>\n",
              "      <td>Napoleon Hill</td>\n",
              "      <td>Citadel</td>\n",
              "      <td>144</td>\n",
              "      <td>Lista de Mais Vendidos de Negócios de 2020</td>\n",
              "      <td>17</td>\n",
              "      <td>7.125</td>\n",
              "    </tr>\n",
              "    <tr>\n",
              "      <th>117</th>\n",
              "      <td>O jeito Harvard de ser feliz</td>\n",
              "      <td>Shawn Achor</td>\n",
              "      <td>Saraiva</td>\n",
              "      <td>216</td>\n",
              "      <td>Lista de Mais Vendidos de Negócios de 2020</td>\n",
              "      <td>18</td>\n",
              "      <td>6.960</td>\n",
              "    </tr>\n",
              "    <tr>\n",
              "      <th>118</th>\n",
              "      <td>Vade Mecum Saraiva 2020- 29ª Edição</td>\n",
              "      <td>Editora Saraiva</td>\n",
              "      <td>Saraiva</td>\n",
              "      <td>2568</td>\n",
              "      <td>Lista de Mais Vendidos de Negócios de 2020</td>\n",
              "      <td>19</td>\n",
              "      <td>6.152</td>\n",
              "    </tr>\n",
              "    <tr>\n",
              "      <th>119</th>\n",
              "      <td>O seu direito de ser rico</td>\n",
              "      <td>Napoleon Hill</td>\n",
              "      <td>Citadel</td>\n",
              "      <td>336</td>\n",
              "      <td>Lista de Mais Vendidos de Negócios de 2020</td>\n",
              "      <td>20</td>\n",
              "      <td>5.698</td>\n",
              "    </tr>\n",
              "  </tbody>\n",
              "</table>\n",
              "</div>"
            ],
            "text/plain": [
              "                                                 livro  ... exemplares_vendidos\n",
              "115                                   Rápido e devagar  ...               8.266\n",
              "116  Quem pensa enriquece : o legado (edição de bolso)  ...               7.125\n",
              "117                       O jeito Harvard de ser feliz  ...               6.960\n",
              "118                Vade Mecum Saraiva 2020- 29ª Edição  ...               6.152\n",
              "119                          O seu direito de ser rico  ...               5.698\n",
              "\n",
              "[5 rows x 7 columns]"
            ]
          },
          "metadata": {},
          "execution_count": 27
        }
      ]
    },
    {
      "cell_type": "markdown",
      "metadata": {
        "id": "qSt4xcWOrVoL"
      },
      "source": [
        "Como é possível perceber, temos 120 livros no total, cada um com 7 categorias extraídas do site que utilizamos para obter estes dados. Agora utilizaremos a função *describe()* do Pandas para as duas colunas que gostaríamos de obter informações mais detalhadas em relação às métricas quantitativas gerais dos dados: paginacao e exemplares_vendidos."
      ]
    },
    {
      "cell_type": "code",
      "metadata": {
        "colab": {
          "base_uri": "https://localhost:8080/"
        },
        "id": "a9ur8KlLsN0l",
        "outputId": "7cfd85c3-89ad-4a34-da82-5b4359092422"
      },
      "source": [
        "# Imprime os valores com três casas decimais\n",
        "pd.options.display.float_format = '{:.3f}'.format\n",
        "\n",
        "# Imprime os principais índices estatísticos a partir dos números apresentados\n",
        "projeto_df.paginacao.describe()"
      ],
      "execution_count": null,
      "outputs": [
        {
          "output_type": "execute_result",
          "data": {
            "text/plain": [
              "count    120.000\n",
              "mean     381.467\n",
              "std      472.563\n",
              "min       64.000\n",
              "25%      200.000\n",
              "50%      288.000\n",
              "75%      384.250\n",
              "max     3096.000\n",
              "Name: paginacao, dtype: float64"
            ]
          },
          "metadata": {},
          "execution_count": 28
        }
      ]
    },
    {
      "cell_type": "code",
      "metadata": {
        "colab": {
          "base_uri": "https://localhost:8080/"
        },
        "id": "k1o0bgwXHJ0U",
        "outputId": "4e57d92e-fcb2-4400-b52e-ba0cca83a3c8"
      },
      "source": [
        "projeto_df.exemplares_vendidos.describe()"
      ],
      "execution_count": null,
      "outputs": [
        {
          "output_type": "execute_result",
          "data": {
            "text/plain": [
              "count   120.000\n",
              "mean     27.312\n",
              "std      22.201\n",
              "min       4.638\n",
              "25%      10.600\n",
              "50%      20.061\n",
              "75%      39.343\n",
              "max     113.041\n",
              "Name: exemplares_vendidos, dtype: float64"
            ]
          },
          "metadata": {},
          "execution_count": 29
        }
      ]
    },
    {
      "cell_type": "markdown",
      "metadata": {
        "id": "lVfT7-ueHdrf"
      },
      "source": [
        "###**Questão 1.** Há alguma relação entre o número de páginas e a quantidade de exemplares vendidos?"
      ]
    },
    {
      "cell_type": "markdown",
      "metadata": {
        "id": "tx_mKRzOvpbc"
      },
      "source": [
        "Analisando os valores exibidos, podemos identificar que os livros possuem, em média, 381 páginas. Contudo, em termos concretos, a média nos fornece poucas informações visto que temos obras com muito mais páginas (o máximo é 3096) e muito menos páginas (o mínimo é 64), ou seja, há uma variância grande.\n",
        "<p>Por outro lado, a mediana nos fornece um dado interessante, de que o livro que está presente na metade da lista contém 288 páginas. A diferença entre a média e a mediana significa que existem alguns outliers, isto é, valores bem distantes da representação majoritária dos dados (isso fica mais claro no gráfico boxplot plotado abaixo). Esses outliers puxam a média, distanciando-a de uma centralidade. A mediana contribui para entender qual a quantidade de páginas da maior parte dos livros da lista quando há uma variação de valores. A partir desse dado, podemos entender quantas páginas possuem a maior parte das obras do ranking - esse valor não representa, necessariamente, uma preferência de consumo, como veremos depois -, que é entre 200 e 250 páginas (valor que será confirmado daqui a pouco por meio de um histograma).</p>"
      ]
    },
    {
      "cell_type": "code",
      "metadata": {
        "id": "2mlbiPnN0ZQB",
        "colab": {
          "base_uri": "https://localhost:8080/",
          "height": 648
        },
        "outputId": "e8107d69-8fd2-4374-edcd-83fb4ab925cc"
      },
      "source": [
        "# Configura o gráfico com a coluna selecionada, o tamanho, remoção do grid de fundo, escolha das cores e do preenchimento do box\n",
        "paginacao_boxplot = projeto_df.boxplot(\n",
        "    column = 'paginacao',\n",
        "    figsize = (7,10),\n",
        "    grid = False,\n",
        "    color = dict(boxes = '#41575c', medians = '#469456', caps = '#469456', whiskers = '#469456'),\n",
        "    patch_artist = True)\n",
        "\n",
        "# Define os rótulos dos eixos x e y\n",
        "paginacao_boxplot.set(xlabel = 'Distribuição dos livros', ylabel = 'Número de páginas')\n",
        "\n",
        "# Remove a marcação da coluna selecionada do eixo x\n",
        "plt.xticks([1], [''])\n",
        "\n",
        "# Remove o título superior produzido automaticamente pela biblioteca e o substitui pelo título correto do gráfico\n",
        "plt.title('Distribuição do número de páginas \\nentre os livros mais vendidos de 2020', fontsize = 14, pad = 25)\n",
        "plt.suptitle('')\n",
        "\n",
        "# Imprime o gráfico na tela\n",
        "plt.show()"
      ],
      "execution_count": null,
      "outputs": [
        {
          "output_type": "display_data",
          "data": {
            "image/png": "[encoded data removed]",
            "text/plain": [
              "<Figure size 504x720 with 1 Axes>"
            ]
          },
          "metadata": {
            "needs_background": "light"
          }
        }
      ]
    },
    {
      "cell_type": "markdown",
      "metadata": {
        "id": "hHpLu1CNxnNn"
      },
      "source": [
        "Quando observamos o gráfico em formato boxplot acima, fica muito claro que alguns livros vendidos possuem uma quantidade de páginas que extrapola o tamanho da maior parte das obras. Por exemplo, se retornarmos à tabela, perceberemos que o título *Vade Mecum Saraiva 2020 - 29ª Edição* possui 2568 páginas. Uma consideração importante é que esta obra não é de leitura, mas de consulta, sendo lançada em formato revisto e atualizado todos os anos.\n",
        "<p>Os outliers são dados importantíssimos na análise, porém, para o caminho que iremos seguir agora eles não contribuirão, ao contrário, poderão atrapalhar nossa leitura.</p>\n",
        "<p>A próxima análise envolve entender quantas páginas a maior parte dos livros que estão no ranking possuem, em média. Para isso, utilizaremos uma estratégia que é a de remover os outliers a partir de uma filtragem do intervalo que concentra a maior parte dos valores, chamado de *Interquartil Range*, ou Intervalo Interquartil. Com ele não seremos distraídos pelos dados que estão além desse espaço selecionado.</p>\n",
        "<p> O raciocínio estatístico está disponível, em detalhes, na internet, entretanto, podemos resumir o cálculo da seguinte forma: (1) buscamos identificar a representação numérica dos mínimos e dos máximos (o intervalo interquartil concentra os valores que estão entre 25% e 75% da área sob a curva do gráfico); (2) calculamos o intervalo por meio de uma fórmula e tendo como base os valores da coluna escolhida; (3) criamos uma variável que filtra esse intervalo a partir dos números apresentados.</p>\n",
        "<p>Lembrando que este é um primeiro passo para respondermos à nossa pergunta. Primeiro precisamos descobrir qual a frequência de paginação possuem os livros do ranking para, em seguida, correlacionar os valores encontrados com a coluna de exemplares vendidos. Assim, obteremos uma aproximação, em relação à pesquisa realizada, de se o número de páginas se vincula com a quantidade de obras vendidas de um determinado título.\n",
        "<p>Todavia, precisamos ressaltar que isso não implica que livros de x páginas vendem mais e livros de y páginas vendem menos, visto que para chegar a essa conclusão necessitaríamos realizar uma análise mais detalhada em busca de entender o comportamento do consumidor no momento da escolha e aquisição das obras. Uma pesquisa desse tipo poderia confirmar se, realmente, o número de páginas é um influenciador no momento da decisão.</p>"
      ]
    },
    {
      "cell_type": "code",
      "metadata": {
        "colab": {
          "base_uri": "https://localhost:8080/",
          "height": 496
        },
        "id": "mQc8BYa1uNz2",
        "outputId": "3ab6022d-72f6-42bd-a6f3-9935c0797236"
      },
      "source": [
        "# Define os pontos mínimo e máximo do intervalo que exclua os outliers (abaixo de 25% e acima de 75% da área sob a curva)\n",
        "q1 = projeto_df['paginacao'].quantile(0.25)\n",
        "q3 = projeto_df['paginacao'].quantile(0.75)\n",
        "\n",
        "# Fórmula que calcula o intervalo interquartil (entre Q1 e Q3)\n",
        "iqr = q3-q1\n",
        "\n",
        "# Estabelece os cálculos que resultam no valor de Q1 (mínimo interquartil) e Q3 (máximo interquartil) \n",
        "iqr_min  = q1-1.5*iqr\n",
        "iqr_max = q3+1.5*iqr\n",
        "\n",
        "# Desenvolve o intervalo a partir de um operador booleano e o armazena em uma variável\n",
        "projeto_limpo = projeto_df.loc[(projeto_df['paginacao'] > iqr_min) & (projeto_df['paginacao'] < iqr_max)]\n",
        "\n",
        "# Plota o histograma que exclui os valores externos ao intervalo interquartil\n",
        "plt.figure(figsize = (10, 7))\n",
        "paginacao_histograma = plt.hist(\n",
        "    projeto_limpo['paginacao'],\n",
        "    color = '#ffa600',\n",
        "    edgecolor = '#FFF',\n",
        "    bins = [0, 50, 100, 150, 200, 250, 300, 350, 400, 450, 500, 550, 600, 650, 700])\n",
        "\n",
        "plt.title('Histograma de distribuição do número de páginas\\nentre os livros mais vendidos de 2020', fontsize = 14, pad = 25)\n",
        "plt.suptitle('')\n",
        "\n",
        "plt.xlabel('Número de páginas')\n",
        "plt.ylabel('Quantidade de livros');"
      ],
      "execution_count": null,
      "outputs": [
        {
          "output_type": "display_data",
          "data": {
            "image/png": "[encoded data removed]",
            "text/plain": [
              "<Figure size 720x504 with 1 Axes>"
            ]
          },
          "metadata": {
            "needs_background": "light"
          }
        }
      ]
    },
    {
      "cell_type": "code",
      "metadata": {
        "colab": {
          "base_uri": "https://localhost:8080/"
        },
        "id": "FI5jiT9oavul",
        "outputId": "3cd50e1c-7752-4491-9fa4-d6c9e7e0d532"
      },
      "source": [
        "# Calcula o z-score a partir da média e do desvio padrão do dataframe selecionado\n",
        "# Cria uma lista para conter somente os valores da coluna \"paginacao\", sem os respectivos IDs\n",
        "lista_paginacao = list(projeto_limpo.paginacao)\n",
        "media_paginacao = projeto_limpo['paginacao'].mean()\n",
        "desviopadrao_paginacao = projeto_limpo['paginacao'].std()\n",
        "\n",
        "# Cria uma variável para receber o z-score calculado de cada um dos 113 valores contidos em lista_paginacao\n",
        "zscore_paginacao = [((num-media_paginacao)/desviopadrao_paginacao) for num in lista_paginacao]\n",
        "\n",
        "# Imprime a lista final\n",
        "print(zscore_paginacao)"
      ],
      "execution_count": null,
      "outputs": [
        {
          "output_type": "stream",
          "name": "stdout",
          "text": [
            "[-0.6607704675455603, -0.4702122467901839, -0.7242898744640192, -0.6925301710047898, -0.5972510606271015, -0.9783675021378544, -0.5972510606271015, 2.007044623029709, -0.8513286883009368, 2.3246416576220033, 0.4190594500682393, 0.3555400431497805, 0.10146241547594531, 0.03794300855748651, 0.9907341123343686, 1.7529669953558742, -1.0101272055970838, 1.181292333089745, 1.0542535192528273, 2.007044623029709, 0.10146241547594531, -1.0101272055970838, 1.0542535192528273, -0.0890958052794311, 0.6731370777420745, -0.6607704675455603, 0.16498182239440412, 0.03794300855748651, 0.030003082692679154, 0.5302184121755422, -0.5972510606271015, 0.29202063623132174, -0.0890958052794311, -0.5972510606271015, 0.16498182239440412, 0.16498182239440412, 0.8081158174437995, 0.9272147054159098, 1.3242109986562773, 2.3246416576220033, 0.3555400431497805, 1.7529669953558742, 1.181292333089745, 1.4353699607635801, -1.1689257228932308, 1.3083311469266625, 0.03794300855748651, 1.3083311469266625, -1.105406315974772, 2.451680471458921, 0.03794300855748651, 0.863695298497451, -1.105406315974772, -0.2161346191163487, -0.4702122467901839, 0.5460982639051569, 1.5624087746004978, 2.8327969129696737, -0.6607704675455603, -0.4702122467901839, -0.6925301710047898, 0.03794300855748651, 0.9907341123343686, -0.5972510606271015, 0.2285012293128629, -0.5337316537086427, -0.9783675021378544, -0.9783675021378544, -0.8513286883009368, -0.7242898744640192, 0.03794300855748651, 0.4190594500682393, -0.4702122467901839, 0.2285012293128629, 0.03794300855748651, -0.4702122467901839, -1.105406315974772, -1.2324451298116896, -0.5972510606271015, 0.03794300855748651, -1.105406315974772, -0.4702122467901839, -1.7406003851593599, -1.4865227574855249, -1.4865227574855249, 0.03794300855748651, -0.4702122467901839, 0.6731370777420745, -0.4702122467901839, -1.7406003851593599, -1.2324451298116896, 0.29202063623132174, 0.8001758915789922, 0.29202063623132174, -1.7406003851593599, -0.7242898744640192, -0.5972510606271015, -0.9783675021378544, -0.5972510606271015, -0.8513286883009368, 0.4190594500682393, 0.6413773742828451, -0.2161346191163487, -0.9783675021378544, -0.8513286883009368, -0.5972510606271015, -0.0890958052794311, -0.2161346191163487, -0.3431734329532663, 2.5787192852958385, -1.105406315974772, -0.5337316537086427, 0.4190594500682393]\n"
          ]
        }
      ]
    },
    {
      "cell_type": "code",
      "metadata": {
        "colab": {
          "base_uri": "https://localhost:8080/"
        },
        "id": "exaLWeBQkz8O",
        "outputId": "50e0bf24-d047-4371-bea6-b0c12881adc6"
      },
      "source": [
        "# Insere no dataframe \"projeto_limpo\" uma coluna com os valores do z-score da paginação\n",
        "projeto_limpo['zscore_paginacao'] = zscore_paginacao"
      ],
      "execution_count": null,
      "outputs": [
        {
          "output_type": "stream",
          "name": "stderr",
          "text": [
            "/usr/local/lib/python3.7/dist-packages/ipykernel_launcher.py:2: SettingWithCopyWarning: \n",
            "A value is trying to be set on a copy of a slice from a DataFrame.\n",
            "Try using .loc[row_indexer,col_indexer] = value instead\n",
            "\n",
            "See the caveats in the documentation: https://pandas.pydata.org/pandas-docs/stable/user_guide/indexing.html#returning-a-view-versus-a-copy\n",
            "  \n"
          ]
        }
      ]
    },
    {
      "cell_type": "code",
      "metadata": {
        "colab": {
          "base_uri": "https://localhost:8080/",
          "height": 597
        },
        "id": "5skEK8w6zKj3",
        "outputId": "9cc96b68-1ad3-4ba0-a917-6fbee1c9dd53"
      },
      "source": [
        "# Seleciona do dataframe \"projeto_limpo\" o intervalo que observamos maior frequência de livros em relação às suas respectivas páginas\n",
        "# Cria uma nova variável que contém um novo dataframe originado da seleção realizada já ordenado em sequência crescente\n",
        "intervalo_paginacao = projeto_limpo[(projeto_limpo['paginacao'] > 150) & (projeto_limpo['paginacao'] < 350)].sort_values(by = ['paginacao'])\n",
        "intervalo_paginacao"
      ],
      "execution_count": null,
      "outputs": [
        {
          "output_type": "execute_result",
          "data": {
            "text/html": [
              "<div>\n",
              "<style scoped>\n",
              "    .dataframe tbody tr th:only-of-type {\n",
              "        vertical-align: middle;\n",
              "    }\n",
              "\n",
              "    .dataframe tbody tr th {\n",
              "        vertical-align: top;\n",
              "    }\n",
              "\n",
              "    .dataframe thead th {\n",
              "        text-align: right;\n",
              "    }\n",
              "</style>\n",
              "<table border=\"1\" class=\"dataframe\">\n",
              "  <thead>\n",
              "    <tr style=\"text-align: right;\">\n",
              "      <th></th>\n",
              "      <th>livro</th>\n",
              "      <th>autor/a</th>\n",
              "      <th>editora</th>\n",
              "      <th>paginacao</th>\n",
              "      <th>categoria</th>\n",
              "      <th>ranking</th>\n",
              "      <th>exemplares_vendidos</th>\n",
              "      <th>zscore_paginacao</th>\n",
              "    </tr>\n",
              "  </thead>\n",
              "  <tbody>\n",
              "    <tr>\n",
              "      <th>22</th>\n",
              "      <td>A revolução dos bichos</td>\n",
              "      <td>George Orwell</td>\n",
              "      <td>Companhia das Letras</td>\n",
              "      <td>156</td>\n",
              "      <td>Lista de Mais Vendidos de Ficção de 2020</td>\n",
              "      <td>3</td>\n",
              "      <td>33.807</td>\n",
              "      <td>-1.010</td>\n",
              "    </tr>\n",
              "    <tr>\n",
              "      <th>17</th>\n",
              "      <td>A revolução dos bichos</td>\n",
              "      <td>George Orwell</td>\n",
              "      <td>Companhia das Letras</td>\n",
              "      <td>156</td>\n",
              "      <td>Lista de Mais Vendidos Geral de 2020</td>\n",
              "      <td>18</td>\n",
              "      <td>33.807</td>\n",
              "      <td>-1.010</td>\n",
              "    </tr>\n",
              "    <tr>\n",
              "      <th>68</th>\n",
              "      <td>Ansiedade - Como enfrentar o mal do século</td>\n",
              "      <td>Augusto Cury</td>\n",
              "      <td>Saraiva</td>\n",
              "      <td>160</td>\n",
              "      <td>Lista de Mais Vendidos de Autoajuda de 2020</td>\n",
              "      <td>9</td>\n",
              "      <td>23.923</td>\n",
              "      <td>-0.978</td>\n",
              "    </tr>\n",
              "    <tr>\n",
              "      <th>6</th>\n",
              "      <td>O poder da autorresponsabilidade</td>\n",
              "      <td>Paulo Vieira</td>\n",
              "      <td>Gente</td>\n",
              "      <td>160</td>\n",
              "      <td>Lista de Mais Vendidos Geral de 2020</td>\n",
              "      <td>7</td>\n",
              "      <td>47.641</td>\n",
              "      <td>-0.978</td>\n",
              "    </tr>\n",
              "    <tr>\n",
              "      <th>108</th>\n",
              "      <td>O homem mais rico da Babilônia</td>\n",
              "      <td>George S. Clason</td>\n",
              "      <td>HarperCollins</td>\n",
              "      <td>160</td>\n",
              "      <td>Lista de Mais Vendidos de Negócios de 2020</td>\n",
              "      <td>9</td>\n",
              "      <td>24.409</td>\n",
              "      <td>-0.978</td>\n",
              "    </tr>\n",
              "    <tr>\n",
              "      <th>...</th>\n",
              "      <td>...</td>\n",
              "      <td>...</td>\n",
              "      <td>...</td>\n",
              "      <td>...</td>\n",
              "      <td>...</td>\n",
              "      <td>...</td>\n",
              "      <td>...</td>\n",
              "      <td>...</td>\n",
              "    </tr>\n",
              "    <tr>\n",
              "      <th>41</th>\n",
              "      <td>Mindset</td>\n",
              "      <td>Carol Dweck</td>\n",
              "      <td>Objetiva</td>\n",
              "      <td>328</td>\n",
              "      <td>Lista de Mais Vendidos de Não ficção de 2020</td>\n",
              "      <td>2</td>\n",
              "      <td>43.351</td>\n",
              "      <td>0.356</td>\n",
              "    </tr>\n",
              "    <tr>\n",
              "      <th>11</th>\n",
              "      <td>Pai rico, pai pobre - Edição de 20 anos</td>\n",
              "      <td>Robert T. Kiyosak</td>\n",
              "      <td>Alta Books Editora</td>\n",
              "      <td>336</td>\n",
              "      <td>Lista de Mais Vendidos Geral de 2020</td>\n",
              "      <td>12</td>\n",
              "      <td>43.416</td>\n",
              "      <td>0.419</td>\n",
              "    </tr>\n",
              "    <tr>\n",
              "      <th>105</th>\n",
              "      <td>Pai rico, pai pobre - Edição de 20 anos</td>\n",
              "      <td>Robert T. Kiyosak</td>\n",
              "      <td>Alta Books Editora</td>\n",
              "      <td>336</td>\n",
              "      <td>Lista de Mais Vendidos de Negócios de 2020</td>\n",
              "      <td>6</td>\n",
              "      <td>43.416</td>\n",
              "      <td>0.419</td>\n",
              "    </tr>\n",
              "    <tr>\n",
              "      <th>73</th>\n",
              "      <td>Como fazer amigos e Influenciar pessoas - Ediç...</td>\n",
              "      <td>Dale Carnegie</td>\n",
              "      <td>Companhia Editora Nacional</td>\n",
              "      <td>336</td>\n",
              "      <td>Lista de Mais Vendidos de Autoajuda de 2020</td>\n",
              "      <td>14</td>\n",
              "      <td>18.574</td>\n",
              "      <td>0.419</td>\n",
              "    </tr>\n",
              "    <tr>\n",
              "      <th>119</th>\n",
              "      <td>O seu direito de ser rico</td>\n",
              "      <td>Napoleon Hill</td>\n",
              "      <td>Citadel</td>\n",
              "      <td>336</td>\n",
              "      <td>Lista de Mais Vendidos de Negócios de 2020</td>\n",
              "      <td>20</td>\n",
              "      <td>5.698</td>\n",
              "      <td>0.419</td>\n",
              "    </tr>\n",
              "  </tbody>\n",
              "</table>\n",
              "<p>71 rows × 8 columns</p>\n",
              "</div>"
            ],
            "text/plain": [
              "                                                 livro  ... zscore_paginacao\n",
              "22                              A revolução dos bichos  ...           -1.010\n",
              "17                              A revolução dos bichos  ...           -1.010\n",
              "68          Ansiedade - Como enfrentar o mal do século  ...           -0.978\n",
              "6                     O poder da autorresponsabilidade  ...           -0.978\n",
              "108                     O homem mais rico da Babilônia  ...           -0.978\n",
              "..                                                 ...  ...              ...\n",
              "41                                             Mindset  ...            0.356\n",
              "11             Pai rico, pai pobre - Edição de 20 anos  ...            0.419\n",
              "105            Pai rico, pai pobre - Edição de 20 anos  ...            0.419\n",
              "73   Como fazer amigos e Influenciar pessoas - Ediç...  ...            0.419\n",
              "119                          O seu direito de ser rico  ...            0.419\n",
              "\n",
              "[71 rows x 8 columns]"
            ]
          },
          "metadata": {},
          "execution_count": 131
        }
      ]
    },
    {
      "cell_type": "markdown",
      "metadata": {
        "id": "zkky-HzV0u1m"
      },
      "source": [
        "Desenvolvemos o seguinte processo:\n",
        "1. Para descobrirmos qual a porcentagem de que um livro x, selecionado aleatoriamente, tenha uma paginação dentro do intervalo de maior frequência (150 a 350 páginas) tivemos que calcular o z-score de cada valor do dataframe sem os outliers (projeto_limpo);\n",
        "2. Adicionamos os valores do z-score como uma coluna a parte no dataframe original, para nos auxiliar a localizar os respectivos valores;\n",
        "3. Recortamos o dataframe original (projeto_limpo) selecionando os valores de 150 a 350 da coluna *paginacao* para que pudéssemos analisar somente o intervalo que nos interessava;\n",
        "4. Ordenamos esse novo dataframe recortado, em ordem ascendente, a partir da coluna *paginacao*.\n",
        "\n",
        "Com esse resultado poderemos agora descobrir nossa primeira sub-pergunta:\n",
        "\n",
        "**Do total de livros no ranking, quais as chances dele ter entre 150 a 350 páginas?**"
      ]
    },
    {
      "cell_type": "code",
      "metadata": {
        "id": "6Nb_M3ENE6fZ"
      },
      "source": [
        "# TAREFAS:\n",
        "# COLORIR O INTERVALO ENTRE 150 E 350 DO HISTOGRAMA\n",
        "# PLOTAR UMA LINHA SOBRE O HISTOGRAMA\n",
        "# USAR A TABELA DE Z-SCORE -> MIN = -1.010 E MAX = 0.419 -> PARA CALCULAR A ÁREA SOB A CURVA DO INTERVALO 150-350\n",
        "\n",
        "# OBS:\n",
        "# LEMBRAR QUE A ANÁLISE DA PAGINAÇÃO RESULTA SOMENTE EM DESCOBRIR QUANTOS LIVROS, DO TOTAL, POSSUEM ENTRE 150 A 350 PGS\n",
        "# LEMBRAR TB QUE OS Z-SCORES POSSUEM INTERVALOS FIXOS E AVERIGUAR, DESSE INTERVALO, QUAL A FREQUÊNCIA DE PAGINAÇÃO QUE ELE COMPREENDE\n",
        "# A PARTIR DA PORCENTAGEM É POSSÍVEL DESCOBRIR: DO TOTAL DE LIVROS DO RANKING, QUAIS AS CHANCES DE UM LIVRO ALEATÓRIO TER ENTRE 150 A 350 PGS?\n",
        "# PARA DESCOBRIR QUANTAS PÁGINAS POSSUEM OS LIVROS MAIS VENDIDOS É PRECISO FAZER UMA CORRELAÇÃO ENTRE PAGINACAO E EXEMPLARES_VENDIDOS E, AVALIANDO A\n",
        "# ÁREA SOBRE A CURVA DO GRÁFICO DE CORRELAÇÃO, QUAL O INTERVALO MAIS ADQUIRIDO PELOS LEITORES? A PARTIR DISSO, É POSSÍVEL AVALIAR: DE UM LIVRO COMPRADO\n",
        "# ALEATORIAMENTE POR UM CONSUMIDOR, QUAIS AS CHANCES DELE POSSUIR UMA PAGINAÇÃO FREQUENTE?"
      ],
      "execution_count": null,
      "outputs": []
    },
    {
      "cell_type": "markdown",
      "metadata": {
        "id": "NIx0tEmqANaT"
      },
      "source": [
        "O histograma é um tipo de gráfico que nos ajuda a visualizar a frequência de itens em relação a um conjunto de dados. No caso, estamos investigando qual o valor da paginação mais frequente para entendermos, de modo abrangente, se esse número é um critério a ser levado em consideração na aquisição de uma obra e qual faixa de paginação possui maior probabilidade de ser adquirida por um leitor. Com abrangente compreendemos que uma avaliação completa dessa questão envolveria traçar, por meio de pesquisas mais detalhadas, o comportamento do consumidor na hora da compra. Afinal, quais são os fatores que mais influenciam na aquisição de um livro? Ela não pode ser respondida satisfatoriamente por meio da rápida análise de um ranking dos livros mais vendidos. Por outro lado, esse dataset pode nos fornecer diversos insights e novos problemas que poderão ser explorados, com maior foco, posteriormente, por um interessado.\n",
        "<p>Dessa maneira, com o histograma podemos avaliar que dentre os livros vendidos, a maioria continha aproximadamente 150 e 350 páginas, o que confirma nossa análise anterior com o gráfico boxplot. "
      ]
    },
    {
      "cell_type": "code",
      "metadata": {
        "colab": {
          "base_uri": "https://localhost:8080/"
        },
        "id": "t-jR0wGg0Y9e",
        "outputId": "c5bc5167-687d-4a0f-d218-e7b13ea12a1b"
      },
      "source": [
        "projeto_df.exemplares_vendidos.describe()"
      ],
      "execution_count": null,
      "outputs": [
        {
          "output_type": "execute_result",
          "data": {
            "text/plain": [
              "count   120.000\n",
              "mean     27.312\n",
              "std      22.201\n",
              "min       4.638\n",
              "25%      10.600\n",
              "50%      20.061\n",
              "75%      39.343\n",
              "max     113.041\n",
              "Name: exemplares_vendidos, dtype: float64"
            ]
          },
          "metadata": {},
          "execution_count": 33
        }
      ]
    },
    {
      "cell_type": "markdown",
      "metadata": {
        "id": "g7E9dDJ202C7"
      },
      "source": [
        "A média de exemplares vendidos ao longo de 2020 dos livros presentes no ranking é de 27.312. O livro mais vendido teve um total de 113.041 exemplares comercializados, enquanto o menos vendido teve um total de 4.638 exemplares comercializados. A partir da análise, também pudemos identificar que a maior parte dos livros vendidos tiveram, em média, 10.000 a 40.000 exemplares comercializados (o que, se considerarmos um país de 200 milhões de pessoas, sinaliza que, se do ranking dos livros mais vendidos temos em média 30.000 obras vendidas, imagina dos livros que sequer entram nesta pesquisa?).\n",
        "<p>Novamente podemos destacar os outliers, que se aproximam de 113.041 exemplares vendidos, o que significa que existem obras que fogem dessa média, superando-a em muito.</p>"
      ]
    },
    {
      "cell_type": "code",
      "metadata": {
        "id": "K5E2Xhkh5q5W",
        "colab": {
          "base_uri": "https://localhost:8080/",
          "height": 627
        },
        "outputId": "1f4a849d-4d5d-437e-972e-afb80b2f63cf"
      },
      "source": [
        "paginacao_plot = projeto_df.boxplot(\n",
        "    column = 'exemplares_vendidos',\n",
        "    figsize = (7,10),\n",
        "    grid = False,\n",
        "    color = dict(boxes = '#41575c', medians = '#469456', caps = '#469456', whiskers = '#469456'),\n",
        "    patch_artist = True)\n",
        "paginacao_plot.set(xlabel = 'Distribuição dos livros', ylabel = 'Número de exemplares vendidos (em milhares)')\n",
        "plt.xticks([1], [''])\n",
        "plt.title('Distribuição da quantidade de exemplares comercializados entre os livros mais vendidos de 2020\\n')\n",
        "plt.suptitle('')\n",
        "plt.show()"
      ],
      "execution_count": null,
      "outputs": [
        {
          "output_type": "display_data",
          "data": {
            "image/png": "[encoded data removed]",
            "text/plain": [
              "<Figure size 504x720 with 1 Axes>"
            ]
          },
          "metadata": {
            "needs_background": "light"
          }
        }
      ]
    },
    {
      "cell_type": "markdown",
      "metadata": {
        "id": "qioVZxQ-kgnW"
      },
      "source": [
        "## *a. Qual foi a editora mais vendida de 2020? Em qual categoria ela está mais presente?*\n",
        "\n",
        "<p> Descobrir qual foi a editora mais vendida de 2020 pode nos dar insights que nos permitirão compreender quais editoras chamaram mais a atenção do público-leitor ao longo do ano. Visualizar a categoria do ranking em que seus livros estiveram presentes com maior frequência nos ajuda a entender, por exemplo, qual o tipo de público ela atrai em maior grau, bem como categorizar sua presença no mercado editorial.</p>\n",
        "<p>Para obter essa informação utilizaremos a função *value_counts* do Pandas, que agrupa os dados em categorias pré-definidas nas colunas dos datasets.</p>"
      ]
    },
    {
      "cell_type": "code",
      "metadata": {
        "id": "71depkvl2ewl",
        "colab": {
          "base_uri": "https://localhost:8080/"
        },
        "outputId": "de0b765e-07c3-4a9c-f1ec-a7c02afd0e3e"
      },
      "source": [
        "editoras_lista = projeto_df[u'editora'].value_counts()\n",
        "editoras_lista"
      ],
      "execution_count": null,
      "outputs": [
        {
          "output_type": "execute_result",
          "data": {
            "text/plain": [
              "Intrínseca                    14\n",
              "Citadel                       13\n",
              "Companhia das Letras          12\n",
              "Gente                          9\n",
              "Sextante                       7\n",
              "Rocco                          7\n",
              "HarperCollins                  6\n",
              "Objetiva                       6\n",
              "Pixel                          3\n",
              "Buzz                           3\n",
              "Globo Alt                      3\n",
              "Globo Livros                   3\n",
              "Saraiva                        3\n",
              "Pandorga                       3\n",
              "LeYa                           2\n",
              "BestSeller                     2\n",
              "Companhia Editora Nacional     2\n",
              "Faro Editorial                 2\n",
              "Planeta do Brasil              2\n",
              "Ciranda Cultural               2\n",
              "Alta Books Editora             2\n",
              "Universo dos Livros            1\n",
              "Record                         1\n",
              "VR Editora                     1\n",
              "Mundo Cristão                  1\n",
              "Petra                          1\n",
              "Outro Planeta                  1\n",
              "L&PM                           1\n",
              "Autêntica                      1\n",
              "Astral Cultural                1\n",
              "L&PM POCKET                    1\n",
              "Vozes                          1\n",
              "Novo Século                    1\n",
              "Luz da Serra                   1\n",
              "Seguinte                       1\n",
              "Name: editora, dtype: int64"
            ]
          },
          "metadata": {},
          "execution_count": 35
        }
      ]
    },
    {
      "cell_type": "code",
      "metadata": {
        "id": "-Ce0Sibs6pPR",
        "colab": {
          "base_uri": "https://localhost:8080/",
          "height": 282
        },
        "outputId": "1e58d987-565b-490d-9477-eb032ce756ca"
      },
      "source": [
        "# DESCOBRIR COMO SELECIONAR AS 5 PRIMEIRAS EDITORAS E PLOTAR UM GRÁFICO DE BARRAS COM ELAS EXCLUSIVAMENTE\n",
        "\n",
        "editora_x = projeto_df[u'editora'].unique()\n",
        "vendas_y = projeto_df[u'editora'].value_counts()\n",
        "plt.bar(x=editora_x, height=vendas_y)"
      ],
      "execution_count": null,
      "outputs": [
        {
          "output_type": "execute_result",
          "data": {
            "text/plain": [
              "<BarContainer object of 35 artists>"
            ]
          },
          "metadata": {},
          "execution_count": 36
        },
        {
          "output_type": "display_data",
          "data": {
            "image/png": "[encoded data removed]",
            "text/plain": [
              "<Figure size 432x288 with 1 Axes>"
            ]
          },
          "metadata": {
            "needs_background": "light"
          }
        }
      ]
    },
    {
      "cell_type": "markdown",
      "metadata": {
        "id": "Qa0bicpghzyg"
      },
      "source": [
        "# **Referências**\n",
        "<p>Sahil Sunny - Dataquest. Tutorial: Web Scraping and BeautifulSoup. Disponível em: https://www.dataquest.io/blog/web-scraping-beautifulsoup/.</p>\n",
        "<p>MITCHELL, Ryan. Web Scraping with Python. 2 ed. São Paulo: Novatec Editora, 2019.</p>\n",
        "<p> Pandas Documentation. Disponível em: https://pandas.pydata.org/docs/.</p>\n",
        "<p> Matplotlib Documentation. Disponível em: https://matplotlib.org/.</p>\n",
        "https://www.kaggle.com/educfrio/an-lise-explorat-ria-de-dados\n",
        "<p>Data Color Picker: Palette generator. Disponível em: https://learnui.design/tools/data-color-picker.html.</p>\n",
        "\n",
        "\n"
      ]
    },
    {
      "cell_type": "markdown",
      "metadata": {
        "id": "buG2ZXoIJQyd"
      },
      "source": [
        "# **Especificações visuais**\n",
        "**Paleta de cores**</p>\n",
        "![Palette_LivrosProjeto.png](data:image/png;base64,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)"
      ]
    },
    {
      "cell_type": "code",
      "metadata": {
        "id": "LcgqMOvphDGa"
      },
      "source": [
        ""
      ],
      "execution_count": null,
      "outputs": []
    }
  ]
}